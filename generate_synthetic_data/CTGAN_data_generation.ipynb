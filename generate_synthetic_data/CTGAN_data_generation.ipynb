{
 "cells": [
  {
   "cell_type": "code",
   "execution_count": 1,
   "metadata": {},
   "outputs": [],
   "source": [
    "import pandas as pd\n",
    "import numpy as np\n",
    "from sdv.tabular import CTGAN"
   ]
  },
  {
   "cell_type": "code",
   "execution_count": 4,
   "metadata": {},
   "outputs": [
    {
     "name": "stderr",
     "output_type": "stream",
     "text": [
      "/Users/morgan/Library/Caches/pypoetry/virtualenvs/avatar-paper-HRp-ebJj-py3.9/lib/python3.9/site-packages/ctgan/data_transformer.py:188: FutureWarning: In a future version, `df.iloc[:, i] = newvals` will attempt to set the values inplace instead of always setting a new array. To retain the old behavior, use either `df[df.columns[i]] = newvals` or, if columns are non-unique, `df.isetitem(i, newvals)`\n",
      "  data.iloc[:, 1] = np.argmax(column_data[:, 1:], axis=1)\n",
      "/Users/morgan/Library/Caches/pypoetry/virtualenvs/avatar-paper-HRp-ebJj-py3.9/lib/python3.9/site-packages/ctgan/data_transformer.py:188: FutureWarning: In a future version, `df.iloc[:, i] = newvals` will attempt to set the values inplace instead of always setting a new array. To retain the old behavior, use either `df[df.columns[i]] = newvals` or, if columns are non-unique, `df.isetitem(i, newvals)`\n",
      "  data.iloc[:, 1] = np.argmax(column_data[:, 1:], axis=1)\n",
      "/Users/morgan/Library/Caches/pypoetry/virtualenvs/avatar-paper-HRp-ebJj-py3.9/lib/python3.9/site-packages/ctgan/data_transformer.py:188: FutureWarning: In a future version, `df.iloc[:, i] = newvals` will attempt to set the values inplace instead of always setting a new array. To retain the old behavior, use either `df[df.columns[i]] = newvals` or, if columns are non-unique, `df.isetitem(i, newvals)`\n",
      "  data.iloc[:, 1] = np.argmax(column_data[:, 1:], axis=1)\n",
      "/Users/morgan/Library/Caches/pypoetry/virtualenvs/avatar-paper-HRp-ebJj-py3.9/lib/python3.9/site-packages/ctgan/data_transformer.py:188: FutureWarning: In a future version, `df.iloc[:, i] = newvals` will attempt to set the values inplace instead of always setting a new array. To retain the old behavior, use either `df[df.columns[i]] = newvals` or, if columns are non-unique, `df.isetitem(i, newvals)`\n",
      "  data.iloc[:, 1] = np.argmax(column_data[:, 1:], axis=1)\n",
      "/Users/morgan/Library/Caches/pypoetry/virtualenvs/avatar-paper-HRp-ebJj-py3.9/lib/python3.9/site-packages/ctgan/data_transformer.py:188: FutureWarning: In a future version, `df.iloc[:, i] = newvals` will attempt to set the values inplace instead of always setting a new array. To retain the old behavior, use either `df[df.columns[i]] = newvals` or, if columns are non-unique, `df.isetitem(i, newvals)`\n",
      "  data.iloc[:, 1] = np.argmax(column_data[:, 1:], axis=1)\n",
      "/Users/morgan/Library/Caches/pypoetry/virtualenvs/avatar-paper-HRp-ebJj-py3.9/lib/python3.9/site-packages/ctgan/data_transformer.py:188: FutureWarning: In a future version, `df.iloc[:, i] = newvals` will attempt to set the values inplace instead of always setting a new array. To retain the old behavior, use either `df[df.columns[i]] = newvals` or, if columns are non-unique, `df.isetitem(i, newvals)`\n",
      "  data.iloc[:, 1] = np.argmax(column_data[:, 1:], axis=1)\n",
      "/Users/morgan/Library/Caches/pypoetry/virtualenvs/avatar-paper-HRp-ebJj-py3.9/lib/python3.9/site-packages/ctgan/data_transformer.py:188: FutureWarning: In a future version, `df.iloc[:, i] = newvals` will attempt to set the values inplace instead of always setting a new array. To retain the old behavior, use either `df[df.columns[i]] = newvals` or, if columns are non-unique, `df.isetitem(i, newvals)`\n",
      "  data.iloc[:, 1] = np.argmax(column_data[:, 1:], axis=1)\n",
      "/Users/morgan/Library/Caches/pypoetry/virtualenvs/avatar-paper-HRp-ebJj-py3.9/lib/python3.9/site-packages/ctgan/data_transformer.py:188: FutureWarning: In a future version, `df.iloc[:, i] = newvals` will attempt to set the values inplace instead of always setting a new array. To retain the old behavior, use either `df[df.columns[i]] = newvals` or, if columns are non-unique, `df.isetitem(i, newvals)`\n",
      "  data.iloc[:, 1] = np.argmax(column_data[:, 1:], axis=1)\n",
      "/Users/morgan/Library/Caches/pypoetry/virtualenvs/avatar-paper-HRp-ebJj-py3.9/lib/python3.9/site-packages/ctgan/data_transformer.py:188: FutureWarning: In a future version, `df.iloc[:, i] = newvals` will attempt to set the values inplace instead of always setting a new array. To retain the old behavior, use either `df[df.columns[i]] = newvals` or, if columns are non-unique, `df.isetitem(i, newvals)`\n",
      "  data.iloc[:, 1] = np.argmax(column_data[:, 1:], axis=1)\n"
     ]
    }
   ],
   "source": [
    "aids = pd.read_csv(\n",
    "    \"../datasets/AIDS/aids_original_data.csv\", sep=\";\"\n",
    ")\n",
    "aids = aids.drop([\"pidnum\"], axis=1)\n",
    "categorical_val = []\n",
    "continous_val = []\n",
    "for column in aids.columns:\n",
    "    if len(aids[column].unique()) <= 10:\n",
    "        categorical_val.append(column)\n",
    "    else:\n",
    "        continous_val.append(column)\n",
    "\n",
    "aids[categorical_val] = aids[categorical_val].astype(\"object\")\n",
    "\n",
    "\n",
    "model = CTGAN(epochs=1000, batch_size=600, field_transformers={\n",
    "    'integer': 'age',\n",
    "    'float': 'wtkg',\n",
    "    'categorical': 'hemo',\n",
    "    'categorical': 'homo',\n",
    "    'categorical': 'drugs',\n",
    "    'categorical': 'karnof',\n",
    "    'categorical': 'oprior',\n",
    "    'categorical': 'z30',\n",
    "    'categorical': 'zprior',\n",
    "    'integer': 'preanti',\n",
    "    'categorical': 'race',\n",
    "    'categorical': 'gender',\n",
    "    'categorical': 'str2',\n",
    "    'categorical': 'strat',\n",
    "    'categorical': 'symptom',\n",
    "    'categorical': 'treat',\n",
    "    'categorical': 'offtrt',\n",
    "    'integer': 'cd40',\n",
    "    'integer': 'cd420',\n",
    "    'float': 'cd496',\n",
    "    'categorical': 'r',\n",
    "    'categorical': 'treat',\n",
    "    'integer': 'cd80',\n",
    "    'integer': 'cd820',\n",
    "    'categorical': 'cens',\n",
    "    'integer': 'days',\n",
    "    'categorical': 'arms',})\n",
    "model.fit(aids)\n",
    "\n",
    "ctgan_data = model.sample(num_rows=(aids.shape[0]))\n",
    "ctgan_data[categorical_val] = ctgan_data[categorical_val].astype(\"category\")\n",
    "\n",
    "# the newly generated synthetic ctgan dataset\n",
    "# will be different than the one saved in the repo as seed is not configurable\n",
    "# ctgan_data.to_csv(\"../datasets/AIDS/aids_ctgan_data.csv\")\n"
   ]
  },
  {
   "cell_type": "code",
   "execution_count": 5,
   "metadata": {},
   "outputs": [],
   "source": [
    "wbcd = pd.read_csv(\n",
    "    \"../datasets/WBCD/breast_cancer_wisconsin.csv\", sep=\",\"\n",
    ")\n",
    "wbcd = wbcd.drop([\"Sample_code_number\"], axis=1)\n",
    "wbcd = wbcd.astype('object')\n",
    "wbcd['Class'] = wbcd['Class'].replace({2: 0, 4: 1})\n",
    "wbcd['Class'] = wbcd['Class'].astype('bool')\n",
    "\n",
    "model = CTGAN(epochs=1000, batch_size=600, field_transformers={\n",
    "    'integer': 'Clump_Thickness',\n",
    "    'integer': 'Uniformity_of_Cell_Size',\n",
    "    'integer': 'Uniformity_of_Cell_Shape',\n",
    "    'integer': 'Marginal_Adhesion',\n",
    "    'integer': 'Single_Epithelial_Cell_Size',\n",
    "    'integer': 'Bare_Nuclei',\n",
    "    'integer': 'Bland_Chromatin',\n",
    "    'integer': 'Normal_Nucleoli',\n",
    "    'integer': 'Mitoses',\n",
    "    'boolean': 'Class',})\n",
    "model.fit(wbcd)\n",
    "\n",
    "ctgan_data = model.sample(num_rows=(wbcd.shape[0]))\n",
    "ctgan_data['Class'] = ctgan_data['Class'].replace({False: 2, True: 4})\n",
    "ctgan_data = ctgan_data.astype('category')\n",
    "\n",
    "# the newly generated synthetic ctgan dataset\n",
    "# will be different than the one saved in the repo as seed is not configurable\n",
    "ctgan_data.to_csv(\"../datasets/WBCD/wbcd_CTGAN_base_2.csv\")\n"
   ]
  },
  {
   "cell_type": "code",
   "execution_count": null,
   "metadata": {},
   "outputs": [],
   "source": []
  }
 ],
 "metadata": {
  "kernelspec": {
   "display_name": "Python 3.9.9 ('avatar-paper-HRp-ebJj-py3.9')",
   "language": "python",
   "name": "python3"
  },
  "language_info": {
   "codemirror_mode": {
    "name": "ipython",
    "version": 3
   },
   "file_extension": ".py",
   "mimetype": "text/x-python",
   "name": "python",
   "nbconvert_exporter": "python",
   "pygments_lexer": "ipython3",
   "version": "3.9.9"
  },
  "orig_nbformat": 4,
  "vscode": {
   "interpreter": {
    "hash": "74fa257d110382863b45f54e48e2f4780453ad005cbdf88a0f9bbaaab68f3c17"
   }
  }
 },
 "nbformat": 4,
 "nbformat_minor": 2
}
