{
 "cells": [
  {
   "cell_type": "markdown",
   "id": "7cfd2c3f",
   "metadata": {},
   "source": [
    "# AIDS dataset: Impact of the *k* parameter\n",
    "\n",
    "On this notebook, we present the R code to display the figure XXXXXX of the article [lien_papier].\n",
    "\n",
    "We focus our analysis on the impact of the parameter *k* in the statistical conservation and the security level of the dataset.\n",
    "\n",
    "We performed 3 analyses:\n",
    "    \n",
    "    1 - An FAMD (Factor Analysis for Mixed Data) projection of two Avatar datasets (high k versus low k) on the two first components of FAMD built on the Original dataset to observe the structural similarities\n",
    "    2 - Evolution of the hazard ratio accross k\n",
    "    3 - Protection level computation (local cloaking) for different k values."
   ]
  },
  {
   "cell_type": "markdown",
   "id": "deluxe-senator",
   "metadata": {},
   "source": [
    "## Libraries importation"
   ]
  },
  {
   "cell_type": "code",
   "execution_count": 1,
   "id": "optical-worst",
   "metadata": {
    "ExecuteTime": {
     "end_time": "2021-11-05T12:46:14.903009Z",
     "start_time": "2021-11-05T12:46:13.197Z"
    },
    "scrolled": true
   },
   "outputs": [
    {
     "name": "stderr",
     "output_type": "stream",
     "text": [
      "Warning message:\n",
      "\"package 'reticulate' was built under R version 3.6.3\"\n",
      "Warning message:\n",
      "\"package 'tidyverse' was built under R version 3.6.3\"\n",
      "-- \u001b[1mAttaching packages\u001b[22m ------------------------------------------------------------------------------- tidyverse 1.3.1 --\n",
      "\n",
      "\u001b[32mv\u001b[39m \u001b[34mggplot2\u001b[39m 3.3.3     \u001b[32mv\u001b[39m \u001b[34mpurrr  \u001b[39m 0.3.4\n",
      "\u001b[32mv\u001b[39m \u001b[34mtibble \u001b[39m 3.1.1     \u001b[32mv\u001b[39m \u001b[34mdplyr  \u001b[39m 1.0.6\n",
      "\u001b[32mv\u001b[39m \u001b[34mtidyr  \u001b[39m 1.1.3     \u001b[32mv\u001b[39m \u001b[34mstringr\u001b[39m 1.4.0\n",
      "\u001b[32mv\u001b[39m \u001b[34mreadr  \u001b[39m 1.4.0     \u001b[32mv\u001b[39m \u001b[34mforcats\u001b[39m 0.5.1\n",
      "\n",
      "Warning message:\n",
      "\"package 'ggplot2' was built under R version 3.6.3\"\n",
      "Warning message:\n",
      "\"package 'tibble' was built under R version 3.6.3\"\n",
      "Warning message:\n",
      "\"package 'tidyr' was built under R version 3.6.3\"\n",
      "Warning message:\n",
      "\"package 'readr' was built under R version 3.6.3\"\n",
      "Warning message:\n",
      "\"package 'purrr' was built under R version 3.6.3\"\n",
      "Warning message:\n",
      "\"package 'dplyr' was built under R version 3.6.3\"\n",
      "Warning message:\n",
      "\"package 'stringr' was built under R version 3.6.3\"\n",
      "Warning message:\n",
      "\"package 'forcats' was built under R version 3.6.3\"\n",
      "-- \u001b[1mConflicts\u001b[22m ---------------------------------------------------------------------------------- tidyverse_conflicts() --\n",
      "\u001b[31mx\u001b[39m \u001b[34mdplyr\u001b[39m::\u001b[32mfilter()\u001b[39m masks \u001b[34mstats\u001b[39m::filter()\n",
      "\u001b[31mx\u001b[39m \u001b[34mdplyr\u001b[39m::\u001b[32mlag()\u001b[39m    masks \u001b[34mstats\u001b[39m::lag()\n",
      "\n",
      "Warning message:\n",
      "\"package 'mice' was built under R version 3.6.3\"\n",
      "\n",
      "Attaching package: 'mice'\n",
      "\n",
      "\n",
      "The following object is masked from 'package:stats':\n",
      "\n",
      "    filter\n",
      "\n",
      "\n",
      "The following objects are masked from 'package:base':\n",
      "\n",
      "    cbind, rbind\n",
      "\n",
      "\n",
      "Warning message:\n",
      "\"package 'reshape2' was built under R version 3.6.3\"\n",
      "\n",
      "Attaching package: 'reshape2'\n",
      "\n",
      "\n",
      "The following object is masked from 'package:tidyr':\n",
      "\n",
      "    smiths\n",
      "\n",
      "\n",
      "Warning message:\n",
      "\"package 'FactoMineR' was built under R version 3.6.3\"\n",
      "Warning message:\n",
      "\"package 'survival' was built under R version 3.6.3\"\n",
      "Warning message:\n",
      "\"package 'survminer' was built under R version 3.6.3\"\n",
      "Loading required package: ggpubr\n",
      "\n",
      "Warning message:\n",
      "\"package 'ggpubr' was built under R version 3.6.3\"\n"
     ]
    }
   ],
   "source": [
    "# Main libraries\n",
    "library(reticulate)\n",
    "library(tidyverse)\n",
    "library(mice)\n",
    "library(reshape2)\n",
    "\n",
    "# Multidimensionnal reduction method libary\n",
    "library(FactoMineR)\n",
    "\n",
    "# Survival analysis libraries\n",
    "library(survival)\n",
    "library(survminer)"
   ]
  },
  {
   "cell_type": "code",
   "execution_count": 2,
   "id": "e95558cb",
   "metadata": {
    "ExecuteTime": {
     "end_time": "2021-11-05T12:46:16.392716Z",
     "start_time": "2021-11-05T12:46:13.710Z"
    }
   },
   "outputs": [],
   "source": [
    "# import specific function to compute metrics \n",
    "py_run_string(\"import sys\")\n",
    "py_run_string(\"sys.path.append('../..')\")\n",
    "\n",
    "py_run_string(\"from lsg.security_metrics.security_metrics_class import Security_metrics \")\n",
    "py_run_string(\"from lsg.dimension.projection import Projection\")\n",
    "py_run_string(\"from lsg.security_metrics.record_to_avatar_distance import record_to_avatar_distance\")\n",
    "py_run_string(\"from lsg.security_metrics.local_cloaking import local_cloaking\")\n",
    "py_run_string(\"from lsg.security_metrics.avatars_are_first_hit import avatars_are_first_hit\")\n",
    "py_run_string(\"from lsg.security_metrics.hidden_rate import hidden_rate\")"
   ]
  },
  {
   "cell_type": "markdown",
   "id": "coated-elements",
   "metadata": {},
   "source": [
    "## Data loading"
   ]
  },
  {
   "cell_type": "code",
   "execution_count": 3,
   "id": "rapid-truck",
   "metadata": {
    "ExecuteTime": {
     "end_time": "2021-11-05T12:46:16.415006Z",
     "start_time": "2021-11-05T12:46:14.674Z"
    }
   },
   "outputs": [],
   "source": [
    "file_data <- \"../../datasets/\"\n",
    "file_results <- \"../../figure/\""
   ]
  },
  {
   "cell_type": "code",
   "execution_count": 4,
   "id": "lasting-ceremony",
   "metadata": {
    "ExecuteTime": {
     "end_time": "2021-11-05T12:46:16.438220Z",
     "start_time": "2021-11-05T12:46:15.202Z"
    }
   },
   "outputs": [],
   "source": [
    "data <- read.csv(paste0(file_data, \"AIDS/aids_original_data.csv\"), sep = \";\", na.strings = c(\"NA\", \"\", NA))\n",
    "data <- data[,-1]"
   ]
  },
  {
   "cell_type": "code",
   "execution_count": 5,
   "id": "901d9d7f",
   "metadata": {
    "ExecuteTime": {
     "end_time": "2021-11-05T12:46:16.403751Z",
     "start_time": "2021-11-05T12:46:13.960Z"
    }
   },
   "outputs": [],
   "source": [
    "save <- FALSE\n",
    "seq_k <- c(4, 200, 400, 600, 800, 1000)"
   ]
  },
  {
   "cell_type": "markdown",
   "id": "cf130aeb",
   "metadata": {},
   "source": [
    "## Graphical parameters"
   ]
  },
  {
   "cell_type": "code",
   "execution_count": 6,
   "id": "8b7410e4",
   "metadata": {
    "ExecuteTime": {
     "end_time": "2021-11-05T12:51:01.687739Z",
     "start_time": "2021-11-05T12:51:01.661Z"
    }
   },
   "outputs": [],
   "source": [
    "colors = read.csv(\"../../color.csv\", stringsAsFactors = FALSE)\n",
    "rownames(colors) <- colors$type"
   ]
  },
  {
   "cell_type": "code",
   "execution_count": 7,
   "id": "9362d348",
   "metadata": {},
   "outputs": [],
   "source": [
    "axis_title_size <- 16\n",
    "axis_text_size <- 15\n",
    "legend_text_size <- 16\n",
    "legend_title_size <- 16"
   ]
  },
  {
   "cell_type": "markdown",
   "id": "valued-guinea",
   "metadata": {},
   "source": [
    "### Data imputation"
   ]
  },
  {
   "cell_type": "code",
   "execution_count": 8,
   "id": "unlike-leone",
   "metadata": {
    "ExecuteTime": {
     "end_time": "2021-11-05T12:46:18.418320Z",
     "start_time": "2021-11-05T12:46:15.896Z"
    }
   },
   "outputs": [
    {
     "name": "stderr",
     "output_type": "stream",
     "text": [
      "Warning message:\n",
      "\"Number of logged events: 51\"\n"
     ]
    }
   ],
   "source": [
    "data_imp <- complete(mice(data, m = 1, maxit = 50, seed = 500, printFlag = FALSE), 1)\n",
    "data$cd496 <- data_imp$cd496\n",
    "\n",
    "categorical <- c('hemo','homo', 'drugs', 'karnof', 'oprior', 'z30', 'zprior', 'race', 'gender', 'str2', 'strat', 'symptom', 'treat', 'offtrt', 'r','cens', 'arms')\n",
    "data[categorical] <- lapply(data[categorical], factor)"
   ]
  },
  {
   "cell_type": "markdown",
   "id": "processed-timing",
   "metadata": {},
   "source": [
    "## Function"
   ]
  },
  {
   "cell_type": "code",
   "execution_count": 9,
   "id": "polish-degree",
   "metadata": {
    "ExecuteTime": {
     "end_time": "2021-11-05T12:46:18.437658Z",
     "start_time": "2021-11-05T12:46:16.656Z"
    }
   },
   "outputs": [],
   "source": [
    "write_pvalue <- function(val, dec) {\n",
    "  if (is.na(val)) {\n",
    "    return(NA)\n",
    "  } else if (val < 0.001) {\n",
    "    return(\"<0.001\")\n",
    "  } else {\n",
    "    return(formatC(val, format = 'f', digits = dec))\n",
    "  }\n",
    "}"
   ]
  },
  {
   "cell_type": "markdown",
   "id": "d136d623",
   "metadata": {},
   "source": [
    "## Projection comparison small *k* versus high *k* \n",
    "\n",
    "We performed 2 FAMD, small *k* value (i.e. 1/10% of the total number of individuals) and high *k* value (i.e. 40/50% of the total number of individuals)."
   ]
  },
  {
   "cell_type": "code",
   "execution_count": 10,
   "id": "international-boost",
   "metadata": {
    "ExecuteTime": {
     "end_time": "2021-11-05T12:46:20.553114Z",
     "start_time": "2021-11-05T12:46:17.506Z"
    }
   },
   "outputs": [
    {
     "name": "stderr",
     "output_type": "stream",
     "text": [
      "Warning message:\n",
      "\"Number of logged events: 3\"\n"
     ]
    }
   ],
   "source": [
    "# Small k\n",
    "k <- 4 ; iter <- 0\n",
    "avatar_tot <- read.table(unz(paste0(file_data, \"AIDS/aids_avatarized.zip\"), \n",
    "                             paste0(\"aids_avatarized/k\", k, \"_aids_avatarized.csv\")), sep = \",\", header = TRUE)\n",
    "avatar_small <- avatar_tot[avatar_tot$iter_k == iter,]\n",
    "\n",
    "# Imputation\n",
    "avatar_small_imp <- complete(mice(avatar_small, m = 1, maxit = 50, seed = 500, printFlag = FALSE), 1)\n",
    "avatar_small$cd496 <- avatar_small_imp$cd496\n",
    "avatar_small[categorical] <- lapply(avatar_small[categorical], factor)"
   ]
  },
  {
   "cell_type": "code",
   "execution_count": 11,
   "id": "4c766a62",
   "metadata": {
    "ExecuteTime": {
     "end_time": "2021-11-05T12:46:22.571013Z",
     "start_time": "2021-11-05T12:46:17.980Z"
    }
   },
   "outputs": [
    {
     "name": "stderr",
     "output_type": "stream",
     "text": [
      "Warning message:\n",
      "\"Number of logged events: 3\"\n"
     ]
    }
   ],
   "source": [
    "# High k = N/2\n",
    "k <- 1166 ; iter <- 1\n",
    "avatar_tot <- read.table(unz(paste0(file_data, \"AIDS/aids_avatarized.zip\"), \n",
    "                             paste0(\"aids_avatarized/k\", k, \"_aids_avatarized.csv\")), sep = \",\", header = TRUE)\n",
    "avatar_med <- avatar_tot[avatar_tot$iter_k == iter,]\n",
    "\n",
    "# Imputation\n",
    "avatar_med_imp <- complete(mice(avatar_med, m = 1, maxit = 50, seed = 500, printFlag = FALSE), 1)\n",
    "avatar_med$cd496 <- avatar_med_imp$cd496\n",
    "avatar_med[categorical] <- lapply(avatar_med[categorical], factor)"
   ]
  },
  {
   "cell_type": "code",
   "execution_count": 12,
   "id": "yellow-belief",
   "metadata": {
    "ExecuteTime": {
     "end_time": "2021-11-05T12:46:22.999407Z",
     "start_time": "2021-11-05T12:46:18.538Z"
    }
   },
   "outputs": [],
   "source": [
    "# binding data, avatar small and avatar high\n",
    "data_small_med <- rbind(data[,1:26], avatar_small[,1:26], avatar_med[,1:26])\n",
    "row.names(data_small_med) <- 1:nrow(data_small_med)\n",
    "\n",
    "# perform projection\n",
    "famd <- FAMD(data_small_med, ncp = 5, graph = FALSE, ind.sup = (nrow(data_small_med)/3 +1):nrow(data_small_med))"
   ]
  },
  {
   "cell_type": "code",
   "execution_count": 13,
   "id": "4cb25248",
   "metadata": {
    "ExecuteTime": {
     "end_time": "2021-11-05T12:46:23.031552Z",
     "start_time": "2021-11-05T12:46:19.171Z"
    }
   },
   "outputs": [],
   "source": [
    "res_ind_2D <- as.data.frame(famd$ind.sup$coord)[1:nrow(data_small_med)/3, c('Dim.1', 'Dim.2')]\n",
    "res_ind_sup <- as.data.frame(famd$ind.sup$coord)[(nrow(data_small_med)/3):nrow(famd$ind.sup$coord),]\n",
    "res_ind_2D['type'] <- 'k= 4'\n",
    "res_ind_sup['type'] <- 'k= 1166'\n",
    "res_ind_2D <- rbind(res_ind_2D, res_ind_sup[, c('Dim.1', 'Dim.2', 'type')])\n",
    "\n",
    "set.seed(42)\n",
    "rows <- sample(nrow(res_ind_2D))\n",
    "res_ind_2D <- res_ind_2D[rows, ]"
   ]
  },
  {
   "cell_type": "code",
   "execution_count": 14,
   "id": "fe48bc53",
   "metadata": {
    "ExecuteTime": {
     "end_time": "2021-11-05T13:37:13.475671Z",
     "start_time": "2021-11-05T13:37:12.914Z"
    }
   },
   "outputs": [
    {
     "data": {
      "image/png": "[encoded data removed]",
      "text/plain": [
       "plot without title"
      ]
     },
     "metadata": {
      "image/png": {
       "height": 420,
       "width": 600
      }
     },
     "output_type": "display_data"
    }
   ],
   "source": [
    "options(repr.plot.width = 10, repr.plot.height = 7)\n",
    "\n",
    "plot <- ggplot(res_ind_2D, aes(x = Dim.1, y = Dim.2, fill = type)) +\n",
    "    # point\n",
    "    geom_point(size = 3, shape = 21, alpha = 1) +\n",
    "    # fill by k value\n",
    "    aes(fill = factor(type)) + \n",
    "    scale_fill_manual(values = c('k= 4' = colors[\"k_small\", \"color\"], 'k= 1166' = colors[\"k_high\", \"color\"])) +\n",
    "    # theme and details\n",
    "    xlab(paste0(\"Dim. 1 (\", formatC(famd$eig[1,2], format = \"f\", digits = 2) ,\"%)\")) +\n",
    "    ylab(paste0(\"Dim. 2 (\", formatC(famd$eig[2,2], format = \"f\", digits = 2) ,\"%)\")) +\n",
    "    labs(fill = \"\") +\n",
    "    theme_bw() +\n",
    "    theme(legend.position = c(0.86, 0.15),\n",
    "          legend.text = element_text(size = legend_text_size, color = \"black\", family = \"sans\"),\n",
    "          legend.key.size = unit(0.8, \"cm\"),\n",
    "          axis.text = element_text(size = axis_text_size, color = \"black\", family = \"sans\"),\n",
    "          axis.title = element_text(size = axis_title_size, color = \"black\", family = \"sans\"),\n",
    "          legend.background = element_rect(fill = \"white\", linetype = \"solid\"))\n",
    "\n",
    "plot\n",
    "\n",
    "#ggsave(file=\"../../figure/aids_famd2D_k_small_high.svg\", plot=plot, width=10, height=7, dpi = 320)"
   ]
  },
  {
   "cell_type": "markdown",
   "id": "respiratory-layer",
   "metadata": {},
   "source": [
    "## Relative hazard ratio accross  *k* \n",
    "\n",
    "We compute relative hazard ratio according the parameter *k*."
   ]
  },
  {
   "cell_type": "markdown",
   "id": "assigned-function",
   "metadata": {},
   "source": [
    "### Hazard ratio with Original data \n",
    "\n",
    "To compare, we first compute hasard ratio for original data"
   ]
  },
  {
   "cell_type": "code",
   "execution_count": 15,
   "id": "3f11f8b0",
   "metadata": {
    "ExecuteTime": {
     "end_time": "2021-11-05T13:37:14.075661Z",
     "start_time": "2021-11-05T13:37:14.015Z"
    }
   },
   "outputs": [],
   "source": [
    "data[] <- lapply(data, function(x){if(is.factor(x)) as.numeric(as.character(x)) else x})\n",
    "\n",
    "n_arms <- as.vector(table(data$arms))\n",
    "cens_arms <- paste0(as.vector(table(data$cens, data$arms)[2,]), \" (\", \n",
    "                    as.vector(round(prop.table(table(data$cens, data$arms), 2)[2, ]*100, 1)), \")\")\n",
    "\n",
    "summary_cox <- summary(coxph(Surv(time = days/7, event = cens)~factor(arms), data = data))"
   ]
  },
  {
   "cell_type": "code",
   "execution_count": 16,
   "id": "hearing-specialist",
   "metadata": {
    "ExecuteTime": {
     "end_time": "2021-11-05T13:37:14.333174Z",
     "start_time": "2021-11-05T13:37:14.306Z"
    }
   },
   "outputs": [],
   "source": [
    "HR_arms <- c(\"ref\", round(as.vector(summary_cox$coefficients[,2]), 2))\n",
    "CI_low_arms <- c(NA, round(as.vector(summary_cox$conf.int[,3]), 2))\n",
    "CI_high_arms <- c(NA, round(as.vector(summary_cox$conf.int[,4]), 2))\n",
    "p_arms <- c(NA, sapply(as.vector(summary_cox$coefficients[,5]), write_pvalue, dec = 3))"
   ]
  },
  {
   "cell_type": "code",
   "execution_count": 17,
   "id": "naked-gender",
   "metadata": {
    "ExecuteTime": {
     "end_time": "2021-11-05T13:37:14.594585Z",
     "start_time": "2021-11-05T13:37:14.567Z"
    }
   },
   "outputs": [
    {
     "name": "stderr",
     "output_type": "stream",
     "text": [
      "Warning message:\n",
      "\"Setting row names on a tibble is deprecated.\"\n"
     ]
    },
    {
     "data": {
      "text/html": [
       "<table class=\"dataframe\">\n",
       "<caption>A tibble: 5 × 4</caption>\n",
       "<thead>\n",
       "\t<tr><th></th><th scope=col>0</th><th scope=col>1</th><th scope=col>2</th><th scope=col>3</th></tr>\n",
       "\t<tr><th></th><th scope=col>&lt;fct&gt;</th><th scope=col>&lt;fct&gt;</th><th scope=col>&lt;fct&gt;</th><th scope=col>&lt;fct&gt;</th></tr>\n",
       "</thead>\n",
       "<tbody>\n",
       "\t<tr><th scope=row>N</th><td>532     </td><td>522       </td><td>524       </td><td>561       </td></tr>\n",
       "\t<tr><th scope=row>Event</th><td>181 (34)</td><td>103 (19.7)</td><td>109 (20.8)</td><td>128 (22.8)</td></tr>\n",
       "\t<tr><th scope=row>Hazard ratio</th><td>ref     </td><td>0.49      </td><td>0.52      </td><td>0.59      </td></tr>\n",
       "\t<tr><th scope=row>95% confidence interval</th><td>NA      </td><td>0.39-0.63 </td><td>0.41-0.67 </td><td>0.47-0.73 </td></tr>\n",
       "\t<tr><th scope=row>p-value</th><td><span style=white-space:pre-wrap>NA      </span></td><td><span style=white-space:pre-wrap>&lt;0.001    </span></td><td><span style=white-space:pre-wrap>&lt;0.001    </span></td><td><span style=white-space:pre-wrap>&lt;0.001    </span></td></tr>\n",
       "</tbody>\n",
       "</table>\n"
      ],
      "text/latex": [
       "A tibble: 5 × 4\n",
       "\\begin{tabular}{r|llll}\n",
       "  & 0 & 1 & 2 & 3\\\\\n",
       "  & <fct> & <fct> & <fct> & <fct>\\\\\n",
       "\\hline\n",
       "\tN & 532      & 522        & 524        & 561       \\\\\n",
       "\tEvent & 181 (34) & 103 (19.7) & 109 (20.8) & 128 (22.8)\\\\\n",
       "\tHazard ratio & ref      & 0.49       & 0.52       & 0.59      \\\\\n",
       "\t95\\% confidence interval & NA       & 0.39-0.63  & 0.41-0.67  & 0.47-0.73 \\\\\n",
       "\tp-value & NA       & <0.001     & <0.001     & <0.001    \\\\\n",
       "\\end{tabular}\n"
      ],
      "text/markdown": [
       "\n",
       "A tibble: 5 × 4\n",
       "\n",
       "| <!--/--> | 0 &lt;fct&gt; | 1 &lt;fct&gt; | 2 &lt;fct&gt; | 3 &lt;fct&gt; |\n",
       "|---|---|---|---|---|\n",
       "| N | 532      | 522        | 524        | 561        |\n",
       "| Event | 181 (34) | 103 (19.7) | 109 (20.8) | 128 (22.8) |\n",
       "| Hazard ratio | ref      | 0.49       | 0.52       | 0.59       |\n",
       "| 95% confidence interval | NA       | 0.39-0.63  | 0.41-0.67  | 0.47-0.73  |\n",
       "| p-value | NA       | &lt;0.001     | &lt;0.001     | &lt;0.001     |\n",
       "\n"
      ],
      "text/plain": [
       "                        0        1          2          3         \n",
       "N                       532      522        524        561       \n",
       "Event                   181 (34) 103 (19.7) 109 (20.8) 128 (22.8)\n",
       "Hazard ratio            ref      0.49       0.52       0.59      \n",
       "95% confidence interval NA       0.39-0.63  0.41-0.67  0.47-0.73 \n",
       "p-value                 NA       <0.001     <0.001     <0.001    "
      ]
     },
     "metadata": {},
     "output_type": "display_data"
    }
   ],
   "source": [
    "table2_data <- t(data.frame(\"N\" = n_arms, \"Event\" = cens_arms, \"Hazard_ratio\" = HR_arms, \n",
    "                            \"Confidence_interval_95\" = c(NA, paste0(CI_low_arms[-1], \"-\", CI_high_arms[-1])), \n",
    "                            \"p-value\" = p_arms, row.names = c(\"0\", \"1\", \"2\", \"3\")))\n",
    "table2_data <- tibble(as.data.frame(table2_data))\n",
    "rownames(table2_data) <- c(\"N\", \"Event\", \"Hazard ratio\", \"95% confidence interval\", \"p-value\")\n",
    "table2_data"
   ]
  },
  {
   "cell_type": "markdown",
   "id": "be2865e1",
   "metadata": {},
   "source": [
    "### Parallele computing: not requiered if you import results datasets (below)\n",
    "The following cells compute hazard ratio according different *k* values.  \n",
    "The computation is very time consuming (multiple hours), we saved results in a dataframe."
   ]
  },
  {
   "cell_type": "code",
   "execution_count": 18,
   "id": "21859bba",
   "metadata": {
    "ExecuteTime": {
     "end_time": "2021-11-05T13:37:15.257974Z",
     "start_time": "2021-11-05T13:37:15.102Z"
    }
   },
   "outputs": [],
   "source": [
    "pr <- py$Projection()\n",
    "coord_original <- pr$fit_transform(data, nf = 5L)[[1]]"
   ]
  },
  {
   "cell_type": "code",
   "execution_count": 19,
   "id": "f0950fb7",
   "metadata": {
    "ExecuteTime": {
     "end_time": "2021-11-05T13:37:15.889858Z",
     "start_time": "2021-11-05T13:37:15.879Z"
    }
   },
   "outputs": [],
   "source": [
    "compute <- FALSE\n",
    "\n",
    "if (compute) {\n",
    "    ## parallele computing (not requiered if you import results datasets)\n",
    "    library(doParallel)\n",
    "    library(parallel)\n",
    "    library(foreach)\n",
    "    \n",
    "    parralele_function = function(k){\n",
    "        avatar_tot <- read.table(unz(paste0(\"../../datasets/aids_avatarized.zip\"), \n",
    "                                     paste0(\"aids_avatarized/k\", k, \"_aids_avatarized.csv\")), sep = \",\", header = TRUE)\n",
    "        for (iter in 0:9) {\n",
    "            avatar <- avatar_tot[avatar_tot$iter_k == iter,1:26]\n",
    "            \n",
    "            ## imputation\n",
    "            avatar_imp <- tidyr::complete(mice::mice(avatar,m=1,maxit=50,seed=500, printFlag = FALSE, print = FALSE),1)\n",
    "            avatar$cd496 <- avatar_imp$cd496\n",
    "\n",
    "            ## survival analysis\n",
    "            summary_cox <- summary(survival::coxph(survival::Surv(time = days/7, event = cens)~factor(arms), data = avatar))\n",
    "            res_HR <- c(round(as.vector(summary_cox$coefficients[,2]), 2))\n",
    "            res_HR_CI_low <- c(round(as.vector(summary_cox$conf.int[,3]), 2))\n",
    "            res_HR_CI_high <- c(round(as.vector(summary_cox$conf.int[,4]), 2))\n",
    "            res_pval <- sapply(as.vector(summary_cox$coefficients[,5]), write_pvalue, dec = 3)\n",
    "\n",
    "            res_row <- c(k,iter,res_HR, res_HR_CI_low, res_HR_CI_high,res_pval )\n",
    "            res_df[nrow(res_df) + 1,] <- res_row  \n",
    "        }\n",
    "        return(res_df)\n",
    "    }\n",
    "\n",
    "    # Initialization\n",
    "    res_df <- data.frame(matrix(ncol = 14, nrow = 0))\n",
    "\n",
    "    colnames(res_df) <- c(\"k\", \"iter\", \"res_HR1\", \"res_HR2\", \"res_HR3\", \n",
    "                          \"res_HR_CI_low1\", \"res_HR_CI_low2\", \"res_HR_CI_low3\",\n",
    "                          \"res_HR_CI_high1\", \"res_HR_CI_high2\", \"res_HR_CI_high3\",\n",
    "                          \"res_pval1\", \"res_pval2\", \"res_pval3\")\n",
    "        \n",
    "    ## data loading\n",
    "    p <- seq(1,1999, 2)\n",
    "\n",
    "    P <- 8  # define number of core \n",
    "    cl <- makeCluster(P) # start parallele computing\n",
    "\n",
    "    clusterExport(cl, c(\"write_pvalue\", \"res_df\"))\n",
    "\n",
    "    system.time(\n",
    "        res_par <- clusterApply(cl, p, fun = parralele_function) # eval parralele_function accross k  \n",
    "    )  \n",
    "\n",
    "    stopCluster(cl)\n",
    "    \n",
    "    ### Save results\n",
    "    class(res_par)\n",
    "    res_df = bind_rows(res_par)\n",
    "    tail(res_df)\n",
    "} "
   ]
  },
  {
   "cell_type": "markdown",
   "id": "4a63e9b2",
   "metadata": {},
   "source": [
    "### Load results datasets"
   ]
  },
  {
   "cell_type": "code",
   "execution_count": 20,
   "id": "twelve-monaco",
   "metadata": {
    "ExecuteTime": {
     "end_time": "2021-11-05T13:37:17.000878Z",
     "start_time": "2021-11-05T13:37:16.926Z"
    }
   },
   "outputs": [],
   "source": [
    "res_df <- read.csv(\"../../datasets/results_df/hazard_ratio.csv\")\n",
    "\n",
    "res_df[\"names\"] <- paste(res_df$k, res_df$iter, sep = \"_\")\n",
    "\n",
    "df_res_HR <- res_df[, c(\"k\", \"iter\", \"res_HR1\", \"res_HR2\", \"res_HR3\")]\n",
    "df_res_HR_CI_low <- res_df[, c(\"k\", \"iter\", \"res_HR_CI_low1\", \"res_HR_CI_low2\", \"res_HR_CI_low3\" )]\n",
    "df_res_HR_CI_high <- res_df[, c(\"k\", \"iter\", \"res_HR_CI_high1\", \"res_HR_CI_high2\", \"res_HR_CI_high3\")]"
   ]
  },
  {
   "cell_type": "code",
   "execution_count": 21,
   "id": "aae5cf72",
   "metadata": {
    "ExecuteTime": {
     "end_time": "2021-11-05T13:37:17.515708Z",
     "start_time": "2021-11-05T13:37:17.430Z"
    },
    "scrolled": true
   },
   "outputs": [],
   "source": [
    "# compute confidence intervals\n",
    "mean_hr1 <- res_df %>%\n",
    "  group_by(k) %>%\n",
    "  summarise(mean = mean(res_HR1),\n",
    "            std = sqrt(var(res_HR1)),\n",
    "            lower = mean(res_HR1) - qnorm(.975)*std/sqrt(n()),\n",
    "            upper = mean(res_HR1) + qnorm(.975)*std/sqrt(n()))\n",
    "mean_hr1$inf <- mean_hr1$mean - mean_hr1$std\n",
    "mean_hr1$sup <- mean_hr1$mean + mean_hr1$std\n",
    "\n",
    "poly_df <- rbind(setNames(mean_hr1[,c(\"k\", \"inf\")], c('x','y')),\n",
    "                 setNames(mean_hr1[order(nrow(mean_hr1):1), c(\"k\", \"sup\")], c('x','y')))"
   ]
  },
  {
   "cell_type": "markdown",
   "id": "further-contrary",
   "metadata": {},
   "source": [
    "### Graphical representations"
   ]
  },
  {
   "cell_type": "code",
   "execution_count": 22,
   "id": "e83aa9cd",
   "metadata": {
    "ExecuteTime": {
     "end_time": "2021-11-05T15:06:49.203093Z",
     "start_time": "2021-11-05T15:06:48.547Z"
    }
   },
   "outputs": [
    {
     "name": "stderr",
     "output_type": "stream",
     "text": [
      "Warning message:\n",
      "\"Removed 156 rows containing non-finite values (stat_smooth).\"\n",
      "Warning message:\n",
      "\"Removed 156 rows containing non-finite values (stat_smooth).\"\n"
     ]
    },
    {
     "data": {
      "image/png": "[encoded data removed]",
      "text/plain": [
       "plot without title"
      ]
     },
     "metadata": {
      "image/png": {
       "height": 420,
       "width": 600
      }
     },
     "output_type": "display_data"
    }
   ],
   "source": [
    "options(repr.plot.width = 10, repr.plot.height = 7)\n",
    "\n",
    "g1 <- ggplot(res_df) +\n",
    "    # red line as a ploygone\n",
    "    stat_smooth(aes(k, res_HR1), method = \"lm\", se=FALSE, \n",
    "                formula = y ~ poly(x, 8, raw=TRUE), colour=\"red\") +\n",
    "    # add upper and lower bounds\n",
    "    stat_smooth(data = mean_hr1, aes(k, mean - std), col = \"#696969\", lty = 2, se = FALSE, \n",
    "                method = 'gam', formula = y ~ s(x, bs = \"cs\")) +\n",
    "    stat_smooth(data = mean_hr1, aes(k, mean + std), col = \"#696969\", lty = 2, se = FALSE,\n",
    "                method = 'gam', formula = y ~ s(x, bs = \"cs\")) \n",
    "\n",
    "gg1 <- ggplot_build(g1)\n",
    "\n",
    "# get stat smooth (2,3) coordinate in order to draw the polygone between the smooth curve\n",
    "df2 <- data.frame(x = gg1$data[[2]]$x, ymin = gg1$data[[2]]$y, ymax = gg1$data[[3]]$y) \n",
    "df3 <- data.frame(x = gg1$data[[2]]$x, ymin = 0.39, ymax = 0.63) \n",
    "\n",
    "# draw final figure \n",
    "# we must redo all the code lines to manage the layer order (point on the grey zone)\n",
    "\n",
    "plot <- ggplot() +\n",
    "    # original zone \n",
    "    geom_ribbon(data = df3, aes(x = x, ymin = ymin, ymax = ymax),\n",
    "                fill = colors[\"original\", \"color\"], alpha = 0.07) + \n",
    "    # add original mean\n",
    "    geom_segment(aes(x = 0, y = 0.49, xend = 1175, yend = 0.49), \n",
    "                 col = colors[\"original\", \"color\"], lwd = 1, lty = 1, alpha = 0.8) +\n",
    "       \n",
    "    # avatar zone \n",
    "    geom_ribbon(data = df2, aes(x = x, ymin = ymin, ymax = ymax),\n",
    "                fill = colors[\"avatar\", \"color\"], alpha = 0.12) + \n",
    "    theme_minimal() +\n",
    "\n",
    "    # add mean point by k\n",
    "    geom_point(data = mean_hr1, aes(x = k, y = mean), \n",
    "               colour = \"white\", alpha = 0.9, size = 2.5) +\n",
    "    geom_point(data = mean_hr1, aes(x = k, y = mean), \n",
    "               colour = colors[\"avatar\", \"color\"], alpha = 0.9, size = 2) +\n",
    "    # avatar mean smooth\n",
    "    stat_smooth(data = res_df, aes(k, res_HR1), method = \"lm\", se = FALSE, \n",
    "                formula = y ~ poly(x, 8, raw = TRUE), colour = \"#35b696\", size = 1.5) +\n",
    "    stat_smooth(data = res_df, aes(k, res_HR1), method = \"lm\", se = FALSE, \n",
    "                formula = y ~ poly(x, 8, raw = TRUE), colour = colors[\"avatar\", \"color\"], size = 1) +\n",
    "        \n",
    "    # labs theme and axis\n",
    "    ylab(\"Hazard ratio between\\narms 0 and arms 1\") +\n",
    "    xlab(\"Number of nearest neighbors (k)\") +\n",
    "    ylim(0.35, 1) +\n",
    "    #xlim(4, )\n",
    "    scale_x_continuous(breaks = seq_k)  +\n",
    "    coord_cartesian(xlim = c(0, 1075)) +\n",
    "    theme(axis.title.y = element_text(angle = 90, vjust = 1, size = axis_title_size, family = \"sans\"),\n",
    "          axis.text = element_text(size = axis_text_size), \n",
    "          axis.title.x = element_text(size = axis_title_size, family = \"sans\"),\n",
    "          legend.text = element_text(size = legend_text_size, family = \"sans\"),\n",
    "          legend.key.size = unit(1, 'cm'),\n",
    "          axis.line = element_line(colour = \"black\", size = 0.5, linetype = \"solid\", \n",
    "                                   arrow = arrow(type = 'closed', length = unit(5,'pt'))))\n",
    "plot\n",
    "\n",
    "#ggsave(file = \"../../figure/aids_hazardratio_variousk.svg\", plot = plot, width = 10, height = 7)"
   ]
  },
  {
   "cell_type": "markdown",
   "id": "further-evanescence",
   "metadata": {},
   "source": [
    "## For different k: local cloaking computation\n",
    "\n",
    "This section provides the computation of protection metrics (local cloaking).\n",
    "\n",
    "We first compute metrics, which need the security metrics specifique function.\n",
    "Then we display the distribution of the local cloaking for different k values."
   ]
  },
  {
   "cell_type": "code",
   "execution_count": 23,
   "id": "7b6544ab",
   "metadata": {
    "ExecuteTime": {
     "end_time": "2021-11-05T14:01:20.482491Z",
     "start_time": "2021-11-05T14:00:55.574Z"
    }
   },
   "outputs": [
    {
     "name": "stderr",
     "output_type": "stream",
     "text": [
      "Warning message:\n",
      "\"Number of logged events: 3\"\n",
      "Warning message:\n",
      "\"Number of logged events: 3\"\n",
      "Warning message:\n",
      "\"Number of logged events: 3\"\n",
      "Warning message:\n",
      "\"Number of logged events: 3\"\n",
      "Warning message:\n",
      "\"Number of logged events: 3\"\n",
      "Warning message:\n",
      "\"Number of logged events: 3\"\n"
     ]
    }
   ],
   "source": [
    "df_local_cloaking_k100 <- data.frame(row.names = 1:nrow(data))\n",
    "pr <- py$Projection()\n",
    "hidden_rate_list <- c()\n",
    "\n",
    "\n",
    "coord_original <- pr$fit_transform(data, nf = 5L)[[1]]\n",
    "for (k in seq_k) {\n",
    "    iter <- 0\n",
    "    avatar_tot <- read.table(unz(paste0(file_data, \"AIDS/aids_avatarized.zip\"), \n",
    "                                 paste0(\"aids_avatarized/k\", k, \"_aids_avatarized.csv\")), sep = \",\", header = TRUE)\n",
    "    avatar <- avatar_tot[avatar_tot$iter_k == iter,]\n",
    "    avatar_imp <- complete(mice(avatar, m = 1, maxit = 50, seed = 500, printFlag = FALSE), 1)\n",
    "    avatar$cd496 <- avatar_imp$cd496\n",
    "    coord_avatar <- pr$transform(avatar[, 1:(ncol(avatar) - 3)])\n",
    "    \n",
    "    # local cloaking\n",
    "    distances <- py$record_to_avatar_distance(coord_original, coord_avatar)\n",
    "    local_cloaking <- py$local_cloaking(coord_original, coord_avatar, distances)\n",
    "    df_local_cloaking_k100[paste0(\"local_cloaking_\", k)] <- local_cloaking$hit_counts[, 1]\n",
    "}"
   ]
  },
  {
   "cell_type": "code",
   "execution_count": 24,
   "id": "73eec8a0",
   "metadata": {
    "ExecuteTime": {
     "end_time": "2021-11-05T14:01:20.492616Z",
     "start_time": "2021-11-05T14:00:56.312Z"
    }
   },
   "outputs": [
    {
     "name": "stderr",
     "output_type": "stream",
     "text": [
      "No id variables; using all as measure variables\n",
      "\n"
     ]
    }
   ],
   "source": [
    "df_melt <- melt(df_local_cloaking_k100)"
   ]
  },
  {
   "cell_type": "markdown",
   "id": "ebf05de9",
   "metadata": {},
   "source": [
    "### Violin plot \n",
    "We perform a violin plot for different k value with a log axis"
   ]
  },
  {
   "cell_type": "code",
   "execution_count": 25,
   "id": "5c795f3e",
   "metadata": {
    "ExecuteTime": {
     "end_time": "2021-11-05T13:40:48.755168Z",
     "start_time": "2021-11-05T13:40:48.242Z"
    }
   },
   "outputs": [
    {
     "data": {
      "image/png": "[encoded data removed]",
      "text/plain": [
       "plot without title"
      ]
     },
     "metadata": {
      "image/png": {
       "height": 420,
       "width": 600
      }
     },
     "output_type": "display_data"
    }
   ],
   "source": [
    "options(repr.plot.width = 10, repr.plot.height = 7)\n",
    "\n",
    "plot <- ggplot(df_melt, aes(x = variable, y = value)) + \n",
    "    geom_violin(trim = TRUE, alpha = 0.12, fill = colors['avatar', 'color']) +\n",
    "    geom_boxplot(width = 0.4, fill = colors['avatar', 'color'], outlier.size = 0.1,alpha = 0.8) +\n",
    "    scale_x_discrete(labels = as.character(seq_k)) +\n",
    "    scale_y_continuous(trans = scales::pseudo_log_trans(base = 10), breaks = c(1,5,10,25,50,100,300, 600, 1000, 2000)) +\n",
    "    xlab(\"Number of nearest neighbors (k)\") +\n",
    "    ylab(\"Local cloaking\") +\n",
    "    theme_minimal() +  \n",
    "    theme(legend.position = \"none\",\n",
    "          axis.title.y = element_text(angle = 90, vjust = 1, size = axis_title_size),\n",
    "          axis.text = element_text(size = axis_text_size), \n",
    "          axis.title.x = element_text(size = axis_title_size),\n",
    "          axis.line = element_line(colour = \"black\", size = 0.5, linetype = \"solid\", \n",
    "                                   arrow = arrow(type = 'closed', length = unit(5,'pt'))))+ \n",
    "    coord_cartesian(ylim = c(-1, 2000))\n",
    "\n",
    "plot\n",
    "\n",
    "# ggsave(file=\"../../figure/aids_localCloaking_violinplot.svg\", plot = plot, width = 10, height = 7)"
   ]
  }
 ],
 "metadata": {
  "kernelspec": {
   "display_name": "R",
   "language": "R",
   "name": "ir"
  },
  "language_info": {
   "codemirror_mode": "r",
   "file_extension": ".r",
   "mimetype": "text/x-r-source",
   "name": "R",
   "pygments_lexer": "r",
   "version": "3.6.1"
  },
  "toc": {
   "base_numbering": 1,
   "nav_menu": {},
   "number_sections": true,
   "sideBar": true,
   "skip_h1_title": false,
   "title_cell": "Table of Contents",
   "title_sidebar": "Contents",
   "toc_cell": false,
   "toc_position": {},
   "toc_section_display": true,
   "toc_window_display": true
  }
 },
 "nbformat": 4,
 "nbformat_minor": 5
}
