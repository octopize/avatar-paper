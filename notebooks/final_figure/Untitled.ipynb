{
 "cells": [
  {
   "cell_type": "code",
   "execution_count": 4,
   "id": "9ac4aaa4",
   "metadata": {},
   "outputs": [
    {
     "ename": "ModuleNotFoundError",
     "evalue": "No module named 'lsg'",
     "output_type": "error",
     "traceback": [
      "\u001b[0;31m---------------------------------------------------------------------------\u001b[0m",
      "\u001b[0;31mModuleNotFoundError\u001b[0m                       Traceback (most recent call last)",
      "\u001b[0;32m/var/folders/kc/s79hq4hx3rlfjs7y7_0kn51r0000gn/T/ipykernel_33296/4178811626.py\u001b[0m in \u001b[0;36m<module>\u001b[0;34m\u001b[0m\n\u001b[1;32m      2\u001b[0m \u001b[0;32mimport\u001b[0m \u001b[0msaiph\u001b[0m\u001b[0;34m\u001b[0m\u001b[0;34m\u001b[0m\u001b[0m\n\u001b[1;32m      3\u001b[0m \u001b[0;34m\u001b[0m\u001b[0m\n\u001b[0;32m----> 4\u001b[0;31m \u001b[0;32mfrom\u001b[0m \u001b[0mlsg\u001b[0m\u001b[0;34m.\u001b[0m\u001b[0msecurity_metrics\u001b[0m\u001b[0;34m.\u001b[0m\u001b[0mradius_knn\u001b[0m \u001b[0;32mimport\u001b[0m \u001b[0mradius_knn\u001b[0m\u001b[0;34m\u001b[0m\u001b[0;34m\u001b[0m\u001b[0m\n\u001b[0m\u001b[1;32m      5\u001b[0m \u001b[0;32mfrom\u001b[0m \u001b[0mlsg\u001b[0m\u001b[0;34m.\u001b[0m\u001b[0msecurity_metrics\u001b[0m\u001b[0;34m.\u001b[0m\u001b[0mrecord_to_avatar_distance\u001b[0m \u001b[0;32mimport\u001b[0m \u001b[0mrecord_to_avatar_distance\u001b[0m\u001b[0;34m\u001b[0m\u001b[0;34m\u001b[0m\u001b[0m\n",
      "\u001b[0;31mModuleNotFoundError\u001b[0m: No module named 'lsg'"
     ]
    }
   ],
   "source": [
    "import pandas as pd\n",
    "import saiph\n",
    "\n",
    "from lsg.security_metrics.radius_knn import radius_knn\n",
    "from lsg.security_metrics.record_to_avatar_distance import record_to_avatar_distance"
   ]
  },
  {
   "cell_type": "code",
   "execution_count": null,
   "id": "d6e99967",
   "metadata": {},
   "outputs": [],
   "source": []
  }
 ],
 "metadata": {
  "kernelspec": {
   "display_name": "Python 3.9.9 64-bit ('avatar-paper-igF8noez-py3.9': poetry)",
   "language": "python",
   "name": "python399jvsc74a57bd0c38188a82a43ddc67be1f93bc84d9752accb86d7b4a60cc93d24ca38b0f9f969"
  },
  "language_info": {
   "codemirror_mode": {
    "name": "ipython",
    "version": 3
   },
   "file_extension": ".py",
   "mimetype": "text/x-python",
   "name": "python",
   "nbconvert_exporter": "python",
   "pygments_lexer": "ipython3",
   "version": "3.9.10"
  }
 },
 "nbformat": 4,
 "nbformat_minor": 5
}
