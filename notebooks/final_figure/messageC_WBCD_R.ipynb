{
 "cells": [
  {
   "cell_type": "markdown",
   "id": "1ea68584",
   "metadata": {},
   "source": [
    "# WBCD dataset: Impact of the *k* parameter\n",
    "\n",
    "On this notebook, we present the R code to display the figure XXXXXX of the article [lien_papier].\n",
    "\n",
    "We focused our analysis on the impact of the parameter *k* in the statistical structure and the security level of the dataset.\n",
    "\n",
    "We performed two analyses:\n",
    "\n",
    "    1- Figure of projection comparison.   \n",
    "    2- Figure of distribution comparison accross k\n",
    "\n",
    "If you want to look at the evolution of AUROC according to *k* values, open the notebook `messageC_WBCD_python.ipynb`."
   ]
  },
  {
   "cell_type": "markdown",
   "id": "b0f0c901",
   "metadata": {},
   "source": [
    "## Library import"
   ]
  },
  {
   "cell_type": "code",
   "execution_count": 1,
   "id": "b679081f",
   "metadata": {
    "ExecuteTime": {
     "end_time": "2021-11-17T10:29:59.918573Z",
     "start_time": "2021-11-17T10:29:58.396Z"
    },
    "scrolled": true
   },
   "outputs": [
    {
     "name": "stderr",
     "output_type": "stream",
     "text": [
      "Warning message:\n",
      "\"package 'reticulate' was built under R version 3.6.3\"\n",
      "Warning message:\n",
      "\"package 'tidyverse' was built under R version 3.6.3\"\n",
      "-- \u001b[1mAttaching packages\u001b[22m ------------------------------------------------------------------------------- tidyverse 1.3.1 --\n",
      "\n",
      "\u001b[32mv\u001b[39m \u001b[34mggplot2\u001b[39m 3.3.3     \u001b[32mv\u001b[39m \u001b[34mpurrr  \u001b[39m 0.3.4\n",
      "\u001b[32mv\u001b[39m \u001b[34mtibble \u001b[39m 3.1.1     \u001b[32mv\u001b[39m \u001b[34mdplyr  \u001b[39m 1.0.6\n",
      "\u001b[32mv\u001b[39m \u001b[34mtidyr  \u001b[39m 1.1.3     \u001b[32mv\u001b[39m \u001b[34mstringr\u001b[39m 1.4.0\n",
      "\u001b[32mv\u001b[39m \u001b[34mreadr  \u001b[39m 1.4.0     \u001b[32mv\u001b[39m \u001b[34mforcats\u001b[39m 0.5.1\n",
      "\n",
      "Warning message:\n",
      "\"package 'ggplot2' was built under R version 3.6.3\"\n",
      "Warning message:\n",
      "\"package 'tibble' was built under R version 3.6.3\"\n",
      "Warning message:\n",
      "\"package 'tidyr' was built under R version 3.6.3\"\n",
      "Warning message:\n",
      "\"package 'readr' was built under R version 3.6.3\"\n",
      "Warning message:\n",
      "\"package 'purrr' was built under R version 3.6.3\"\n",
      "Warning message:\n",
      "\"package 'dplyr' was built under R version 3.6.3\"\n",
      "Warning message:\n",
      "\"package 'stringr' was built under R version 3.6.3\"\n",
      "Warning message:\n",
      "\"package 'forcats' was built under R version 3.6.3\"\n",
      "-- \u001b[1mConflicts\u001b[22m ---------------------------------------------------------------------------------- tidyverse_conflicts() --\n",
      "\u001b[31mx\u001b[39m \u001b[34mdplyr\u001b[39m::\u001b[32mfilter()\u001b[39m masks \u001b[34mstats\u001b[39m::filter()\n",
      "\u001b[31mx\u001b[39m \u001b[34mdplyr\u001b[39m::\u001b[32mlag()\u001b[39m    masks \u001b[34mstats\u001b[39m::lag()\n",
      "\n",
      "Warning message:\n",
      "\"package 'reshape2' was built under R version 3.6.3\"\n",
      "\n",
      "Attaching package: 'reshape2'\n",
      "\n",
      "\n",
      "The following object is masked from 'package:tidyr':\n",
      "\n",
      "    smiths\n",
      "\n",
      "\n",
      "Warning message:\n",
      "\"package 'mice' was built under R version 3.6.3\"\n",
      "\n",
      "Attaching package: 'mice'\n",
      "\n",
      "\n",
      "The following object is masked from 'package:stats':\n",
      "\n",
      "    filter\n",
      "\n",
      "\n",
      "The following objects are masked from 'package:base':\n",
      "\n",
      "    cbind, rbind\n",
      "\n",
      "\n",
      "Warning message:\n",
      "\"package 'FactoMineR' was built under R version 3.6.3\"\n"
     ]
    }
   ],
   "source": [
    "# Main libraries\n",
    "library(reticulate)\n",
    "library(tidyverse)\n",
    "library(reshape2)\n",
    "library(mice)\n",
    "\n",
    "# Multidimensionnal reduction method libary\n",
    "library(FactoMineR)"
   ]
  },
  {
   "cell_type": "code",
   "execution_count": 2,
   "id": "f647af2a",
   "metadata": {
    "ExecuteTime": {
     "end_time": "2021-11-17T10:30:18.893383Z",
     "start_time": "2021-11-17T10:30:17.719Z"
    }
   },
   "outputs": [],
   "source": [
    "# import specific function to compute metrics \n",
    "py_run_string(\"import sys\")\n",
    "py_run_string(\"sys.path.append('../..')\")\n",
    "\n",
    "py_run_string(\"from lsg.dimension.projection import Projection\")\n",
    "py_run_string(\"from lsg.security_metrics.security_metrics_class import Security_metrics \")\n",
    "py_run_string(\"from lsg.security_metrics.record_to_avatar_distance import record_to_avatar_distance\")\n",
    "py_run_string(\"from lsg.security_metrics.local_cloaking import local_cloaking\")\n",
    "py_run_string(\"from lsg.security_metrics.avatars_are_first_hit import avatars_are_first_hit\")\n",
    "py_run_string(\"from lsg.security_metrics.hidden_rate import hidden_rate\")"
   ]
  },
  {
   "cell_type": "markdown",
   "id": "1bf574a4",
   "metadata": {},
   "source": [
    "## Data loading"
   ]
  },
  {
   "cell_type": "code",
   "execution_count": 3,
   "id": "740b8d53",
   "metadata": {
    "ExecuteTime": {
     "end_time": "2021-11-17T10:30:19.674145Z",
     "start_time": "2021-11-17T10:30:19.652Z"
    }
   },
   "outputs": [],
   "source": [
    "save <- FALSE"
   ]
  },
  {
   "cell_type": "code",
   "execution_count": 4,
   "id": "6b6c1d86",
   "metadata": {
    "ExecuteTime": {
     "end_time": "2021-11-17T10:30:20.382161Z",
     "start_time": "2021-11-17T10:30:20.349Z"
    }
   },
   "outputs": [],
   "source": [
    "file_data <- \"../../datasets/WBCD/\"\n",
    "file_results <- \"../../figure/\""
   ]
  },
  {
   "cell_type": "code",
   "execution_count": 5,
   "id": "5741c916",
   "metadata": {
    "ExecuteTime": {
     "end_time": "2021-11-17T10:30:21.024819Z",
     "start_time": "2021-11-17T10:30:20.989Z"
    }
   },
   "outputs": [],
   "source": [
    "data <- read.csv(paste0(file_data, \"breast_cancer_wisconsin.csv\"), sep = \",\", na.strings = c(\"NA\", \"\", NA))\n",
    "data <- data[,-1]\n",
    "\n",
    "seq_k = c(4, 50, 100, 150, 200, 300)"
   ]
  },
  {
   "cell_type": "markdown",
   "id": "012c8e6e",
   "metadata": {},
   "source": [
    "## Graphical parameters"
   ]
  },
  {
   "cell_type": "code",
   "execution_count": 6,
   "id": "93429f91",
   "metadata": {
    "ExecuteTime": {
     "end_time": "2021-11-17T10:33:00.797655Z",
     "start_time": "2021-11-17T10:33:00.768Z"
    }
   },
   "outputs": [],
   "source": [
    "colors <- read.csv(\"../../color.csv\", stringsAsFactors = FALSE)\n",
    "rownames(colors) <- colors$type"
   ]
  },
  {
   "cell_type": "code",
   "execution_count": 7,
   "id": "97ead0ad",
   "metadata": {},
   "outputs": [],
   "source": [
    "axis_title_size <- 16\n",
    "axis_text_size <- 15\n",
    "legend_text_size <- 16\n",
    "legend_title_size <- 16"
   ]
  },
  {
   "cell_type": "markdown",
   "id": "f91fada5",
   "metadata": {},
   "source": [
    "## Projection \n",
    "\n",
    "We performed 2 FAMD, small *k* value (i.e. 1/10% of the total number of individuals) and high *k* value (i.e. 40/50% of the total number of individuals)."
   ]
  },
  {
   "cell_type": "code",
   "execution_count": 8,
   "id": "95ac38c4",
   "metadata": {
    "ExecuteTime": {
     "end_time": "2021-11-17T10:30:22.268506Z",
     "start_time": "2021-11-17T10:30:22.196Z"
    }
   },
   "outputs": [],
   "source": [
    "# Small k\n",
    "k <- 4 ; iter <- 5\n",
    "avatar_tot <- read.table(unz(paste0(file_data, \"wbcd_avatarized.zip\"), \n",
    "                             paste0(\"wbcd_avatarized/k\", k, \"_wbcd_avatarized.csv\")), sep = \",\", header = TRUE)\n",
    "avatar_small <- avatar_tot[avatar_tot$iter_k == iter,]"
   ]
  },
  {
   "cell_type": "code",
   "execution_count": 9,
   "id": "4d758764",
   "metadata": {
    "ExecuteTime": {
     "end_time": "2021-11-17T10:30:22.988061Z",
     "start_time": "2021-11-17T10:30:22.954Z"
    }
   },
   "outputs": [],
   "source": [
    "# high k\n",
    "k <- 342 ; iter <- 5 \n",
    "avatar_tot <- read.table(unz(paste0(file_data, \"wbcd_avatarized.zip\"), \n",
    "                             paste0(\"wbcd_avatarized/k\", k, \"_wbcd_avatarized.csv\")), sep = \",\", header = TRUE)\n",
    "avatar_high <- avatar_tot[avatar_tot$iter_k == iter,]"
   ]
  },
  {
   "cell_type": "code",
   "execution_count": 10,
   "id": "5ea8fb09",
   "metadata": {
    "ExecuteTime": {
     "end_time": "2021-11-17T10:30:23.594772Z",
     "start_time": "2021-11-17T10:30:23.533Z"
    }
   },
   "outputs": [],
   "source": [
    "# binding original, small k avatar and high k avatar datasets. \n",
    "data_small_high <- rbind(data[, 1:10], avatar_small[, 1:10], avatar_high[, 1:10])\n",
    "data_small_high$Class <- as_factor(data_small_high$Class)\n",
    "\n",
    "row.names(data_small_high) <- 1:nrow(data_small_high)\n",
    "\n",
    "# Perform FAMD in the priginal data space\n",
    "FAMD <- FAMD(data_small_high, ncp = 5, graph = FALSE, ind.sup = (nrow(data_small_high)/3 + 1):nrow(data_small_high))\n",
    "res_ind <- as.data.frame(FAMD$ind.sup$coord)[1:683,]\n",
    "res_ind_sup <- as.data.frame(FAMD$ind.sup$coord)[684:1366,]"
   ]
  },
  {
   "cell_type": "markdown",
   "id": "0245d7df",
   "metadata": {},
   "source": [
    "## 2D projection\n"
   ]
  },
  {
   "cell_type": "code",
   "execution_count": 11,
   "id": "bfaa25e9",
   "metadata": {
    "ExecuteTime": {
     "end_time": "2021-11-17T10:30:24.885825Z",
     "start_time": "2021-11-17T10:30:24.869Z"
    }
   },
   "outputs": [],
   "source": [
    "res_ind_2D <- res_ind[,1:2]\n",
    "res_ind_2D['type'] <- 'k = 4'\n",
    "res_ind_sup['type'] <- 'k = 342'\n",
    "res_ind_2D <- rbind(res_ind_2D, res_ind_sup[, c('Dim.1', 'Dim.2', 'type')])\n",
    "\n",
    "set.seed(42)\n",
    "rows <- sample(nrow(res_ind_2D))\n",
    "res_ind_2D <- res_ind_2D[rows,]"
   ]
  },
  {
   "cell_type": "code",
   "execution_count": 12,
   "id": "5401ccf6",
   "metadata": {
    "ExecuteTime": {
     "end_time": "2021-11-17T10:33:04.173608Z",
     "start_time": "2021-11-17T10:33:03.849Z"
    }
   },
   "outputs": [
    {
     "data": {
      "image/png": "[encoded data removed]",
      "text/plain": [
       "plot without title"
      ]
     },
     "metadata": {
      "image/png": {
       "height": 420,
       "width": 600
      }
     },
     "output_type": "display_data"
    }
   ],
   "source": [
    "options(repr.plot.width = 10, repr.plot.height = 7)\n",
    "\n",
    "plot <- ggplot(res_ind_2D, aes(x = Dim.1, y = Dim.2, fill = type)) +\n",
    "    geom_point(size = 3, shape = 21, alpha = 1) +\n",
    "    aes(fill = factor(type)) + \n",
    "    scale_fill_manual(values=c('k = 4' = colors[\"k_small\", \"color\"], 'k = 342' = colors[\"k_high\", \"color\"])) +\n",
    "    xlab(paste0(\"Dim. 1 (\", round(FAMD$eig[1,2], 2) ,\"%)\")) +\n",
    "    ylab(paste0(\"Dim. 2 (\", round(FAMD$eig[2,2], 2) ,\"%)\")) +\n",
    "    labs(fill = \"\") +\n",
    "    theme_bw() +\n",
    "    ylim(c(-2.6, 5.3)) + \n",
    "    theme(legend.position = c(0.9, 0.12), \n",
    "          legend.title = element_blank(),\n",
    "          legend.key.size = unit(0.8, \"cm\"),\n",
    "          legend.text = element_text(size = legend_text_size, color = \"black\", family = \"sans\"),\n",
    "          axis.text = element_text(size =  axis_text_size, color = \"black\", family = \"sans\"),\n",
    "          axis.title = element_text(size = axis_title_size, color = \"black\", family = \"sans\"))\n",
    "\n",
    "plot \n",
    "\n",
    "#ggsave(file=\"../../figure/WBCD_pca2D_Ksmall_high.svg\", plot = plot, width = 10, height = 7, dpi = 320)"
   ]
  },
  {
   "cell_type": "markdown",
   "id": "0b0499f9",
   "metadata": {},
   "source": [
    "## For different *k*: local cloaking computation\n",
    "\n",
    "This section provides the computation of protection metrics (local cloaking).\n",
    "\n",
    "We first computed metrics, which need the security metrics specifique function.\n",
    "Then, we displayed the distribution of the local cloaking for different *k* values."
   ]
  },
  {
   "cell_type": "code",
   "execution_count": 13,
   "id": "fd3c523a",
   "metadata": {
    "ExecuteTime": {
     "end_time": "2021-11-05T13:36:45.772135Z",
     "start_time": "2021-11-05T13:36:45.702Z"
    }
   },
   "outputs": [],
   "source": [
    "df_local_cloaking_k100 <- data.frame(row.names = 1:nrow(data))\n",
    "hidden_rate_list <- c()\n",
    "\n",
    "pr <- py$Projection()\n",
    "coord_original <- pr$fit_transform(data, nf = 2L)[[1]]"
   ]
  },
  {
   "cell_type": "code",
   "execution_count": 14,
   "id": "d5feb444",
   "metadata": {
    "ExecuteTime": {
     "end_time": "2021-11-05T13:36:49.206047Z",
     "start_time": "2021-11-05T13:36:45.938Z"
    }
   },
   "outputs": [],
   "source": [
    "for (k in seq_k) {\n",
    "    iter <- 1\n",
    "    avatar_tot <- read.table(unz(paste0(file_data, \"wbcd_avatarized.zip\"), \n",
    "                                 paste0(\"wbcd_avatarized/k\", k, \"_wbcd_avatarized.csv\")), sep = \",\", header = TRUE)\n",
    "    avatar <- avatar_tot[avatar_tot$iter_k == iter,]\n",
    "    coord_avatar <- pr$transform(avatar[, 1:10]) \n",
    "    \n",
    "    # Local cloaking\n",
    "    distances <- py$record_to_avatar_distance(coord_original, coord_avatar)\n",
    "    local_cloaking <- py$local_cloaking(coord_original, coord_avatar, distances)\n",
    "    df_local_cloaking_k100[paste0(\"local_cloaking_\", k)] <- local_cloaking$hit_counts[,1]\n",
    "    \n",
    "    # Hidden rate\n",
    "    are_first_hit <- py$avatars_are_first_hit (coord_original, coord_avatar, distance_metric = 'euclidean')\n",
    "    hidden_rate <- py$hidden_rate(are_first_hit)\n",
    "    hidden_rate_list <- c(hidden_rate_list, hidden_rate)\n",
    "}"
   ]
  },
  {
   "cell_type": "code",
   "execution_count": 15,
   "id": "5c2bffd7",
   "metadata": {
    "ExecuteTime": {
     "end_time": "2021-11-05T13:36:49.221212Z",
     "start_time": "2021-11-05T13:36:46.461Z"
    }
   },
   "outputs": [],
   "source": [
    "df_local_cloaking_k100[\"Class\"] <- data$Class"
   ]
  },
  {
   "cell_type": "code",
   "execution_count": 16,
   "id": "d0be7b09",
   "metadata": {
    "ExecuteTime": {
     "end_time": "2021-11-05T13:36:49.234110Z",
     "start_time": "2021-11-05T13:36:46.998Z"
    }
   },
   "outputs": [],
   "source": [
    "df_melt <- melt(df_local_cloaking_k100, id.vars = 'Class')\n",
    "\n",
    "hidden_rate_list <- rep(hidden_rate_list, each = 683)\n",
    "df_melt['hidden_rate'] <- hidden_rate_list"
   ]
  },
  {
   "cell_type": "markdown",
   "id": "12966ffb",
   "metadata": {},
   "source": [
    "### Violin plot \n",
    "We performed a violin plot for different *k* values."
   ]
  },
  {
   "cell_type": "code",
   "execution_count": 17,
   "id": "d0b3e8e9",
   "metadata": {
    "ExecuteTime": {
     "end_time": "2021-11-05T13:42:13.855298Z",
     "start_time": "2021-11-05T13:42:13.356Z"
    }
   },
   "outputs": [
    {
     "data": {
      "image/png": "[encoded data removed]",
      "text/plain": [
       "plot without title"
      ]
     },
     "metadata": {
      "image/png": {
       "height": 420,
       "width": 600
      }
     },
     "output_type": "display_data"
    }
   ],
   "source": [
    "options(repr.plot.width = 10, repr.plot.height = 7)\n",
    "\n",
    "plot <- ggplot(df_melt, aes(x = variable, fill = factor(Class), y = value)) + \n",
    "    geom_violin(trim = TRUE, alpha = 0.12, fill = colors['avatar', 'color'])+\n",
    "    geom_boxplot(width = 0.4, fill = colors['avatar', 'color'], outlier.size = 0.1, alpha = 0.8) +\n",
    "    scale_x_discrete(labels = as.character(seq_k)) +\n",
    "    scale_y_continuous(trans = scales::pseudo_log_trans(base = 10), breaks = c(1, 5, 10, 25, 50, 100, 300, 600)) +\n",
    "    xlab(\"Number of nearest neighbors (k)\") +\n",
    "    ylab(\"Local Cloaking\") +\n",
    "    theme_minimal() +  \n",
    "    theme(legend.position = \"right\",\n",
    "          axis.title.y = element_text(angle = 90, vjust = 1, size = axis_title_size),\n",
    "          axis.text = element_text(size = axis_text_size), \n",
    "          axis.title.x = element_text(size = axis_title_size),\n",
    "          axis.line = element_line(colour = \"black\", size = 0.5, linetype = \"solid\", \n",
    "                                   arrow = arrow(type = 'closed', length = unit(5, 'pt'))))+ \n",
    "    coord_cartesian(ylim = c(0, 700))\n",
    "\n",
    "plot\n",
    "\n",
    "#ggsave(file = \"../../figure/WBCD_localCloaking_violinplot.svg\", plot = plot, width = 10, height = 7)"
   ]
  }
 ],
 "metadata": {
  "kernelspec": {
   "display_name": "R",
   "language": "R",
   "name": "ir"
  },
  "language_info": {
   "codemirror_mode": "r",
   "file_extension": ".r",
   "mimetype": "text/x-r-source",
   "name": "R",
   "pygments_lexer": "r",
   "version": "3.6.1"
  },
  "toc": {
   "base_numbering": 1,
   "nav_menu": {},
   "number_sections": true,
   "sideBar": true,
   "skip_h1_title": false,
   "title_cell": "Table of Contents",
   "title_sidebar": "Contents",
   "toc_cell": false,
   "toc_position": {
    "height": "calc(100% - 180px)",
    "left": "10px",
    "top": "150px",
    "width": "313.85px"
   },
   "toc_section_display": true,
   "toc_window_display": true
  },
  "varInspector": {
   "cols": {
    "lenName": 16,
    "lenType": 16,
    "lenVar": 40
   },
   "kernels_config": {
    "python": {
     "delete_cmd_postfix": "",
     "delete_cmd_prefix": "del ",
     "library": "var_list.py",
     "varRefreshCmd": "print(var_dic_list())"
    },
    "r": {
     "delete_cmd_postfix": ") ",
     "delete_cmd_prefix": "rm(",
     "library": "var_list.r",
     "varRefreshCmd": "cat(var_dic_list()) "
    }
   },
   "types_to_exclude": [
    "module",
    "function",
    "builtin_function_or_method",
    "instance",
    "_Feature"
   ],
   "window_display": false
  }
 },
 "nbformat": 4,
 "nbformat_minor": 5
}
