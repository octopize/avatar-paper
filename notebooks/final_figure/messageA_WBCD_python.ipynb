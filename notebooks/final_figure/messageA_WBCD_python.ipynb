{
 "cells": [
  {
   "cell_type": "markdown",
   "id": "5adfc3e1",
   "metadata": {},
   "source": [
    "# Feature selection and prediction comparison figures - Python\n",
    "\n",
    "This notebook creates the f score comparison figure.  \n",
    "The methodology is inspired from the article :  \n",
    "\"_Support vector machines combined with feature selection for\n",
    "breast cancer diagnosis_\".\n",
    "\n",
    "\n",
    "We are here perform 100 different train/test 70/30 split. We split the original dataset and the avatarized dataset with the same stratification.\n",
    "\n",
    "For each split : \n",
    "- We first compute F_score for each feature with the f_score function.\n",
    "- We then train a SVM model with the 5 best features selected.\n"
   ]
  },
  {
   "cell_type": "code",
   "execution_count": 1,
   "id": "3b121956",
   "metadata": {
    "ExecuteTime": {
     "end_time": "2021-09-16T09:16:53.836638Z",
     "start_time": "2021-09-16T09:16:53.190402Z"
    }
   },
   "outputs": [],
   "source": [
    "# require general data science pacakges (machine learning, pandas, etc)\n",
    "import numpy as np\n",
    "import pandas as pd\n",
    "import os\n",
    "import sys\n",
    "from datetime import date\n",
    "import time\n",
    "import math\n",
    "\n",
    "import matplotlib.pyplot as plt\n",
    "from matplotlib import use\n",
    "import seaborn as sns\n",
    "\n",
    "# machine learning\n",
    "from sklearn.svm import SVC\n",
    "from sklearn.model_selection import train_test_split\n",
    "from sklearn.model_selection import GridSearchCV\n",
    "from sklearn.model_selection import cross_val_score\n",
    "from sklearn import metrics\n"
   ]
  },
  {
   "cell_type": "code",
   "execution_count": 2,
   "id": "98b22106",
   "metadata": {
    "ExecuteTime": {
     "end_time": "2021-09-16T09:16:53.842956Z",
     "start_time": "2021-09-16T09:16:53.837728Z"
    }
   },
   "outputs": [],
   "source": [
    "def f_score(X, y, val1=2, val2=4):\n",
    "    \"\"\"\n",
    "    Compute F-score for each feature.\n",
    "    input:\n",
    "        - X is the feature\n",
    "        - y is the ouput variable\n",
    "        - val1 and val2 are the two modalities\n",
    "\n",
    "    output:\n",
    "        - f score result of the variable X\n",
    "    \"\"\"\n",
    "    X1 = X[y == val1]\n",
    "    X2 = X[y == val2]\n",
    "    mean_X = X.mean()\n",
    "    mean_X1 = X1.mean()\n",
    "    mean_X2 = X2.mean()\n",
    "    n_X1 = len(X1)\n",
    "    n_X2 = len(X2)\n",
    "    sum_X1 = ((X1 - mean_X1) ** 2).sum()\n",
    "    sum_X2 = ((X2 - mean_X2) ** 2).sum()\n",
    "    return ((mean_X1 - mean_X) ** 2 + (mean_X2 - mean_X) ** 2) / (\n",
    "        ((1 / (n_X1 - 1)) * sum_X1) + ((1 / (n_X2 - 1)) * sum_X2)\n",
    "    )"
   ]
  },
  {
   "cell_type": "code",
   "execution_count": 3,
   "id": "50bc2717",
   "metadata": {
    "ExecuteTime": {
     "end_time": "2021-09-16T09:16:53.852387Z",
     "start_time": "2021-09-16T09:16:53.843996Z"
    }
   },
   "outputs": [],
   "source": [
    "def unique_SVM_model(X_train, y_train, X_test, y_test, order, parameters, nb_var):\n",
    "    \"\"\"\n",
    "    Train a SVM model and found best parameters\n",
    "    input:\n",
    "        - X_train, y_train, X_test, y_test: typical datasets for training a ML model\n",
    "        - order : the variables importance order\n",
    "        - parameters :\n",
    "        - nb_var : the number of feature selected for the model\n",
    "\n",
    "    output:\n",
    "        - best_params :parameters of the best model\n",
    "        - cm: confusion matrix of the best model\n",
    "        - df_res : performance of prediction results\n",
    "        - df_roc: dataframe to draw ROC curve.\n",
    "    \"\"\"\n",
    "    svc = SVC(probability=True)\n",
    "    clf = GridSearchCV(svc, parameters, cv=10, n_jobs=11)\n",
    "    clf.fit(X_train[order[0:nb_var]], y_train)\n",
    "    best_params = clf.best_params_\n",
    "    cm = pd.crosstab(y_test, clf.predict(X_test[order[0:nb_var]]))\n",
    "    TP = cm.iloc[0, 0]\n",
    "    TN = cm.iloc[1, 1]\n",
    "    FP = cm.iloc[0, 1]\n",
    "    FN = cm.iloc[1, 0]\n",
    "    accuracy = (TP + TN) / (TP + TN + FP + FN)\n",
    "    sensitivity = TP / (TP + FN) * 100\n",
    "    specificity = TN / (TN + FP) * 100\n",
    "    ppv = TP / (TP + FP) * 100\n",
    "    npv = TN / (TN + FN) * 100\n",
    "    auc = metrics.roc_auc_score(\n",
    "        y_train, clf.predict_proba(X_train[order[0:nb_var]])[:, 1]\n",
    "    )\n",
    "    fpr, tpr, thresholds = metrics.roc_curve(\n",
    "        y_train, clf.predict_proba(X_train[order[0:nb_var]])[:, 1]\n",
    "    )\n",
    "    df_roc = pd.DataFrame({\"fpr\": fpr, \"tpr\": tpr, \"thresholds\": thresholds})\n",
    "    df_res = pd.DataFrame(\n",
    "        [accuracy, sensitivity, specificity, ppv, npv, auc],\n",
    "        index=[\"acc\", \"sens\", \"spec\", \"ppv\", \"npv\", \"auc\"],\n",
    "    )\n",
    "    return (best_params, cm, df_res, df_roc)"
   ]
  },
  {
   "cell_type": "code",
   "execution_count": 4,
   "id": "533d29af",
   "metadata": {
    "ExecuteTime": {
     "end_time": "2021-09-16T09:16:53.859721Z",
     "start_time": "2021-09-16T09:16:53.853867Z"
    }
   },
   "outputs": [],
   "source": [
    "def SVM_model(X_train, y_train, X_test, y_test, order, parameters):\n",
    "    \"\"\"\n",
    "    Train SVM models with different feature size.\n",
    "    input:\n",
    "        - X_train, y_train, X_test, y_test: typical datasets for training a ML model\n",
    "        - order : the variables importance order\n",
    "        - parameters :\n",
    "\n",
    "    output:\n",
    "        - best_params :parameters of the best model\n",
    "        - df_res : performance of prediction results\n",
    "    \"\"\"\n",
    "    val = []\n",
    "    best_params = []\n",
    "    accuracy = []\n",
    "    sensitivity = []\n",
    "    specificity = []\n",
    "    ppv = []\n",
    "    npv = []\n",
    "    auc = []\n",
    "    for i in range(1, len(order) + 1):\n",
    "        svc = SVC(probability=True)\n",
    "        clf = GridSearchCV(svc, parameters, cv=10)\n",
    "        clf.fit(X_train[order[0:i]], y_train)\n",
    "        best_params.append(clf.best_params_)\n",
    "        cm = pd.crosstab(y_test, clf.predict(X_test[order[0:i]]))\n",
    "        TP = cm[0][0]\n",
    "        TN = cm[1][1]\n",
    "        FP = cm[0][1]\n",
    "        FN = cm[1][0]\n",
    "        accuracy.append((TP + TN) / (TP + TN + FP + FN))\n",
    "        sensitivity.append(TP / (TP + FN) * 100)\n",
    "        specificity.append(TN / (TN + FP) * 100)\n",
    "        ppv.append(TP / (TP + FP) * 100)\n",
    "        npv.append(TN / (TN + FN) * 100)\n",
    "        auc.append(\n",
    "            metrics.roc_auc_score(y_train, clf.predict_proba(X_train[order[0:i]])[:, 1])\n",
    "        )\n",
    "        val.append(str(i) + \"_vars\")\n",
    "    df_res = pd.DataFrame(\n",
    "        {\n",
    "            \"acc\": accuracy,\n",
    "            \"sens\": sensitivity,\n",
    "            \"spec\": specificity,\n",
    "            \"ppv\": ppv,\n",
    "            \"npv\": npv,\n",
    "            \"auc\": auc,\n",
    "        },\n",
    "        index=val,\n",
    "    )\n",
    "    return (best_params, df_res)"
   ]
  },
  {
   "cell_type": "markdown",
   "id": "e390d5d4",
   "metadata": {},
   "source": [
    "## Data loading"
   ]
  },
  {
   "cell_type": "code",
   "execution_count": 5,
   "id": "d4126aea",
   "metadata": {
    "ExecuteTime": {
     "end_time": "2021-09-16T09:16:54.476178Z",
     "start_time": "2021-09-16T09:16:54.471458Z"
    }
   },
   "outputs": [],
   "source": [
    "# Import the color df containing colors combination\n",
    "colors = pd.read_csv(\"../../color.csv\", index_col=0)"
   ]
  },
  {
   "cell_type": "code",
   "execution_count": 6,
   "id": "77cb0304",
   "metadata": {
    "ExecuteTime": {
     "end_time": "2021-09-16T09:16:54.695549Z",
     "start_time": "2021-09-16T09:16:54.689902Z"
    }
   },
   "outputs": [],
   "source": [
    "file_data = \"../../datasets/\""
   ]
  },
  {
   "cell_type": "code",
   "execution_count": 7,
   "id": "4af746e3",
   "metadata": {
    "ExecuteTime": {
     "end_time": "2021-09-16T09:16:54.986462Z",
     "start_time": "2021-09-16T09:16:54.959884Z"
    }
   },
   "outputs": [],
   "source": [
    "# we load original data and avatar data with k = 20\n",
    "data = pd.read_csv(file_data + \"WBCD/breast_cancer_wisconsin.csv\")\n",
    "data = data.drop(\"Sample_code_number\", axis=1)\n",
    "avatar = pd.read_csv(file_data + \"/WBCD/breast_cancer_wisconsin_avatarized_k20.csv\")"
   ]
  },
  {
   "cell_type": "code",
   "execution_count": 8,
   "id": "e6787e73",
   "metadata": {
    "ExecuteTime": {
     "end_time": "2021-09-16T09:16:55.471045Z",
     "start_time": "2021-09-16T09:16:55.461543Z"
    }
   },
   "outputs": [],
   "source": [
    "data.Class = data.Class.replace(2, 0)\n",
    "data.Class = data.Class.replace(4, 1)\n",
    "\n",
    "avatar.Class = avatar.Class.replace(2, 0)\n",
    "avatar.Class = avatar.Class.replace(4, 1)"
   ]
  },
  {
   "cell_type": "code",
   "execution_count": 9,
   "id": "c9a3b452",
   "metadata": {
    "ExecuteTime": {
     "end_time": "2021-09-16T09:16:55.517761Z",
     "start_time": "2021-09-16T09:16:55.515593Z"
    }
   },
   "outputs": [],
   "source": [
    "save = False"
   ]
  },
  {
   "cell_type": "markdown",
   "id": "89ce7abb",
   "metadata": {},
   "source": [
    "## Parameters"
   ]
  },
  {
   "cell_type": "code",
   "execution_count": 10,
   "id": "fd0ea208",
   "metadata": {
    "ExecuteTime": {
     "end_time": "2021-09-16T09:16:55.590520Z",
     "start_time": "2021-09-16T09:16:55.587315Z"
    }
   },
   "outputs": [],
   "source": [
    "# Parameters map for the SVM model\n",
    "map_object = map(lambda val: 2 ** val, list(range(-15, 3)))\n",
    "gamma_list = list(map_object)\n",
    "\n",
    "map_object = map(lambda val: 2 ** val, list(range(-5, 16)))\n",
    "C_list = list(map_object)\n",
    "\n",
    "logC_list = [math.log(y, 2) for y in C_list]\n",
    "\n",
    "\n",
    "parameters = {\"kernel\": [\"rbf\"], \"C\": C_list, \"gamma\": gamma_list}"
   ]
  },
  {
   "cell_type": "markdown",
   "id": "ebe1fa61",
   "metadata": {},
   "source": [
    "## Analysis computation \n",
    "\n",
    "The following cell is time consuming (more than 40 minutes), so we save the results in a dataframe.   \n",
    "Thus, the execution is not required."
   ]
  },
  {
   "cell_type": "raw",
   "id": "6a08c2e9",
   "metadata": {
    "ExecuteTime": {
     "end_time": "2021-09-15T07:39:19.520265Z",
     "start_time": "2021-09-15T07:39:03.280902Z"
    }
   },
   "source": [
    "df_scores_70 = pd.DataFrame(columns=[0, \"feature\", \"type\"])\n",
    "\n",
    "df_res_70 = pd.DataFrame(columns=[0, \"perf\", \"type\"])\n",
    "\n",
    "order_features_data = [\n",
    "    \"Bare_Nuclei\",\n",
    "    \"Uniformity_of_Cell_Shape\",\n",
    "    \"Uniformity_of_Cell_Size\",\n",
    "    \"Bland_Chromatin\",\n",
    "    \"Clump_Thickness\",\n",
    "    \"Marginal_Adhesion\",\n",
    "    \"Normal_Nucleoli\",\n",
    "    \"Single_Epithelial_Cell_Size\",\n",
    "    \"Mitoses\",\n",
    "]\n",
    "\n",
    "for seed in range(100):\n",
    "    # train test split\n",
    "    # original\n",
    "    data_X_train_70, data_X_test_30, data_y_train_70, data_y_test_30 = train_test_split(\n",
    "        data.drop(\"Class\", axis=1),\n",
    "        data.Class,\n",
    "        train_size=0.7,\n",
    "        stratify=data.Class,\n",
    "        random_state=seed,\n",
    "    )\n",
    "\n",
    "    # avatardf_res_data_70\n",
    "    (\n",
    "        avatar_X_train_70,\n",
    "        avatar_X_test_30,\n",
    "        avatar_y_train_70,\n",
    "        avatar_y_test_30,\n",
    "    ) = train_test_split(\n",
    "        avatar.drop(\"Class\", axis=1),\n",
    "        avatar.Class,\n",
    "        train_size=0.7,\n",
    "        stratify=data.Class,\n",
    "        random_state=seed,\n",
    "    )\n",
    "\n",
    "    ### Feature selection\n",
    "    df_scores_70_data = data_X_train_70.apply(\n",
    "        lambda col: f_score(col, data_y_train_70, val1=0, val2=1), axis=0\n",
    "    )\n",
    "\n",
    "    df_scores_70_data = pd.DataFrame(df_scores_70_data)\n",
    "    df_scores_70_data[\"feature\"] = df_scores_70_data.index\n",
    "    df_scores_70_data[\"type\"] = \"Original\"\n",
    "    df_scores_70_data = df_scores_70_data.reset_index(drop=True)\n",
    "\n",
    "    df_scores_70 = df_scores_70.append(df_scores_70_data, ignore_index=True)\n",
    "\n",
    "    df_scores_70_avat = avatar_X_train_70.apply(\n",
    "        lambda col: f_score(col, avatar_y_train_70, val1=0, val2=1), axis=0\n",
    "    )\n",
    "    df_scores_70_avat = pd.DataFrame(df_scores_70_avat)\n",
    "    df_scores_70_avat[\"feature\"] = df_scores_70_avat.index\n",
    "    df_scores_70_avat[\"type\"] = \"Avatar\"\n",
    "    df_scores_70_avat = df_scores_70_avat.reset_index(drop=True)\n",
    "\n",
    "    df_scores_70 = df_scores_70.append(df_scores_70_avat, ignore_index=True)\n",
    "\n",
    "    # SVM Model\n",
    "\n",
    "    (\n",
    "        best_params_data_A_70_5,\n",
    "        cm_data_A_70_5,\n",
    "        df_res_data_A_70_5,\n",
    "        df_roc_data_A_70_5,\n",
    "    ) = unique_SVM_model(\n",
    "        data_X_train_70,\n",
    "        data_y_train_70,\n",
    "        data_X_test_30,\n",
    "        data_y_test_30,\n",
    "        order_features_data,\n",
    "        parameters,\n",
    "        nb_var=5,\n",
    "    )\n",
    "    df_res_data_A_70_5 = pd.DataFrame(df_res_data_A_70_5)\n",
    "    df_res_data_A_70_5[\"perf\"] = df_res_data_A_70_5.index\n",
    "    df_res_data_A_70_5[\"type\"] = \"Original\"\n",
    "    df_res_data_A_70_5 = df_res_data_A_70_5.reset_index(drop=True)\n",
    "\n",
    "    df_res_70 = df_res_70.append(df_res_data_A_70_5, ignore_index=True)\n",
    "\n",
    "    (\n",
    "        best_params_avatar_A_70_5,\n",
    "        cm_avatar_A_70_5,\n",
    "        df_res_avatar_A_70_5,\n",
    "        df_roc_avatar_A_70_5,\n",
    "    ) = unique_SVM_model(\n",
    "        avatar_X_train_70,\n",
    "        avatar_y_train_70,\n",
    "        avatar_X_test_30,\n",
    "        avatar_y_test_30,\n",
    "        order_features_data,\n",
    "        parameters,\n",
    "        nb_var=5,\n",
    "    )\n",
    "    df_res_avatar_A_70_5 = pd.DataFrame(df_res_avatar_A_70_5)\n",
    "    df_res_avatar_A_70_5[\"perf\"] = df_res_avatar_A_70_5.index\n",
    "    df_res_avatar_A_70_5[\"type\"] = \"Avatar\"\n",
    "    df_res_avatar_A_70_5 = df_res_avatar_A_70_5.reset_index(drop=True)\n",
    "\n",
    "    df_res_70 = df_res_70.append(df_res_avatar_A_70_5, ignore_index=True)"
   ]
  },
  {
   "cell_type": "raw",
   "id": "09f5fae8",
   "metadata": {},
   "source": [
    "# Reshape dataframes results\n",
    "df_scores_70[\"feature\"] = (\n",
    "    pd.Series(df_scores_70[\"feature\"]).apply(lambda val: val.replace(\"_\", \" \")).values\n",
    ")\n",
    "df_scores_70.columns = [\"F-score\", \"feature\", \"type\"]\n"
   ]
  },
  {
   "cell_type": "code",
   "execution_count": 11,
   "id": "75cc75f4",
   "metadata": {
    "ExecuteTime": {
     "end_time": "2021-09-16T09:16:55.805647Z",
     "start_time": "2021-09-16T09:16:55.798443Z"
    }
   },
   "outputs": [],
   "source": [
    "# load results\n",
    "df_scores_70 = pd.read_csv(\"../../datasets/results_df/WBCD_f-score_variousSplit.csv\")\n",
    "df_res_70 = pd.read_csv(\"../../datasets/results_df/WBCD_perf_variousSplit.csv\")\n",
    "\n",
    "\n",
    "df_scores_70.type = df_scores_70.type.replace(\"Original\", \"Original (AUC = 0.99)\")\n",
    "df_scores_70.type = df_scores_70.type.replace(\"Avatar\", \"Avatar (AUC = 0.99)\")"
   ]
  },
  {
   "cell_type": "markdown",
   "id": "ec9e1001",
   "metadata": {},
   "source": [
    "## Graphes F-scores\n",
    "\n",
    "We are here performing the F-score figure, with confidence intervals of the mean (95%)."
   ]
  },
  {
   "cell_type": "code",
   "execution_count": 12,
   "id": "2cf262b5",
   "metadata": {
    "ExecuteTime": {
     "end_time": "2021-09-16T09:16:56.579383Z",
     "start_time": "2021-09-16T09:16:55.858713Z"
    }
   },
   "outputs": [
    {
     "data": {
      "image/png": "[encoded data removed]",
      "text/plain": [
       "<Figure size 648x432 with 1 Axes>"
      ]
     },
     "metadata": {},
     "output_type": "display_data"
    }
   ],
   "source": [
    "# Figure context\n",
    "paper_rc = {\"lines.linewidth\": 2, \"lines.markersize\": 10}\n",
    "sns.set_style(\"whitegrid\")\n",
    "sns.set_context(\"paper\", font_scale=2, rc=paper_rc)\n",
    "with plt.style.context(\"seaborn-whitegrid\"):\n",
    "    plt.rcParams[\"axes.edgecolor\"] = \"0.15\"\n",
    "    plt.rcParams[\"axes.linewidth\"] = 1.25\n",
    "    plt.rcParams[\"font.family\"] = \"sans-serif\"\n",
    "    plt.rcParams[\"font.sans-serif\"] = [\"Helvetica\"]\n",
    "\n",
    "    fig = plt.figure(figsize=(9, 6))  # create a figure object\n",
    "    ax1 = fig.add_subplot()\n",
    "\n",
    "# add barplot with confidence intervals.\n",
    "ax = sns.barplot(\n",
    "    x=\"F-score\",\n",
    "    y=\"feature\",\n",
    "    hue=\"type\",\n",
    "    data=df_scores_70,\n",
    "    order=[\n",
    "        \"Bare Nuclei\",\n",
    "        \"Uniformity of Cell Shape\",\n",
    "        \"Uniformity of Cell Size\",\n",
    "        \"Bland Chromatin\",\n",
    "        \"Clump Thickness\",\n",
    "        \"Normal Nucleoli\",\n",
    "        \"Marginal Adhesion\",\n",
    "        \"Single Epithelial Cell Size\",\n",
    "        \"Mitoses\",\n",
    "    ],\n",
    "    ci=95,\n",
    "    linewidth=1.2,\n",
    "    edgecolor=\".2\",\n",
    "    # color by avatar and original colors\n",
    "    palette=(colors.loc[\"original\", \"color\"], colors.loc[\"avatar\", \"color\"]),\n",
    ")\n",
    "\n",
    "ax.set(ylabel=\"\")\n",
    "\n",
    "plt.legend(title=\"\", loc=\"lower right\")\n",
    "\n",
    "plt.savefig(\n",
    "    \"../../figure/WBCD_f-score_70_30.svg\", bbox_inches=\"tight\", format=\"svg\", dpi=600\n",
    ")"
   ]
  },
  {
   "cell_type": "markdown",
   "id": "0d126cf0",
   "metadata": {},
   "source": [
    "## Supplemental table\n",
    "We compute prediction performance for each split for avatar and original data. \n",
    "Results are presented as a table"
   ]
  },
  {
   "cell_type": "code",
   "execution_count": 13,
   "id": "f7d41525",
   "metadata": {
    "ExecuteTime": {
     "end_time": "2021-09-16T09:16:56.614835Z",
     "start_time": "2021-09-16T09:16:56.580728Z"
    }
   },
   "outputs": [
    {
     "data": {
      "text/html": [
       "<div>\n",
       "<style scoped>\n",
       "    .dataframe tbody tr th:only-of-type {\n",
       "        vertical-align: middle;\n",
       "    }\n",
       "\n",
       "    .dataframe tbody tr th {\n",
       "        vertical-align: top;\n",
       "    }\n",
       "\n",
       "    .dataframe thead th {\n",
       "        text-align: right;\n",
       "    }\n",
       "</style>\n",
       "<table border=\"1\" class=\"dataframe\">\n",
       "  <thead>\n",
       "    <tr style=\"text-align: right;\">\n",
       "      <th></th>\n",
       "      <th>result</th>\n",
       "      <th>Avatar</th>\n",
       "      <th>Original</th>\n",
       "    </tr>\n",
       "  </thead>\n",
       "  <tbody>\n",
       "    <tr>\n",
       "      <th>0</th>\n",
       "      <td>acc</td>\n",
       "      <td>0.97 - 0.01</td>\n",
       "      <td>0.97 - 0.01</td>\n",
       "    </tr>\n",
       "    <tr>\n",
       "      <th>1</th>\n",
       "      <td>auc</td>\n",
       "      <td>1.0 - 0.0</td>\n",
       "      <td>0.99 - 0.0</td>\n",
       "    </tr>\n",
       "    <tr>\n",
       "      <th>2</th>\n",
       "      <td>npv</td>\n",
       "      <td>96.07 - 2.77</td>\n",
       "      <td>96.08 - 2.88</td>\n",
       "    </tr>\n",
       "    <tr>\n",
       "      <th>3</th>\n",
       "      <td>ppv</td>\n",
       "      <td>97.6 - 1.62</td>\n",
       "      <td>96.85 - 1.35</td>\n",
       "    </tr>\n",
       "    <tr>\n",
       "      <th>4</th>\n",
       "      <td>sens</td>\n",
       "      <td>97.87 - 1.49</td>\n",
       "      <td>97.88 - 1.51</td>\n",
       "    </tr>\n",
       "    <tr>\n",
       "      <th>5</th>\n",
       "      <td>spec</td>\n",
       "      <td>95.69 - 2.83</td>\n",
       "      <td>94.35 - 2.28</td>\n",
       "    </tr>\n",
       "  </tbody>\n",
       "</table>\n",
       "</div>"
      ],
      "text/plain": [
       "  result        Avatar      Original\n",
       "0    acc   0.97 - 0.01   0.97 - 0.01\n",
       "1    auc     1.0 - 0.0    0.99 - 0.0\n",
       "2    npv  96.07 - 2.77  96.08 - 2.88\n",
       "3    ppv   97.6 - 1.62  96.85 - 1.35\n",
       "4   sens  97.87 - 1.49  97.88 - 1.51\n",
       "5   spec  95.69 - 2.83  94.35 - 2.28"
      ]
     },
     "execution_count": 13,
     "metadata": {},
     "output_type": "execute_result"
    }
   ],
   "source": [
    "res_mean = df_res_70.groupby([\"perf\", \"type\"]).agg({\"0\": [\"mean\", \"std\"]})\n",
    "res_mean = res_mean.reset_index()\n",
    "res_mean.columns = res_mean.columns.droplevel(0)\n",
    "res_mean = res_mean.rename_axis(None, axis=1)\n",
    "res_mean.columns = [\"result\", \"type\", \"mean\", \"std\"]\n",
    "\n",
    "\n",
    "res_mean = res_mean.pivot(index=\"result\", columns=\"type\", values=[\"mean\", \"std\"])\n",
    "res_mean.columns.names = [\"calc\", \"type\"]\n",
    "res_mean = res_mean.stack(level=[0])\n",
    "res_mean =round(res_mean, 2)\n",
    "\n",
    "mean = res_mean.loc[(slice(None), 'mean'), :]\n",
    "std = res_mean.loc[(slice(None), 'std'), :]\n",
    "mean = mean.reset_index(drop = False)\n",
    "std = std.reset_index(drop = False)\n",
    "\n",
    "mean.drop(labels = [ \"calc\"], axis = 1,  inplace = True)\n",
    "std.drop(labels = [ \"calc\"], axis = 1,  inplace = True)\n",
    "\n",
    "res = pd.concat([mean, std], axis=1)\n",
    "res.columns = ['result', 'Avatar', 'Original', 'result_2', 'Avatar_std', 'Original_std']\n",
    "res.drop(labels = [ \"result_2\"], axis = 1,  inplace = True)\n",
    "\n",
    "\n",
    "res['Avatar'] = res.Avatar.astype(str) + ' - ' + res.Avatar_std.astype(str)\n",
    "res['Original'] = res.Original.astype(str) + ' - ' + res.Original_std.astype(str)\n",
    "\n",
    "res.drop(columns = [\"Avatar_std\", \"Original_std\"], inplace = True)\n",
    "res\n"
   ]
  },
  {
   "cell_type": "code",
   "execution_count": 15,
   "id": "fbfb7bde",
   "metadata": {
    "ExecuteTime": {
     "end_time": "2021-09-16T09:17:11.862276Z",
     "start_time": "2021-09-16T09:17:11.853097Z"
    }
   },
   "outputs": [],
   "source": [
    "# Save dataframe\n",
    "res.to_csv(\"../../datasets/results_df/supplemental_table_WBCD.csv\", index= False)"
   ]
  }
 ],
 "metadata": {
  "kernelspec": {
   "display_name": "Python 3 (ipykernel)",
   "language": "python",
   "name": "python3"
  },
  "language_info": {
   "codemirror_mode": {
    "name": "ipython",
    "version": 3
   },
   "file_extension": ".py",
   "mimetype": "text/x-python",
   "name": "python",
   "nbconvert_exporter": "python",
   "pygments_lexer": "ipython3",
   "version": "3.8.0"
  },
  "toc": {
   "base_numbering": 1,
   "nav_menu": {},
   "number_sections": true,
   "sideBar": true,
   "skip_h1_title": false,
   "title_cell": "Table of Contents",
   "title_sidebar": "Contents",
   "toc_cell": false,
   "toc_position": {},
   "toc_section_display": true,
   "toc_window_display": true
  }
 },
 "nbformat": 4,
 "nbformat_minor": 5
}
