{
 "cells": [
  {
   "cell_type": "markdown",
   "id": "d450a542",
   "metadata": {},
   "source": [
    "# WBCD dataset: Features selection and prediction"
   ]
  },
  {
   "cell_type": "markdown",
   "id": "5adfc3e1",
   "metadata": {},
   "source": [
    "On this notebook, we presented the Python code to display the figure 2d and the X supplemental table of the article [lien_papier].  \n",
    "The methodology was inspired by the following article:  \n",
    "Akay, F. (2009). Support vector machines combined with feature selection for breast cancer diagnosis. *Expert Systems with Applications*, 36(2), p. 3240-3247\n",
    "\n",
    "To test the performances of the original and the avatarized datasets, we performed 100 different train/test 70/30 splits with the same stratification.\n",
    "\n",
    "For each split : \n",
    "- We computed F-scores for each feature with the f_score function.\n",
    "- We trained a SVM model with the 5 best features selected."
   ]
  },
  {
   "cell_type": "markdown",
   "id": "159d1d3b",
   "metadata": {},
   "source": [
    "## Packages importation"
   ]
  },
  {
   "cell_type": "code",
   "execution_count": 3,
   "id": "3b121956",
   "metadata": {
    "ExecuteTime": {
     "end_time": "2021-09-16T09:16:53.836638Z",
     "start_time": "2021-09-16T09:16:53.190402Z"
    }
   },
   "outputs": [],
   "source": [
    "# General packages required\n",
    "import numpy as np\n",
    "import pandas as pd\n",
    "import os\n",
    "import sys\n",
    "from datetime import date\n",
    "import time\n",
    "import math\n",
    "\n",
    "# Graphical display packages\n",
    "import matplotlib.pyplot as plt\n",
    "from matplotlib import use\n",
    "import seaborn as sns\n",
    "\n",
    "# Machine Learning tools packages\n",
    "from sklearn.svm import SVC\n",
    "from sklearn.model_selection import train_test_split\n",
    "from sklearn.model_selection import GridSearchCV\n",
    "from sklearn.model_selection import cross_val_score\n",
    "from sklearn import metrics"
   ]
  },
  {
   "cell_type": "markdown",
   "id": "353b3b5f",
   "metadata": {},
   "source": [
    "## Specific functions created"
   ]
  },
  {
   "cell_type": "code",
   "execution_count": 4,
   "id": "98b22106",
   "metadata": {
    "ExecuteTime": {
     "end_time": "2021-09-16T09:16:53.842956Z",
     "start_time": "2021-09-16T09:16:53.837728Z"
    }
   },
   "outputs": [],
   "source": [
    "def f_score(X, y, val1 = 2, val2 = 4):\n",
    "    \"\"\"\n",
    "    Computation of F-score for each feature.\n",
    "    Input:\n",
    "        - X is the feature\n",
    "        - y is the ouput variable\n",
    "        - val1 and val2 are the two modalities taken by y\n",
    "\n",
    "    Output:\n",
    "        - F-score of the variable X compared to y\n",
    "    \"\"\"\n",
    "    X1 = X[y == val1]\n",
    "    X2 = X[y == val2]\n",
    "    mean_X = X.mean()\n",
    "    mean_X1 = X1.mean()\n",
    "    mean_X2 = X2.mean()\n",
    "    n_X1 = len(X1)\n",
    "    n_X2 = len(X2)\n",
    "    sum_X1 = ((X1 - mean_X1) ** 2).sum()\n",
    "    sum_X2 = ((X2 - mean_X2) ** 2).sum()\n",
    "    return(\n",
    "        ((mean_X1 - mean_X) ** 2 + (mean_X2 - mean_X) ** 2) / (((1 / (n_X1 - 1)) * sum_X1) + ((1 / (n_X2 - 1)) * sum_X2))\n",
    "    )"
   ]
  },
  {
   "cell_type": "code",
   "execution_count": 5,
   "id": "50bc2717",
   "metadata": {
    "ExecuteTime": {
     "end_time": "2021-09-16T09:16:53.852387Z",
     "start_time": "2021-09-16T09:16:53.843996Z"
    }
   },
   "outputs": [],
   "source": [
    "def unique_SVM_model(X_train, y_train, X_test, y_test, order, parameters, nb_var):\n",
    "    \"\"\"\n",
    "    Train a SVM model by founding the best parameters and returns evaluation metrics.\n",
    "    Input:\n",
    "        - X_train, y_train, X_test, y_test: train/test datasets to train the SVM model\n",
    "        - order: vector of features' order resulting from F-scores' calculation\n",
    "        - parameters: set of parameters to test to have the best parameters in the ML model\n",
    "        - nb_var: number of features selected for the model\n",
    "\n",
    "    Output:\n",
    "        - best_params: parameters used to compute the best model\n",
    "        - cm: confusion matrix of the best model\n",
    "        - df_res: dataframe with performance metrics of the best model\n",
    "        - df_roc: dataframe to draw the ROC curve of the best model\n",
    "    \"\"\"\n",
    "    svc = SVC(probability = True)\n",
    "    clf = GridSearchCV(svc, parameters, cv = 10, n_jobs = 11)\n",
    "    clf.fit(X_train[order[0:nb_var]], y_train)\n",
    "    best_params = clf.best_params_\n",
    "    cm = pd.crosstab(y_test, clf.predict(X_test[order[0:nb_var]]))\n",
    "    TP = cm.iloc[0, 0]\n",
    "    TN = cm.iloc[1, 1]\n",
    "    FP = cm.iloc[0, 1]\n",
    "    FN = cm.iloc[1, 0]\n",
    "    accuracy = (TP + TN) / (TP + TN + FP + FN)\n",
    "    sensitivity = TP / (TP + FN) * 100\n",
    "    specificity = TN / (TN + FP) * 100\n",
    "    ppv = TP / (TP + FP) * 100\n",
    "    npv = TN / (TN + FN) * 100\n",
    "    auc = metrics.roc_auc_score(\n",
    "        y_train, clf.predict_proba(X_train[order[0:nb_var]])[:, 1]\n",
    "    )\n",
    "    fpr, tpr, thresholds = metrics.roc_curve(\n",
    "        y_train, clf.predict_proba(X_train[order[0:nb_var]])[:, 1]\n",
    "    )\n",
    "    df_roc = pd.DataFrame({\"fpr\": fpr, \"tpr\": tpr, \"thresholds\": thresholds})\n",
    "    df_res = pd.DataFrame(\n",
    "        [accuracy, sensitivity, specificity, ppv, npv, auc],\n",
    "        index=[\"acc\", \"sens\", \"spec\", \"ppv\", \"npv\", \"auc\"]\n",
    "    )\n",
    "    return(best_params, cm, df_res, df_roc)"
   ]
  },
  {
   "cell_type": "code",
   "execution_count": 6,
   "id": "533d29af",
   "metadata": {
    "ExecuteTime": {
     "end_time": "2021-09-16T09:16:53.859721Z",
     "start_time": "2021-09-16T09:16:53.853867Z"
    }
   },
   "outputs": [],
   "source": [
    "def SVM_model(X_train, y_train, X_test, y_test, order, parameters):\n",
    "    \"\"\"\n",
    "    Train SVM models with different features size.\n",
    "    Input:\n",
    "        - X_train, y_train, X_test, y_test: train/test datasets to train the SVM model\n",
    "        - order: vector of features' order resulting from F-scores' calculation\n",
    "        - parameters: set of parameters to test to have the best parameters in the ML model\n",
    "\n",
    "    Output:\n",
    "        - best_params: parameters used to compute the best model at each iteration\n",
    "        - df_res: dataframe with performance metrics of the best model at each iteration\n",
    "    \"\"\"\n",
    "    val = []\n",
    "    best_params = []\n",
    "    accuracy = []\n",
    "    sensitivity = []\n",
    "    specificity = []\n",
    "    ppv = []\n",
    "    npv = []\n",
    "    auc = []\n",
    "    for i in range(1, len(order) + 1):\n",
    "        svc = SVC(probability = True)\n",
    "        clf = GridSearchCV(svc, parameters, cv = 10)\n",
    "        clf.fit(X_train[order[0:i]], y_train)\n",
    "        best_params.append(clf.best_params_)\n",
    "        cm = pd.crosstab(y_test, clf.predict(X_test[order[0:i]]))\n",
    "        TP = cm[0][0]\n",
    "        TN = cm[1][1]\n",
    "        FP = cm[0][1]\n",
    "        FN = cm[1][0]\n",
    "        accuracy.append((TP + TN) / (TP + TN + FP + FN))\n",
    "        sensitivity.append(TP / (TP + FN) * 100)\n",
    "        specificity.append(TN / (TN + FP) * 100)\n",
    "        ppv.append(TP / (TP + FP) * 100)\n",
    "        npv.append(TN / (TN + FN) * 100)\n",
    "        auc.append(\n",
    "            metrics.roc_auc_score(y_train, clf.predict_proba(X_train[order[0:i]])[:, 1])\n",
    "        )\n",
    "        val.append(str(i) + \"_vars\")\n",
    "    df_res = pd.DataFrame(\n",
    "        {\n",
    "            \"acc\": accuracy,\n",
    "            \"sens\": sensitivity,\n",
    "            \"spec\": specificity,\n",
    "            \"ppv\": ppv,\n",
    "            \"npv\": npv,\n",
    "            \"auc\": auc,\n",
    "        },\n",
    "        index = val\n",
    "    )\n",
    "    return (best_params, df_res)"
   ]
  },
  {
   "cell_type": "markdown",
   "id": "e390d5d4",
   "metadata": {},
   "source": [
    "## Data loading"
   ]
  },
  {
   "cell_type": "code",
   "execution_count": 7,
   "id": "d4126aea",
   "metadata": {
    "ExecuteTime": {
     "end_time": "2021-09-16T09:16:54.476178Z",
     "start_time": "2021-09-16T09:16:54.471458Z"
    }
   },
   "outputs": [],
   "source": [
    "# Import the color df containing colors combination\n",
    "colors = pd.read_csv(\"../../color.csv\", index_col = 0)"
   ]
  },
  {
   "cell_type": "code",
   "execution_count": 8,
   "id": "77cb0304",
   "metadata": {
    "ExecuteTime": {
     "end_time": "2021-09-16T09:16:54.695549Z",
     "start_time": "2021-09-16T09:16:54.689902Z"
    }
   },
   "outputs": [],
   "source": [
    "file_data = \"../../datasets/\""
   ]
  },
  {
   "cell_type": "code",
   "execution_count": 9,
   "id": "4af746e3",
   "metadata": {
    "ExecuteTime": {
     "end_time": "2021-09-16T09:16:54.986462Z",
     "start_time": "2021-09-16T09:16:54.959884Z"
    }
   },
   "outputs": [],
   "source": [
    "# we load original data and avatar data with k = 20\n",
    "data = pd.read_csv(file_data + \"WBCD/breast_cancer_wisconsin.csv\")\n",
    "data = data.drop(\"Sample_code_number\", axis = 1)\n",
    "avatar = pd.read_csv(file_data + \"/WBCD/breast_cancer_wisconsin_avatarized_k20.csv\")"
   ]
  },
  {
   "cell_type": "code",
   "execution_count": 10,
   "id": "e6787e73",
   "metadata": {
    "ExecuteTime": {
     "end_time": "2021-09-16T09:16:55.471045Z",
     "start_time": "2021-09-16T09:16:55.461543Z"
    }
   },
   "outputs": [],
   "source": [
    "data.Class = data.Class.replace(2, 0)\n",
    "data.Class = data.Class.replace(4, 1)\n",
    "\n",
    "avatar.Class = avatar.Class.replace(2, 0)\n",
    "avatar.Class = avatar.Class.replace(4, 1)"
   ]
  },
  {
   "cell_type": "code",
   "execution_count": 11,
   "id": "c9a3b452",
   "metadata": {
    "ExecuteTime": {
     "end_time": "2021-09-16T09:16:55.517761Z",
     "start_time": "2021-09-16T09:16:55.515593Z"
    }
   },
   "outputs": [],
   "source": [
    "save = False"
   ]
  },
  {
   "cell_type": "markdown",
   "id": "89ce7abb",
   "metadata": {},
   "source": [
    "## Parameters"
   ]
  },
  {
   "cell_type": "code",
   "execution_count": 10,
   "id": "fd0ea208",
   "metadata": {
    "ExecuteTime": {
     "end_time": "2021-09-16T09:16:55.590520Z",
     "start_time": "2021-09-16T09:16:55.587315Z"
    }
   },
   "outputs": [],
   "source": [
    "# Parameters map for the SVM model\n",
    "map_object = map(lambda val: 2 ** val, list(range(-15, 3)))\n",
    "gamma_list = list(map_object)\n",
    "\n",
    "map_object = map(lambda val: 2 ** val, list(range(-5, 16)))\n",
    "C_list = list(map_object)\n",
    "\n",
    "logC_list = [math.log(y, 2) for y in C_list]\n",
    "\n",
    "\n",
    "parameters = {\"kernel\": [\"rbf\"], \"C\": C_list, \"gamma\": gamma_list}"
   ]
  },
  {
   "cell_type": "markdown",
   "id": "8e64e594",
   "metadata": {},
   "source": [
    "## Analysis computation "
   ]
  },
  {
   "cell_type": "markdown",
   "id": "ebe1fa61",
   "metadata": {},
   "source": [
    "The following cell is time consuming (more than 40 minutes).\n",
    "To simplify the access to the paper figures, we saved the results obtained at the end of the following function in a dataframe that you can load after this cell.   \n",
    "Thus, the execution is not required.\n",
    "If you still want to compute it, change the variable **compute** from *False* to *True* at the first line of the cell."
   ]
  },
  {
   "cell_type": "code",
   "execution_count": 12,
   "id": "c2b374bd",
   "metadata": {
    "ExecuteTime": {
     "end_time": "2021-09-15T07:39:19.520265Z",
     "start_time": "2021-09-15T07:39:03.280902Z"
    }
   },
   "outputs": [],
   "source": [
    "compute = False\n",
    "\n",
    "if compute:\n",
    "    df_scores_70 = pd.DataFrame(columns = [0, \"feature\", \"type\"])\n",
    "\n",
    "    df_res_70 = pd.DataFrame(columns = [0, \"perf\", \"type\"])\n",
    "\n",
    "    order_features_data = [\n",
    "        \"Bare_Nuclei\",\n",
    "        \"Uniformity_of_Cell_Shape\",\n",
    "        \"Uniformity_of_Cell_Size\",\n",
    "        \"Bland_Chromatin\",\n",
    "        \"Clump_Thickness\",\n",
    "        \"Marginal_Adhesion\",\n",
    "        \"Normal_Nucleoli\",\n",
    "        \"Single_Epithelial_Cell_Size\",\n",
    "        \"Mitoses\",\n",
    "    ]\n",
    "\n",
    "    for seed in range(100):\n",
    "        # Train/test split of original dataset\n",
    "        data_X_train_70, data_X_test_30, data_y_train_70, data_y_test_30 = train_test_split(\n",
    "            data.drop(\"Class\", axis = 1),\n",
    "            data.Class,\n",
    "            train_size = 0.7,\n",
    "            stratify = data.Class,\n",
    "            random_state = seed,\n",
    "        )\n",
    "\n",
    "        # Train/test split of avatarized dataset\n",
    "        (avatar_X_train_70, avatar_X_test_30, avatar_y_train_70, avatar_y_test_30) = train_test_split(avatar.drop(\"Class\", axis = 1),\n",
    "                                                                                                      avatar.Class,\n",
    "                                                                                                      train_size = 0.7,\n",
    "                                                                                                      stratify = data.Class,\n",
    "                                                                                                      random_state = seed)\n",
    "\n",
    "        # Feature selection for original data\n",
    "        df_scores_70_data = data_X_train_70.apply(\n",
    "            lambda col: f_score(col, data_y_train_70, val1 = 0, val2 = 1), axis = 0\n",
    "        )\n",
    "        df_scores_70_data = pd.DataFrame(df_scores_70_data)\n",
    "        df_scores_70_data[\"feature\"] = df_scores_70_data.index\n",
    "        df_scores_70_data[\"type\"] = \"Original\"\n",
    "        df_scores_70_data = df_scores_70_data.reset_index(drop = True)\n",
    "        \n",
    "        df_scores_70 = df_scores_70.append(df_scores_70_data, ignore_index = True)\n",
    "        \n",
    "        # Feature selection for avatarized data\n",
    "        df_scores_70_avat = avatar_X_train_70.apply(\n",
    "            lambda col: f_score(col, avatar_y_train_70, val1 = 0, val2 = 1), axis = 0\n",
    "        )\n",
    "        df_scores_70_avat = pd.DataFrame(df_scores_70_avat)\n",
    "        df_scores_70_avat[\"feature\"] = df_scores_70_avat.index\n",
    "        df_scores_70_avat[\"type\"] = \"Avatar\"\n",
    "        df_scores_70_avat = df_scores_70_avat.reset_index(drop = True)\n",
    "        \n",
    "        df_scores_70 = df_scores_70.append(df_scores_70_avat, ignore_index = True)\n",
    "\n",
    "        # SVM Model for original data\n",
    "        (best_params_data_A_70_5, cm_data_A_70_5, df_res_data_A_70_5, df_roc_data_A_70_5) = unique_SVM_model(data_X_train_70,\n",
    "                                                                                                             data_y_train_70,\n",
    "                                                                                                             data_X_test_30,\n",
    "                                                                                                             data_y_test_30,\n",
    "                                                                                                             order_features_data,\n",
    "                                                                                                             parameters,\n",
    "                                                                                                             nb_var = 5)\n",
    "        df_res_data_A_70_5 = pd.DataFrame(df_res_data_A_70_5)\n",
    "        df_res_data_A_70_5[\"perf\"] = df_res_data_A_70_5.index\n",
    "        df_res_data_A_70_5[\"type\"] = \"Original\"\n",
    "        df_res_data_A_70_5 = df_res_data_A_70_5.reset_index(drop = True)\n",
    "\n",
    "        df_res_70 = df_res_70.append(df_res_data_A_70_5, ignore_index = True)\n",
    "        \n",
    "        # SVM Model for avatarized data\n",
    "        (best_params_avatar_A_70_5, cm_avatar_A_70_5, df_res_avatar_A_70_5, df_roc_avatar_A_70_5) = unique_SVM_model(avatar_X_train_70,\n",
    "                                                                                                                     avatar_y_train_70,\n",
    "                                                                                                                     avatar_X_test_30,\n",
    "                                                                                                                     avatar_y_test_30,\n",
    "                                                                                                                     order_features_data,\n",
    "                                                                                                                     parameters,\n",
    "                                                                                                                     nb_var = 5)\n",
    "        df_res_avatar_A_70_5 = pd.DataFrame(df_res_avatar_A_70_5)\n",
    "        df_res_avatar_A_70_5[\"perf\"] = df_res_avatar_A_70_5.index\n",
    "        df_res_avatar_A_70_5[\"type\"] = \"Avatar\"\n",
    "        df_res_avatar_A_70_5 = df_res_avatar_A_70_5.reset_index(drop = True)\n",
    "\n",
    "        df_res_70 = df_res_70.append(df_res_avatar_A_70_5, ignore_index = True)\n",
    "\n",
    "    # Reshape of dataframesresults\n",
    "    df_scores_70[\"feature\"] = (\n",
    "        pd.Series(df_scores_70[\"feature\"]).apply(lambda val: val.replace(\"_\", \" \")).values\n",
    "    )\n",
    "    df_scores_70.columns = [\"F-score\", \"feature\", \"type\"]"
   ]
  },
  {
   "cell_type": "code",
   "execution_count": 13,
   "id": "75cc75f4",
   "metadata": {
    "ExecuteTime": {
     "end_time": "2021-09-16T09:16:55.805647Z",
     "start_time": "2021-09-16T09:16:55.798443Z"
    }
   },
   "outputs": [],
   "source": [
    "if compute == False:\n",
    "    # load results\n",
    "    df_scores_70 = pd.read_csv(\"../../datasets/results_df/WBCD_f-score_variousSplit.csv\")\n",
    "    df_res_70 = pd.read_csv(\"../../datasets/results_df/WBCD_perf_variousSplit.csv\")\n",
    "\n",
    "    df_scores_70.type = df_scores_70.type.replace(\"Original\", \"Original (AUC = 0.99)\")\n",
    "    df_scores_70.type = df_scores_70.type.replace(\"Avatar\", \"Avatar (AUC = 0.99)\")"
   ]
  },
  {
   "cell_type": "markdown",
   "id": "ec9e1001",
   "metadata": {},
   "source": [
    "## Graphes F-scores\n",
    "\n",
    "We are here performing the F-score figure, with confidence intervals of the mean (95%)."
   ]
  },
  {
   "cell_type": "code",
   "execution_count": 23,
   "id": "2cf262b5",
   "metadata": {
    "ExecuteTime": {
     "end_time": "2021-09-16T09:16:56.579383Z",
     "start_time": "2021-09-16T09:16:55.858713Z"
    }
   },
   "outputs": [
    {
     "data": {
      "image/png": "[encoded data removed]",
      "text/plain": [
       "<Figure size 648x432 with 1 Axes>"
      ]
     },
     "metadata": {},
     "output_type": "display_data"
    }
   ],
   "source": [
    "# Figure context\n",
    "paper_rc = {\"lines.linewidth\": 2, \"lines.markersize\": 10}\n",
    "sns.set_style(\"whitegrid\")\n",
    "sns.set_context(\"paper\", font_scale = 2, rc = paper_rc)\n",
    "with plt.style.context(\"seaborn-whitegrid\"):\n",
    "    plt.rcParams[\"axes.edgecolor\"] = \"0.15\"\n",
    "    plt.rcParams[\"axes.linewidth\"] = 1.25\n",
    "    plt.rcParams[\"font.family\"] = \"sans-serif\"\n",
    "    plt.rcParams[\"font.sans-serif\"] = [\"Helvetica\"]\n",
    "\n",
    "    fig = plt.figure(figsize = (9, 6))  # create a figure object\n",
    "    ax1 = fig.add_subplot()\n",
    "\n",
    "# add barplot with confidence intervals.\n",
    "ax = sns.barplot(\n",
    "    x = \"F-score\",\n",
    "    y = \"feature\",\n",
    "    hue = \"type\",\n",
    "    data = df_scores_70,\n",
    "    order = [\n",
    "        \"Bare Nuclei\",\n",
    "        \"Uniformity of Cell Shape\",\n",
    "        \"Uniformity of Cell Size\",\n",
    "        \"Bland Chromatin\",\n",
    "        \"Clump Thickness\",\n",
    "        \"Normal Nucleoli\",\n",
    "        \"Marginal Adhesion\",\n",
    "        \"Single Epithelial Cell Size\",\n",
    "        \"Mitoses\",\n",
    "    ],\n",
    "    ci = 95,\n",
    "    linewidth = 1.2,\n",
    "    edgecolor = \".2\",\n",
    "    # color by avatar and original colors\n",
    "    palette = (colors.loc[\"original\", \"color\"], colors.loc[\"avatar\", \"color\"]),\n",
    ")\n",
    "\n",
    "ax.set(ylabel = \"\")\n",
    "plt.legend(title = \"\", loc = \"lower right\");\n",
    "\n",
    "#plt.savefig(\n",
    "#    \"../../figure/WBCD_f-score_70_30.svg\", bbox_inches = \"tight\", format = \"svg\", dpi = 600\n",
    "#)"
   ]
  },
  {
   "cell_type": "markdown",
   "id": "0d126cf0",
   "metadata": {},
   "source": [
    "## Supplemental table\n",
    "We compute prediction performance for each split for avatar and original data. \n",
    "Results are presented as a table"
   ]
  },
  {
   "cell_type": "code",
   "execution_count": 21,
   "id": "f7d41525",
   "metadata": {
    "ExecuteTime": {
     "end_time": "2021-09-16T09:16:56.614835Z",
     "start_time": "2021-09-16T09:16:56.580728Z"
    }
   },
   "outputs": [
    {
     "data": {
      "text/html": [
       "<div>\n",
       "<style scoped>\n",
       "    .dataframe tbody tr th:only-of-type {\n",
       "        vertical-align: middle;\n",
       "    }\n",
       "\n",
       "    .dataframe tbody tr th {\n",
       "        vertical-align: top;\n",
       "    }\n",
       "\n",
       "    .dataframe thead th {\n",
       "        text-align: right;\n",
       "    }\n",
       "</style>\n",
       "<table border=\"1\" class=\"dataframe\">\n",
       "  <thead>\n",
       "    <tr style=\"text-align: right;\">\n",
       "      <th></th>\n",
       "      <th>Metric</th>\n",
       "      <th>Avatar</th>\n",
       "      <th>Original</th>\n",
       "    </tr>\n",
       "  </thead>\n",
       "  <tbody>\n",
       "    <tr>\n",
       "      <th>0</th>\n",
       "      <td>acc</td>\n",
       "      <td>0.97 (± 0.01)</td>\n",
       "      <td>0.97 (± 0.01)</td>\n",
       "    </tr>\n",
       "    <tr>\n",
       "      <th>1</th>\n",
       "      <td>auc</td>\n",
       "      <td>1.0 (± 0.0)</td>\n",
       "      <td>0.99 (± 0.0)</td>\n",
       "    </tr>\n",
       "    <tr>\n",
       "      <th>2</th>\n",
       "      <td>npv</td>\n",
       "      <td>96.07 (± 2.77)</td>\n",
       "      <td>96.08 (± 2.88)</td>\n",
       "    </tr>\n",
       "    <tr>\n",
       "      <th>3</th>\n",
       "      <td>ppv</td>\n",
       "      <td>97.6 (± 1.62)</td>\n",
       "      <td>96.85 (± 1.35)</td>\n",
       "    </tr>\n",
       "    <tr>\n",
       "      <th>4</th>\n",
       "      <td>sens</td>\n",
       "      <td>97.87 (± 1.49)</td>\n",
       "      <td>97.88 (± 1.51)</td>\n",
       "    </tr>\n",
       "    <tr>\n",
       "      <th>5</th>\n",
       "      <td>spec</td>\n",
       "      <td>95.69 (± 2.83)</td>\n",
       "      <td>94.35 (± 2.28)</td>\n",
       "    </tr>\n",
       "  </tbody>\n",
       "</table>\n",
       "</div>"
      ],
      "text/plain": [
       "  Metric          Avatar        Original\n",
       "0    acc   0.97 (± 0.01)   0.97 (± 0.01)\n",
       "1    auc     1.0 (± 0.0)    0.99 (± 0.0)\n",
       "2    npv  96.07 (± 2.77)  96.08 (± 2.88)\n",
       "3    ppv   97.6 (± 1.62)  96.85 (± 1.35)\n",
       "4   sens  97.87 (± 1.49)  97.88 (± 1.51)\n",
       "5   spec  95.69 (± 2.83)  94.35 (± 2.28)"
      ]
     },
     "execution_count": 21,
     "metadata": {},
     "output_type": "execute_result"
    }
   ],
   "source": [
    "res_mean = df_res_70.groupby([\"perf\", \"type\"]).agg({\"0\": [\"mean\", \"std\"]})\n",
    "res_mean = res_mean.reset_index()\n",
    "res_mean.columns = res_mean.columns.droplevel(0)\n",
    "res_mean = res_mean.rename_axis(None, axis = 1)\n",
    "res_mean.columns = [\"result\", \"type\", \"mean\", \"std\"]\n",
    "\n",
    "res_mean = res_mean.pivot(index = \"result\", columns=\"type\", values = [\"mean\", \"std\"])\n",
    "res_mean.columns.names = [\"calc\", \"type\"]\n",
    "res_mean = res_mean.stack(level = [0])\n",
    "res_mean = round(res_mean, 2)\n",
    "\n",
    "mean = res_mean.loc[(slice(None), 'mean'), :]\n",
    "std = res_mean.loc[(slice(None), 'std'), :]\n",
    "mean = mean.reset_index(drop = False)\n",
    "std = std.reset_index(drop = False)\n",
    "\n",
    "mean.drop(labels = [\"calc\"], axis = 1,  inplace = True)\n",
    "std.drop(labels = [\"calc\"], axis = 1,  inplace = True)\n",
    "\n",
    "res = pd.concat([mean, std], axis = 1)\n",
    "res.columns = ['Metric', 'Avatar', 'Original', 'result_2', 'Avatar_std', 'Original_std']\n",
    "res.drop(labels = [ \"result_2\"], axis = 1,  inplace = True)\n",
    "\n",
    "\n",
    "res['Avatar'] = res.Avatar.astype(str) + ' (\\u00B1 ' + res.Avatar_std.astype(str) + ')'\n",
    "res['Original'] = res.Original.astype(str) + ' (\\u00B1 ' + res.Original_std.astype(str) + ')'\n",
    "\n",
    "res.drop(columns = [\"Avatar_std\", \"Original_std\"], inplace = True)\n",
    "res\n"
   ]
  }
 ],
 "metadata": {
  "kernelspec": {
   "display_name": "Python 3 (ipykernel)",
   "language": "python",
   "name": "python3"
  },
  "language_info": {
   "codemirror_mode": {
    "name": "ipython",
    "version": 3
   },
   "file_extension": ".py",
   "mimetype": "text/x-python",
   "name": "python",
   "nbconvert_exporter": "python",
   "pygments_lexer": "ipython3",
   "version": "3.9.5"
  },
  "toc": {
   "base_numbering": 1,
   "nav_menu": {},
   "number_sections": true,
   "sideBar": true,
   "skip_h1_title": false,
   "title_cell": "Table of Contents",
   "title_sidebar": "Contents",
   "toc_cell": false,
   "toc_position": {},
   "toc_section_display": true,
   "toc_window_display": true
  }
 },
 "nbformat": 4,
 "nbformat_minor": 5
}
