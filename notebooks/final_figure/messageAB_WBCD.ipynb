{
 "cells": [
  {
   "cell_type": "markdown",
   "id": "f33f68ba",
   "metadata": {},
   "source": [
    "# WBCD dataset: Multidimensional reduction comparison between Original and Avatar data and protection metrics evaluation\n",
    "\n",
    "On this notebook, we present R code to display figures 2b, 3b and 3d  of the article [lien_papier].\n",
    "The Avatar selected to be compared to the original dataset is the one built on the parameter k = 20.\n",
    "\n",
    "Two properties of the Avatar method are examined: \n",
    "- 1 - Structural similarity observed with an FAMD (Factor Analysis for Mixed Data) projection of an Avatar on the two first components of FAMD of the Original dataset. \n",
    "- 2 - Protection level with the computation of local cloaking and hidden rate metrics.\n",
    "\n",
    "Code regarding feature selection and cancer diagnosis prediction is shown on the Python notebook `messageA_WBCD_python.ipynb`. The F-score and AUROC comparison are presented there."
   ]
  },
  {
   "cell_type": "markdown",
   "id": "5c86a9c2",
   "metadata": {},
   "source": [
    "## Libraries import"
   ]
  },
  {
   "cell_type": "code",
   "execution_count": 1,
   "id": "1dc51579",
   "metadata": {
    "ExecuteTime": {
     "end_time": "2021-11-08T10:55:01.083514Z",
     "start_time": "2021-11-08T10:54:59.347Z"
    },
    "scrolled": true
   },
   "outputs": [
    {
     "name": "stderr",
     "output_type": "stream",
     "text": [
      "Warning message:\n",
      "\"package 'tidyverse' was built under R version 3.6.3\"\n",
      "-- \u001b[1mAttaching packages\u001b[22m ------------------------------------------------------------------------------- tidyverse 1.3.1 --\n",
      "\n",
      "\u001b[32mv\u001b[39m \u001b[34mggplot2\u001b[39m 3.3.3     \u001b[32mv\u001b[39m \u001b[34mpurrr  \u001b[39m 0.3.4\n",
      "\u001b[32mv\u001b[39m \u001b[34mtibble \u001b[39m 3.1.1     \u001b[32mv\u001b[39m \u001b[34mdplyr  \u001b[39m 1.0.6\n",
      "\u001b[32mv\u001b[39m \u001b[34mtidyr  \u001b[39m 1.1.3     \u001b[32mv\u001b[39m \u001b[34mstringr\u001b[39m 1.4.0\n",
      "\u001b[32mv\u001b[39m \u001b[34mreadr  \u001b[39m 1.4.0     \u001b[32mv\u001b[39m \u001b[34mforcats\u001b[39m 0.5.1\n",
      "\n",
      "Warning message:\n",
      "\"package 'ggplot2' was built under R version 3.6.3\"\n",
      "Warning message:\n",
      "\"package 'tibble' was built under R version 3.6.3\"\n",
      "Warning message:\n",
      "\"package 'tidyr' was built under R version 3.6.3\"\n",
      "Warning message:\n",
      "\"package 'readr' was built under R version 3.6.3\"\n",
      "Warning message:\n",
      "\"package 'purrr' was built under R version 3.6.3\"\n",
      "Warning message:\n",
      "\"package 'dplyr' was built under R version 3.6.3\"\n",
      "Warning message:\n",
      "\"package 'stringr' was built under R version 3.6.3\"\n",
      "Warning message:\n",
      "\"package 'forcats' was built under R version 3.6.3\"\n",
      "-- \u001b[1mConflicts\u001b[22m ---------------------------------------------------------------------------------- tidyverse_conflicts() --\n",
      "\u001b[31mx\u001b[39m \u001b[34mdplyr\u001b[39m::\u001b[32mfilter()\u001b[39m masks \u001b[34mstats\u001b[39m::filter()\n",
      "\u001b[31mx\u001b[39m \u001b[34mdplyr\u001b[39m::\u001b[32mlag()\u001b[39m    masks \u001b[34mstats\u001b[39m::lag()\n",
      "\n",
      "Warning message:\n",
      "\"package 'reshape2' was built under R version 3.6.3\"\n",
      "\n",
      "Attaching package: 'reshape2'\n",
      "\n",
      "\n",
      "The following object is masked from 'package:tidyr':\n",
      "\n",
      "    smiths\n",
      "\n",
      "\n",
      "Warning message:\n",
      "\"package 'mice' was built under R version 3.6.3\"\n",
      "\n",
      "Attaching package: 'mice'\n",
      "\n",
      "\n",
      "The following object is masked from 'package:stats':\n",
      "\n",
      "    filter\n",
      "\n",
      "\n",
      "The following objects are masked from 'package:base':\n",
      "\n",
      "    cbind, rbind\n",
      "\n",
      "\n",
      "Warning message:\n",
      "\"package 'reticulate' was built under R version 3.6.3\"\n",
      "Warning message:\n",
      "\"package 'FactoMineR' was built under R version 3.6.3\"\n",
      "Warning message:\n",
      "\"package 'survival' was built under R version 3.6.3\"\n",
      "Warning message:\n",
      "\"package 'survminer' was built under R version 3.6.3\"\n",
      "Loading required package: ggpubr\n",
      "\n",
      "Warning message:\n",
      "\"package 'ggpubr' was built under R version 3.6.3\"\n"
     ]
    }
   ],
   "source": [
    "# Main libraries\n",
    "library(tidyverse)\n",
    "library(reshape2)\n",
    "library(mice)\n",
    "\n",
    "# Library to use Python with R\n",
    "library(reticulate)\n",
    "\n",
    "# Multidimensionnal reduction method libary\n",
    "library(FactoMineR)\n",
    "\n",
    "# Survival analysis libraries\n",
    "library(survival)\n",
    "library(survminer)"
   ]
  },
  {
   "cell_type": "code",
   "execution_count": 2,
   "id": "563069d1",
   "metadata": {
    "ExecuteTime": {
     "end_time": "2021-11-08T10:55:02.551514Z",
     "start_time": "2021-11-08T10:54:59.800Z"
    }
   },
   "outputs": [],
   "source": [
    "# import specific function to compute metrics \n",
    "py_run_string(\"import sys\")\n",
    "py_run_string(\"sys.path.append('../..')\")\n",
    "py_run_string(\"from lsg.security_metrics.security_metrics_class import Security_metrics \")\n",
    "py_run_string(\"from lsg.dimension.projection import Projection\")\n",
    "py_run_string(\"from lsg.security_metrics.record_to_avatar_distance import record_to_avatar_distance\")\n",
    "py_run_string(\"from lsg.security_metrics.local_cloaking import local_cloaking\")"
   ]
  },
  {
   "cell_type": "markdown",
   "id": "eb86c5af",
   "metadata": {},
   "source": [
    "## Data loading"
   ]
  },
  {
   "cell_type": "code",
   "execution_count": 3,
   "id": "9c1ec15f",
   "metadata": {
    "ExecuteTime": {
     "end_time": "2021-11-08T10:55:02.570054Z",
     "start_time": "2021-11-08T10:55:00.025Z"
    }
   },
   "outputs": [],
   "source": [
    "data <- read.csv(\"../../datasets/WBCD/breast_cancer_wisconsin.csv\", sep = \",\", na.strings = c(\"NA\", \"\", NA))\n",
    "data <- data[, -1]\n",
    "avatar <- read.csv(\"../../datasets/WBCD/breast_cancer_wisconsin_avatarized_k20.csv\", sep = \",\", na.strings = c(\"NA\", \"\", NA))\n",
    "\n",
    "avatar$Class <- as_factor(avatar$Class)\n",
    "data$Class <- as_factor(data$Class)"
   ]
  },
  {
   "cell_type": "markdown",
   "id": "1ebf5b05",
   "metadata": {},
   "source": [
    "## Graphical parameters"
   ]
  },
  {
   "cell_type": "code",
   "execution_count": 4,
   "id": "88b5189b",
   "metadata": {
    "ExecuteTime": {
     "end_time": "2021-11-08T10:55:01.192959Z",
     "start_time": "2021-11-08T10:54:59.600Z"
    }
   },
   "outputs": [],
   "source": [
    "colors <- read.csv(\"../../color.csv\", stringsAsFactors = FALSE)\n",
    "rownames(colors) <- colors$type"
   ]
  },
  {
   "cell_type": "code",
   "execution_count": 5,
   "id": "f4412de0",
   "metadata": {},
   "outputs": [],
   "source": [
    "axis_title_size <- 16\n",
    "axis_text_size <- 15\n",
    "legend_text_size <- 16\n",
    "legend_title_size <- 16"
   ]
  },
  {
   "cell_type": "markdown",
   "id": "7a7504b0",
   "metadata": {},
   "source": [
    "## FAMD projection\n",
    "\n",
    "\n",
    "We are here printing the mutlidimensionnal projection on the two first components of the FAMD (Factor analysis for mixed data).\n",
    "\n",
    "Individuals are colored by data sources. The original ones are in orange and the avatars in green."
   ]
  },
  {
   "cell_type": "code",
   "execution_count": 6,
   "id": "1d8917cf",
   "metadata": {
    "ExecuteTime": {
     "end_time": "2021-11-08T10:55:02.581088Z",
     "start_time": "2021-11-08T10:55:00.472Z"
    }
   },
   "outputs": [],
   "source": [
    "# Merge of datasets \n",
    "data_tot <- rbind(data, avatar)"
   ]
  },
  {
   "cell_type": "code",
   "execution_count": 7,
   "id": "14a849ed",
   "metadata": {
    "ExecuteTime": {
     "end_time": "2021-11-08T14:36:56.035153Z",
     "start_time": "2021-11-08T14:36:55.992Z"
    }
   },
   "outputs": [],
   "source": [
    "# Perform FAMD with avatar as supplemental indivudals\n",
    "famd <- FAMD(data_tot, ncp = 5, graph = FALSE, ind.sup = (nrow(data_tot)/2 +1):nrow(data_tot))\n",
    "res_ind <- as.data.frame(famd$ind$coord)\n",
    "res_ind_sup <- as.data.frame(famd$ind.sup$coord)\n",
    "res_ind['type'] <- 'Original'\n",
    "res_ind_sup['type'] <- 'Avatar'\n",
    "res_ind_tot <- rbind(res_ind, res_ind_sup)\n",
    "\n",
    "set.seed(43)\n",
    "rows <- sample(nrow(res_ind_tot))\n",
    "res_ind_tot <- res_ind_tot[rows,]"
   ]
  },
  {
   "cell_type": "code",
   "execution_count": 8,
   "id": "1a6708fa",
   "metadata": {
    "ExecuteTime": {
     "end_time": "2021-11-08T14:36:56.702935Z",
     "start_time": "2021-11-08T14:36:56.229Z"
    }
   },
   "outputs": [
    {
     "data": {
      "image/png": "[encoded data removed]",
      "text/plain": [
       "plot without title"
      ]
     },
     "metadata": {
      "image/png": {
       "height": 420,
       "width": 600
      }
     },
     "output_type": "display_data"
    }
   ],
   "source": [
    "options(repr.plot.width = 10, repr.plot.height = 7)\n",
    "plot <- ggplot(res_ind_tot, aes(x = Dim.1, y = Dim.2, fill = type)) +\n",
    "    # add points\n",
    "    geom_point(size = 3, shape = 21, alpha = 1) +\n",
    "    # fill according data source\n",
    "    aes(fill = factor(type)) +\n",
    "    scale_fill_manual(values = c(colors[\"avatar\",\"color\"], colors[\"original\",\"color\"])) +\n",
    "    # add axis label with exlplained variability\n",
    "    xlab(paste0(\"Dim. 1 (\", round(famd$eig[1,2], 2) ,\"%)\")) +\n",
    "    ylab(paste0(\"Dim. 2 (\", round(famd$eig[2,2], 2) ,\"%)\")) +\n",
    "    ylim(c(-2.6,5.3)) + \n",
    "    # theme and figure details\n",
    "    theme_bw() +\n",
    "    theme(legend.position = c(0.9, 0.12), \n",
    "          legend.title = element_blank(),\n",
    "          legend.key.size = unit(0.8, \"cm\"),\n",
    "          legend.text = element_text(size = legend_text_size, color = \"black\", family = \"sans\"),\n",
    "          axis.text = element_text(size =  axis_text_size, color = \"black\", family = \"sans\"),\n",
    "          axis.title = element_text(size = axis_title_size, color = \"black\", family = \"sans\"))\n",
    "\n",
    "plot\n",
    "\n",
    "#ggsave(file=\"../../figure/WBCD_pca_2D.svg\", plot=plot, width=10, height=7, dpi = 320)"
   ]
  },
  {
   "cell_type": "markdown",
   "id": "9eacd69c",
   "metadata": {},
   "source": [
    "## Protection level: metrics   \n",
    "\n",
    "This section provides the computation of protection metrics: local cloaking and hidden rate."
   ]
  },
  {
   "cell_type": "markdown",
   "id": "b96bac06",
   "metadata": {},
   "source": [
    "### Local cloaking distribution figure\n",
    "\n",
    "We first compute metrics, which need the security metrics specifique functions.   \n",
    "Then, we displayed the distribution of the local cloaking."
   ]
  },
  {
   "cell_type": "code",
   "execution_count": 9,
   "id": "eb4e6ece",
   "metadata": {
    "ExecuteTime": {
     "end_time": "2021-11-08T10:55:07.473315Z",
     "start_time": "2021-11-08T10:55:05.794Z"
    }
   },
   "outputs": [],
   "source": [
    "metrics <- py$Security_metrics()\n",
    "metrics$fit(data, avatar, nf = 2L)"
   ]
  },
  {
   "cell_type": "code",
   "execution_count": 10,
   "id": "e52a19ad",
   "metadata": {
    "ExecuteTime": {
     "end_time": "2021-11-08T10:55:07.482565Z",
     "start_time": "2021-11-08T10:55:06.224Z"
    }
   },
   "outputs": [],
   "source": [
    "df_local_cloaking <- data.frame(metrics$local_cloaking[\"hit_counts\"])\n",
    "color_vector <- c(rep(\"#c14f4f\", 2), rep(colors['avatar', 'color'], 50))"
   ]
  },
  {
   "cell_type": "code",
   "execution_count": 11,
   "id": "a5554bcd",
   "metadata": {
    "ExecuteTime": {
     "end_time": "2021-11-08T12:42:06.347904Z",
     "start_time": "2021-11-08T12:41:57.208Z"
    },
    "scrolled": false
   },
   "outputs": [
    {
     "name": "stderr",
     "output_type": "stream",
     "text": [
      "Warning message:\n",
      "\"Removed 131 rows containing non-finite values (stat_bin).\"\n",
      "Warning message:\n",
      "\"Removed 131 rows containing non-finite values (stat_density).\"\n",
      "Warning message:\n",
      "\"Removed 2 rows containing missing values (geom_bar).\"\n"
     ]
    },
    {
     "data": {
      "image/png": "[encoded data removed]",
      "text/plain": [
       "plot without title"
      ]
     },
     "metadata": {
      "image/png": {
       "height": 420,
       "width": 600
      }
     },
     "output_type": "display_data"
    }
   ],
   "source": [
    "intersect_median_density <- 10.1\n",
    "options(repr.plot.width = 10, repr.plot.height = 7)\n",
    "\n",
    "plot <- ggplot(df_local_cloaking, aes(hit_counts.1)) +\n",
    "    # add histogram and density\n",
    "    geom_histogram(bins = 52, fill = color_vector, \n",
    "                   color = \"#1D1D1B\") +\n",
    "    geom_density(aes(y = ..count..), lwd = 1, color = \"#1D1D1B\") +\n",
    "    # theme and axis\n",
    "    xlim(c(-1,100)) +\n",
    "    theme_minimal() +\n",
    "    xlab(\"Local cloaking\") +\n",
    "    ylab(\"Number of individuals\") +\n",
    "    theme(axis.title = element_text(size = axis_title_size, family = \"sans\", face = \"bold\"),\n",
    "          axis.text = element_text(size = axis_text_size, family = \"sans\"),\n",
    "          axis.line = element_line(colour = \"black\", \n",
    "                                   size = 0.8, \n",
    "                                   linetype = \"solid\", \n",
    "                                   arrow = arrow(type='closed', length = unit(5,'pt')))) +\n",
    "\n",
    "    # add arrow and text \n",
    "    geom_segment(aes(x = median(hit_counts.1),\n",
    "                     y = 0, xend = median(hit_counts.1),\n",
    "                     yend = intersect_median_density), \n",
    "                 color = '#1D1D1B', size = 2) +\n",
    "\n",
    "    # median arrow and text\n",
    "    geom_segment(aes(x = median(hit_counts.1) + 25,\n",
    "                     y = intersect_median_density + 20, \n",
    "                     xend = median(hit_counts.1),\n",
    "                     yend = intersect_median_density), \n",
    "                 color = '#1D1D1B', size = 0.8, \n",
    "                 arrow = arrow(type='closed', length = unit(10, 'pt'))) +\n",
    "    geom_label(aes(x =  median(hit_counts.1) + 33.5, \n",
    "                   y =  intersect_median_density + 22,\n",
    "                   label =paste0(\"Median = \", median(hit_counts.1))), \n",
    "               size = 6, \n",
    "               family = \"sans\", \n",
    "               label.size = NA) + \n",
    "\n",
    "    # hidden rate arrow and text \n",
    "    geom_segment(aes(x = median(hit_counts.1) + 25, \n",
    "                     y = intersect_median_density + 30, \n",
    "                     xend = 0, \n",
    "                     yend = sum(df_local_cloaking[,1] == 0) - 1), \n",
    "                 color = '#1D1D1B', size = 0.8, \n",
    "                 arrow = arrow(type='closed', length = unit(10,'pt'))) +\n",
    "    geom_label(aes(x =  median(hit_counts.1) + 38, \n",
    "                   y = intersect_median_density + 32,\n",
    "                   label = paste0(\"Hidden rate = \", round(metrics$hidden_rate, 0), \" %\")), \n",
    "               size = 6, \n",
    "               family = \"sans\", \n",
    "               label.size = NA) +\n",
    "    \n",
    "    scale_color_manual(name = \"statistics\", values = c(median = \"red\"))\n",
    "\n",
    "\n",
    "plot \n",
    "\n",
    "#ggsave(file=\"../../figure/WBCD_local_cloaking.svg\", plot=plot, width=8, height=5, dpi = 320)"
   ]
  },
  {
   "cell_type": "markdown",
   "id": "8eddba64",
   "metadata": {},
   "source": [
    "###  Zero cloaking over 25 avatarizations\n",
    "\n",
    "To test the protection level of the Avatar method, we computed 25 avatars with k = 20 and looked at the number time that local clocking is equal to 0."
   ]
  },
  {
   "cell_type": "code",
   "execution_count": 12,
   "id": "5e70d38d",
   "metadata": {
    "ExecuteTime": {
     "end_time": "2021-11-08T13:49:00.039738Z",
     "start_time": "2021-11-08T13:48:58.963Z"
    }
   },
   "outputs": [],
   "source": [
    "avatar_tot <- read.csv('../../datasets/WBCD/wbcd_avatarized_25time_k20_nf_2.csv')\n",
    "avatar_tot[\"Class\"] <- lapply(avatar_tot[\"Class\"], factor)\n",
    "pr <- py$Projection()\n",
    "coord_original <- pr$fit_transform(data, nf = 2L)[[1]]"
   ]
  },
  {
   "cell_type": "code",
   "execution_count": 13,
   "id": "a34f1612",
   "metadata": {
    "ExecuteTime": {
     "end_time": "2021-11-08T13:49:13.347115Z",
     "start_time": "2021-11-08T13:48:59.452Z"
    },
    "scrolled": true
   },
   "outputs": [],
   "source": [
    "df_local_cloaking_k2 <- data.frame(row.names = 1:nrow(data))\n",
    "for (k in unique(avatar_tot$iter)) {\n",
    "    avatar <- avatar_tot[avatar_tot$iter == k,]\n",
    "    coord_avatar <- pr$transform(avatar[, 1:(ncol(avatar) - 1)])\n",
    "    distances <- py$record_to_avatar_distance(coord_original, coord_avatar)\n",
    "    local_cloaking <- py$local_cloaking(coord_original, coord_avatar, distances)\n",
    "    df_local_cloaking_k2[paste0(\"local_cloaking_\", k)] <- local_cloaking$hit_counts[, 1]\n",
    "}"
   ]
  },
  {
   "cell_type": "code",
   "execution_count": 14,
   "id": "98ae5551",
   "metadata": {},
   "outputs": [],
   "source": [
    "df_local_cloaking_k2_LC0 <- as.data.frame(table(rowSums(df_local_cloaking_k2 == 0)))\n",
    "df_local_cloaking_k2_LC0[\"Freq2\"] <- paste0(formatC(df_local_cloaking_k2_LC0$Freq/sum(df_local_cloaking_k2_LC0$Freq)*100, format = \"f\", digits = 1), \"%\")"
   ]
  },
  {
   "cell_type": "code",
   "execution_count": 15,
   "id": "abd3f773",
   "metadata": {
    "ExecuteTime": {
     "end_time": "2021-11-08T13:59:12.449981Z",
     "start_time": "2021-11-08T13:59:12.181Z"
    }
   },
   "outputs": [
    {
     "data": {
      "image/png": "[encoded data removed]",
      "text/plain": [
       "plot without title"
      ]
     },
     "metadata": {
      "image/png": {
       "height": 420,
       "width": 600
      }
     },
     "output_type": "display_data"
    }
   ],
   "source": [
    "options(repr.plot.width = 10, repr.plot.height = 7)\n",
    "plot <- ggplot(df_local_cloaking_k2_LC0, aes(x = Var1, y = Freq)) +\n",
    "    # histogram\n",
    "    geom_bar(fill = colors[\"original\", \"color\"], colour = \"black\", show.legend = FALSE, stat = \"identity\") + \n",
    "    # adding percentage as text on each bar\n",
    "    geom_text(aes(label = sprintf('%.1f%%', after_stat(df_local_cloaking_k2_LC0$Freq / sum(df_local_cloaking_k2_LC0$Freq) * 100))),\n",
    "              vjust = -0.5, size = 5) +\n",
    "    # axis and theme \n",
    "    ylab(\"Number of individuals\") + \n",
    "    xlab(\"Number of local cloaking at zero over 25 avatarizations\") +\n",
    "    theme_minimal() +\n",
    "    theme(axis.title = element_text(size = axis_title_size, family = \"sans\"),\n",
    "          axis.text = element_text(size = axis_text_size, family = \"sans\"),\n",
    "          axis.line = element_line(colour = \"black\", \n",
    "                                   size = 0.5, \n",
    "                                   linetype = \"solid\", \n",
    "                                   arrow = arrow(type = 'closed', length = unit(5,'pt')))) +\n",
    "    scale_x_discrete(breaks = c(\"0\", \"1\", \"2\", \"3\", \"4\", \"\\U2265 5\"), limits = c(\"0\", \"1\", \"2\", \"3\", \"4\", \"\\U2265 5\"))\n",
    "plot \n",
    "\n",
    "#ggsave(file=\"../../figure/WBCD_zeroCloaking_percentage.svg\", plot=plot, width=10, height=7, dpi = 320)"
   ]
  }
 ],
 "metadata": {
  "kernelspec": {
   "display_name": "R",
   "language": "R",
   "name": "ir"
  },
  "language_info": {
   "codemirror_mode": "r",
   "file_extension": ".r",
   "mimetype": "text/x-r-source",
   "name": "R",
   "pygments_lexer": "r",
   "version": "3.6.1"
  },
  "toc": {
   "base_numbering": 1,
   "nav_menu": {},
   "number_sections": true,
   "sideBar": true,
   "skip_h1_title": false,
   "title_cell": "Table of Contents",
   "title_sidebar": "Contents",
   "toc_cell": false,
   "toc_position": {
    "height": "calc(100% - 180px)",
    "left": "10px",
    "top": "150px",
    "width": "165px"
   },
   "toc_section_display": true,
   "toc_window_display": true
  }
 },
 "nbformat": 4,
 "nbformat_minor": 5
}
