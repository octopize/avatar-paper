{
 "cells": [
  {
   "cell_type": "markdown",
   "metadata": {},
   "source": [
    "# AIDS dataset: Degeneration effect - repeated avatarization\n",
    "\n",
    "In order to look at the effect of an avatarization, we repeat the avatarization on an avatar dataset with `k = 20`.  \n",
    "\n",
    "This notebook displays avatarization results of the AIDS dataset over iterations.  \n",
    "To visualize the results, we displayed the FAMD projections in the original data space of avatars."
   ]
  },
  {
   "cell_type": "markdown",
   "metadata": {},
   "source": [
    "## Packages import "
   ]
  },
  {
   "cell_type": "code",
   "execution_count": 6,
   "metadata": {
    "ExecuteTime": {
     "end_time": "2021-12-21T16:27:47.789703Z",
     "start_time": "2021-12-21T16:27:46.858901Z"
    }
   },
   "outputs": [],
   "source": [
    "# Main importation\n",
    "import pandas as pd\n",
    "import seaborn as sns\n",
    "from matplotlib import patches, pyplot as plt\n",
    "from matplotlib.cm import ScalarMappable\n",
    "import numpy as np\n",
    "from matplotlib.patches import Patch\n",
    "import sys\n",
    "import saiph\n",
    "\n",
    "# Imputation function import \n",
    "from sklearn.impute import KNNImputer\n",
    "\n"
   ]
  },
  {
   "cell_type": "markdown",
   "metadata": {},
   "source": [
    "##  Loading"
   ]
  },
  {
   "cell_type": "code",
   "execution_count": 7,
   "metadata": {
    "ExecuteTime": {
     "end_time": "2021-12-21T16:27:48.699285Z",
     "start_time": "2021-12-21T16:27:48.639550Z"
    }
   },
   "outputs": [],
   "source": [
    "df = pd.read_csv(\"../../datasets/AIDS/aids_original_data.csv\", sep = \";\")\n",
    "df.drop(columns = \"pidnum\", inplace = True)\n",
    "\n",
    "categorical_val = []\n",
    "continous_val = []\n",
    "for column in df.columns :\n",
    "    if len(df[column].unique()) <= 10:\n",
    "        categorical_val.append(column)\n",
    "    else:\n",
    "        continous_val.append(column)\n",
    "\n",
    "df[categorical_val] = df[categorical_val].astype(\"category\")"
   ]
  },
  {
   "cell_type": "code",
   "execution_count": 13,
   "metadata": {},
   "outputs": [
    {
     "ename": "ReadError",
     "evalue": "not a bzip2 file",
     "output_type": "error",
     "traceback": [
      "\u001b[0;31m---------------------------------------------------------------------------\u001b[0m",
      "\u001b[0;31mOSError\u001b[0m                                   Traceback (most recent call last)",
      "File \u001b[0;32m/usr/lib/python3.9/tarfile.py:1710\u001b[0m, in \u001b[0;36mTarFile.bz2open\u001b[0;34m(cls, name, mode, fileobj, compresslevel, **kwargs)\u001b[0m\n\u001b[1;32m   1709\u001b[0m \u001b[38;5;28;01mtry\u001b[39;00m:\n\u001b[0;32m-> 1710\u001b[0m     t \u001b[38;5;241m=\u001b[39m \u001b[38;5;28;43mcls\u001b[39;49m\u001b[38;5;241;43m.\u001b[39;49m\u001b[43mtaropen\u001b[49m\u001b[43m(\u001b[49m\u001b[43mname\u001b[49m\u001b[43m,\u001b[49m\u001b[43m \u001b[49m\u001b[43mmode\u001b[49m\u001b[43m,\u001b[49m\u001b[43m \u001b[49m\u001b[43mfileobj\u001b[49m\u001b[43m,\u001b[49m\u001b[43m \u001b[49m\u001b[38;5;241;43m*\u001b[39;49m\u001b[38;5;241;43m*\u001b[39;49m\u001b[43mkwargs\u001b[49m\u001b[43m)\u001b[49m\n\u001b[1;32m   1711\u001b[0m \u001b[38;5;28;01mexcept\u001b[39;00m (\u001b[38;5;167;01mOSError\u001b[39;00m, \u001b[38;5;167;01mEOFError\u001b[39;00m):\n",
      "File \u001b[0;32m/usr/lib/python3.9/tarfile.py:1659\u001b[0m, in \u001b[0;36mTarFile.taropen\u001b[0;34m(cls, name, mode, fileobj, **kwargs)\u001b[0m\n\u001b[1;32m   1658\u001b[0m     \u001b[38;5;28;01mraise\u001b[39;00m \u001b[38;5;167;01mValueError\u001b[39;00m(\u001b[38;5;124m\"\u001b[39m\u001b[38;5;124mmode must be \u001b[39m\u001b[38;5;124m'\u001b[39m\u001b[38;5;124mr\u001b[39m\u001b[38;5;124m'\u001b[39m\u001b[38;5;124m, \u001b[39m\u001b[38;5;124m'\u001b[39m\u001b[38;5;124ma\u001b[39m\u001b[38;5;124m'\u001b[39m\u001b[38;5;124m, \u001b[39m\u001b[38;5;124m'\u001b[39m\u001b[38;5;124mw\u001b[39m\u001b[38;5;124m'\u001b[39m\u001b[38;5;124m or \u001b[39m\u001b[38;5;124m'\u001b[39m\u001b[38;5;124mx\u001b[39m\u001b[38;5;124m'\u001b[39m\u001b[38;5;124m\"\u001b[39m)\n\u001b[0;32m-> 1659\u001b[0m \u001b[38;5;28;01mreturn\u001b[39;00m \u001b[38;5;28;43mcls\u001b[39;49m\u001b[43m(\u001b[49m\u001b[43mname\u001b[49m\u001b[43m,\u001b[49m\u001b[43m \u001b[49m\u001b[43mmode\u001b[49m\u001b[43m,\u001b[49m\u001b[43m \u001b[49m\u001b[43mfileobj\u001b[49m\u001b[43m,\u001b[49m\u001b[43m \u001b[49m\u001b[38;5;241;43m*\u001b[39;49m\u001b[38;5;241;43m*\u001b[39;49m\u001b[43mkwargs\u001b[49m\u001b[43m)\u001b[49m\n",
      "File \u001b[0;32m/usr/lib/python3.9/tarfile.py:1522\u001b[0m, in \u001b[0;36mTarFile.__init__\u001b[0;34m(self, name, mode, fileobj, format, tarinfo, dereference, ignore_zeros, encoding, errors, pax_headers, debug, errorlevel, copybufsize)\u001b[0m\n\u001b[1;32m   1521\u001b[0m     \u001b[38;5;28mself\u001b[39m\u001b[38;5;241m.\u001b[39mfirstmember \u001b[38;5;241m=\u001b[39m \u001b[38;5;28;01mNone\u001b[39;00m\n\u001b[0;32m-> 1522\u001b[0m     \u001b[38;5;28mself\u001b[39m\u001b[38;5;241m.\u001b[39mfirstmember \u001b[38;5;241m=\u001b[39m \u001b[38;5;28;43mself\u001b[39;49m\u001b[38;5;241;43m.\u001b[39;49m\u001b[43mnext\u001b[49m\u001b[43m(\u001b[49m\u001b[43m)\u001b[49m\n\u001b[1;32m   1524\u001b[0m \u001b[38;5;28;01mif\u001b[39;00m \u001b[38;5;28mself\u001b[39m\u001b[38;5;241m.\u001b[39mmode \u001b[38;5;241m==\u001b[39m \u001b[38;5;124m\"\u001b[39m\u001b[38;5;124ma\u001b[39m\u001b[38;5;124m\"\u001b[39m:\n\u001b[1;32m   1525\u001b[0m     \u001b[38;5;66;03m# Move to the end of the archive,\u001b[39;00m\n\u001b[1;32m   1526\u001b[0m     \u001b[38;5;66;03m# before the first empty block.\u001b[39;00m\n",
      "File \u001b[0;32m/usr/lib/python3.9/tarfile.py:2327\u001b[0m, in \u001b[0;36mTarFile.next\u001b[0;34m(self)\u001b[0m\n\u001b[1;32m   2326\u001b[0m \u001b[38;5;28;01mtry\u001b[39;00m:\n\u001b[0;32m-> 2327\u001b[0m     tarinfo \u001b[38;5;241m=\u001b[39m \u001b[38;5;28;43mself\u001b[39;49m\u001b[38;5;241;43m.\u001b[39;49m\u001b[43mtarinfo\u001b[49m\u001b[38;5;241;43m.\u001b[39;49m\u001b[43mfromtarfile\u001b[49m\u001b[43m(\u001b[49m\u001b[38;5;28;43mself\u001b[39;49m\u001b[43m)\u001b[49m\n\u001b[1;32m   2328\u001b[0m \u001b[38;5;28;01mexcept\u001b[39;00m EOFHeaderError \u001b[38;5;28;01mas\u001b[39;00m e:\n",
      "File \u001b[0;32m/usr/lib/python3.9/tarfile.py:1112\u001b[0m, in \u001b[0;36mTarInfo.fromtarfile\u001b[0;34m(cls, tarfile)\u001b[0m\n\u001b[1;32m   1109\u001b[0m \u001b[38;5;124;03m\"\"\"Return the next TarInfo object from TarFile object\u001b[39;00m\n\u001b[1;32m   1110\u001b[0m \u001b[38;5;124;03m   tarfile.\u001b[39;00m\n\u001b[1;32m   1111\u001b[0m \u001b[38;5;124;03m\"\"\"\u001b[39;00m\n\u001b[0;32m-> 1112\u001b[0m buf \u001b[38;5;241m=\u001b[39m \u001b[43mtarfile\u001b[49m\u001b[38;5;241;43m.\u001b[39;49m\u001b[43mfileobj\u001b[49m\u001b[38;5;241;43m.\u001b[39;49m\u001b[43mread\u001b[49m\u001b[43m(\u001b[49m\u001b[43mBLOCKSIZE\u001b[49m\u001b[43m)\u001b[49m\n\u001b[1;32m   1113\u001b[0m obj \u001b[38;5;241m=\u001b[39m \u001b[38;5;28mcls\u001b[39m\u001b[38;5;241m.\u001b[39mfrombuf(buf, tarfile\u001b[38;5;241m.\u001b[39mencoding, tarfile\u001b[38;5;241m.\u001b[39merrors)\n",
      "File \u001b[0;32m/usr/lib/python3.9/bz2.py:171\u001b[0m, in \u001b[0;36mBZ2File.read\u001b[0;34m(self, size)\u001b[0m\n\u001b[1;32m    170\u001b[0m \u001b[38;5;28mself\u001b[39m\u001b[38;5;241m.\u001b[39m_check_can_read()\n\u001b[0;32m--> 171\u001b[0m \u001b[38;5;28;01mreturn\u001b[39;00m \u001b[38;5;28;43mself\u001b[39;49m\u001b[38;5;241;43m.\u001b[39;49m\u001b[43m_buffer\u001b[49m\u001b[38;5;241;43m.\u001b[39;49m\u001b[43mread\u001b[49m\u001b[43m(\u001b[49m\u001b[43msize\u001b[49m\u001b[43m)\u001b[49m\n",
      "File \u001b[0;32m/usr/lib/python3.9/_compression.py:68\u001b[0m, in \u001b[0;36mDecompressReader.readinto\u001b[0;34m(self, b)\u001b[0m\n\u001b[1;32m     67\u001b[0m \u001b[38;5;28;01mwith\u001b[39;00m \u001b[38;5;28mmemoryview\u001b[39m(b) \u001b[38;5;28;01mas\u001b[39;00m view, view\u001b[38;5;241m.\u001b[39mcast(\u001b[38;5;124m\"\u001b[39m\u001b[38;5;124mB\u001b[39m\u001b[38;5;124m\"\u001b[39m) \u001b[38;5;28;01mas\u001b[39;00m byte_view:\n\u001b[0;32m---> 68\u001b[0m     data \u001b[38;5;241m=\u001b[39m \u001b[38;5;28;43mself\u001b[39;49m\u001b[38;5;241;43m.\u001b[39;49m\u001b[43mread\u001b[49m\u001b[43m(\u001b[49m\u001b[38;5;28;43mlen\u001b[39;49m\u001b[43m(\u001b[49m\u001b[43mbyte_view\u001b[49m\u001b[43m)\u001b[49m\u001b[43m)\u001b[49m\n\u001b[1;32m     69\u001b[0m     byte_view[:\u001b[38;5;28mlen\u001b[39m(data)] \u001b[38;5;241m=\u001b[39m data\n",
      "File \u001b[0;32m/usr/lib/python3.9/_compression.py:103\u001b[0m, in \u001b[0;36mDecompressReader.read\u001b[0;34m(self, size)\u001b[0m\n\u001b[1;32m    102\u001b[0m         rawblock \u001b[38;5;241m=\u001b[39m \u001b[38;5;124mb\u001b[39m\u001b[38;5;124m\"\u001b[39m\u001b[38;5;124m\"\u001b[39m\n\u001b[0;32m--> 103\u001b[0m     data \u001b[38;5;241m=\u001b[39m \u001b[38;5;28;43mself\u001b[39;49m\u001b[38;5;241;43m.\u001b[39;49m\u001b[43m_decompressor\u001b[49m\u001b[38;5;241;43m.\u001b[39;49m\u001b[43mdecompress\u001b[49m\u001b[43m(\u001b[49m\u001b[43mrawblock\u001b[49m\u001b[43m,\u001b[49m\u001b[43m \u001b[49m\u001b[43msize\u001b[49m\u001b[43m)\u001b[49m\n\u001b[1;32m    104\u001b[0m \u001b[38;5;28;01mif\u001b[39;00m data:\n",
      "\u001b[0;31mOSError\u001b[0m: Invalid data stream",
      "\nDuring handling of the above exception, another exception occurred:\n",
      "\u001b[0;31mReadError\u001b[0m                                 Traceback (most recent call last)",
      "Input \u001b[0;32mIn [13]\u001b[0m, in \u001b[0;36m<cell line: 2>\u001b[0;34m()\u001b[0m\n\u001b[1;32m      1\u001b[0m \u001b[38;5;28;01mimport\u001b[39;00m \u001b[38;5;21;01mtarfile\u001b[39;00m\n\u001b[0;32m----> 2\u001b[0m tar \u001b[38;5;241m=\u001b[39m \u001b[43mtarfile\u001b[49m\u001b[38;5;241;43m.\u001b[39;49m\u001b[43mopen\u001b[49m\u001b[43m(\u001b[49m\u001b[38;5;124;43m\"\u001b[39;49m\u001b[38;5;124;43m../../datasets/messageD/aids.csv.tar.bz2\u001b[39;49m\u001b[38;5;124;43m\"\u001b[39;49m\u001b[43m,\u001b[49m\u001b[43m \u001b[49m\u001b[38;5;124;43m\"\u001b[39;49m\u001b[38;5;124;43mr:bz2\u001b[39;49m\u001b[38;5;124;43m\"\u001b[39;49m\u001b[43m)\u001b[49m  \n\u001b[1;32m      3\u001b[0m tar\u001b[38;5;241m.\u001b[39mextractall()\n\u001b[1;32m      4\u001b[0m tar\u001b[38;5;241m.\u001b[39mclose()\n",
      "File \u001b[0;32m/usr/lib/python3.9/tarfile.py:1629\u001b[0m, in \u001b[0;36mTarFile.open\u001b[0;34m(cls, name, mode, fileobj, bufsize, **kwargs)\u001b[0m\n\u001b[1;32m   1627\u001b[0m     \u001b[38;5;28;01melse\u001b[39;00m:\n\u001b[1;32m   1628\u001b[0m         \u001b[38;5;28;01mraise\u001b[39;00m CompressionError(\u001b[38;5;124m\"\u001b[39m\u001b[38;5;124munknown compression type \u001b[39m\u001b[38;5;132;01m%r\u001b[39;00m\u001b[38;5;124m\"\u001b[39m \u001b[38;5;241m%\u001b[39m comptype)\n\u001b[0;32m-> 1629\u001b[0m     \u001b[38;5;28;01mreturn\u001b[39;00m \u001b[43mfunc\u001b[49m\u001b[43m(\u001b[49m\u001b[43mname\u001b[49m\u001b[43m,\u001b[49m\u001b[43m \u001b[49m\u001b[43mfilemode\u001b[49m\u001b[43m,\u001b[49m\u001b[43m \u001b[49m\u001b[43mfileobj\u001b[49m\u001b[43m,\u001b[49m\u001b[43m \u001b[49m\u001b[38;5;241;43m*\u001b[39;49m\u001b[38;5;241;43m*\u001b[39;49m\u001b[43mkwargs\u001b[49m\u001b[43m)\u001b[49m\n\u001b[1;32m   1631\u001b[0m \u001b[38;5;28;01melif\u001b[39;00m \u001b[38;5;124m\"\u001b[39m\u001b[38;5;124m|\u001b[39m\u001b[38;5;124m\"\u001b[39m \u001b[38;5;129;01min\u001b[39;00m mode:\n\u001b[1;32m   1632\u001b[0m     filemode, comptype \u001b[38;5;241m=\u001b[39m mode\u001b[38;5;241m.\u001b[39msplit(\u001b[38;5;124m\"\u001b[39m\u001b[38;5;124m|\u001b[39m\u001b[38;5;124m\"\u001b[39m, \u001b[38;5;241m1\u001b[39m)\n",
      "File \u001b[0;32m/usr/lib/python3.9/tarfile.py:1714\u001b[0m, in \u001b[0;36mTarFile.bz2open\u001b[0;34m(cls, name, mode, fileobj, compresslevel, **kwargs)\u001b[0m\n\u001b[1;32m   1712\u001b[0m     fileobj\u001b[38;5;241m.\u001b[39mclose()\n\u001b[1;32m   1713\u001b[0m     \u001b[38;5;28;01mif\u001b[39;00m mode \u001b[38;5;241m==\u001b[39m \u001b[38;5;124m'\u001b[39m\u001b[38;5;124mr\u001b[39m\u001b[38;5;124m'\u001b[39m:\n\u001b[0;32m-> 1714\u001b[0m         \u001b[38;5;28;01mraise\u001b[39;00m ReadError(\u001b[38;5;124m\"\u001b[39m\u001b[38;5;124mnot a bzip2 file\u001b[39m\u001b[38;5;124m\"\u001b[39m)\n\u001b[1;32m   1715\u001b[0m     \u001b[38;5;28;01mraise\u001b[39;00m\n\u001b[1;32m   1716\u001b[0m \u001b[38;5;28;01mexcept\u001b[39;00m:\n",
      "\u001b[0;31mReadError\u001b[0m: not a bzip2 file"
     ]
    }
   ],
   "source": [
    "import tarfile\n",
    "tar = tarfile.open(\"../../datasets/messageD/aids.csv.tar.bz2\", \"r:bz2\")  \n",
    "tar.extractall()\n",
    "tar.close()"
   ]
  },
  {
   "cell_type": "code",
   "execution_count": 12,
   "metadata": {
    "ExecuteTime": {
     "end_time": "2021-12-21T16:27:53.461295Z",
     "start_time": "2021-12-21T16:27:52.631326Z"
    }
   },
   "outputs": [
    {
     "ename": "ReadError",
     "evalue": "not a bzip2 file",
     "output_type": "error",
     "traceback": [
      "\u001b[0;31m---------------------------------------------------------------------------\u001b[0m",
      "\u001b[0;31mOSError\u001b[0m                                   Traceback (most recent call last)",
      "File \u001b[0;32m/usr/lib/python3.9/tarfile.py:1710\u001b[0m, in \u001b[0;36mTarFile.bz2open\u001b[0;34m(cls, name, mode, fileobj, compresslevel, **kwargs)\u001b[0m\n\u001b[1;32m   1709\u001b[0m \u001b[38;5;28;01mtry\u001b[39;00m:\n\u001b[0;32m-> 1710\u001b[0m     t \u001b[38;5;241m=\u001b[39m \u001b[38;5;28;43mcls\u001b[39;49m\u001b[38;5;241;43m.\u001b[39;49m\u001b[43mtaropen\u001b[49m\u001b[43m(\u001b[49m\u001b[43mname\u001b[49m\u001b[43m,\u001b[49m\u001b[43m \u001b[49m\u001b[43mmode\u001b[49m\u001b[43m,\u001b[49m\u001b[43m \u001b[49m\u001b[43mfileobj\u001b[49m\u001b[43m,\u001b[49m\u001b[43m \u001b[49m\u001b[38;5;241;43m*\u001b[39;49m\u001b[38;5;241;43m*\u001b[39;49m\u001b[43mkwargs\u001b[49m\u001b[43m)\u001b[49m\n\u001b[1;32m   1711\u001b[0m \u001b[38;5;28;01mexcept\u001b[39;00m (\u001b[38;5;167;01mOSError\u001b[39;00m, \u001b[38;5;167;01mEOFError\u001b[39;00m):\n",
      "File \u001b[0;32m/usr/lib/python3.9/tarfile.py:1659\u001b[0m, in \u001b[0;36mTarFile.taropen\u001b[0;34m(cls, name, mode, fileobj, **kwargs)\u001b[0m\n\u001b[1;32m   1658\u001b[0m     \u001b[38;5;28;01mraise\u001b[39;00m \u001b[38;5;167;01mValueError\u001b[39;00m(\u001b[38;5;124m\"\u001b[39m\u001b[38;5;124mmode must be \u001b[39m\u001b[38;5;124m'\u001b[39m\u001b[38;5;124mr\u001b[39m\u001b[38;5;124m'\u001b[39m\u001b[38;5;124m, \u001b[39m\u001b[38;5;124m'\u001b[39m\u001b[38;5;124ma\u001b[39m\u001b[38;5;124m'\u001b[39m\u001b[38;5;124m, \u001b[39m\u001b[38;5;124m'\u001b[39m\u001b[38;5;124mw\u001b[39m\u001b[38;5;124m'\u001b[39m\u001b[38;5;124m or \u001b[39m\u001b[38;5;124m'\u001b[39m\u001b[38;5;124mx\u001b[39m\u001b[38;5;124m'\u001b[39m\u001b[38;5;124m\"\u001b[39m)\n\u001b[0;32m-> 1659\u001b[0m \u001b[38;5;28;01mreturn\u001b[39;00m \u001b[38;5;28;43mcls\u001b[39;49m\u001b[43m(\u001b[49m\u001b[43mname\u001b[49m\u001b[43m,\u001b[49m\u001b[43m \u001b[49m\u001b[43mmode\u001b[49m\u001b[43m,\u001b[49m\u001b[43m \u001b[49m\u001b[43mfileobj\u001b[49m\u001b[43m,\u001b[49m\u001b[43m \u001b[49m\u001b[38;5;241;43m*\u001b[39;49m\u001b[38;5;241;43m*\u001b[39;49m\u001b[43mkwargs\u001b[49m\u001b[43m)\u001b[49m\n",
      "File \u001b[0;32m/usr/lib/python3.9/tarfile.py:1522\u001b[0m, in \u001b[0;36mTarFile.__init__\u001b[0;34m(self, name, mode, fileobj, format, tarinfo, dereference, ignore_zeros, encoding, errors, pax_headers, debug, errorlevel, copybufsize)\u001b[0m\n\u001b[1;32m   1521\u001b[0m     \u001b[38;5;28mself\u001b[39m\u001b[38;5;241m.\u001b[39mfirstmember \u001b[38;5;241m=\u001b[39m \u001b[38;5;28;01mNone\u001b[39;00m\n\u001b[0;32m-> 1522\u001b[0m     \u001b[38;5;28mself\u001b[39m\u001b[38;5;241m.\u001b[39mfirstmember \u001b[38;5;241m=\u001b[39m \u001b[38;5;28;43mself\u001b[39;49m\u001b[38;5;241;43m.\u001b[39;49m\u001b[43mnext\u001b[49m\u001b[43m(\u001b[49m\u001b[43m)\u001b[49m\n\u001b[1;32m   1524\u001b[0m \u001b[38;5;28;01mif\u001b[39;00m \u001b[38;5;28mself\u001b[39m\u001b[38;5;241m.\u001b[39mmode \u001b[38;5;241m==\u001b[39m \u001b[38;5;124m\"\u001b[39m\u001b[38;5;124ma\u001b[39m\u001b[38;5;124m\"\u001b[39m:\n\u001b[1;32m   1525\u001b[0m     \u001b[38;5;66;03m# Move to the end of the archive,\u001b[39;00m\n\u001b[1;32m   1526\u001b[0m     \u001b[38;5;66;03m# before the first empty block.\u001b[39;00m\n",
      "File \u001b[0;32m/usr/lib/python3.9/tarfile.py:2327\u001b[0m, in \u001b[0;36mTarFile.next\u001b[0;34m(self)\u001b[0m\n\u001b[1;32m   2326\u001b[0m \u001b[38;5;28;01mtry\u001b[39;00m:\n\u001b[0;32m-> 2327\u001b[0m     tarinfo \u001b[38;5;241m=\u001b[39m \u001b[38;5;28;43mself\u001b[39;49m\u001b[38;5;241;43m.\u001b[39;49m\u001b[43mtarinfo\u001b[49m\u001b[38;5;241;43m.\u001b[39;49m\u001b[43mfromtarfile\u001b[49m\u001b[43m(\u001b[49m\u001b[38;5;28;43mself\u001b[39;49m\u001b[43m)\u001b[49m\n\u001b[1;32m   2328\u001b[0m \u001b[38;5;28;01mexcept\u001b[39;00m EOFHeaderError \u001b[38;5;28;01mas\u001b[39;00m e:\n",
      "File \u001b[0;32m/usr/lib/python3.9/tarfile.py:1112\u001b[0m, in \u001b[0;36mTarInfo.fromtarfile\u001b[0;34m(cls, tarfile)\u001b[0m\n\u001b[1;32m   1109\u001b[0m \u001b[38;5;124;03m\"\"\"Return the next TarInfo object from TarFile object\u001b[39;00m\n\u001b[1;32m   1110\u001b[0m \u001b[38;5;124;03m   tarfile.\u001b[39;00m\n\u001b[1;32m   1111\u001b[0m \u001b[38;5;124;03m\"\"\"\u001b[39;00m\n\u001b[0;32m-> 1112\u001b[0m buf \u001b[38;5;241m=\u001b[39m \u001b[43mtarfile\u001b[49m\u001b[38;5;241;43m.\u001b[39;49m\u001b[43mfileobj\u001b[49m\u001b[38;5;241;43m.\u001b[39;49m\u001b[43mread\u001b[49m\u001b[43m(\u001b[49m\u001b[43mBLOCKSIZE\u001b[49m\u001b[43m)\u001b[49m\n\u001b[1;32m   1113\u001b[0m obj \u001b[38;5;241m=\u001b[39m \u001b[38;5;28mcls\u001b[39m\u001b[38;5;241m.\u001b[39mfrombuf(buf, tarfile\u001b[38;5;241m.\u001b[39mencoding, tarfile\u001b[38;5;241m.\u001b[39merrors)\n",
      "File \u001b[0;32m/usr/lib/python3.9/bz2.py:171\u001b[0m, in \u001b[0;36mBZ2File.read\u001b[0;34m(self, size)\u001b[0m\n\u001b[1;32m    170\u001b[0m \u001b[38;5;28mself\u001b[39m\u001b[38;5;241m.\u001b[39m_check_can_read()\n\u001b[0;32m--> 171\u001b[0m \u001b[38;5;28;01mreturn\u001b[39;00m \u001b[38;5;28;43mself\u001b[39;49m\u001b[38;5;241;43m.\u001b[39;49m\u001b[43m_buffer\u001b[49m\u001b[38;5;241;43m.\u001b[39;49m\u001b[43mread\u001b[49m\u001b[43m(\u001b[49m\u001b[43msize\u001b[49m\u001b[43m)\u001b[49m\n",
      "File \u001b[0;32m/usr/lib/python3.9/_compression.py:68\u001b[0m, in \u001b[0;36mDecompressReader.readinto\u001b[0;34m(self, b)\u001b[0m\n\u001b[1;32m     67\u001b[0m \u001b[38;5;28;01mwith\u001b[39;00m \u001b[38;5;28mmemoryview\u001b[39m(b) \u001b[38;5;28;01mas\u001b[39;00m view, view\u001b[38;5;241m.\u001b[39mcast(\u001b[38;5;124m\"\u001b[39m\u001b[38;5;124mB\u001b[39m\u001b[38;5;124m\"\u001b[39m) \u001b[38;5;28;01mas\u001b[39;00m byte_view:\n\u001b[0;32m---> 68\u001b[0m     data \u001b[38;5;241m=\u001b[39m \u001b[38;5;28;43mself\u001b[39;49m\u001b[38;5;241;43m.\u001b[39;49m\u001b[43mread\u001b[49m\u001b[43m(\u001b[49m\u001b[38;5;28;43mlen\u001b[39;49m\u001b[43m(\u001b[49m\u001b[43mbyte_view\u001b[49m\u001b[43m)\u001b[49m\u001b[43m)\u001b[49m\n\u001b[1;32m     69\u001b[0m     byte_view[:\u001b[38;5;28mlen\u001b[39m(data)] \u001b[38;5;241m=\u001b[39m data\n",
      "File \u001b[0;32m/usr/lib/python3.9/_compression.py:103\u001b[0m, in \u001b[0;36mDecompressReader.read\u001b[0;34m(self, size)\u001b[0m\n\u001b[1;32m    102\u001b[0m         rawblock \u001b[38;5;241m=\u001b[39m \u001b[38;5;124mb\u001b[39m\u001b[38;5;124m\"\u001b[39m\u001b[38;5;124m\"\u001b[39m\n\u001b[0;32m--> 103\u001b[0m     data \u001b[38;5;241m=\u001b[39m \u001b[38;5;28;43mself\u001b[39;49m\u001b[38;5;241;43m.\u001b[39;49m\u001b[43m_decompressor\u001b[49m\u001b[38;5;241;43m.\u001b[39;49m\u001b[43mdecompress\u001b[49m\u001b[43m(\u001b[49m\u001b[43mrawblock\u001b[49m\u001b[43m,\u001b[49m\u001b[43m \u001b[49m\u001b[43msize\u001b[49m\u001b[43m)\u001b[49m\n\u001b[1;32m    104\u001b[0m \u001b[38;5;28;01mif\u001b[39;00m data:\n",
      "\u001b[0;31mOSError\u001b[0m: Invalid data stream",
      "\nDuring handling of the above exception, another exception occurred:\n",
      "\u001b[0;31mReadError\u001b[0m                                 Traceback (most recent call last)",
      "Input \u001b[0;32mIn [12]\u001b[0m, in \u001b[0;36m<cell line: 2>\u001b[0;34m()\u001b[0m\n\u001b[1;32m      1\u001b[0m \u001b[38;5;28;01mimport\u001b[39;00m \u001b[38;5;21;01mtarfile\u001b[39;00m\n\u001b[0;32m----> 2\u001b[0m tar \u001b[38;5;241m=\u001b[39m \u001b[43mtarfile\u001b[49m\u001b[38;5;241;43m.\u001b[39;49m\u001b[43mopen\u001b[49m\u001b[43m(\u001b[49m\u001b[38;5;124;43m\"\u001b[39;49m\u001b[38;5;124;43m../../datasets/messageD/aids.csv.tar.bz2\u001b[39;49m\u001b[38;5;124;43m\"\u001b[39;49m\u001b[43m,\u001b[49m\u001b[43m \u001b[49m\u001b[38;5;124;43m\"\u001b[39;49m\u001b[38;5;124;43mr:bz2\u001b[39;49m\u001b[38;5;124;43m\"\u001b[39;49m\u001b[43m)\u001b[49m  \n\u001b[1;32m      3\u001b[0m \u001b[38;5;28;01mfor\u001b[39;00m i \u001b[38;5;129;01min\u001b[39;00m tar:\n\u001b[1;32m      4\u001b[0m   csv_path \u001b[38;5;241m=\u001b[39m tar\u001b[38;5;241m.\u001b[39mgetnames()[\u001b[38;5;241m0\u001b[39m]\n",
      "File \u001b[0;32m/usr/lib/python3.9/tarfile.py:1629\u001b[0m, in \u001b[0;36mTarFile.open\u001b[0;34m(cls, name, mode, fileobj, bufsize, **kwargs)\u001b[0m\n\u001b[1;32m   1627\u001b[0m     \u001b[38;5;28;01melse\u001b[39;00m:\n\u001b[1;32m   1628\u001b[0m         \u001b[38;5;28;01mraise\u001b[39;00m CompressionError(\u001b[38;5;124m\"\u001b[39m\u001b[38;5;124munknown compression type \u001b[39m\u001b[38;5;132;01m%r\u001b[39;00m\u001b[38;5;124m\"\u001b[39m \u001b[38;5;241m%\u001b[39m comptype)\n\u001b[0;32m-> 1629\u001b[0m     \u001b[38;5;28;01mreturn\u001b[39;00m \u001b[43mfunc\u001b[49m\u001b[43m(\u001b[49m\u001b[43mname\u001b[49m\u001b[43m,\u001b[49m\u001b[43m \u001b[49m\u001b[43mfilemode\u001b[49m\u001b[43m,\u001b[49m\u001b[43m \u001b[49m\u001b[43mfileobj\u001b[49m\u001b[43m,\u001b[49m\u001b[43m \u001b[49m\u001b[38;5;241;43m*\u001b[39;49m\u001b[38;5;241;43m*\u001b[39;49m\u001b[43mkwargs\u001b[49m\u001b[43m)\u001b[49m\n\u001b[1;32m   1631\u001b[0m \u001b[38;5;28;01melif\u001b[39;00m \u001b[38;5;124m\"\u001b[39m\u001b[38;5;124m|\u001b[39m\u001b[38;5;124m\"\u001b[39m \u001b[38;5;129;01min\u001b[39;00m mode:\n\u001b[1;32m   1632\u001b[0m     filemode, comptype \u001b[38;5;241m=\u001b[39m mode\u001b[38;5;241m.\u001b[39msplit(\u001b[38;5;124m\"\u001b[39m\u001b[38;5;124m|\u001b[39m\u001b[38;5;124m\"\u001b[39m, \u001b[38;5;241m1\u001b[39m)\n",
      "File \u001b[0;32m/usr/lib/python3.9/tarfile.py:1714\u001b[0m, in \u001b[0;36mTarFile.bz2open\u001b[0;34m(cls, name, mode, fileobj, compresslevel, **kwargs)\u001b[0m\n\u001b[1;32m   1712\u001b[0m     fileobj\u001b[38;5;241m.\u001b[39mclose()\n\u001b[1;32m   1713\u001b[0m     \u001b[38;5;28;01mif\u001b[39;00m mode \u001b[38;5;241m==\u001b[39m \u001b[38;5;124m'\u001b[39m\u001b[38;5;124mr\u001b[39m\u001b[38;5;124m'\u001b[39m:\n\u001b[0;32m-> 1714\u001b[0m         \u001b[38;5;28;01mraise\u001b[39;00m ReadError(\u001b[38;5;124m\"\u001b[39m\u001b[38;5;124mnot a bzip2 file\u001b[39m\u001b[38;5;124m\"\u001b[39m)\n\u001b[1;32m   1715\u001b[0m     \u001b[38;5;28;01mraise\u001b[39;00m\n\u001b[1;32m   1716\u001b[0m \u001b[38;5;28;01mexcept\u001b[39;00m:\n",
      "\u001b[0;31mReadError\u001b[0m: not a bzip2 file"
     ]
    }
   ],
   "source": [
    "import tarfile\n",
    "tar = tarfile.open(\"../../datasets/messageD/aids.csv.tar.bz2\", \"r:bz2\")  \n",
    "for i in tar:\n",
    "  csv_path = tar.getnames()[0]\n",
    "  print(csv_path)\n",
    "  df_all = pd.read_csv(tar.extractfile(csv_path),)\n",
    "\n",
    "#df_all = pd.read_csv(\"../../datasets/messageD/aids.csv.tar.bz2\", compression='gzip')\n",
    "df_all[categorical_val] = df_all[categorical_val].astype(\"category\")"
   ]
  },
  {
   "cell_type": "code",
   "execution_count": null,
   "metadata": {
    "ExecuteTime": {
     "end_time": "2021-12-21T16:27:55.404414Z",
     "start_time": "2021-12-21T16:27:54.113766Z"
    }
   },
   "outputs": [],
   "source": [
    "# select specifics iterations\n",
    "\n",
    "df_0 = df_all[df_all[\"iter\"] == 0]  # original data\n",
    "df_1 = df_all[df_all[\"iter\"] == 1]\n",
    "df_2 = df_all[df_all[\"iter\"] == 2]\n",
    "df_3 = df_all[df_all[\"iter\"] == 3]\n",
    "df_5 = df_all[df_all[\"iter\"] == 5]\n",
    "df_7 = df_all[df_all[\"iter\"] == 7]\n",
    "df_10 = df_all[df_all[\"iter\"] == 10]\n",
    "\n",
    "# Impute missing data in order to project the avatars in the multidimensionnal space.\n",
    "df_0_imp = pd.DataFrame(KNNImputer(n_neighbors = 5).fit_transform(df_0),\n",
    "                        columns = df_0.columns.values)\n",
    "df_0_imp[categorical_val] = df_0_imp[categorical_val].astype(\"category\")\n",
    "df_1_imp = pd.DataFrame(KNNImputer(n_neighbors = 5).fit_transform(df_1),\n",
    "                        columns = df_0.columns.values)\n",
    "df_1_imp[categorical_val] = df_1_imp[categorical_val].astype(\"category\")\n",
    "df_2_imp = pd.DataFrame(KNNImputer(n_neighbors = 5).fit_transform(df_2),\n",
    "                        columns = df_0.columns.values)\n",
    "df_2_imp[categorical_val] = df_2_imp[categorical_val].astype(\"category\")\n",
    "df_3_imp = pd.DataFrame(KNNImputer(n_neighbors = 5).fit_transform(df_3),\n",
    "                        columns = df_0.columns.values)\n",
    "df_3_imp[categorical_val] = df_3_imp[categorical_val].astype(\"category\")\n",
    "df_5_imp = pd.DataFrame(KNNImputer(n_neighbors = 5).fit_transform(df_5),\n",
    "                        columns = df_0.columns.values)\n",
    "df_5_imp[categorical_val] = df_5_imp[categorical_val].astype(\"category\")\n",
    "df_7_imp = pd.DataFrame(KNNImputer(n_neighbors = 5).fit_transform(df_7),\n",
    "                        columns = df_0.columns.values)\n",
    "df_7_imp[categorical_val] = df_7_imp[categorical_val].astype(\"category\")\n",
    "df_10_imp = pd.DataFrame(KNNImputer(n_neighbors = 5).fit_transform(df_10),\n",
    "                         columns = df_0.columns.values)\n",
    "df_10_imp[categorical_val] = df_10_imp[categorical_val].astype(\"category\")\n"
   ]
  },
  {
   "cell_type": "markdown",
   "metadata": {},
   "source": [
    "## Multdimensionnal projection function.\n",
    "\n",
    "This section use projection function (such as FAMD) to project the avatar data in the original data space."
   ]
  },
  {
   "cell_type": "code",
   "execution_count": 4,
   "metadata": {
    "ExecuteTime": {
     "end_time": "2021-12-21T16:27:55.826541Z",
     "start_time": "2021-12-21T16:27:55.819751Z"
    }
   },
   "outputs": [],
   "source": [
    "palette = sns.light_palette(\"#02297a\", as_cmap=True)\n",
    "\n",
    "def projection_plot(records_set, avatars_set, variable_visualization, iter, palette = palette, ax = None) :\n",
    "    \"\"\"\n",
    "    Project the avatar dataset as supplemental individuals in the original daataset.\n",
    "    Can color the individuals with a variable.\n",
    "    input :\n",
    "    - records_set : original dataset\n",
    "    - avatars_set : avatar dataset\n",
    "    - iter : the iteration number\n",
    "    - palette : a color palette\n",
    "\n",
    "    output:\n",
    "    - ax1 : the projection of the avatar dataset.\n",
    "    \"\"\"\n",
    "    records_set.drop(columns = ['iter'], inplace = True)\n",
    "    avatars_set.drop(columns = ['iter'], inplace = True)\n",
    "    \n",
    "    # add a new fake indivudal in order to fix the plot scale during iteration\n",
    "    new_ind = [48, 8009.8128, 0, 0, 0, 100, 0, 0, 1, 1500, 0, 0, 0, 0, 0, 0, 0, 0, 0, 0, 0, 0, 0, 0, 0, 0]\n",
    "    new_ind = pd.Series(new_ind, index = avatars_set.columns)\n",
    "    avatars_set = avatars_set.append(new_ind, ignore_index = True)\n",
    "\n",
    "    # perform projection\n",
    "    __, mod, param = saiph.fit(records_set, nf = 3)\n",
    "    avat_coordinates = saiph.transform(avatars_set, mod, param) # project avatar in the original space \n",
    "    avat_coordinates[\"Dim. 1\"] = - avat_coordinates[\"Dim. 1\"]\n",
    "    var1 = mod.explained_var_ratio[0] * 100\n",
    "    var2 = mod.explained_var_ratio[1] * 100\n",
    "\n",
    "    avat_coordinates[\"modality\"] = avatars_set[variable_visualization]\n",
    "    ax1 = ax or plt.gca()\n",
    "    \n",
    "    # general set up \n",
    "    paper_rc = {\"lines.markersize\": 11}\n",
    "    sns.set_style(\"whitegrid\")\n",
    "    sns.set_context(\"paper\", font_scale = 2, rc = paper_rc)\n",
    "    with plt.style.context(\"seaborn-whitegrid\"):\n",
    "        plt.rcParams[\"axes.edgecolor\"] = \"0.15\"\n",
    "        plt.rcParams[\"axes.linewidth\"] = 1.25\n",
    "        plt.rcParams[\"font.family\"] = \"sans-serif\"\n",
    "        plt.rcParams[\"font.sans-serif\"] = [\"Helvetica\"]\n",
    "\n",
    "    ax1.scatter(avat_coordinates[\"Dim. 1\"], avat_coordinates[\"Dim. 2\"],\n",
    "                         edgecolors = \"black\", c = avat_coordinates[\"modality\"], s = 75, cmap = palette)\n",
    "    \n",
    "    # setup x, y limits, labs and legend\n",
    "    ax1.set_xlim(avat_coordinates[\"Dim. 1\"].min() - 0.2, avat_coordinates[\"Dim. 1\"].max() + 0.2)\n",
    "    ax1.set_ylim(avat_coordinates[\"Dim. 2\"].min() - 0.2, avat_coordinates[\"Dim. 2\"].max() + 0.2)\n",
    "    ax1.set_xlabel(\"Dim. 1 (\" + str(round(var1)) + \"%)\")\n",
    "    ax1.set_ylabel(\"Dim. 2 (\" + str(round(var2)) + \"%)\")\n",
    "    ax1.set(xlim = (-6, 6))\n",
    "    ax1.set(ylim = (-6, 6))\n",
    "    \n",
    "\n",
    "    \n",
    "    ax1.set_title(\"Iteration: {}\".format(iter))\n",
    "    return ax1"
   ]
  },
  {
   "cell_type": "markdown",
   "metadata": {},
   "source": [
    "## Iterations vizualisation\n",
    "\n",
    "Here we iterated the visualization over avatar generations."
   ]
  },
  {
   "cell_type": "code",
   "execution_count": 5,
   "metadata": {
    "ExecuteTime": {
     "end_time": "2021-12-21T16:28:00.034719Z",
     "start_time": "2021-12-21T16:27:56.214429Z"
    },
    "scrolled": false
   },
   "outputs": [
    {
     "ename": "NameError",
     "evalue": "name 'df_1_imp' is not defined",
     "output_type": "error",
     "traceback": [
      "\u001b[0;31m---------------------------------------------------------------------------\u001b[0m",
      "\u001b[0;31mNameError\u001b[0m                                 Traceback (most recent call last)",
      "Input \u001b[0;32mIn [5]\u001b[0m, in \u001b[0;36m<cell line: 14>\u001b[0;34m()\u001b[0m\n\u001b[1;32m     11\u001b[0m fig, axs \u001b[38;5;241m=\u001b[39m plt\u001b[38;5;241m.\u001b[39msubplots(\u001b[38;5;241m2\u001b[39m, \u001b[38;5;241m3\u001b[39m, figsize \u001b[38;5;241m=\u001b[39m (\u001b[38;5;241m22\u001b[39m, \u001b[38;5;241m11\u001b[39m))\n\u001b[1;32m     13\u001b[0m \u001b[38;5;66;03m# link avatar dataframe to the position in the subplot\u001b[39;00m\n\u001b[0;32m---> 14\u001b[0m \u001b[38;5;28mlist\u001b[39m \u001b[38;5;241m=\u001b[39m [(\u001b[43mdf_1_imp\u001b[49m, \u001b[38;5;241m1\u001b[39m, axs[\u001b[38;5;241m0\u001b[39m, \u001b[38;5;241m0\u001b[39m]),\n\u001b[1;32m     15\u001b[0m         (df_2_imp, \u001b[38;5;241m2\u001b[39m, axs[\u001b[38;5;241m0\u001b[39m, \u001b[38;5;241m1\u001b[39m]),\n\u001b[1;32m     16\u001b[0m         (df_3_imp, \u001b[38;5;241m3\u001b[39m, axs[\u001b[38;5;241m0\u001b[39m, \u001b[38;5;241m2\u001b[39m]),\n\u001b[1;32m     17\u001b[0m         (df_5_imp, \u001b[38;5;241m5\u001b[39m, axs[\u001b[38;5;241m1\u001b[39m, \u001b[38;5;241m2\u001b[39m]),\n\u001b[1;32m     18\u001b[0m         (df_7_imp, \u001b[38;5;241m7\u001b[39m, axs[\u001b[38;5;241m1\u001b[39m, \u001b[38;5;241m1\u001b[39m]),\n\u001b[1;32m     19\u001b[0m         (df_10_imp, \u001b[38;5;241m10\u001b[39m, axs[\u001b[38;5;241m1\u001b[39m, \u001b[38;5;241m0\u001b[39m])]\n\u001b[1;32m     21\u001b[0m \u001b[38;5;66;03m# make the projection \u001b[39;00m\n\u001b[1;32m     22\u001b[0m \u001b[38;5;28;01mfor\u001b[39;00m df_temp \u001b[38;5;129;01min\u001b[39;00m \u001b[38;5;28mlist\u001b[39m:\n",
      "\u001b[0;31mNameError\u001b[0m: name 'df_1_imp' is not defined"
     ]
    },
    {
     "data": {
      "image/png": "[encoded data removed]",
      "text/plain": [
       "<Figure size 1584x792 with 6 Axes>"
      ]
     },
     "metadata": {
      "needs_background": "light"
     },
     "output_type": "display_data"
    }
   ],
   "source": [
    "## visualization context\n",
    "paper_rc = {\"lines.markersize\": 11}\n",
    "sns.set_style(\"whitegrid\")\n",
    "sns.set_context(\"paper\", font_scale = 2, rc = paper_rc)\n",
    "with plt.style.context(\"seaborn-whitegrid\"):\n",
    "        plt.rcParams[\"axes.edgecolor\"] = \"0.15\"\n",
    "        plt.rcParams[\"axes.linewidth\"] = 1.25\n",
    "        plt.rcParams[\"font.family\"] = \"sans-serif\"\n",
    "        plt.rcParams[\"font.sans-serif\"] = [\"Helvetica\"]\n",
    "        \n",
    "fig, axs = plt.subplots(2, 3, figsize = (22, 11))\n",
    "\n",
    "# link avatar dataframe to the position in the subplot\n",
    "list = [(df_1_imp, 1, axs[0, 0]),\n",
    "        (df_2_imp, 2, axs[0, 1]),\n",
    "        (df_3_imp, 3, axs[0, 2]),\n",
    "        (df_5_imp, 5, axs[1, 2]),\n",
    "        (df_7_imp, 7, axs[1, 1]),\n",
    "        (df_10_imp, 10, axs[1, 0])]\n",
    "\n",
    "# make the projection \n",
    "for df_temp in list:\n",
    "    projection_plot(df_0_imp.copy(), df_temp[0].copy(), \"preanti\", df_temp[1], ax = df_temp[2])\n",
    "\n",
    "\n",
    "# Add arrow from one subplot to the other\n",
    "# list all arrow position ([x_start, y_start],[x_end, y_end])\n",
    "axs_list = [ axs[0, 0],  axs[0, 1],  axs[0, 2],  axs[1, 2],  axs[1, 1],  axs[1, 0]]\n",
    "xy_list = [([4.85, 0.3], [-8.15, 0.3]), ([3, 0.3], [-10, 0.3]), ([-4.5, -6], [-4.5, 6.7]), \n",
    "           ([-10.1, -0.3], [2.9, -0.3]), ([-8.25, -0.3], [4.75, -0.3])]\n",
    "\n",
    "# Draw all the arrows\n",
    "for i in range(len(axs_list)-1):\n",
    "    xyA = xy_list[i][0]\n",
    "    xyB = xy_list[i][1]\n",
    "    \n",
    "    axs_list[i].plot(*xyA)\n",
    "    axs_list[i+1].plot(*xyB)\n",
    "\n",
    "    transFigure = fig.transFigure.inverted()\n",
    "    coord1 = transFigure.transform(axs_list[i].transData.transform(xyA))\n",
    "    coord2 = transFigure.transform(axs_list[i+1].transData.transform(xyB))\n",
    "    arrow = patches.FancyArrowPatch(\n",
    "        coord1,  # posA\n",
    "        coord2,  # posB\n",
    "        shrinkA=0,  # so tail is exactly on posA (default shrink is 2)\n",
    "        shrinkB=0,  # so head is exactly on posB (default shrink is 2)\n",
    "        transform=fig.transFigure,\n",
    "        color=\"black\",\n",
    "        arrowstyle=\"-|>\",  # \"normal\" arrow\n",
    "        mutation_scale=30,  # controls arrow head size\n",
    "        linewidth=3,\n",
    "    )\n",
    "    fig.patches.append(arrow)\n",
    "\n",
    "# add space between each subplot\n",
    "plt.subplots_adjust(hspace=0.33, wspace=0.2, right=0.8)\n",
    "\n",
    "# put label outer the axis \n",
    "for ax in fig.get_axes():\n",
    "    ax.label_outer()\n",
    "\n",
    "\n",
    "# Add preanti color bar legend on the right side\n",
    "norm = plt.Normalize(df_1_imp['preanti'].min(), df_1_imp['preanti'].max())\n",
    "sm =  ScalarMappable(norm=norm, cmap=palette)\n",
    "sm.set_array([])\n",
    "cb_ax = fig.add_axes([0.83, 0.3, 0.015, 0.4])  # [Left, bottom, width, height]\n",
    "cbar = fig.colorbar(sm, ax=axs[:,2], cax=cb_ax)\n",
    "cbar.ax.set_title(\"Preanti\")\n",
    "\n",
    "\n",
    "# General title\n",
    "plt.gcf().text(0.42, 0.94, \"AIDS data\", fontsize=25, weight = 'bold', family = \"sans-serif\")\n",
    "\n",
    "# save the fig if needed\n",
    "# plt.savefig(\"../../figure/aids_MESSAGED/aids_iterations.svg\", format = \"svg\", bbox_inches='tight')\n",
    "plt.show()\n"
   ]
  },
  {
   "cell_type": "markdown",
   "metadata": {},
   "source": [
    "##  Perform variability conservation"
   ]
  },
  {
   "cell_type": "code",
   "execution_count": null,
   "metadata": {},
   "outputs": [],
   "source": [
    "def compute_metrics(ref_df, df, results): \n",
    "    \"\"\"Compute metrics of variability variation between reference and avatarized Dataframe.\"\"\"\n",
    "    coord, model, param = saiph.fit(ref_df.drop(columns=[\"iteration\", \"repetition\"]), nf = 2) \n",
    "    avat_coordinates = saiph.transform(df.drop(columns=[\"iteration\", \"repetition\"]), model, param) # project avatar in the original space\n",
    "    \n",
    "    for dimension in [\"Dim. 1\", \"Dim. 2\"]:\n",
    "        # All class\n",
    "        standard_deviation = avat_coordinates[dimension].std()\n",
    "        std_original = coord[dimension].std()\n",
    "        raw = [standard_deviation/std_original, standard_deviation, df[\"iteration\"].unique()[0], \"all\", dimension,  df[\"repetition\"].unique()[0]]\n",
    "        results.append(raw)\n",
    "\n",
    "        # by class\n",
    "        for type in (2, 4):\n",
    "            standard_deviation = avat_coordinates[df[\"Class\"] == type][dimension].std()\n",
    "            std_original = coord[ref_df[\"Class\"] == type][dimension].std()\n",
    "            raw = [standard_deviation/std_original, standard_deviation, df[\"iteration\"].unique()[0], type, dimension, df[\"repetition\"].unique()[0]]\n",
    "            results.append(raw)\n",
    "\n",
    "    return results\n",
    "\n",
    "\n"
   ]
  },
  {
   "cell_type": "code",
   "execution_count": null,
   "metadata": {},
   "outputs": [],
   "source": [
    "dfs = pd.read_csv(\"../../datasets/AIDS/iterations.csv\")\n",
    "dfs.drop(columns=\"Unnamed: 0\", inplace=True)\n",
    "init = []\n",
    "init = compute_metrics(\n",
    "            dfs[dfs[\"iteration\"] == 0],\n",
    "            dfs[dfs[\"iteration\"] == 0],\n",
    "            results=init, \n",
    "            )\n",
    "\n",
    "results = []\n",
    "for iteration in range(1, 11): \n",
    "    for repetition in range(1,11): \n",
    "        subset = dfs[(dfs[\"iteration\"] == iteration) & (dfs[\"repetition\"] == repetition)]\n",
    "        results = compute_metrics(\n",
    "            dfs[dfs[\"iteration\"] == 0],\n",
    "            subset,\n",
    "            results=results, \n",
    "        )\n",
    "\n",
    "\n",
    "results = init + results\n"
   ]
  },
  {
   "cell_type": "code",
   "execution_count": null,
   "metadata": {},
   "outputs": [],
   "source": [
    "dfs.head()\n"
   ]
  },
  {
   "cell_type": "code",
   "execution_count": null,
   "metadata": {},
   "outputs": [],
   "source": []
  }
 ],
 "metadata": {
  "kernelspec": {
   "display_name": "Python 3 (ipykernel)",
   "language": "python",
   "name": "python3"
  },
  "language_info": {
   "codemirror_mode": {
    "name": "ipython",
    "version": 3
   },
   "file_extension": ".py",
   "mimetype": "text/x-python",
   "name": "python",
   "nbconvert_exporter": "python",
   "pygments_lexer": "ipython3",
   "version": "3.9.7"
  },
  "toc": {
   "base_numbering": 1,
   "nav_menu": {},
   "number_sections": true,
   "sideBar": true,
   "skip_h1_title": false,
   "title_cell": "Table of Contents",
   "title_sidebar": "Contents",
   "toc_cell": false,
   "toc_position": {
    "height": "calc(100% - 180px)",
    "left": "10px",
    "top": "150px",
    "width": "259.2px"
   },
   "toc_section_display": true,
   "toc_window_display": true
  },
  "varInspector": {
   "cols": {
    "lenName": 16,
    "lenType": 16,
    "lenVar": 40
   },
   "kernels_config": {
    "python": {
     "delete_cmd_postfix": "",
     "delete_cmd_prefix": "del ",
     "library": "var_list.py",
     "varRefreshCmd": "print(var_dic_list())"
    },
    "r": {
     "delete_cmd_postfix": ") ",
     "delete_cmd_prefix": "rm(",
     "library": "var_list.r",
     "varRefreshCmd": "cat(var_dic_list()) "
    }
   },
   "types_to_exclude": [
    "module",
    "function",
    "builtin_function_or_method",
    "instance",
    "_Feature"
   ],
   "window_display": false
  }
 },
 "nbformat": 4,
 "nbformat_minor": 2
}
