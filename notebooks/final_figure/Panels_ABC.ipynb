{
 "cells": [
  {
   "cell_type": "code",
   "execution_count": 2,
   "id": "37f3d94b",
   "metadata": {},
   "outputs": [
    {
     "ename": "ERROR",
     "evalue": "Error in parse(text = x, srcfile = src): <text>:3:0: unexpected end of input\n1: f <- 'messageAB_AIDS.ipynb'\n2: eval(parse(text = system2('jupyter', c('nbconvert', f, '--to=script', '--stdout'), stdout = TRUE))\n  ^\n",
     "output_type": "error",
     "traceback": [
      "Error in parse(text = x, srcfile = src): <text>:3:0: unexpected end of input\n1: f <- 'messageAB_AIDS.ipynb'\n2: eval(parse(text = system2('jupyter', c('nbconvert', f, '--to=script', '--stdout'), stdout = TRUE))\n  ^\nTraceback:\n"
     ]
    }
   ],
   "source": [
    "f <- 'messageAB_AIDS.ipynb'\n",
    "eval(parse(text = system2('jupyter', c('nbconvert', f, '--to=script', '--stdout'), stdout = TRUE))"
   ]
  },
  {
   "cell_type": "code",
   "execution_count": 1,
   "id": "adab90fb",
   "metadata": {
    "scrolled": true
   },
   "outputs": [
    {
     "name": "stderr",
     "output_type": "stream",
     "text": [
      "Warning message:\n",
      "“Number of logged events: 51”\n",
      "Warning message:\n",
      "“Number of logged events: 51”\n",
      "Warning message in sqrt(nombre):\n",
      "“NaNs produced”\n"
     ]
    },
    {
     "ename": "ERROR",
     "evalue": "Error in py_get_attr_impl(x, name, silent): AttributeError: module '__main__' has no attribute 'Projection'\n",
     "output_type": "error",
     "traceback": [
      "Error in py_get_attr_impl(x, name, silent): AttributeError: module '__main__' has no attribute 'Projection'\nTraceback:\n",
      "1. source(\"messageAB_AIDS-Copy1.R\")",
      "2. withVisible(eval(ei, envir))",
      "3. eval(ei, envir)",
      "4. eval(ei, envir)",
      "5. py$Projection",
      "6. `$.python.builtin.module`(py, Projection)",
      "7. `$.python.builtin.object`(x, name)",
      "8. py_get_attr_or_item(x, name, TRUE)",
      "9. py_get_attr(x, name)",
      "10. py_get_attr_impl(x, name, silent)"
     ]
    }
   ],
   "source": [
    "t1 <- Sys.time()\n",
    "source('messageAB_AIDS-Copy1.R')\n",
    "source('messageAB_WBCD-Copy1.R')\n",
    "library(cowplot)"
   ]
  },
  {
   "cell_type": "code",
   "execution_count": null,
   "id": "64663cd6",
   "metadata": {},
   "outputs": [],
   "source": [
    "options(repr.plot.width = 20, repr.plot.height = 14)\n",
    "panelA <- ggdraw() +\n",
    "    draw_plot(plotAa, x = 0, y = 0.485, width = 0.49, height = 0.48) +\n",
    "    draw_plot(plotAb, x = 0.51, y = 0.485, width = 0.49, height = 0.48) +\n",
    "    draw_plot(plotAc, x = 0, y = 0, width = 0.49, height = 0.48) +\n",
    "    draw_plot(plotAd, x = 0.51, y = 0, width = 0.49, height = 0.48) +\n",
    "    draw_plot_label(label = c(\"a\", \"b\", \"c\", \"d\", \"AIDS data\", \"WBCD data\"), size = 25, family = \"sans\",\n",
    "                    x = c(0, 0.51, 0, 0.51, 0.17, 0.67), y = c(0.975, 0.975, 0.49, 0.49, 1, 1)) +\n",
    "    draw_line(x = c(0.5, 0.5), y = c(0, 0.98), color = \"black\", size = 1, lty = 2)\n",
    "panelA\n",
    "\n",
    "ggsave2(file=\"../../figure/panelA.svg\", plot = ggplot2::last_plot(), width = 20, height = 14, dpi = 320)"
   ]
  },
  {
   "cell_type": "code",
   "execution_count": null,
   "id": "4a5df091",
   "metadata": {},
   "outputs": [],
   "source": [
    "options(repr.plot.width = 20, repr.plot.height = 14)\n",
    "panelB <- ggdraw() +\n",
    "    draw_plot(plotBa, x = 0, y = 0.485, width = 0.49, height = 0.48) +\n",
    "    draw_plot(plotBb, x = 0.51, y = 0.485, width = 0.49, height = 0.48) +\n",
    "    draw_plot(plotBc, x = 0, y = 0, width = 0.49, height = 0.48) +\n",
    "    draw_plot(plotBd, x = 0.51, y = 0, width = 0.49, height = 0.48) +\n",
    "    draw_plot_label(label = c(\"a\", \"b\", \"c\", \"d\", \"AIDS data\", \"WBCD data\"), size = 25, family = \"sans\",\n",
    "                    x = c(0, 0.51, 0, 0.51, 0.17, 0.67), y = c(0.975, 0.975, 0.49, 0.49, 1, 1)) +\n",
    "    draw_line(x = c(0.5, 0.5), y = c(0, 0.98), color = \"black\", size = 1, lty = 2)\n",
    "panelB\n",
    "\n",
    "ggsave2(file=\"../../figure/panelB.svg\", plot = ggplot2::last_plot(), width = 20, height = 14, dpi = 320)"
   ]
  },
  {
   "cell_type": "code",
   "execution_count": null,
   "id": "c27506b6",
   "metadata": {
    "scrolled": false
   },
   "outputs": [],
   "source": [
    "source('messageC_AIDS-Copy1.R')\n",
    "source('messageC_WBCD_R-Copy1.R')"
   ]
  },
  {
   "cell_type": "code",
   "execution_count": null,
   "id": "ae248f6e",
   "metadata": {},
   "outputs": [],
   "source": [
    "options(repr.plot.width = 20, repr.plot.height = 21)\n",
    "panelC <- ggdraw() +\n",
    "    draw_plot(plotCa, x = 0, y = 0.65, width = 0.49, height = 0.32) +\n",
    "    draw_plot(plotCb, x = 0.51, y = 0.65, width = 0.49, height = 0.32) +\n",
    "    draw_plot(plotCc, x = 0, y = 0.325, width = 0.49, height = 0.32) +\n",
    "    draw_plot(plotCd, x = 0.51, y = 0.325, width = 0.49, height = 0.32) +\n",
    "    draw_plot(plotCe, x = 0, y = 0, width = 0.49, height = 0.32) +\n",
    "    draw_plot(plotCf, x = 0.51, y = 0, width = 0.49, height = 0.32) +\n",
    "    draw_plot_label(label = c(\"a\", \"b\", \"c\", \"d\", \"e\", \"f\", \"AIDS data\", \"WBCD data\"), size = 25, family = \"sans\",\n",
    "                    x = c(0, 0.51, 0, 0.51, 0, 0.51, 0.17, 0.67), y = c(0.975, 0.975, 0.652, 0.652, 0.33, 0.33, 1, 1)) +\n",
    "    draw_line(x = c(0.5, 0.5), y = c(0, 0.98), color = \"black\", size = 1, lty = 2)\n",
    "panelC\n",
    "\n",
    "ggsave2(file=\"../../figure/panelC.svg\", plot = ggplot2::last_plot(), width = 20, height = 21, dpi = 320)"
   ]
  },
  {
   "cell_type": "code",
   "execution_count": null,
   "id": "ee731051",
   "metadata": {},
   "outputs": [],
   "source": [
    "t2 <- Sys.time()\n",
    "t2-t1"
   ]
  }
 ],
 "metadata": {
  "kernelspec": {
   "display_name": "R",
   "language": "R",
   "name": "ir"
  },
  "language_info": {
   "codemirror_mode": "r",
   "file_extension": ".r",
   "mimetype": "text/x-r-source",
   "name": "R",
   "pygments_lexer": "r",
   "version": "4.1.2"
  }
 },
 "nbformat": 4,
 "nbformat_minor": 5
}
