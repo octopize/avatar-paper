{
 "cells": [
  {
   "cell_type": "markdown",
   "metadata": {},
   "source": [
    "# Impact of the k parameter - WBCD using Python\n",
    "\n",
    "In this notebook we focus our analysis on the impact of the parameter k in the statistical conservation and the security level of the dataset.\n",
    "\n",
    "We use the WBCD dataset"
   ]
  },
  {
   "cell_type": "markdown",
   "metadata": {},
   "source": [
    "## Importation"
   ]
  },
  {
   "cell_type": "code",
   "execution_count": 1,
   "metadata": {
    "ExecuteTime": {
     "end_time": "2021-09-15T14:45:48.275181Z",
     "start_time": "2021-09-15T14:45:47.199501Z"
    }
   },
   "outputs": [],
   "source": [
    "import numpy as np\n",
    "import pandas as pd\n",
    "from sklearn.svm import SVC\n",
    "from sklearn.model_selection import train_test_split\n",
    "from sklearn.model_selection import GridSearchCV\n",
    "from sklearn import metrics\n",
    "import time\n",
    "import matplotlib.pyplot as plt\n",
    "import seaborn as sns\n",
    "import math\n",
    "\n",
    "import zipfile"
   ]
  },
  {
   "cell_type": "code",
   "execution_count": 2,
   "metadata": {
    "ExecuteTime": {
     "end_time": "2021-09-15T14:45:48.281202Z",
     "start_time": "2021-09-15T14:45:48.276452Z"
    }
   },
   "outputs": [],
   "source": [
    "import multiprocessing\n",
    "\n",
    "\n",
    "colors = pd.read_csv(\"../../color.csv\", index_col=0)"
   ]
  },
  {
   "cell_type": "code",
   "execution_count": 3,
   "metadata": {
    "ExecuteTime": {
     "end_time": "2021-09-15T14:45:50.986952Z",
     "start_time": "2021-09-15T14:45:50.982247Z"
    }
   },
   "outputs": [],
   "source": [
    "def ml_results(clf, X_train, y_train, X_test, y_test):\n",
    "    \"\"\"\n",
    "    perform machine learning results of the model clf\n",
    "\n",
    "    return:\n",
    "    - df_res: scores as a dataframe\n",
    "    - df_roc: df of the roc curve\n",
    "    - cm : cinfusion matrix\n",
    "    \"\"\"\n",
    "    cm = pd.crosstab(y_test, clf.predict(X_test))\n",
    "    TP = cm.iloc[0, 0]\n",
    "    TN = cm.iloc[1, 1]\n",
    "    FP = cm.iloc[0, 1]\n",
    "    FN = cm.iloc[1, 0]\n",
    "    accuracy = (TP + TN) / (TP + TN + FP + FN)\n",
    "    sensitivity = TP / (TP + FN) * 100\n",
    "    specificity = TN / (TN + FP) * 100\n",
    "    ppv = TP / (TP + FP) * 100\n",
    "    npv = TN / (TN + FN) * 100\n",
    "    auc = metrics.roc_auc_score(y_test, clf.predict_proba(X_test)[:, 1])\n",
    "    fpr, tpr, thresholds = metrics.roc_curve(y_train, clf.predict_proba(X_train)[:, 1])\n",
    "    df_roc = pd.DataFrame({\"fpr\": fpr, \"tpr\": tpr, \"thresholds\": thresholds})\n",
    "    df_res = pd.DataFrame(\n",
    "        [accuracy, sensitivity, specificity, ppv, npv, auc],\n",
    "        index=[\"acc\", \"sens\", \"spec\", \"ppv\", \"npv\", \"auc\"],\n",
    "    )\n",
    "\n",
    "    return df_res, df_roc, cm"
   ]
  },
  {
   "cell_type": "code",
   "execution_count": 4,
   "metadata": {
    "ExecuteTime": {
     "end_time": "2021-09-15T14:45:51.186575Z",
     "start_time": "2021-09-15T14:45:51.181756Z"
    }
   },
   "outputs": [],
   "source": [
    "def unique_SVM_model(\n",
    "    X_train, y_train, X_test, y_test, X_test_ori, y_test_ori, order, parameters, nb_var\n",
    "):\n",
    "    \"\"\"\n",
    "    function that train a SVM model, found best parameters and return performance resutls and best parameters\n",
    "    input :\n",
    "        - X_train, y_train, X_test, y_test: typical datasets for training a ML model\n",
    "        - order : the variables importance order\n",
    "        - parameters :\n",
    "        - nb_var : the number of feature selected for the model\n",
    "\n",
    "    output :\n",
    "        - best_params :parameters of the best model\n",
    "        - cm: confusion matrix of the best model\n",
    "        - df_res : performance of prediction results\n",
    "        - df_roc: dataframe to draw ROC curve.\n",
    "    \"\"\"\n",
    "    # train the model\n",
    "    svc = SVC(probability=True)\n",
    "    clf = GridSearchCV(svc, parameters, cv=5, n_jobs=11)\n",
    "    clf.fit(X_train[order[0:nb_var]], y_train)\n",
    "    best_params = clf.best_params_\n",
    "\n",
    "    ### test the model\n",
    "    # on avatar test\n",
    "    res_avat, df_roc_avat, cm_avat = ml_results(\n",
    "        clf, X_train[order[0:nb_var]], y_train, X_test[order[0:nb_var]], y_test\n",
    "    )\n",
    "    # on original test\n",
    "    res_ori, df_roc_ori, cm_ori = ml_results(\n",
    "        clf, X_train[order[0:nb_var]], y_train, X_test_ori[order[0:nb_var]], y_test_ori\n",
    "    )\n",
    "\n",
    "    return (best_params, cm_avat, res_avat, df_roc_avat, cm_ori, res_ori, df_roc_ori)"
   ]
  },
  {
   "cell_type": "code",
   "execution_count": 5,
   "metadata": {
    "ExecuteTime": {
     "end_time": "2021-09-15T14:45:52.388107Z",
     "start_time": "2021-09-15T14:45:52.384729Z"
    }
   },
   "outputs": [],
   "source": [
    "def preparation(df, iter, k):\n",
    "    \"\"\"\n",
    "    small function which reshape and transform the df WBCD\n",
    "    \"\"\"\n",
    "    df = df[df[\"iter_k\"] == iter]\n",
    "    df = df[df[\"k\"] == k]\n",
    "    df.drop(columns=[\"k\", \"id_ind\", \"iter_k\"], axis=1, inplace=True)\n",
    "\n",
    "    df.Class = df.Class.replace(2, 0)\n",
    "    df.Class = df.Class.replace(4, 1)\n",
    "\n",
    "    return df"
   ]
  },
  {
   "cell_type": "markdown",
   "metadata": {},
   "source": [
    "## SVM computation\n",
    "\n",
    "This section compare prediction performance using avatar and original data.\n"
   ]
  },
  {
   "cell_type": "markdown",
   "metadata": {
    "ExecuteTime": {
     "end_time": "2021-08-19T14:28:42.114341Z",
     "start_time": "2021-08-19T14:28:42.112147Z"
    }
   },
   "source": [
    "### On original data\n",
    "\n",
    "For orginal data, we perform 100 different train/test 70/30 splits datasets.  \n",
    "For each split we train a SVM model and test our model in the test section.\n",
    "\n",
    "Computation is time consummming, results are save in a df and imported later."
   ]
  },
  {
   "cell_type": "code",
   "execution_count": 6,
   "metadata": {
    "ExecuteTime": {
     "end_time": "2021-09-15T14:45:53.112378Z",
     "start_time": "2021-09-15T14:45:53.101688Z"
    }
   },
   "outputs": [
    {
     "data": {
      "text/html": [
       "<div>\n",
       "<style scoped>\n",
       "    .dataframe tbody tr th:only-of-type {\n",
       "        vertical-align: middle;\n",
       "    }\n",
       "\n",
       "    .dataframe tbody tr th {\n",
       "        vertical-align: top;\n",
       "    }\n",
       "\n",
       "    .dataframe thead th {\n",
       "        text-align: right;\n",
       "    }\n",
       "</style>\n",
       "<table border=\"1\" class=\"dataframe\">\n",
       "  <thead>\n",
       "    <tr style=\"text-align: right;\">\n",
       "      <th></th>\n",
       "      <th>0</th>\n",
       "      <th>test</th>\n",
       "    </tr>\n",
       "  </thead>\n",
       "  <tbody>\n",
       "  </tbody>\n",
       "</table>\n",
       "</div>"
      ],
      "text/plain": [
       "Empty DataFrame\n",
       "Columns: [0, test]\n",
       "Index: []"
      ]
     },
     "execution_count": 6,
     "metadata": {},
     "output_type": "execute_result"
    }
   ],
   "source": [
    "df = pd.DataFrame(columns=[0, \"test\"])\n",
    "df"
   ]
  },
  {
   "cell_type": "raw",
   "metadata": {},
   "source": [
    "file_data  = \"../../datasets/\"\n",
    "avatar_ref = pd.read_csv(file_data + \"/WBCD/breast_cancer_wisconsin_avatarized_k20.csv\")\n",
    "data = pd.read_csv(file_data + \"/WBCD/breast_cancer_wisconsin.csv\")\n",
    "data = data.drop(\"Sample_code_number\", axis = 1)\n",
    "data.columns = ['F1', 'F2', 'F3', 'F4', 'F5', 'F6', 'F7', 'F8', 'F9', 'Class']\n",
    "order = ['F6', 'F3', 'F2', 'F7', 'F1', 'F8', 'F5', 'F4', 'F9']\n",
    "nb_var = 5\n",
    "\n",
    "data.Class = data.Class.replace(2, 0)\n",
    "data.Class = data.Class.replace(4, 1)\n",
    "\n",
    "map_object = map(lambda val : 2**val, list(range(-15,3)))\n",
    "gamma_list = list(map_object)\n",
    "map_object = map(lambda val : 2**val, list(range(-5,16)))\n",
    "C_list = list(map_object)\n",
    "parameters = {'kernel': ['rbf'], 'C': C_list, 'gamma' : gamma_list}\n",
    "\n",
    "for seed in range(100):\n",
    "    # split for model \n",
    "    data_X_train_70, data_X_test_30, data_y_train_70, data_y_test_30 = train_test_split(\n",
    "        data.drop(\"Class\", axis = 1), \n",
    "        data.Class, train_size = 0.7,\n",
    "        stratify = data.Class,\n",
    "        random_state = seed)\n",
    "\n",
    "    # train the model \n",
    "    svc = SVC(probability = True)\n",
    "    clf_ori = GridSearchCV(svc, parameters, cv = 5, n_jobs= 11)\n",
    "    clf_ori.fit(data_X_train_70[order[0:nb_var]], data_y_train_70)\n",
    "    best_params = clf_ori.best_params_\n",
    "\n",
    "\n",
    "    ### test the model \n",
    "    # on avatar test\n",
    "    res_data, df_roc_data, cm_data = ml_results(clf_ori, data_X_train_70[order[0:nb_var]], data_y_train_70, data_X_test_30[order[0:nb_var]], data_y_test_30)\n",
    "    res_data['test'] = res_data.index\n",
    "    res_data.reset_index(inplace = True, drop = True)\n",
    "    df = df.append(res_data)"
   ]
  },
  {
   "cell_type": "raw",
   "metadata": {},
   "source": [
    "df.to_csv(\"../../datasets/results_df/f_score_k_wbcd.csv\", index= False)"
   ]
  },
  {
   "cell_type": "code",
   "execution_count": 15,
   "metadata": {
    "ExecuteTime": {
     "end_time": "2021-09-15T14:46:42.939514Z",
     "start_time": "2021-09-15T14:46:42.935541Z"
    }
   },
   "outputs": [],
   "source": [
    "# load results FOR ORGINAL DATA\n",
    "df = pd.read_csv(\"../../datasets/results_df/f_score_k_wbcd.csv\")\n",
    "\n"
   ]
  },
  {
   "cell_type": "markdown",
   "metadata": {},
   "source": [
    "### On avatars data\n",
    "\n",
    "We repeated 10 different avatarizations for each k with  `k  = {4 -> 2000 by 2}`,   \n",
    "and  compute SVM models and test it."
   ]
  },
  {
   "cell_type": "raw",
   "metadata": {},
   "source": [
    "avatar_ref.Class = avatar_ref.Class.astype('category')\n"
   ]
  },
  {
   "cell_type": "raw",
   "metadata": {},
   "source": [
    "zip = zipfile.ZipFile('../../datasets/WBCD/wbcd_avatarized.zip')\n",
    "namelist = zip.namelist()\n",
    "del namelist[0]\n"
   ]
  },
  {
   "cell_type": "markdown",
   "metadata": {},
   "source": [
    "### Parameters"
   ]
  },
  {
   "cell_type": "code",
   "execution_count": 16,
   "metadata": {
    "ExecuteTime": {
     "end_time": "2021-09-15T14:46:47.368619Z",
     "start_time": "2021-09-15T14:46:47.365824Z"
    }
   },
   "outputs": [],
   "source": [
    "map_object = map(lambda val: 2 ** val, list(range(-5, 16)))\n",
    "C_list = list(map_object)\n",
    "\n",
    "map_object = map(lambda val: 2 ** val, list(range(-15, 3)))\n",
    "gamma_list = list(map_object)\n",
    "\n",
    "parameters = {\"kernel\": [\"rbf\"], \"C\": C_list, \"gamma\": gamma_list}"
   ]
  },
  {
   "cell_type": "code",
   "execution_count": 17,
   "metadata": {
    "ExecuteTime": {
     "end_time": "2021-09-15T14:46:47.523716Z",
     "start_time": "2021-09-15T14:46:47.518271Z"
    }
   },
   "outputs": [],
   "source": [
    "def loop_model(rep):\n",
    "    \"\"\"\n",
    "    Function used in the parralelle computation\n",
    "    \"\"\"\n",
    "    # Select subset df\n",
    "    avatar_A = preparation(df_temp, rep, k)\n",
    "    order = [\"F6\", \"F3\", \"F2\", \"F7\", \"F1\", \"F8\", \"F5\", \"F4\", \"F9\"]\n",
    "\n",
    "    # split for model\n",
    "    (\n",
    "        avatar_A_X_train_70,\n",
    "        avatar_A_X_test_30,\n",
    "        avatar_A_y_train_70,\n",
    "        avatar_A_y_test_30,\n",
    "    ) = train_test_split(\n",
    "        avatar_A.drop(\"Class\", axis=1),\n",
    "        avatar_A.Class,\n",
    "        train_size=0.7,\n",
    "        stratify=data.Class,\n",
    "        random_state=40,\n",
    "    )\n",
    "\n",
    "    # train test the model\n",
    "    # train test the model\n",
    "    start_time = time.time()\n",
    "    (\n",
    "        best_params_data_70_5,\n",
    "        cm_avat_70_5,\n",
    "        df_res_avat_70_5,\n",
    "        df_roc_avat_70_5,\n",
    "        cm_data_70_5,\n",
    "        df_res_data_70_5,\n",
    "        df_roc_data_70_5,\n",
    "    ) = unique_SVM_model(\n",
    "        X_train=avatar_A_X_train_70,\n",
    "        y_train=avatar_A_y_train_70,\n",
    "        X_test=avatar_A_X_test_30,\n",
    "        y_test=avatar_A_y_test_30,\n",
    "        X_test_ori=data_X_test_30,\n",
    "        y_test_ori=data_y_test_30,\n",
    "        order=order,\n",
    "        parameters=parameters,\n",
    "        nb_var=nb_feat,\n",
    "    )\n",
    "    end_time = time.time()\n",
    "    print(\"k:\", k, \"iter : \", rep, (end_time - start_time) / 60)\n",
    "\n",
    "    df = pd.concat([df_res_avat_70_5, df_res_data_70_5], axis=1).T\n",
    "    df[\"test_type\"] = [\"avatar\", \"original\"]\n",
    "    df[\"k\"] = k\n",
    "    df[\"iter_k\"] = rep\n",
    "\n",
    "    return df"
   ]
  },
  {
   "cell_type": "markdown",
   "metadata": {},
   "source": [
    "### Loop Computation\n",
    "\n",
    "this loop is doing different svm model for different avatarized dataset, results were saved and load bellow."
   ]
  },
  {
   "cell_type": "raw",
   "metadata": {},
   "source": [
    "\n",
    "results_list = list()\n",
    "pool_outputs = list()\n",
    "order_features_data = ['F3', 'F2', 'F6', 'F7', 'F1', 'F8', 'F5', 'F4', 'F9'] \n",
    "nb_feat = 5\n",
    "\n",
    "# results_df = pd.DataFrame( columns=['k', 'iter', 'acc', \"sens\", 'spec', \"ppv\", \"npv\", \"auc\" ])\n",
    "# max_pool = 10\n",
    "\n",
    "start_time_total = time.time()\n",
    "\n",
    "\n",
    "for name_temp in namelist:\n",
    "\n",
    "    # read files \n",
    "    df_temp = pd.read_csv(zip.open(name_temp))\n",
    "\n",
    "    # reshape files\n",
    "    if df_temp.columns[0] == 'Unnamed: 0' : \n",
    "        df_temp.drop(columns = 'Unnamed: 0', axis = 1, inplace= True)\n",
    "\n",
    "    df_temp.columns = ['F1', 'F2', 'F3', 'F4', 'F5', 'F6', 'F7', 'F8', 'F9', 'Class', 'k', 'id_ind', 'iter_k']\n",
    "    k = np.unique(df_temp['k'])[0]\n",
    "\n",
    "    inp = np.unique(df_temp['iter_k'])\n",
    "\n",
    "    # modeling loop \n",
    "    for iter in inp:\n",
    "        pool_outputs.append(loop_model(iter))\n",
    "\n",
    "# save results\n",
    "result_k = pd.concat(pool_outputs, axis=0)\n",
    "\n",
    "end_time_total = time.time()\n",
    "print(\"/n total time : \", (end_time_total - start_time_total) / 60)\n",
    "\n"
   ]
  },
  {
   "cell_type": "raw",
   "metadata": {
    "ExecuteTime": {
     "end_time": "2021-09-15T14:46:13.530968Z",
     "start_time": "2021-09-15T14:46:13.528374Z"
    }
   },
   "source": [
    "result_k.to_csv(\"../../datasets/accuracy_k_wbcd.csv\", index= False)"
   ]
  },
  {
   "cell_type": "markdown",
   "metadata": {},
   "source": [
    "### Import result data and do figure"
   ]
  },
  {
   "cell_type": "code",
   "execution_count": 18,
   "metadata": {
    "ExecuteTime": {
     "end_time": "2021-09-15T14:47:07.646385Z",
     "start_time": "2021-09-15T14:47:07.640126Z"
    }
   },
   "outputs": [],
   "source": [
    "result_k = pd.read_csv(\"../../datasets/results_df/accuracy_k_wbcd.csv\")\n",
    "\n",
    "\n",
    "# subset to plot onlu avatar train -avatar test\n",
    "# (and remove avatar train, original test)\n",
    "result_k = result_k[result_k[\"test_type\"] == \"avatar\"]"
   ]
  },
  {
   "cell_type": "markdown",
   "metadata": {},
   "source": [
    "## Result vizualisation  \n",
    "\n",
    "We are here visualize the Area under the curve (AUC) according k value, and comparing the evolution of the ciurve with the original data results."
   ]
  },
  {
   "cell_type": "code",
   "execution_count": 20,
   "metadata": {
    "ExecuteTime": {
     "end_time": "2021-09-15T14:47:12.669545Z",
     "start_time": "2021-09-15T14:47:12.659998Z"
    }
   },
   "outputs": [],
   "source": [
    "mean = df.groupby([\"test\"]).aggregate([\"mean\", \"count\", \"std\"])\n",
    "\n",
    "ci95_hi = []\n",
    "ci95_lo = []\n",
    "\n",
    "for i in mean.index:\n",
    "    m, c, s = mean.loc[i]\n",
    "    ci95_hi.append(m + 1.95 * s / math.sqrt(c))\n",
    "    ci95_lo.append(m - 1.95 * s / math.sqrt(c))\n",
    "\n",
    "mean[\"ci95_hi\"] = ci95_hi\n",
    "mean[\"ci95_lo\"] = ci95_lo\n",
    "\n"
   ]
  },
  {
   "cell_type": "code",
   "execution_count": 21,
   "metadata": {
    "ExecuteTime": {
     "end_time": "2021-09-15T14:47:13.771085Z",
     "start_time": "2021-09-15T14:47:13.112113Z"
    },
    "scrolled": false
   },
   "outputs": [
    {
     "data": {
      "image/png": "[encoded data removed]",
      "text/plain": [
       "<Figure size 1008x576 with 1 Axes>"
      ]
     },
     "metadata": {},
     "output_type": "display_data"
    }
   ],
   "source": [
    "paper_rc = {\"lines.linewidth\": 2, \"lines.markersize\": 10}\n",
    "sns.set_style(\"whitegrid\")\n",
    "sns.set_context(\"paper\", font_scale=2, rc=paper_rc)\n",
    "with plt.style.context(\"seaborn-whitegrid\"):\n",
    "    plt.rcParams[\"axes.edgecolor\"] = \"0.15\"\n",
    "    plt.rcParams[\"axes.linewidth\"] = 1.25\n",
    "    plt.rcParams[\"font.family\"] = \"sans-serif\"\n",
    "    plt.rcParams[\"font.sans-serif\"] = [\"Helvetica\"]\n",
    "    fig = plt.figure(figsize=(14, 8))  # create a figure object\n",
    "    ax1 = fig.add_subplot()\n",
    "\n",
    "\n",
    "plt.axhline(y=mean.loc[\"auc\", (\"0\", \"mean\")], color=\"#ED6A5A\", linestyle=\"-\")\n",
    "plt.axhline(y=mean.loc[\"auc\", (\"ci95_hi\", \"\")], color=\"#ED6A5A\", linestyle=\"--\")\n",
    "plt.axhline(y=mean.loc[\"auc\", (\"ci95_lo\", \"\")], color=\"#ED6A5A\", linestyle=\"--\")\n",
    "\n",
    "\n",
    "sns.set_style(\"whitegrid\")\n",
    "ax = sns.lineplot(\n",
    "    data=result_k,\n",
    "    x=\"k\",\n",
    "    y=\"auc\",\n",
    "    ci=95,\n",
    "    hue=\"test_type\",\n",
    "    style=\"test_type\",\n",
    "    err_style=\"band\",\n",
    "    markers=True,\n",
    "    dashes=False,\n",
    "    estimator=\"mean\",\n",
    "    palette=[colors.loc[\"avatar\", \"color\"]],  # , '#1D1D1B'\n",
    ")\n",
    "\n",
    "\n",
    "handles, _ = ax.get_legend_handles_labels()\n",
    "handles.append(plt.axhline(c=\"#ED6A5A\", linestyle=\"solid\"))\n",
    "\n",
    "ax.set_xlabel(\"Number of nearest neighbors (k)\", fontsize=25)\n",
    "ax.set_ylabel(\"Area under the curve\", fontsize=25)\n",
    "ax.set(ylim=(0.90, 1), xlim=(0, 342))\n",
    "\n",
    "\n",
    "legend = plt.legend(\n",
    "    loc=\"lower left\",\n",
    "    frameon=1,\n",
    "    title=\"\",\n",
    "    labels=[\"Avatar Train - Avatar Test\", \"Original Train - Original Test\"],\n",
    "    handles=handles[:],\n",
    ")\n",
    "\n",
    "\n",
    "plt.savefig(\"../../figure/WBCD_auc_variousK_70_30.svg\", format=\"svg\", dpi=600)\n",
    "\n",
    "plt.show()"
   ]
  },
  {
   "cell_type": "code",
   "execution_count": null,
   "metadata": {},
   "outputs": [],
   "source": []
  },
  {
   "cell_type": "code",
   "execution_count": null,
   "metadata": {},
   "outputs": [],
   "source": []
  }
 ],
 "metadata": {
  "kernelspec": {
   "display_name": "Python 3 (ipykernel)",
   "language": "python",
   "name": "python3"
  },
  "language_info": {
   "codemirror_mode": {
    "name": "ipython",
    "version": 3
   },
   "file_extension": ".py",
   "mimetype": "text/x-python",
   "name": "python",
   "nbconvert_exporter": "python",
   "pygments_lexer": "ipython3",
   "version": "3.8.0"
  },
  "toc": {
   "base_numbering": 1,
   "nav_menu": {},
   "number_sections": true,
   "sideBar": true,
   "skip_h1_title": false,
   "title_cell": "Table of Contents",
   "title_sidebar": "Contents",
   "toc_cell": false,
   "toc_position": {},
   "toc_section_display": true,
   "toc_window_display": true
  }
 },
 "nbformat": 4,
 "nbformat_minor": 2
}
