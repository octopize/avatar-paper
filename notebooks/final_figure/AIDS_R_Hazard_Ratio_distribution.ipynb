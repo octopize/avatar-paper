{
 "cells": [
  {
   "cell_type": "markdown",
   "id": "1e3020fc",
   "metadata": {},
   "source": [
    "## Libraries import"
   ]
  },
  {
   "cell_type": "code",
   "execution_count": 1,
   "id": "6cf5ff30",
   "metadata": {
    "scrolled": true
   },
   "outputs": [
    {
     "name": "stderr",
     "output_type": "stream",
     "text": [
      "Warning message:\n",
      "\"package 'tidyverse' was built under R version 3.6.3\"\n",
      "-- \u001b[1mAttaching packages\u001b[22m ------------------------------------------------------------------------------- tidyverse 1.3.1 --\n",
      "\n",
      "\u001b[32mv\u001b[39m \u001b[34mggplot2\u001b[39m 3.3.3     \u001b[32mv\u001b[39m \u001b[34mpurrr  \u001b[39m 0.3.4\n",
      "\u001b[32mv\u001b[39m \u001b[34mtibble \u001b[39m 3.1.1     \u001b[32mv\u001b[39m \u001b[34mdplyr  \u001b[39m 1.0.6\n",
      "\u001b[32mv\u001b[39m \u001b[34mtidyr  \u001b[39m 1.1.3     \u001b[32mv\u001b[39m \u001b[34mstringr\u001b[39m 1.4.0\n",
      "\u001b[32mv\u001b[39m \u001b[34mreadr  \u001b[39m 1.4.0     \u001b[32mv\u001b[39m \u001b[34mforcats\u001b[39m 0.5.1\n",
      "\n",
      "Warning message:\n",
      "\"package 'ggplot2' was built under R version 3.6.3\"\n",
      "Warning message:\n",
      "\"package 'tibble' was built under R version 3.6.3\"\n",
      "Warning message:\n",
      "\"package 'tidyr' was built under R version 3.6.3\"\n",
      "Warning message:\n",
      "\"package 'readr' was built under R version 3.6.3\"\n",
      "Warning message:\n",
      "\"package 'purrr' was built under R version 3.6.3\"\n",
      "Warning message:\n",
      "\"package 'dplyr' was built under R version 3.6.3\"\n",
      "Warning message:\n",
      "\"package 'stringr' was built under R version 3.6.3\"\n",
      "Warning message:\n",
      "\"package 'forcats' was built under R version 3.6.3\"\n",
      "-- \u001b[1mConflicts\u001b[22m ---------------------------------------------------------------------------------- tidyverse_conflicts() --\n",
      "\u001b[31mx\u001b[39m \u001b[34mdplyr\u001b[39m::\u001b[32mfilter()\u001b[39m masks \u001b[34mstats\u001b[39m::filter()\n",
      "\u001b[31mx\u001b[39m \u001b[34mdplyr\u001b[39m::\u001b[32mlag()\u001b[39m    masks \u001b[34mstats\u001b[39m::lag()\n",
      "\n",
      "Warning message:\n",
      "\"package 'survival' was built under R version 3.6.3\"\n",
      "Warning message:\n",
      "\"package 'mice' was built under R version 3.6.3\"\n",
      "\n",
      "Attaching package: 'mice'\n",
      "\n",
      "\n",
      "The following object is masked from 'package:stats':\n",
      "\n",
      "    filter\n",
      "\n",
      "\n",
      "The following objects are masked from 'package:base':\n",
      "\n",
      "    cbind, rbind\n",
      "\n",
      "\n",
      "Warning message:\n",
      "\"package 'ggridges' was built under R version 3.6.3\"\n"
     ]
    }
   ],
   "source": [
    "library(tidyverse)\n",
    "library(survival)\n",
    "library(mice)\n",
    "library(ggridges)"
   ]
  },
  {
   "cell_type": "markdown",
   "id": "73e936e4",
   "metadata": {},
   "source": [
    "## Data loading"
   ]
  },
  {
   "cell_type": "code",
   "execution_count": 2,
   "id": "d642bd65",
   "metadata": {},
   "outputs": [],
   "source": [
    "avatar_100 <- read.csv(\"../../datasets/AIDS/AIDS_base_100times.csv\", na.strings = c(\"NA\", \"\", NA))\n",
    "categorical <- c(\"hemo\", \"homo\", \"drugs\", \"karnof\", \"oprior\", \"z30\", \"zprior\", \"race\", \"gender\", \"str2\", \"strat\", \"symptom\", \"treat\", \"offtrt\", \"r\", \"cens\", \"arms\")\n",
    "avatar_100[categorical] <- lapply(avatar_100[categorical], factor)"
   ]
  },
  {
   "cell_type": "code",
   "execution_count": 3,
   "id": "bb69ec76",
   "metadata": {
    "scrolled": true
   },
   "outputs": [
    {
     "data": {
      "text/html": [
       "<table class=\"dataframe\">\n",
       "<caption>A data.frame: 6 × 27</caption>\n",
       "<thead>\n",
       "\t<tr><th></th><th scope=col>age</th><th scope=col>wtkg</th><th scope=col>hemo</th><th scope=col>homo</th><th scope=col>drugs</th><th scope=col>karnof</th><th scope=col>oprior</th><th scope=col>z30</th><th scope=col>zprior</th><th scope=col>preanti</th><th scope=col>...</th><th scope=col>cd40</th><th scope=col>cd420</th><th scope=col>cd496</th><th scope=col>r</th><th scope=col>cd80</th><th scope=col>cd820</th><th scope=col>cens</th><th scope=col>days</th><th scope=col>arms</th><th scope=col>iter</th></tr>\n",
       "\t<tr><th></th><th scope=col>&lt;int&gt;</th><th scope=col>&lt;dbl&gt;</th><th scope=col>&lt;fct&gt;</th><th scope=col>&lt;fct&gt;</th><th scope=col>&lt;fct&gt;</th><th scope=col>&lt;fct&gt;</th><th scope=col>&lt;fct&gt;</th><th scope=col>&lt;fct&gt;</th><th scope=col>&lt;fct&gt;</th><th scope=col>&lt;int&gt;</th><th scope=col>...</th><th scope=col>&lt;int&gt;</th><th scope=col>&lt;int&gt;</th><th scope=col>&lt;dbl&gt;</th><th scope=col>&lt;fct&gt;</th><th scope=col>&lt;int&gt;</th><th scope=col>&lt;int&gt;</th><th scope=col>&lt;fct&gt;</th><th scope=col>&lt;int&gt;</th><th scope=col>&lt;fct&gt;</th><th scope=col>&lt;int&gt;</th></tr>\n",
       "</thead>\n",
       "<tbody>\n",
       "\t<tr><th scope=row>1</th><td>36</td><td>70.9300</td><td>0</td><td>0</td><td>0</td><td>100</td><td>0</td><td>0</td><td>1</td><td>   0</td><td>...</td><td>379</td><td>490</td><td>524</td><td>1</td><td> 596</td><td> 695</td><td>0</td><td>1055</td><td>2</td><td>0</td></tr>\n",
       "\t<tr><th scope=row>2</th><td>24</td><td>59.0705</td><td>0</td><td>0</td><td>0</td><td>100</td><td>0</td><td>1</td><td>1</td><td> 653</td><td>...</td><td>186</td><td>195</td><td> NA</td><td>0</td><td> 652</td><td> 721</td><td>0</td><td> 987</td><td>1</td><td>0</td></tr>\n",
       "\t<tr><th scope=row>3</th><td>40</td><td>77.4000</td><td>0</td><td>1</td><td>0</td><td>90 </td><td>0</td><td>1</td><td>1</td><td>1013</td><td>...</td><td>318</td><td>258</td><td>273</td><td>1</td><td>2164</td><td>1493</td><td>0</td><td> 987</td><td>2</td><td>0</td></tr>\n",
       "\t<tr><th scope=row>4</th><td>39</td><td>75.4000</td><td>0</td><td>1</td><td>0</td><td>90 </td><td>0</td><td>1</td><td>1</td><td> 933</td><td>...</td><td>313</td><td>351</td><td> NA</td><td>0</td><td>1188</td><td> 956</td><td>0</td><td>1099</td><td>3</td><td>0</td></tr>\n",
       "\t<tr><th scope=row>5</th><td>33</td><td>75.5930</td><td>0</td><td>1</td><td>0</td><td>100</td><td>0</td><td>1</td><td>1</td><td>1092</td><td>...</td><td>433</td><td>409</td><td>468</td><td>1</td><td> 703</td><td> 708</td><td>0</td><td>1118</td><td>0</td><td>0</td></tr>\n",
       "\t<tr><th scope=row>6</th><td>41</td><td>84.8770</td><td>0</td><td>1</td><td>0</td><td>100</td><td>0</td><td>1</td><td>1</td><td>1106</td><td>...</td><td>296</td><td>333</td><td>413</td><td>1</td><td>1037</td><td> 687</td><td>0</td><td>1153</td><td>3</td><td>0</td></tr>\n",
       "</tbody>\n",
       "</table>\n"
      ],
      "text/latex": [
       "A data.frame: 6 × 27\n",
       "\\begin{tabular}{r|lllllllllllllllllllll}\n",
       "  & age & wtkg & hemo & homo & drugs & karnof & oprior & z30 & zprior & preanti & ... & cd40 & cd420 & cd496 & r & cd80 & cd820 & cens & days & arms & iter\\\\\n",
       "  & <int> & <dbl> & <fct> & <fct> & <fct> & <fct> & <fct> & <fct> & <fct> & <int> & ... & <int> & <int> & <dbl> & <fct> & <int> & <int> & <fct> & <int> & <fct> & <int>\\\\\n",
       "\\hline\n",
       "\t1 & 36 & 70.9300 & 0 & 0 & 0 & 100 & 0 & 0 & 1 &    0 & ... & 379 & 490 & 524 & 1 &  596 &  695 & 0 & 1055 & 2 & 0\\\\\n",
       "\t2 & 24 & 59.0705 & 0 & 0 & 0 & 100 & 0 & 1 & 1 &  653 & ... & 186 & 195 &  NA & 0 &  652 &  721 & 0 &  987 & 1 & 0\\\\\n",
       "\t3 & 40 & 77.4000 & 0 & 1 & 0 & 90  & 0 & 1 & 1 & 1013 & ... & 318 & 258 & 273 & 1 & 2164 & 1493 & 0 &  987 & 2 & 0\\\\\n",
       "\t4 & 39 & 75.4000 & 0 & 1 & 0 & 90  & 0 & 1 & 1 &  933 & ... & 313 & 351 &  NA & 0 & 1188 &  956 & 0 & 1099 & 3 & 0\\\\\n",
       "\t5 & 33 & 75.5930 & 0 & 1 & 0 & 100 & 0 & 1 & 1 & 1092 & ... & 433 & 409 & 468 & 1 &  703 &  708 & 0 & 1118 & 0 & 0\\\\\n",
       "\t6 & 41 & 84.8770 & 0 & 1 & 0 & 100 & 0 & 1 & 1 & 1106 & ... & 296 & 333 & 413 & 1 & 1037 &  687 & 0 & 1153 & 3 & 0\\\\\n",
       "\\end{tabular}\n"
      ],
      "text/markdown": [
       "\n",
       "A data.frame: 6 × 27\n",
       "\n",
       "| <!--/--> | age &lt;int&gt; | wtkg &lt;dbl&gt; | hemo &lt;fct&gt; | homo &lt;fct&gt; | drugs &lt;fct&gt; | karnof &lt;fct&gt; | oprior &lt;fct&gt; | z30 &lt;fct&gt; | zprior &lt;fct&gt; | preanti &lt;int&gt; | ... ... | cd40 &lt;int&gt; | cd420 &lt;int&gt; | cd496 &lt;dbl&gt; | r &lt;fct&gt; | cd80 &lt;int&gt; | cd820 &lt;int&gt; | cens &lt;fct&gt; | days &lt;int&gt; | arms &lt;fct&gt; | iter &lt;int&gt; |\n",
       "|---|---|---|---|---|---|---|---|---|---|---|---|---|---|---|---|---|---|---|---|---|---|\n",
       "| 1 | 36 | 70.9300 | 0 | 0 | 0 | 100 | 0 | 0 | 1 |    0 | ... | 379 | 490 | 524 | 1 |  596 |  695 | 0 | 1055 | 2 | 0 |\n",
       "| 2 | 24 | 59.0705 | 0 | 0 | 0 | 100 | 0 | 1 | 1 |  653 | ... | 186 | 195 |  NA | 0 |  652 |  721 | 0 |  987 | 1 | 0 |\n",
       "| 3 | 40 | 77.4000 | 0 | 1 | 0 | 90  | 0 | 1 | 1 | 1013 | ... | 318 | 258 | 273 | 1 | 2164 | 1493 | 0 |  987 | 2 | 0 |\n",
       "| 4 | 39 | 75.4000 | 0 | 1 | 0 | 90  | 0 | 1 | 1 |  933 | ... | 313 | 351 |  NA | 0 | 1188 |  956 | 0 | 1099 | 3 | 0 |\n",
       "| 5 | 33 | 75.5930 | 0 | 1 | 0 | 100 | 0 | 1 | 1 | 1092 | ... | 433 | 409 | 468 | 1 |  703 |  708 | 0 | 1118 | 0 | 0 |\n",
       "| 6 | 41 | 84.8770 | 0 | 1 | 0 | 100 | 0 | 1 | 1 | 1106 | ... | 296 | 333 | 413 | 1 | 1037 |  687 | 0 | 1153 | 3 | 0 |\n",
       "\n"
      ],
      "text/plain": [
       "  age wtkg    hemo homo drugs karnof oprior z30 zprior preanti ... cd40 cd420\n",
       "1 36  70.9300 0    0    0     100    0      0   1         0    ... 379  490  \n",
       "2 24  59.0705 0    0    0     100    0      1   1       653    ... 186  195  \n",
       "3 40  77.4000 0    1    0     90     0      1   1      1013    ... 318  258  \n",
       "4 39  75.4000 0    1    0     90     0      1   1       933    ... 313  351  \n",
       "5 33  75.5930 0    1    0     100    0      1   1      1092    ... 433  409  \n",
       "6 41  84.8770 0    1    0     100    0      1   1      1106    ... 296  333  \n",
       "  cd496 r cd80 cd820 cens days arms iter\n",
       "1 524   1  596  695  0    1055 2    0   \n",
       "2  NA   0  652  721  0     987 1    0   \n",
       "3 273   1 2164 1493  0     987 2    0   \n",
       "4  NA   0 1188  956  0    1099 3    0   \n",
       "5 468   1  703  708  0    1118 0    0   \n",
       "6 413   1 1037  687  0    1153 3    0   "
      ]
     },
     "metadata": {},
     "output_type": "display_data"
    }
   ],
   "source": [
    "head(avatar_100)"
   ]
  },
  {
   "cell_type": "code",
   "execution_count": 4,
   "id": "0cb9b296",
   "metadata": {},
   "outputs": [],
   "source": [
    "res_original <- read.csv(\"../../datasets/results_df/supplemental_table_aids.csv\")\n",
    "res_original <- subset(res_original, subset = str_detect(X, \"Original\"))\n",
    "res_original$arm <- c(\"arms1\", \"arms2\", \"arms3\") \n",
    "res_original$y <- c(1,2,3)"
   ]
  },
  {
   "cell_type": "markdown",
   "id": "a41dbd8c",
   "metadata": {},
   "source": [
    "## Graphical parameters"
   ]
  },
  {
   "cell_type": "code",
   "execution_count": 5,
   "id": "f902e6a9",
   "metadata": {},
   "outputs": [],
   "source": [
    "colors <- read.csv(\"../../color.csv\", stringsAsFactors = FALSE)\n",
    "rownames(colors) <- colors$type"
   ]
  },
  {
   "cell_type": "code",
   "execution_count": 6,
   "id": "c2164a3a",
   "metadata": {},
   "outputs": [],
   "source": [
    "axis_title_size <- 19\n",
    "axis_text_size <- 19\n",
    "legend_text_size <- 19\n",
    "legend_title_size <- 19"
   ]
  },
  {
   "cell_type": "markdown",
   "id": "13d1d734",
   "metadata": {},
   "source": [
    "## Survival analysis"
   ]
  },
  {
   "cell_type": "code",
   "execution_count": 7,
   "id": "f525b3b9",
   "metadata": {
    "scrolled": true
   },
   "outputs": [],
   "source": [
    "defaultW <- getOption(\"warn\")\n",
    "options(warn = -1)\n",
    "res_avatar_100 <- data.frame()\n",
    "for (i in unique(avatar_100$iter)) {\n",
    "    avatar_temp <- subset(x = avatar_100, subset = (iter == i))\n",
    "    avatar_imp <- complete(mice(avatar_temp, m = 1, maxit = 50, seed = 500, printFlag = FALSE), 1)\n",
    "    avatar_temp$cd496 <- avatar_imp$cd496 \n",
    "    summary_cox <- summary(coxph(Surv(time = days/7, event = cens == 1) ~ arms, data = avatar_temp))\n",
    "    res_avatar <- data.frame(cbind(summary_cox$coefficients[, c(\"exp(coef)\", \"Pr(>|z|)\")], summary_cox$conf.int[, c(\"lower .95\", \"upper .95\")]))\n",
    "    res_avatar$iter <- i\n",
    "    res_avatar$arm <- rownames(res_avatar)\n",
    "    res_avatar_100 <- rbind(res_avatar_100, res_avatar)\n",
    "}\n",
    "options(warn = defaultW)"
   ]
  },
  {
   "cell_type": "code",
   "execution_count": 8,
   "id": "703a2b64",
   "metadata": {},
   "outputs": [
    {
     "name": "stderr",
     "output_type": "stream",
     "text": [
      "Picking joint bandwidth of 0.0161\n",
      "\n"
     ]
    },
    {
     "data": {
      "image/png": "[encoded data removed]",
      "text/plain": [
       "plot without title"
      ]
     },
     "metadata": {
      "image/png": {
       "height": 360,
       "width": 480
      }
     },
     "output_type": "display_data"
    }
   ],
   "source": [
    "options(repr.plot.width = 8, repr.plot.height = 6)\n",
    "ggplot() +\n",
    "    geom_density_ridges(data = res_avatar_100, aes(x = exp.coef., y = arm), scale = 0.9, size = 0.2, fill = colors[\"avatar\", \"color\"], alpha = 0.5) +\n",
    "    geom_vline(xintercept = 1, lty = 2) +\n",
    "    geom_segment(data = res_original, aes(x = Hazard.Ratio, xend = Hazard.Ratio, y = y - 0.01, yend = y + 0.9), col = colors[\"original\", \"color\"], size = 1.4, lty = 2) +\n",
    "    theme_bw() +\n",
    "    ylab(\"\") +\n",
    "    xlim(c(0.25,1)) +\n",
    "    xlab(\"Hazard Ratio\") +\n",
    "    scale_y_discrete(labels = c(\"Arm 1\", \"Arm 2\", \"Arm 3\"), expand = expansion(mult = c(0.1, 0.35))) +\n",
    "    theme(axis.title.x = element_text(size = axis_title_size, face = \"bold\"),\n",
    "          axis.text.x = element_text(size = axis_text_size),\n",
    "          axis.text.y = element_text(color = \"gray30\", size = axis_text_size, face = \"bold\"))"
   ]
  },
  {
   "cell_type": "code",
   "execution_count": 9,
   "id": "73a49fd5",
   "metadata": {},
   "outputs": [
    {
     "name": "stderr",
     "output_type": "stream",
     "text": [
      "Picking joint bandwidth of 0.0161\n",
      "\n"
     ]
    },
    {
     "data": {
      "image/png": "[encoded data removed]",
      "text/plain": [
       "plot without title"
      ]
     },
     "metadata": {
      "image/png": {
       "height": 360,
       "width": 480
      }
     },
     "output_type": "display_data"
    }
   ],
   "source": [
    "options(repr.plot.width = 8, repr.plot.height = 6)\n",
    "ggplot() +\n",
    "    geom_density_ridges(data = res_avatar_100, aes(x = exp.coef., y = arm), scale = 0.9, size = 0.2, fill = colors[\"avatar\", \"color\"], alpha = 0.5) +\n",
    "    geom_vline(xintercept = 1, lty = 2) +\n",
    "    geom_point(data = res_original, aes(x = Hazard.Ratio, y = y + 0.02), col = colors[\"original\", \"color\"], size = 4) +\n",
    "    theme_bw() +\n",
    "    ylab(\"\") +\n",
    "    xlim(c(0.3,1)) +\n",
    "    xlab(\"Hazard Ratio\") +\n",
    "    scale_y_discrete(labels = c(\"Arm 1\", \"Arm 2\", \"Arm 3\"), expand = expansion(mult = c(0.1, 0.35))) +\n",
    "    theme(axis.title.x = element_text(size = axis_title_size, face = \"bold\"),\n",
    "          axis.text.x = element_text(size = axis_text_size),\n",
    "          axis.text.y = element_text(color = \"gray30\", size = axis_text_size, face = \"bold\"))"
   ]
  }
 ],
 "metadata": {
  "kernelspec": {
   "display_name": "R",
   "language": "R",
   "name": "ir"
  },
  "language_info": {
   "codemirror_mode": "r",
   "file_extension": ".r",
   "mimetype": "text/x-r-source",
   "name": "R",
   "pygments_lexer": "r",
   "version": "3.6.1"
  }
 },
 "nbformat": 4,
 "nbformat_minor": 5
}
