{
 "cells": [
  {
   "cell_type": "markdown",
   "id": "d450a542",
   "metadata": {},
   "source": [
    "# WBCD dataset: Features selection and prediction of cancer diagnosis"
   ]
  },
  {
   "cell_type": "markdown",
   "id": "5adfc3e1",
   "metadata": {},
   "source": [
    "On this notebook, we present the Python code to display the figure 2d and the supplementary table 2 of the [article](https://www.researchsquare.com/article/rs-1674043/v1).  \n",
    "\n",
    "The methodology was inspired by the following article:  \n",
    "\n",
    "Akay, F. (2009). Support vector machines combined with feature selection for breast cancer diagnosis. *Expert Systems with Applications*, 36(2), p. 3240-3247. doi: 10.1016/j.eswa.2008.01.009\n",
    "\n",
    "To test the performances of the original and the avatarized datasets, we performed 100 different train/test 70/30 splits with the same stratification.\n",
    "\n",
    "For each split : \n",
    "- We computed F-scores for each feature with the f_score function.\n",
    "- We trained a SVM model with the 5 best features selected."
   ]
  },
  {
   "cell_type": "markdown",
   "id": "159d1d3b",
   "metadata": {},
   "source": [
    "## Packages import"
   ]
  },
  {
   "cell_type": "code",
   "execution_count": 1,
   "id": "3b121956",
   "metadata": {
    "ExecuteTime": {
     "end_time": "2021-12-20T11:05:38.862732Z",
     "start_time": "2021-12-20T11:05:37.978791Z"
    }
   },
   "outputs": [],
   "source": [
    "# General packages required\n",
    "import numpy as np\n",
    "import pandas as pd\n",
    "import os\n",
    "import sys\n",
    "from datetime import date\n",
    "import time\n",
    "import math\n",
    "\n",
    "# Graphical display packages\n",
    "import matplotlib.pyplot as plt\n",
    "from matplotlib import use\n",
    "import seaborn as sns\n",
    "\n",
    "# Machine Learning tools packages\n",
    "from sklearn.svm import SVC\n",
    "from sklearn.model_selection import train_test_split\n",
    "from sklearn.model_selection import GridSearchCV\n",
    "from sklearn.model_selection import cross_val_score\n",
    "from sklearn import metrics"
   ]
  },
  {
   "cell_type": "markdown",
   "id": "353b3b5f",
   "metadata": {},
   "source": [
    "## Specific functions created"
   ]
  },
  {
   "cell_type": "code",
   "execution_count": 2,
   "id": "7159f6ce",
   "metadata": {
    "ExecuteTime": {
     "end_time": "2021-12-20T11:05:38.984366Z",
     "start_time": "2021-12-20T11:05:38.981433Z"
    }
   },
   "outputs": [],
   "source": [
    "def round_spec(val, dec=2):\n",
    "    \"\"\"\n",
    "    Specific round format for quantitative variable\n",
    "    Input:\n",
    "        - val: continuous value\n",
    "        - dec: number of decimals for the value (2 by default)\n",
    "    Output:\n",
    "        - string with the value in the correct format\n",
    "    \"\"\"\n",
    "    return (\"{:.\" + str(dec) + \"f}\").format(val)"
   ]
  },
  {
   "cell_type": "code",
   "execution_count": 3,
   "id": "98b22106",
   "metadata": {
    "ExecuteTime": {
     "end_time": "2021-12-20T11:05:39.212566Z",
     "start_time": "2021-12-20T11:05:39.203468Z"
    }
   },
   "outputs": [],
   "source": [
    "def f_score(X, y, val1=2, val2=4):\n",
    "    \"\"\"\n",
    "    Computation of F-score for each feature.\n",
    "    Input:\n",
    "        - X is the feature\n",
    "        - y is the ouput variable\n",
    "        - val1 and val2 are the two modalities taken by y\n",
    "\n",
    "    Output:\n",
    "        - F-score of the variable X compared to y\n",
    "    \"\"\"\n",
    "    X1 = X[y == val1]\n",
    "    X2 = X[y == val2]\n",
    "    mean_X = X.mean()\n",
    "    mean_X1 = X1.mean()\n",
    "    mean_X2 = X2.mean()\n",
    "    n_X1 = len(X1)\n",
    "    n_X2 = len(X2)\n",
    "    sum_X1 = ((X1 - mean_X1) ** 2).sum()\n",
    "    sum_X2 = ((X2 - mean_X2) ** 2).sum()\n",
    "    return ((mean_X1 - mean_X) ** 2 + (mean_X2 - mean_X) ** 2) / (\n",
    "        ((1 / (n_X1 - 1)) * sum_X1) + ((1 / (n_X2 - 1)) * sum_X2)\n",
    "    )"
   ]
  },
  {
   "cell_type": "code",
   "execution_count": 4,
   "id": "50bc2717",
   "metadata": {
    "ExecuteTime": {
     "end_time": "2021-12-20T11:05:39.973304Z",
     "start_time": "2021-12-20T11:05:39.944021Z"
    }
   },
   "outputs": [],
   "source": [
    "def unique_SVM_model(\n",
    "    X_train, y_train, X_test, y_test, order, parameters, nb_var, njobs=11\n",
    "):\n",
    "    \"\"\"\n",
    "    Train a SVM model by founding the best parameters and returns evaluation metrics.\n",
    "    Input:\n",
    "        - X_train, y_train, X_test, y_test: train/test datasets to train the SVM model\n",
    "        - order: vector of features' order resulting from F-scores' calculation\n",
    "        - parameters: set of parameters to test to have the best parameters in the ML model\n",
    "        - nb_var: number of features selected for the model\n",
    "\n",
    "    Output:\n",
    "        - best_params: parameters used to compute the best model\n",
    "        - cm: confusion matrix of the best model\n",
    "        - df_res: dataframe with performance metrics of the best model\n",
    "        - df_roc: dataframe to draw the ROC curve of the best model\n",
    "    \"\"\"\n",
    "    svc = SVC(probability=True)\n",
    "    clf = GridSearchCV(svc, parameters, cv=10, n_jobs=njobs)\n",
    "    clf.fit(X_train[order[0:nb_var]], y_train)\n",
    "    best_params = clf.best_params_\n",
    "    cm = pd.crosstab(y_test, clf.predict(X_test[order[0:nb_var]]))\n",
    "    TP = cm.iloc[0, 0]\n",
    "    TN = cm.iloc[1, 1]\n",
    "    FP = cm.iloc[0, 1]\n",
    "    FN = cm.iloc[1, 0]\n",
    "    accuracy = (TP + TN) / (TP + TN + FP + FN)\n",
    "    sensitivity = TP / (TP + FN) * 100\n",
    "    specificity = TN / (TN + FP) * 100\n",
    "    ppv = TP / (TP + FP) * 100\n",
    "    npv = TN / (TN + FN) * 100\n",
    "    auc = metrics.roc_auc_score(\n",
    "        y_train, clf.predict_proba(X_train[order[0:nb_var]])[:, 1]\n",
    "    )\n",
    "    fpr, tpr, thresholds = metrics.roc_curve(\n",
    "        y_train, clf.predict_proba(X_train[order[0:nb_var]])[:, 1]\n",
    "    )\n",
    "    df_roc = pd.DataFrame({\"fpr\": fpr, \"tpr\": tpr, \"thresholds\": thresholds})\n",
    "    df_res = pd.DataFrame(\n",
    "        [accuracy, sensitivity, specificity, ppv, npv, auc],\n",
    "        index=[\"acc\", \"sens\", \"spec\", \"ppv\", \"npv\", \"auc\"],\n",
    "    )\n",
    "    return (best_params, cm, df_res, df_roc)"
   ]
  },
  {
   "cell_type": "markdown",
   "id": "e390d5d4",
   "metadata": {},
   "source": [
    "## Data loading"
   ]
  },
  {
   "cell_type": "code",
   "execution_count": 5,
   "id": "d4126aea",
   "metadata": {
    "ExecuteTime": {
     "end_time": "2021-12-20T11:05:42.691710Z",
     "start_time": "2021-12-20T11:05:42.680596Z"
    }
   },
   "outputs": [],
   "source": [
    "# Import the color df containing colors combination\n",
    "colors = pd.read_csv(\"../color.csv\", index_col=0)"
   ]
  },
  {
   "cell_type": "code",
   "execution_count": 6,
   "id": "77cb0304",
   "metadata": {
    "ExecuteTime": {
     "end_time": "2021-12-20T11:05:43.055715Z",
     "start_time": "2021-12-20T11:05:43.050912Z"
    }
   },
   "outputs": [],
   "source": [
    "file_data = \"../datasets/\""
   ]
  },
  {
   "cell_type": "code",
   "execution_count": 7,
   "id": "4af746e3",
   "metadata": {
    "ExecuteTime": {
     "end_time": "2021-12-20T11:05:43.908662Z",
     "start_time": "2021-12-20T11:05:43.890246Z"
    }
   },
   "outputs": [],
   "source": [
    "# we load original data and avatar data with k = 20\n",
    "data = pd.read_csv(file_data + \"WBCD/breast_cancer_wisconsin.csv\")\n",
    "data = data.drop(\"Sample_code_number\", axis=1)\n",
    "avatar = pd.read_csv(file_data + \"/WBCD/breast_cancer_wisconsin_avatarized_k20.csv\")\n",
    "synthpop = pd.read_csv(file_data + \"/WBCD/wbcd_synthpop_base.csv\")\n",
    "ctgan = pd.read_csv(file_data + \"/WBCD/wbcd_CTGAN_base_2.csv\")"
   ]
  },
  {
   "cell_type": "code",
   "execution_count": 8,
   "id": "e6787e73",
   "metadata": {
    "ExecuteTime": {
     "end_time": "2021-12-20T11:05:44.656954Z",
     "start_time": "2021-12-20T11:05:44.637568Z"
    }
   },
   "outputs": [],
   "source": [
    "data.Class = data.Class.replace(2, 0)\n",
    "data.Class = data.Class.replace(4, 1)\n",
    "\n",
    "avatar.Class = avatar.Class.replace(2, 0)\n",
    "avatar.Class = avatar.Class.replace(4, 1)\n",
    "\n",
    "synthpop.Class = synthpop.Class.replace(2, 0)\n",
    "synthpop.Class = synthpop.Class.replace(4, 1)\n",
    "\n",
    "ctgan.Class = ctgan.Class.replace(2, 0)\n",
    "ctgan.Class = ctgan.Class.replace(4, 1)"
   ]
  },
  {
   "cell_type": "markdown",
   "id": "89ce7abb",
   "metadata": {},
   "source": [
    "## Parameters"
   ]
  },
  {
   "cell_type": "code",
   "execution_count": 9,
   "id": "fd0ea208",
   "metadata": {
    "ExecuteTime": {
     "end_time": "2021-12-20T11:05:55.258363Z",
     "start_time": "2021-12-20T11:05:55.248871Z"
    }
   },
   "outputs": [],
   "source": [
    "# Parameters map for the SVM model\n",
    "map_object = map(lambda val: 2**val, list(range(-15, 3)))\n",
    "gamma_list = list(map_object)\n",
    "\n",
    "map_object = map(lambda val: 2**val, list(range(-5, 16)))\n",
    "C_list = list(map_object)\n",
    "\n",
    "parameters = {\"kernel\": [\"rbf\"], \"C\": C_list, \"gamma\": gamma_list}"
   ]
  },
  {
   "cell_type": "markdown",
   "id": "8e64e594",
   "metadata": {},
   "source": [
    "## Analysis computation "
   ]
  },
  {
   "cell_type": "markdown",
   "id": "ebe1fa61",
   "metadata": {},
   "source": [
    "The following cell is time consuming (more than 40 minutes).\n",
    "To simplify the access to the paper figures, we saved the results obtained at the end of the following function in a dataframe that you can load after this cell.   \n",
    "Thus, the execution is not required.\n",
    "If you still want to compute it, change the variable **compute** from *False* to *True* at the first line of the cell."
   ]
  },
  {
   "cell_type": "markdown",
   "id": "11385856",
   "metadata": {},
   "source": [
    "### Original - Avatar comparison "
   ]
  },
  {
   "cell_type": "code",
   "execution_count": 10,
   "id": "c2b374bd",
   "metadata": {
    "ExecuteTime": {
     "end_time": "2021-12-20T11:05:56.499186Z",
     "start_time": "2021-12-20T11:05:56.475450Z"
    }
   },
   "outputs": [],
   "source": [
    "compute = False\n",
    "\n",
    "if compute:\n",
    "    df_scores_70 = pd.DataFrame(columns=[0, \"feature\", \"type\"])\n",
    "\n",
    "    df_res_70 = pd.DataFrame(columns=[0, \"perf\", \"type\"])\n",
    "\n",
    "    order_features_data = [\n",
    "        \"Bare_Nuclei\",\n",
    "        \"Uniformity_of_Cell_Shape\",\n",
    "        \"Uniformity_of_Cell_Size\",\n",
    "        \"Bland_Chromatin\",\n",
    "        \"Clump_Thickness\",\n",
    "        \"Marginal_Adhesion\",\n",
    "        \"Normal_Nucleoli\",\n",
    "        \"Single_Epithelial_Cell_Size\",\n",
    "        \"Mitoses\",\n",
    "    ]\n",
    "\n",
    "    for seed in range(100):\n",
    "        # Train/test split of original dataset\n",
    "        (\n",
    "            data_X_train_70,\n",
    "            data_X_test_30,\n",
    "            data_y_train_70,\n",
    "            data_y_test_30,\n",
    "        ) = train_test_split(\n",
    "            data.drop(\"Class\", axis=1),\n",
    "            data.Class,\n",
    "            train_size=0.7,\n",
    "            stratify=data.Class,\n",
    "            random_state=seed,\n",
    "        )\n",
    "\n",
    "        # Train/test split of avatarized dataset\n",
    "        (\n",
    "            avatar_X_train_70,\n",
    "            avatar_X_test_30,\n",
    "            avatar_y_train_70,\n",
    "            avatar_y_test_30,\n",
    "        ) = train_test_split(\n",
    "            avatar.drop(\"Class\", axis=1),\n",
    "            avatar.Class,\n",
    "            train_size=0.7,\n",
    "            stratify=data.Class,\n",
    "            random_state=seed,\n",
    "        )\n",
    "\n",
    "        # Feature selection for original data\n",
    "        df_scores_70_data = data_X_train_70.apply(\n",
    "            lambda col: f_score(col, data_y_train_70, val1=0, val2=1), axis=0\n",
    "        )\n",
    "        df_scores_70_data = pd.DataFrame(df_scores_70_data)\n",
    "        df_scores_70_data[\"feature\"] = df_scores_70_data.index\n",
    "        df_scores_70_data[\"type\"] = \"Original\"\n",
    "        df_scores_70_data = df_scores_70_data.reset_index(drop=True)\n",
    "\n",
    "        df_scores_70 = df_scores_70.append(df_scores_70_data, ignore_index=True)\n",
    "\n",
    "        # Feature selection for avatarized data\n",
    "        df_scores_70_avat = avatar_X_train_70.apply(\n",
    "            lambda col: f_score(col, avatar_y_train_70, val1=0, val2=1), axis=0\n",
    "        )\n",
    "        df_scores_70_avat = pd.DataFrame(df_scores_70_avat)\n",
    "        df_scores_70_avat[\"feature\"] = df_scores_70_avat.index\n",
    "        df_scores_70_avat[\"type\"] = \"Avatar\"\n",
    "        df_scores_70_avat = df_scores_70_avat.reset_index(drop=True)\n",
    "\n",
    "        df_scores_70 = df_scores_70.append(df_scores_70_avat, ignore_index=True)\n",
    "\n",
    "        # SVM Model for original data\n",
    "        (\n",
    "            best_params_data_A_70_5,\n",
    "            cm_data_A_70_5,\n",
    "            df_res_data_A_70_5,\n",
    "            df_roc_data_A_70_5,\n",
    "        ) = unique_SVM_model(\n",
    "            data_X_train_70,\n",
    "            data_y_train_70,\n",
    "            data_X_test_30,\n",
    "            data_y_test_30,\n",
    "            order_features_data,\n",
    "            parameters,\n",
    "            nb_var=5,\n",
    "            njobs=11,\n",
    "        )\n",
    "        df_res_data_A_70_5 = pd.DataFrame(df_res_data_A_70_5)\n",
    "        df_res_data_A_70_5[\"perf\"] = df_res_data_A_70_5.index\n",
    "        df_res_data_A_70_5[\"type\"] = \"Original\"\n",
    "        df_res_data_A_70_5 = df_res_data_A_70_5.reset_index(drop=True)\n",
    "\n",
    "        df_res_70 = df_res_70.append(df_res_data_A_70_5, ignore_index=True)\n",
    "\n",
    "        # SVM Model for avatarized data\n",
    "        (\n",
    "            best_params_avatar_A_70_5,\n",
    "            cm_avatar_A_70_5,\n",
    "            df_res_avatar_A_70_5,\n",
    "            df_roc_avatar_A_70_5,\n",
    "        ) = unique_SVM_model(\n",
    "            avatar_X_train_70,\n",
    "            avatar_y_train_70,\n",
    "            avatar_X_test_30,\n",
    "            avatar_y_test_30,\n",
    "            order_features_data,\n",
    "            parameters,\n",
    "            nb_var=5,\n",
    "            njobs=11,\n",
    "        )\n",
    "        df_res_avatar_A_70_5 = pd.DataFrame(df_res_avatar_A_70_5)\n",
    "        df_res_avatar_A_70_5[\"perf\"] = df_res_avatar_A_70_5.index\n",
    "        df_res_avatar_A_70_5[\"type\"] = \"Avatar\"\n",
    "        df_res_avatar_A_70_5 = df_res_avatar_A_70_5.reset_index(drop=True)\n",
    "\n",
    "        df_res_70 = df_res_70.append(df_res_avatar_A_70_5, ignore_index=True)\n",
    "\n",
    "    # Reshape of dataframesresults\n",
    "    df_scores_70[\"feature\"] = (\n",
    "        pd.Series(df_scores_70[\"feature\"])\n",
    "        .apply(lambda val: val.replace(\"_\", \" \"))\n",
    "        .values\n",
    "    )\n",
    "    df_scores_70.columns = [\"F-score\", \"feature\", \"type\"]"
   ]
  },
  {
   "cell_type": "code",
   "execution_count": 11,
   "id": "75cc75f4",
   "metadata": {
    "ExecuteTime": {
     "end_time": "2021-12-20T11:05:57.083968Z",
     "start_time": "2021-12-20T11:05:57.057490Z"
    }
   },
   "outputs": [],
   "source": [
    "if compute == False:\n",
    "    # load results\n",
    "    df_scores_70 = pd.read_csv(\"../datasets/results_df/WBCD_f-score_variousSplit.csv\")\n",
    "    df_res_70 = pd.read_csv(\"../datasets/results_df/WBCD_perf_variousSplit.csv\")\n",
    "\n",
    "    auc_original = df_res_70.loc[\n",
    "        (df_res_70.perf == \"auc\") & (df_res_70.type == \"Original\"), \"0\"\n",
    "    ]\n",
    "    auc_avatar = df_res_70.loc[\n",
    "        (df_res_70.perf == \"auc\") & (df_res_70.type == \"Avatar\"), \"0\"\n",
    "    ]\n",
    "\n",
    "    df_scores_70.type = df_scores_70.type.replace(\n",
    "        \"Original\",\n",
    "        \"Original (AUC = \" + str(round(np.mean(auc_original) * 100, 2)) + \")\",\n",
    "    )  # \\u00B1 \" + str(round(np.std(auc_original), 3)) + \"\n",
    "    df_scores_70.type = df_scores_70.type.replace(\n",
    "        \"Avatar\", \"Avatar (AUC = \" + str(round(np.mean(auc_avatar) * 100, 2)) + \")\"\n",
    "    )  # \\u00B1 \" + str(round(np.std(auc_avatar), 3)) + \")\")"
   ]
  },
  {
   "cell_type": "markdown",
   "id": "d671cc09",
   "metadata": {},
   "source": [
    "### Original - Synthpop comparison "
   ]
  },
  {
   "cell_type": "code",
   "execution_count": 12,
   "id": "aa561d43",
   "metadata": {},
   "outputs": [],
   "source": [
    "compute = False\n",
    "\n",
    "if compute:\n",
    "    df_scores_70 = pd.DataFrame(columns=[0, \"feature\", \"type\"])\n",
    "\n",
    "    df_res_70 = pd.DataFrame(columns=[0, \"perf\", \"type\"])\n",
    "\n",
    "    order_features_data = [\n",
    "        \"Bare_Nuclei\",\n",
    "        \"Uniformity_of_Cell_Shape\",\n",
    "        \"Uniformity_of_Cell_Size\",\n",
    "        \"Bland_Chromatin\",\n",
    "        \"Clump_Thickness\",\n",
    "        \"Marginal_Adhesion\",\n",
    "        \"Normal_Nucleoli\",\n",
    "        \"Single_Epithelial_Cell_Size\",\n",
    "        \"Mitoses\",\n",
    "    ]\n",
    "\n",
    "    for seed in range(100):\n",
    "        # Train/test split of original dataset\n",
    "        (\n",
    "            data_X_train_70,\n",
    "            data_X_test_30,\n",
    "            data_y_train_70,\n",
    "            data_y_test_30,\n",
    "        ) = train_test_split(\n",
    "            data.drop(\"Class\", axis=1),\n",
    "            data.Class,\n",
    "            train_size=0.7,\n",
    "            stratify=data.Class,\n",
    "            random_state=seed,\n",
    "        )\n",
    "\n",
    "        # Train/test split of synthpop dataset\n",
    "        (\n",
    "            synthpop_X_train_70,\n",
    "            synthpop_X_test_30,\n",
    "            synthpop_y_train_70,\n",
    "            synthpop_y_test_30,\n",
    "        ) = train_test_split(\n",
    "            synthpop.drop(\"Class\", axis=1),\n",
    "            synthpop.Class,\n",
    "            train_size=0.7,\n",
    "            stratify=data.Class,\n",
    "            random_state=seed,\n",
    "        )\n",
    "\n",
    "        # Feature selection for original data\n",
    "        df_scores_70_data = data_X_train_70.apply(\n",
    "            lambda col: f_score(col, data_y_train_70, val1=0, val2=1), axis=0\n",
    "        )\n",
    "        df_scores_70_data = pd.DataFrame(df_scores_70_data)\n",
    "        df_scores_70_data[\"feature\"] = df_scores_70_data.index\n",
    "        df_scores_70_data[\"type\"] = \"Original\"\n",
    "        df_scores_70_data = df_scores_70_data.reset_index(drop=True)\n",
    "\n",
    "        df_scores_70 = df_scores_70.append(df_scores_70_data, ignore_index=True)\n",
    "\n",
    "        # Feature selection for synthpop data\n",
    "        df_scores_70_avat = synthpop_X_train_70.apply(\n",
    "            lambda col: f_score(col, synthpop_y_train_70, val1=0, val2=1), axis=0\n",
    "        )\n",
    "        df_scores_70_avat = pd.DataFrame(df_scores_70_avat)\n",
    "        df_scores_70_avat[\"feature\"] = df_scores_70_avat.index\n",
    "        df_scores_70_avat[\"type\"] = \"Synthpop\"\n",
    "        df_scores_70_avat = df_scores_70_avat.reset_index(drop=True)\n",
    "\n",
    "        df_scores_70 = df_scores_70.append(df_scores_70_avat, ignore_index=True)\n",
    "\n",
    "        # SVM Model for original data\n",
    "        (\n",
    "            best_params_data_A_70_5,\n",
    "            cm_data_A_70_5,\n",
    "            df_res_data_A_70_5,\n",
    "            df_roc_data_A_70_5,\n",
    "        ) = unique_SVM_model(\n",
    "            data_X_train_70,\n",
    "            data_y_train_70,\n",
    "            data_X_test_30,\n",
    "            data_y_test_30,\n",
    "            order_features_data,\n",
    "            parameters,\n",
    "            nb_var=5,\n",
    "            njobs=11,\n",
    "        )\n",
    "        df_res_data_A_70_5 = pd.DataFrame(df_res_data_A_70_5)\n",
    "        df_res_data_A_70_5[\"perf\"] = df_res_data_A_70_5.index\n",
    "        df_res_data_A_70_5[\"type\"] = \"Original\"\n",
    "        df_res_data_A_70_5 = df_res_data_A_70_5.reset_index(drop=True)\n",
    "\n",
    "        df_res_70 = df_res_70.append(df_res_data_A_70_5, ignore_index=True)\n",
    "\n",
    "        # SVM Model for synthpop data\n",
    "        (\n",
    "            best_params_synthpop_A_70_5,\n",
    "            cm_synthpop_A_70_5,\n",
    "            df_res_synthpop_A_70_5,\n",
    "            df_roc_synthpop_A_70_5,\n",
    "        ) = unique_SVM_model(\n",
    "            synthpop_X_train_70,\n",
    "            synthpop_y_train_70,\n",
    "            synthpop_X_test_30,\n",
    "            synthpop_y_test_30,\n",
    "            order_features_data,\n",
    "            parameters,\n",
    "            nb_var=5,\n",
    "            njobs=11,\n",
    "        )\n",
    "        df_res_synthpop_A_70_5 = pd.DataFrame(df_res_synthpop_A_70_5)\n",
    "        df_res_synthpop_A_70_5[\"perf\"] = df_res_synthpop_A_70_5.index\n",
    "        df_res_synthpop_A_70_5[\"type\"] = \"Synthpop\"\n",
    "        df_res_synthpop_A_70_5 = df_res_synthpop_A_70_5.reset_index(drop=True)\n",
    "\n",
    "        df_res_70 = df_res_70.append(df_res_synthpop_A_70_5, ignore_index=True)\n",
    "\n",
    "    # Reshape of dataframes results\n",
    "    df_scores_70[\"feature\"] = (\n",
    "        pd.Series(df_scores_70[\"feature\"])\n",
    "        .apply(lambda val: val.replace(\"_\", \" \"))\n",
    "        .values\n",
    "    )\n",
    "    df_scores_70.columns = [\"F-score\", \"feature\", \"type\"]"
   ]
  },
  {
   "cell_type": "code",
   "execution_count": 13,
   "id": "df51054a",
   "metadata": {},
   "outputs": [],
   "source": [
    "if compute == False:\n",
    "    # load results\n",
    "    df_scores_70 = pd.read_csv(\"../datasets/results_df/WBCD_synthpop_f-score_variousSplit.csv\")\n",
    "    df_res_70 = pd.read_csv(\"../datasets/results_df/WBCD_synthpop_perf_variousSplit.csv\")\n",
    "\n",
    "    auc_original = df_res_70.loc[\n",
    "        (df_res_70.perf == \"auc\") & (df_res_70.type == \"Original\"), \"0\"\n",
    "    ]\n",
    "    auc_synthpop = df_res_70.loc[\n",
    "        (df_res_70.perf == \"auc\") & (df_res_70.type == \"Synthpop\"), \"0\"\n",
    "    ]\n",
    "\n",
    "    df_scores_70.type = df_scores_70.type.replace(\n",
    "        \"Original\",\n",
    "        \"Original (AUC = \" + str(round(np.mean(auc_original) * 100, 2)) + \")\",\n",
    "    )  # \\u00B1 \" + str(round(np.std(auc_original), 3)) + \"\n",
    "    df_scores_70.type = df_scores_70.type.replace(\n",
    "        \"Synthpop\", \"Synthpop (AUC = \" + str(round(np.mean(auc_synthpop) * 100, 2)) + \")\"\n",
    "    )  # \\u00B1 \" + str(round(np.std(auc_synthpop), 3)) + \")\")"
   ]
  },
  {
   "cell_type": "markdown",
   "id": "5a13b6d3",
   "metadata": {},
   "source": [
    "### Original - CTGAN comparison "
   ]
  },
  {
   "cell_type": "code",
   "execution_count": 15,
   "id": "461d4fcf",
   "metadata": {},
   "outputs": [],
   "source": [
    "compute = False\n",
    "\n",
    "if compute:\n",
    "    df_scores_70 = pd.DataFrame(columns=[0, \"feature\", \"type\"])\n",
    "\n",
    "    df_res_70 = pd.DataFrame(columns=[0, \"perf\", \"type\"])\n",
    "\n",
    "    order_features_data = [\n",
    "        \"Bare_Nuclei\",\n",
    "        \"Uniformity_of_Cell_Shape\",\n",
    "        \"Uniformity_of_Cell_Size\",\n",
    "        \"Bland_Chromatin\",\n",
    "        \"Clump_Thickness\",\n",
    "        \"Marginal_Adhesion\",\n",
    "        \"Normal_Nucleoli\",\n",
    "        \"Single_Epithelial_Cell_Size\",\n",
    "        \"Mitoses\",\n",
    "    ]\n",
    "\n",
    "    for seed in range(100):\n",
    "        # Train/test split of original dataset\n",
    "        (\n",
    "            data_X_train_70,\n",
    "            data_X_test_30,\n",
    "            data_y_train_70,\n",
    "            data_y_test_30,\n",
    "        ) = train_test_split(\n",
    "            data.drop(\"Class\", axis=1),\n",
    "            data.Class,\n",
    "            train_size=0.7,\n",
    "            stratify=data.Class,\n",
    "            random_state=seed,\n",
    "        )\n",
    "\n",
    "        # Train/test split of CTGAN dataset\n",
    "        (\n",
    "            ctgan_X_train_70,\n",
    "            ctgan_X_test_30,\n",
    "            ctgan_y_train_70,\n",
    "            ctgan_y_test_30,\n",
    "        ) = train_test_split(\n",
    "            ctgan.drop(\"Class\", axis=1),\n",
    "            ctgan.Class,\n",
    "            train_size=0.7,\n",
    "            stratify=data.Class,\n",
    "            random_state=seed,\n",
    "        )\n",
    "\n",
    "        # Feature selection for original data\n",
    "        df_scores_70_data = data_X_train_70.apply(\n",
    "            lambda col: f_score(col, data_y_train_70, val1=0, val2=1), axis=0\n",
    "        )\n",
    "        df_scores_70_data = pd.DataFrame(df_scores_70_data)\n",
    "        df_scores_70_data[\"feature\"] = df_scores_70_data.index\n",
    "        df_scores_70_data[\"type\"] = \"Original\"\n",
    "        df_scores_70_data = df_scores_70_data.reset_index(drop=True)\n",
    "\n",
    "        df_scores_70 = df_scores_70.append(df_scores_70_data, ignore_index=True)\n",
    "\n",
    "        # Feature selection for CTGAN data\n",
    "        df_scores_70_avat = ctgan_X_train_70.apply(\n",
    "            lambda col: f_score(col, ctgan_y_train_70, val1=0, val2=1), axis=0\n",
    "        )\n",
    "        df_scores_70_avat = pd.DataFrame(df_scores_70_avat)\n",
    "        df_scores_70_avat[\"feature\"] = df_scores_70_avat.index\n",
    "        df_scores_70_avat[\"type\"] = \"CTGAN\"\n",
    "        df_scores_70_avat = df_scores_70_avat.reset_index(drop=True)\n",
    "\n",
    "        df_scores_70 = df_scores_70.append(df_scores_70_avat, ignore_index=True)\n",
    "\n",
    "        # SVM Model for original data\n",
    "        (\n",
    "            best_params_data_A_70_5,\n",
    "            cm_data_A_70_5,\n",
    "            df_res_data_A_70_5,\n",
    "            df_roc_data_A_70_5,\n",
    "        ) = unique_SVM_model(\n",
    "            data_X_train_70,\n",
    "            data_y_train_70,\n",
    "            data_X_test_30,\n",
    "            data_y_test_30,\n",
    "            order_features_data,\n",
    "            parameters,\n",
    "            nb_var=5,\n",
    "            njobs=11,\n",
    "        )\n",
    "        df_res_data_A_70_5 = pd.DataFrame(df_res_data_A_70_5)\n",
    "        df_res_data_A_70_5[\"perf\"] = df_res_data_A_70_5.index\n",
    "        df_res_data_A_70_5[\"type\"] = \"Original\"\n",
    "        df_res_data_A_70_5 = df_res_data_A_70_5.reset_index(drop=True)\n",
    "\n",
    "        df_res_70 = df_res_70.append(df_res_data_A_70_5, ignore_index=True)\n",
    "\n",
    "        # SVM Model for CTGAN data\n",
    "        (\n",
    "            best_params_ctgan_A_70_5,\n",
    "            cm_ctgan_A_70_5,\n",
    "            df_res_ctgan_A_70_5,\n",
    "            df_roc_ctgan_A_70_5,\n",
    "        ) = unique_SVM_model(\n",
    "            ctgan_X_train_70,\n",
    "            ctgan_y_train_70,\n",
    "            ctgan_X_test_30,\n",
    "            ctgan_y_test_30,\n",
    "            order_features_data,\n",
    "            parameters,\n",
    "            nb_var=5,\n",
    "            njobs=11,\n",
    "        )\n",
    "        df_res_ctgan_A_70_5 = pd.DataFrame(df_res_ctgan_A_70_5)\n",
    "        df_res_ctgan_A_70_5[\"perf\"] = df_res_ctgan_A_70_5.index\n",
    "        df_res_ctgan_A_70_5[\"type\"] = \"CTGAN\"\n",
    "        df_res_ctgan_A_70_5 = df_res_ctgan_A_70_5.reset_index(drop=True)\n",
    "\n",
    "        df_res_70 = df_res_70.append(df_res_ctgan_A_70_5, ignore_index=True)\n",
    "\n",
    "    # Reshape of dataframes results\n",
    "    df_scores_70[\"feature\"] = (\n",
    "        pd.Series(df_scores_70[\"feature\"])\n",
    "        .apply(lambda val: val.replace(\"_\", \" \"))\n",
    "        .values\n",
    "    )\n",
    "    df_scores_70.columns = [\"F-score\", \"feature\", \"type\"]"
   ]
  },
  {
   "cell_type": "code",
   "execution_count": 15,
   "id": "409bfaaf",
   "metadata": {},
   "outputs": [],
   "source": [
    "if compute == False:\n",
    "    # load results\n",
    "    df_scores_70 = pd.read_csv(\"../datasets/results_df/WBCD_ctgan_f-score_variousSplit.csv\")\n",
    "    df_scores_70 = df_scores_70.drop(['Unnamed: 0'], axis=1)\n",
    "    df_res_70 = pd.read_csv(\"../datasets/results_df/WBCD_ctgan_perf_variousSplit.csv\")\n",
    "    df_res_70 = df_res_70.drop(['Unnamed: 0'], axis=1)\n",
    "\n",
    "    auc_original = df_res_70.loc[\n",
    "        (df_res_70.perf == \"auc\") & (df_res_70.type == \"Original\"), \"0\"\n",
    "    ]\n",
    "    auc_ctgan = df_res_70.loc[\n",
    "        (df_res_70.perf == \"auc\") & (df_res_70.type == \"CTGAN\"), \"0\"\n",
    "    ]\n",
    "\n",
    "    df_scores_70.type = df_scores_70.type.replace(\n",
    "        \"Original\",\n",
    "        \"Original (AUC = \" + str(round(np.mean(auc_original) * 100, 2)) + \")\",\n",
    "    )  # \\u00B1 \" + str(round(np.std(auc_original), 3)) + \"\n",
    "    df_scores_70.type = df_scores_70.type.replace(\n",
    "        \"CTGAN\", \"CTGAN (AUC = \" + str(round(np.mean(auc_ctgan) * 100, 2)) + \")\"\n",
    "    )  # \\u00B1 \" + str(round(np.std(auc_ctgan), 3)) + \")\")"
   ]
  },
  {
   "cell_type": "markdown",
   "id": "ec9e1001",
   "metadata": {},
   "source": [
    "\n",
    "## Graphs F-scores\n",
    "\n",
    "We performed the F-score figure, with confidence intervals of the mean (95%)."
   ]
  },
  {
   "cell_type": "code",
   "execution_count": 16,
   "id": "2cf262b5",
   "metadata": {
    "ExecuteTime": {
     "end_time": "2021-12-20T11:05:59.913719Z",
     "start_time": "2021-12-20T11:05:59.382047Z"
    }
   },
   "outputs": [
    {
     "data": {
      "image/png": "[encoded data removed]",
      "text/plain": [
       "<Figure size 1000x700 with 1 Axes>"
      ]
     },
     "metadata": {},
     "output_type": "display_data"
    }
   ],
   "source": [
    "# Figure context\n",
    "paper_rc = {\"lines.linewidth\": 2, \"lines.markersize\": 10}\n",
    "sns.set_style(\"whitegrid\")\n",
    "sns.set_context(\"paper\", font_scale=1.9, rc=paper_rc)\n",
    "with plt.style.context(\"seaborn-whitegrid\"):\n",
    "    plt.rcParams[\"axes.edgecolor\"] = \"0.15\"\n",
    "    plt.rcParams[\"axes.linewidth\"] = 1.25\n",
    "    plt.rcParams[\"font.family\"] = \"sans-serif\"\n",
    "    plt.rcParams[\"font.sans-serif\"] = \"Helvetica\"\n",
    "\n",
    "    fig = plt.figure(figsize=(10, 7))  # create a figure object\n",
    "    ax1 = fig.add_subplot()\n",
    "\n",
    "# add barplot with confidence intervals.\n",
    "ax = sns.barplot(\n",
    "    x=\"F-score\",\n",
    "    y=\"feature\",\n",
    "    hue=\"type\",\n",
    "    data=df_scores_70,\n",
    "    order=[\n",
    "        \"Bare Nuclei\",\n",
    "        \"Uniformity of Cell Shape\",\n",
    "        \"Uniformity of Cell Size\",\n",
    "        \"Bland Chromatin\",\n",
    "        \"Clump Thickness\",\n",
    "        \"Normal Nucleoli\",\n",
    "        \"Marginal Adhesion\",\n",
    "        \"Single Epithelial Cell Size\",\n",
    "        \"Mitoses\",\n",
    "    ],\n",
    "    ci=95,\n",
    "    linewidth=1.2,\n",
    "    edgecolor=\".2\",\n",
    "    # color by avatar and original colors\n",
    "    palette=(colors.loc[\"original\", \"color\"], colors.loc[\"ctgan\", \"color\"]),\n",
    ")\n",
    "\n",
    "ax.set(ylabel=\"\")\n",
    "plt.legend(title=\"\", loc=\"lower right\");\n",
    "\n",
    "# plt.savefig(\"../figures/WBCD_f-score_70_30.svg\", format = \"svg\", bbox_inches = \"tight\")"
   ]
  },
  {
   "cell_type": "markdown",
   "id": "0d126cf0",
   "metadata": {},
   "source": [
    "## Supplemental table\n",
    "\n",
    "We computed prediction performances for each split for avatar and original data. \n",
    "Results are presented in table."
   ]
  },
  {
   "cell_type": "code",
   "execution_count": 18,
   "id": "f7d41525",
   "metadata": {
    "ExecuteTime": {
     "end_time": "2021-12-20T11:06:02.603445Z",
     "start_time": "2021-12-20T11:06:02.562839Z"
    }
   },
   "outputs": [
    {
     "data": {
      "text/html": [
       "<div>\n",
       "<style scoped>\n",
       "    .dataframe tbody tr th:only-of-type {\n",
       "        vertical-align: middle;\n",
       "    }\n",
       "\n",
       "    .dataframe tbody tr th {\n",
       "        vertical-align: top;\n",
       "    }\n",
       "\n",
       "    .dataframe thead th {\n",
       "        text-align: right;\n",
       "    }\n",
       "</style>\n",
       "<table border=\"1\" class=\"dataframe\">\n",
       "  <thead>\n",
       "    <tr style=\"text-align: right;\">\n",
       "      <th></th>\n",
       "      <th>Metric</th>\n",
       "      <th>Original</th>\n",
       "      <th>Synthpop</th>\n",
       "    </tr>\n",
       "  </thead>\n",
       "  <tbody>\n",
       "    <tr>\n",
       "      <th>0</th>\n",
       "      <td>Accuracy</td>\n",
       "      <td>96.58 (± 1.25)</td>\n",
       "      <td>95.75 (± 1.29)</td>\n",
       "    </tr>\n",
       "    <tr>\n",
       "      <th>1</th>\n",
       "      <td>AUC</td>\n",
       "      <td>99.46 (± 0.25)</td>\n",
       "      <td>99.24 (± 0.58)</td>\n",
       "    </tr>\n",
       "    <tr>\n",
       "      <th>2</th>\n",
       "      <td>NPV</td>\n",
       "      <td>96.08 (± 2.88)</td>\n",
       "      <td>95.34 (± 2.59)</td>\n",
       "    </tr>\n",
       "    <tr>\n",
       "      <th>3</th>\n",
       "      <td>PPV</td>\n",
       "      <td>96.85 (± 1.35)</td>\n",
       "      <td>95.99 (± 1.83)</td>\n",
       "    </tr>\n",
       "    <tr>\n",
       "      <th>4</th>\n",
       "      <td>Sensitivy</td>\n",
       "      <td>97.88 (± 1.51)</td>\n",
       "      <td>97.28 (± 1.48)</td>\n",
       "    </tr>\n",
       "    <tr>\n",
       "      <th>5</th>\n",
       "      <td>Specificity</td>\n",
       "      <td>94.35 (± 2.28)</td>\n",
       "      <td>93.27 (± 2.96)</td>\n",
       "    </tr>\n",
       "  </tbody>\n",
       "</table>\n",
       "</div>"
      ],
      "text/plain": [
       "        Metric        Original        Synthpop\n",
       "0     Accuracy  96.58 (± 1.25)  95.75 (± 1.29)\n",
       "1          AUC  99.46 (± 0.25)  99.24 (± 0.58)\n",
       "2          NPV  96.08 (± 2.88)  95.34 (± 2.59)\n",
       "3          PPV  96.85 (± 1.35)  95.99 (± 1.83)\n",
       "4    Sensitivy  97.88 (± 1.51)  97.28 (± 1.48)\n",
       "5  Specificity  94.35 (± 2.28)  93.27 (± 2.96)"
      ]
     },
     "execution_count": 18,
     "metadata": {},
     "output_type": "execute_result"
    }
   ],
   "source": [
    "# multiple accuracy and auc to get them in percentage\n",
    "df_res_70.loc[df_res_70[\"perf\"] == \"acc\", \"0\"] *= 100\n",
    "df_res_70.loc[df_res_70[\"perf\"] == \"auc\", \"0\"] *= 100\n",
    "\n",
    "# perform stats ok classification metrics\n",
    "res_mean = df_res_70.groupby([\"perf\", \"type\"]).agg({\"0\": [\"mean\", \"std\"]})\n",
    "res_mean = res_mean.reset_index()\n",
    "res_mean.columns = [\"Metric\", \"type\", \"mean\", \"std\"]\n",
    "res_mean[\"values\"] = (\n",
    "    res_mean[\"mean\"].apply(round_spec, 3)\n",
    "    + \" (\\u00B1 \"\n",
    "    + res_mean[\"std\"].apply(round_spec, 3)\n",
    "    + \")\"\n",
    ")\n",
    "res_mean = res_mean.pivot(index=\"Metric\", columns=\"type\", values=\"values\")\n",
    "res_mean.columns = res_mean.columns.values\n",
    "res_mean = res_mean.reset_index(col_level=0)\n",
    "res_mean[\"Metric\"] = [\"Accuracy\", \"AUC\", \"NPV\", \"PPV\", \"Sensitivy\", \"Specificity\"]\n",
    "res_mean"
   ]
  },
  {
   "cell_type": "code",
   "execution_count": 19,
   "id": "8b79c50c",
   "metadata": {
    "ExecuteTime": {
     "end_time": "2021-11-24T09:20:43.847137Z",
     "start_time": "2021-11-24T09:20:43.835872Z"
    }
   },
   "outputs": [],
   "source": [
    "# res_mean.to_csv('../datasets/results_df/supplemental_table_WBCD_synthpop.csv', index = False, header=True)"
   ]
  },
  {
   "cell_type": "code",
   "execution_count": null,
   "id": "85581776",
   "metadata": {},
   "outputs": [],
   "source": []
  }
 ],
 "metadata": {
  "kernelspec": {
   "display_name": "Python 3.9.9 ('avatar-paper-HRp-ebJj-py3.9')",
   "language": "python",
   "name": "python3"
  },
  "language_info": {
   "codemirror_mode": {
    "name": "ipython",
    "version": 3
   },
   "file_extension": ".py",
   "mimetype": "text/x-python",
   "name": "python",
   "nbconvert_exporter": "python",
   "pygments_lexer": "ipython3",
   "version": "3.9.9"
  },
  "toc": {
   "base_numbering": 1,
   "nav_menu": {},
   "number_sections": true,
   "sideBar": true,
   "skip_h1_title": false,
   "title_cell": "Table of Contents",
   "title_sidebar": "Contents",
   "toc_cell": false,
   "toc_position": {},
   "toc_section_display": true,
   "toc_window_display": true
  },
  "varInspector": {
   "cols": {
    "lenName": 16,
    "lenType": 16,
    "lenVar": 40
   },
   "kernels_config": {
    "python": {
     "delete_cmd_postfix": "",
     "delete_cmd_prefix": "del ",
     "library": "var_list.py",
     "varRefreshCmd": "print(var_dic_list())"
    },
    "r": {
     "delete_cmd_postfix": ") ",
     "delete_cmd_prefix": "rm(",
     "library": "var_list.r",
     "varRefreshCmd": "cat(var_dic_list()) "
    }
   },
   "types_to_exclude": [
    "module",
    "function",
    "builtin_function_or_method",
    "instance",
    "_Feature"
   ],
   "window_display": false
  },
  "vscode": {
   "interpreter": {
    "hash": "74fa257d110382863b45f54e48e2f4780453ad005cbdf88a0f9bbaaab68f3c17"
   }
  }
 },
 "nbformat": 4,
 "nbformat_minor": 5
}
