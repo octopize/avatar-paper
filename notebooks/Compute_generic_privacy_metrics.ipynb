{
 "cells": [
  {
   "cell_type": "code",
   "execution_count": 1,
   "metadata": {},
   "outputs": [],
   "source": [
    "import pandas as pd\n",
    "import numpy as np\n",
    "\n",
    "from importlib.machinery import SourceFileLoader\n",
    "metrics = SourceFileLoader('dcr_nndr', '../metrics/privacy_metrics/dcr_nndr.py').load_module()"
   ]
  },
  {
   "cell_type": "markdown",
   "metadata": {},
   "source": [
    "## AIDS"
   ]
  },
  {
   "cell_type": "code",
   "execution_count": 2,
   "metadata": {},
   "outputs": [
    {
     "name": "stderr",
     "output_type": "stream",
     "text": [
      "../metrics/privacy_metrics/dcr_nndr.py:295: FutureWarning: In a future version of pandas all arguments of DataFrame.drop except for the argument 'labels' will be keyword-only.\n",
      "  tgt_data_p = tgt_data_p.reset_index().drop(\"id\", 1)\n",
      "../metrics/privacy_metrics/dcr_nndr.py:296: FutureWarning: In a future version of pandas all arguments of DataFrame.drop except for the argument 'labels' will be keyword-only.\n",
      "  syn_data_p = syn_data_p.reset_index().drop(\"id\", 1)\n",
      "../metrics/privacy_metrics/dcr_nndr.py:295: FutureWarning: In a future version of pandas all arguments of DataFrame.drop except for the argument 'labels' will be keyword-only.\n",
      "  tgt_data_p = tgt_data_p.reset_index().drop(\"id\", 1)\n",
      "../metrics/privacy_metrics/dcr_nndr.py:296: FutureWarning: In a future version of pandas all arguments of DataFrame.drop except for the argument 'labels' will be keyword-only.\n",
      "  syn_data_p = syn_data_p.reset_index().drop(\"id\", 1)\n",
      "../metrics/privacy_metrics/dcr_nndr.py:295: FutureWarning: In a future version of pandas all arguments of DataFrame.drop except for the argument 'labels' will be keyword-only.\n",
      "  tgt_data_p = tgt_data_p.reset_index().drop(\"id\", 1)\n",
      "../metrics/privacy_metrics/dcr_nndr.py:296: FutureWarning: In a future version of pandas all arguments of DataFrame.drop except for the argument 'labels' will be keyword-only.\n",
      "  syn_data_p = syn_data_p.reset_index().drop(\"id\", 1)\n"
     ]
    }
   ],
   "source": [
    "original = pd.read_csv('../datasets/AIDS/aids_original_data.csv', sep=';')\n",
    "original = original.drop([\"pidnum\"], axis=1)\n",
    "avatar = pd.read_csv('../datasets/AIDS/aids_avatarized_base_k20_nf5.csv')\n",
    "synthpop = pd.read_csv('../datasets/AIDS/aids_synthpop_base.csv')\n",
    "ctgan = pd.read_csv('../datasets/AIDS/aids_CTGAN_base_2.csv')\n",
    "\n",
    "# Replace missing for metric computation\n",
    "original = original.fillna(0)\n",
    "avatar = avatar.fillna(0)\n",
    "synthpop = synthpop.fillna(0)\n",
    "ctgan = ctgan.fillna(0)\n",
    "\n",
    "# Get correct data types\n",
    "categorical_val, continuous_val = metrics.get_categorical_continuous(original)\n",
    "original[categorical_val] = original[categorical_val].astype(\"category\")\n",
    "avatar[categorical_val] = avatar[categorical_val].astype(\"category\")\n",
    "synthpop[categorical_val] = synthpop[categorical_val].astype(\"category\")\n",
    "ctgan[categorical_val] = ctgan[categorical_val].astype(\"category\")\n",
    "\n",
    "# Add id column for metric computation\n",
    "original['id'] = original.index\n",
    "avatar['id'] = avatar.index\n",
    "synthpop['id'] = synthpop.index\n",
    "ctgan['id'] = ctgan.index\n",
    "\n",
    "# Compute DCR and NNDR metrics\n",
    "target = metrics.prepare_common_data_format(original,cat_columns= categorical_val,num_columns=continuous_val)\n",
    "synthetic_avatar = metrics.prepare_common_data_format(avatar,cat_columns= categorical_val,num_columns=continuous_val)\n",
    "synthetic_synthpop = metrics.prepare_common_data_format(synthpop,cat_columns= categorical_val,num_columns=continuous_val)\n",
    "synthetic_ctgan = metrics.prepare_common_data_format(ctgan,cat_columns= categorical_val,num_columns=continuous_val)\n",
    "\n",
    "\n",
    "privacy_avatar = metrics.compare(target, synthetic_avatar, metrics_to_return=\"privacy-tests\")\n",
    "privacy_synthpop = metrics.compare(target, synthetic_synthpop, metrics_to_return=\"privacy-tests\")\n",
    "privacy_ctgan = metrics.compare(target, synthetic_ctgan, metrics_to_return=\"privacy-tests\")\n",
    "\n",
    "aids_privacy_results = pd.concat([privacy_avatar, privacy_synthpop, privacy_ctgan])\n",
    "aids_privacy_results\n",
    "x = np.array([\"Avatar\", \"Synthpop\", \"CT-GAN\"])\n",
    "type = np.repeat(x, [len(privacy_avatar), len(privacy_synthpop), len(privacy_ctgan)], axis=0)\n",
    "aids_privacy_results['type'] = type\n",
    "\n",
    "aids_privacy_results.to_csv('/Users/morgan/Tech/avatar-paper/datasets/results_df/AIDS_DCR_NNDR_comparison_results.csv',index=False)"
   ]
  },
  {
   "cell_type": "markdown",
   "metadata": {},
   "source": [
    "## WBCD"
   ]
  },
  {
   "cell_type": "code",
   "execution_count": 3,
   "metadata": {},
   "outputs": [
    {
     "name": "stderr",
     "output_type": "stream",
     "text": [
      "../metrics/privacy_metrics/dcr_nndr.py:295: FutureWarning: In a future version of pandas all arguments of DataFrame.drop except for the argument 'labels' will be keyword-only.\n",
      "  tgt_data_p = tgt_data_p.reset_index().drop(\"id\", 1)\n",
      "../metrics/privacy_metrics/dcr_nndr.py:296: FutureWarning: In a future version of pandas all arguments of DataFrame.drop except for the argument 'labels' will be keyword-only.\n",
      "  syn_data_p = syn_data_p.reset_index().drop(\"id\", 1)\n",
      "../metrics/privacy_metrics/dcr_nndr.py:295: FutureWarning: In a future version of pandas all arguments of DataFrame.drop except for the argument 'labels' will be keyword-only.\n",
      "  tgt_data_p = tgt_data_p.reset_index().drop(\"id\", 1)\n",
      "../metrics/privacy_metrics/dcr_nndr.py:296: FutureWarning: In a future version of pandas all arguments of DataFrame.drop except for the argument 'labels' will be keyword-only.\n",
      "  syn_data_p = syn_data_p.reset_index().drop(\"id\", 1)\n",
      "../metrics/privacy_metrics/dcr_nndr.py:295: FutureWarning: In a future version of pandas all arguments of DataFrame.drop except for the argument 'labels' will be keyword-only.\n",
      "  tgt_data_p = tgt_data_p.reset_index().drop(\"id\", 1)\n",
      "../metrics/privacy_metrics/dcr_nndr.py:296: FutureWarning: In a future version of pandas all arguments of DataFrame.drop except for the argument 'labels' will be keyword-only.\n",
      "  syn_data_p = syn_data_p.reset_index().drop(\"id\", 1)\n"
     ]
    }
   ],
   "source": [
    "original = pd.read_csv('../datasets/WBCD/breast_cancer_wisconsin.csv')\n",
    "original = original.drop([\"Sample_code_number\"], axis=1)\n",
    "avatar = pd.read_csv('../datasets/WBCD/breast_cancer_wisconsin_avatarized_k20.csv')\n",
    "synthpop = pd.read_csv('../datasets/WBCD/wbcd_synthpop_base.csv')\n",
    "ctgan = pd.read_csv('../datasets/WBCD/wbcd_CTGAN_base_2.csv')\n",
    "\n",
    "# Get correct data types\n",
    "#categorical_val, continuous_val = metrics.get_categorical_continuous(original)\n",
    "categorical_val = ['Class']\n",
    "continuous_val = ['Clump_Thickness', 'Uniformity_of_Cell_Size','Uniformity_of_Cell_Shape', 'Marginal_Adhesion',\n",
    "       'Single_Epithelial_Cell_Size', 'Bare_Nuclei', 'Bland_Chromatin',\n",
    "       'Normal_Nucleoli', 'Mitoses']\n",
    "original[categorical_val] = original[categorical_val].astype(\"category\")\n",
    "avatar[categorical_val] = avatar[categorical_val].astype(\"category\")\n",
    "synthpop[categorical_val] = synthpop[categorical_val].astype(\"category\")\n",
    "ctgan[categorical_val] = ctgan[categorical_val].astype(\"category\")\n",
    "\n",
    "# Add id column for metric computation\n",
    "original['id'] = original.index\n",
    "avatar['id'] = avatar.index\n",
    "synthpop['id'] = synthpop.index\n",
    "ctgan['id'] = ctgan.index\n",
    "\n",
    "# Compute DCR and NNDR metrics\n",
    "target = metrics.prepare_common_data_format(original,cat_columns= categorical_val,num_columns=continuous_val)\n",
    "synthetic_avatar = metrics.prepare_common_data_format(avatar,cat_columns= categorical_val,num_columns=continuous_val)\n",
    "synthetic_synthpop = metrics.prepare_common_data_format(synthpop,cat_columns= categorical_val,num_columns=continuous_val)\n",
    "synthetic_ctgan = metrics.prepare_common_data_format(ctgan,cat_columns= categorical_val,num_columns=continuous_val)\n",
    "\n",
    "\n",
    "privacy_avatar = metrics.compare(target, synthetic_avatar, metrics_to_return=\"privacy-tests\")\n",
    "privacy_synthpop = metrics.compare(target, synthetic_synthpop, metrics_to_return=\"privacy-tests\")\n",
    "privacy_ctgan = metrics.compare(target, synthetic_ctgan, metrics_to_return=\"privacy-tests\")\n",
    "\n",
    "wbcd_privacy_results = pd.concat([privacy_avatar, privacy_synthpop, privacy_ctgan])\n",
    "wbcd_privacy_results\n",
    "x = np.array([\"Avatar\", \"Synthpop\", \"CT-GAN\"])\n",
    "type = np.repeat(x, [len(privacy_avatar), len(privacy_synthpop), len(privacy_ctgan)], axis=0)\n",
    "wbcd_privacy_results['type'] = type\n",
    "\n",
    "wbcd_privacy_results.to_csv('/Users/morgan/Tech/avatar-paper/datasets/results_df/WBCD_DCR_NNDR_comparison_results.csv',index=False)"
   ]
  },
  {
   "cell_type": "code",
   "execution_count": 4,
   "metadata": {},
   "outputs": [
    {
     "data": {
      "text/plain": [
       "<AxesSubplot:xlabel='NNDR', ylabel='type'>"
      ]
     },
     "execution_count": 4,
     "metadata": {},
     "output_type": "execute_result"
    },
    {
     "data": {
      "image/png": "[encoded data removed]",
      "text/plain": [
       "<Figure size 1440x1440 with 4 Axes>"
      ]
     },
     "metadata": {
      "needs_background": "light"
     },
     "output_type": "display_data"
    }
   ],
   "source": [
    "import pandas as pd\n",
    "import seaborn as sns\n",
    "import matplotlib.pyplot as plt\n",
    "\n",
    "fig, axes = plt.subplots(2, 2, figsize=(20,20))\n",
    "color_dict = {'Avatar' : '#3bd6b0', 'Synthpop' : '#b03bd6', 'CT-GAN' : '#4db7fd'}\n",
    "\n",
    "sns.boxplot(data=aids_privacy_results, x=\"DCR\", y=\"type\", ax = axes[0,0], palette = color_dict)\n",
    "sns.boxplot(data=wbcd_privacy_results, x=\"DCR\", y=\"type\", ax = axes[0,1], palette = color_dict)\n",
    "sns.boxplot(data=aids_privacy_results, x=\"NNDR\", y=\"type\", ax = axes[1,0], palette = color_dict)\n",
    "sns.boxplot(data=wbcd_privacy_results, x=\"NNDR\", y=\"type\", ax = axes[1,1], palette = color_dict)\n"
   ]
  },
  {
   "cell_type": "code",
   "execution_count": null,
   "metadata": {},
   "outputs": [],
   "source": []
  }
 ],
 "metadata": {
  "kernelspec": {
   "display_name": "Python 3.9.9 ('avatar-paper-HRp-ebJj-py3.9')",
   "language": "python",
   "name": "python3"
  },
  "language_info": {
   "codemirror_mode": {
    "name": "ipython",
    "version": 3
   },
   "file_extension": ".py",
   "mimetype": "text/x-python",
   "name": "python",
   "nbconvert_exporter": "python",
   "pygments_lexer": "ipython3",
   "version": "3.9.9"
  },
  "orig_nbformat": 4,
  "vscode": {
   "interpreter": {
    "hash": "74fa257d110382863b45f54e48e2f4780453ad005cbdf88a0f9bbaaab68f3c17"
   }
  }
 },
 "nbformat": 4,
 "nbformat_minor": 2
}
