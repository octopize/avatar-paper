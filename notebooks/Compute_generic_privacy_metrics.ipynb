{
 "cells": [
  {
   "cell_type": "code",
   "execution_count": 3,
   "metadata": {},
   "outputs": [],
   "source": [
    "import pandas as pd\n",
    "import numpy as np\n",
    "import sys\n",
    "sys.path.append('..')\n",
    "import saiph\n",
    "\n",
    "from metrics.privacy_metrics.dcr_nndr import get_dcr, get_nndr\n",
    "from metrics.privacy_metrics.get_column_type import get_categorical_continuous"
   ]
  },
  {
   "cell_type": "markdown",
   "metadata": {},
   "source": [
    "## AIDS"
   ]
  },
  {
   "cell_type": "code",
   "execution_count": 18,
   "metadata": {},
   "outputs": [],
   "source": [
    "dcr_values = []\n",
    "nndr_values = []\n",
    "type = []\n",
    "round_number = []\n",
    "\n",
    "for i in range(10):\n",
    "    train = pd.read_csv(f'../datasets/AIDS/privacy/holdout_{i}.csv')\n",
    "    train = train.fillna(train.mean())\n",
    "    test = pd.read_csv(f'../datasets/AIDS/privacy/remaining_{i}.csv')\n",
    "    test = test.fillna(test.mean())\n",
    "    avatar = pd.read_csv(f'../datasets/AIDS/privacy/avatar_{i}.csv')\n",
    "    avatar = avatar.fillna(avatar.mean())\n",
    "    synthpop = pd.read_csv(f'../datasets/AIDS/privacy/synthpop_{i}.csv')\n",
    "    synthpop = synthpop.fillna(synthpop.mean())\n",
    "    synthpop = synthpop.drop(['Unnamed: 0'], axis=1)\n",
    "    synthpop = synthpop.fillna(synthpop.mean())\n",
    "    ctgan = pd.read_csv(f'../datasets/AIDS/privacy/ctgan_{i}.csv')\n",
    "    ctgan = ctgan.fillna(ctgan.mean())\n",
    "\n",
    "\n",
    "    # Get correct data types\n",
    "    categorical_val, continuous_val = get_categorical_continuous(train)\n",
    "    train[categorical_val] = train[categorical_val].astype(\"category\")\n",
    "    test[categorical_val] = test[categorical_val].astype(\"category\")\n",
    "    avatar[categorical_val] = avatar[categorical_val].astype(\"category\")\n",
    "    synthpop[categorical_val] = synthpop[categorical_val].astype(\"category\")\n",
    "    ctgan[categorical_val] = ctgan[categorical_val].astype(\"category\")\n",
    "    \n",
    "    train_coord, model = saiph.fit_transform(train)\n",
    "    test_coord = saiph.transform(test, model)\n",
    "    avatar_coord = saiph.transform(avatar, model)\n",
    "    synthpop_coord = saiph.transform(synthpop, model)\n",
    "    ctgan_coord = saiph.transform(ctgan, model)\n",
    "\n",
    "    ref_dcr = get_dcr(train_coord, test_coord)\n",
    "    ref_nndr = get_nndr(train_coord, test_coord)\n",
    "\n",
    "    avatar_dcr = get_dcr(train_coord, avatar_coord)\n",
    "    avatar_nndr = get_nndr(train_coord, avatar_coord)\n",
    "\n",
    "    synthpop_dcr = get_dcr(train_coord, synthpop_coord)\n",
    "    synthpop_nndr = get_nndr(train_coord, synthpop_coord)\n",
    "\n",
    "    ctgan_dcr = get_dcr(train_coord, ctgan_coord)\n",
    "    ctgan_nndr = get_nndr(train_coord, ctgan_coord)\n",
    "\n",
    "    dcr_values = dcr_values+ref_dcr+avatar_dcr+synthpop_dcr+ctgan_dcr\n",
    "    nndr_values = nndr_values+list(ref_nndr)+list(avatar_nndr)+list(synthpop_nndr)+list(ctgan_nndr)\n",
    "    type_value = np.array(['Reference', 'Avatar', 'Synthpop', 'CT-GAN'])\n",
    "    round_type = np.repeat(type_value, [len(ref_dcr), len(avatar_dcr), len(synthpop_dcr), len(ctgan_dcr)])\n",
    "    type = type+list(round_type)\n",
    "    round_number = round_number+list(np.repeat(np.array([f'round_{i}']), len(round_type)))\n",
    "    \n",
    "results_aids = pd.DataFrame(zip(dcr_values, nndr_values, type, round_number), columns=['dcr_values', 'nndr_values', 'type', 'round'])\n",
    "results_aids.to_csv('../datasets/results_df/AIDS_DCR_NNDR_comparison_results.csv',index=False)\n"
   ]
  },
  {
   "cell_type": "markdown",
   "metadata": {},
   "source": [
    "## WBCD"
   ]
  },
  {
   "cell_type": "code",
   "execution_count": 19,
   "metadata": {},
   "outputs": [],
   "source": [
    "dcr_values = []\n",
    "nndr_values = []\n",
    "type = []\n",
    "round_number = []\n",
    "\n",
    "for i in range(10):\n",
    "    train = pd.read_csv(f'../datasets/WBCD/privacy/holdout_{i}.csv').fillna(0)\n",
    "    test = pd.read_csv(f'../datasets/WBCD/privacy/remaining_{i}.csv').fillna(0)\n",
    "    avatar = pd.read_csv(f'../datasets/WBCD/privacy/avatar_{i}.csv').fillna(0)\n",
    "    synthpop = pd.read_csv(f'../datasets/WBCD/privacy/synthpop_{i}.csv').fillna(0)\n",
    "    synthpop = synthpop.drop(['Unnamed: 0'], axis=1)\n",
    "    ctgan = pd.read_csv(f'../datasets/WBCD/privacy/ctgan_{i}.csv').fillna(0)\n",
    "\n",
    "    # Get correct data types\n",
    "    categorical_val = ['Class']\n",
    "    continuous_val = ['Clump_Thickness', 'Uniformity_of_Cell_Size','Uniformity_of_Cell_Shape', 'Marginal_Adhesion',\n",
    "        'Single_Epithelial_Cell_Size', 'Bare_Nuclei', 'Bland_Chromatin',\n",
    "        'Normal_Nucleoli', 'Mitoses']\n",
    "    train[categorical_val] = train[categorical_val].astype(\"category\")\n",
    "    test[categorical_val] = test[categorical_val].astype(\"category\")\n",
    "    avatar[categorical_val] = avatar[categorical_val].astype(\"category\")\n",
    "    synthpop[categorical_val] = synthpop[categorical_val].astype(\"category\")\n",
    "    ctgan[categorical_val] = ctgan[categorical_val].astype(\"category\")\n",
    "    \n",
    "    train_coord, model = saiph.fit_transform(train)\n",
    "    test_coord = saiph.transform(test, model)\n",
    "    avatar_coord = saiph.transform(avatar, model)\n",
    "    synthpop_coord = saiph.transform(synthpop, model)\n",
    "    ctgan_coord = saiph.transform(ctgan, model)\n",
    "\n",
    "    ref_dcr = get_dcr(train_coord, test_coord)\n",
    "    ref_nndr = get_nndr(train_coord, test_coord)\n",
    "\n",
    "    avatar_dcr = get_dcr(train_coord, avatar_coord)\n",
    "    avatar_nndr = get_nndr(train_coord, avatar_coord)\n",
    "\n",
    "    synthpop_dcr = get_dcr(train_coord, synthpop_coord)\n",
    "    synthpop_nndr = get_nndr(train_coord, synthpop_coord)\n",
    "\n",
    "    ctgan_dcr = get_dcr(train_coord, ctgan_coord)\n",
    "    ctgan_nndr = get_nndr(train_coord, ctgan_coord)\n",
    "\n",
    "    dcr_values = dcr_values+ref_dcr+avatar_dcr+synthpop_dcr+ctgan_dcr\n",
    "    nndr_values = nndr_values+list(ref_nndr)+list(avatar_nndr)+list(synthpop_nndr)+list(ctgan_nndr)\n",
    "    type_value = np.array(['Reference', 'Avatar', 'Synthpop', 'CT-GAN'])\n",
    "    round_type = np.repeat(type_value, [len(ref_dcr), len(avatar_dcr), len(synthpop_dcr), len(ctgan_dcr)])\n",
    "    type = type+list(round_type)\n",
    "    round_number = round_number+list(np.repeat(np.array([f'round_{i}']), len(round_type)))\n",
    "    \n",
    "results_wbcd = pd.DataFrame(zip(dcr_values, nndr_values, type, round_number), columns=['dcr_values', 'nndr_values', 'type', 'round'])\n",
    "results_wbcd.to_csv('../datasets/results_df/WBCD_DCR_NNDR_comparison_results.csv',index=False)\n",
    "\n"
   ]
  }
 ],
 "metadata": {
  "kernelspec": {
   "display_name": "Python 3 (ipykernel)",
   "language": "python",
   "name": "python3"
  },
  "language_info": {
   "codemirror_mode": {
    "name": "ipython",
    "version": 3
   },
   "file_extension": ".py",
   "mimetype": "text/x-python",
   "name": "python",
   "nbconvert_exporter": "python",
   "pygments_lexer": "ipython3",
   "version": "3.9.13"
  },
  "vscode": {
   "interpreter": {
    "hash": "c38188a82a43ddc67be1f93bc84d9752accb86d7b4a60cc93d24ca38b0f9f969"
   }
  }
 },
 "nbformat": 4,
 "nbformat_minor": 2
}
