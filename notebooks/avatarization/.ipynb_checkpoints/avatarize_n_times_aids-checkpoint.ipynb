{
 "cells": [
  {
   "cell_type": "code",
   "execution_count": 3,
   "metadata": {},
   "outputs": [],
   "source": [
    "from lsg import *\n",
    "\n",
    "\n",
    "\n",
    "import pandas as pd\n"
   ]
  },
  {
   "cell_type": "code",
   "execution_count": 4,
   "metadata": {},
   "outputs": [],
   "source": [
    "aids = pd.read_csv(\"../../datasets/aids_original_data.csv\", sep = \";\")\n",
    "\n",
    "categorical_val = []\n",
    "continous_val = []\n",
    "for column in aids.columns:\n",
    "    if len(aids[column].unique()) <= 10:\n",
    "        categorical_val.append(column)\n",
    "    else:\n",
    "        continous_val.append(column)\n",
    "\n",
    "aids[categorical_val] = aids[categorical_val].astype('category')\n",
    "\n",
    "aids = aids.drop(['pidnum'], axis=1)"
   ]
  },
  {
   "cell_type": "code",
   "execution_count": 6,
   "metadata": {},
   "outputs": [
    {
     "name": "stdout",
     "output_type": "stream",
     "text": [
      "NA values have been found in df, avatarization with missing is performed. If you don't want NA's please consider using impute_missing function prior to avatarize\n",
      "Regarding variables types, a FAMD is performed for dimension reduction\n",
      "NA values have been found in df, avatarization with missing is performed. If you don't want NA's please consider using impute_missing function prior to avatarize\n",
      "Regarding variables types, a FAMD is performed for dimension reduction\n",
      "NA values have been found in df, avatarization with missing is performed. If you don't want NA's please consider using impute_missing function prior to avatarize\n",
      "Regarding variables types, a FAMD is performed for dimension reduction\n",
      "NA values have been found in df, avatarization with missing is performed. If you don't want NA's please consider using impute_missing function prior to avatarize\n",
      "Regarding variables types, a FAMD is performed for dimension reduction\n",
      "NA values have been found in df, avatarization with missing is performed. If you don't want NA's please consider using impute_missing function prior to avatarize\n",
      "Regarding variables types, a FAMD is performed for dimension reduction\n",
      "NA values have been found in df, avatarization with missing is performed. If you don't want NA's please consider using impute_missing function prior to avatarize\n",
      "Regarding variables types, a FAMD is performed for dimension reduction\n",
      "NA values have been found in df, avatarization with missing is performed. If you don't want NA's please consider using impute_missing function prior to avatarize\n",
      "Regarding variables types, a FAMD is performed for dimension reduction\n",
      "NA values have been found in df, avatarization with missing is performed. If you don't want NA's please consider using impute_missing function prior to avatarize\n",
      "Regarding variables types, a FAMD is performed for dimension reduction\n",
      "NA values have been found in df, avatarization with missing is performed. If you don't want NA's please consider using impute_missing function prior to avatarize\n",
      "Regarding variables types, a FAMD is performed for dimension reduction\n",
      "NA values have been found in df, avatarization with missing is performed. If you don't want NA's please consider using impute_missing function prior to avatarize\n",
      "Regarding variables types, a FAMD is performed for dimension reduction\n",
      "NA values have been found in df, avatarization with missing is performed. If you don't want NA's please consider using impute_missing function prior to avatarize\n",
      "Regarding variables types, a FAMD is performed for dimension reduction\n",
      "NA values have been found in df, avatarization with missing is performed. If you don't want NA's please consider using impute_missing function prior to avatarize\n",
      "Regarding variables types, a FAMD is performed for dimension reduction\n",
      "NA values have been found in df, avatarization with missing is performed. If you don't want NA's please consider using impute_missing function prior to avatarize\n",
      "Regarding variables types, a FAMD is performed for dimension reduction\n",
      "NA values have been found in df, avatarization with missing is performed. If you don't want NA's please consider using impute_missing function prior to avatarize\n",
      "Regarding variables types, a FAMD is performed for dimension reduction\n",
      "NA values have been found in df, avatarization with missing is performed. If you don't want NA's please consider using impute_missing function prior to avatarize\n",
      "Regarding variables types, a FAMD is performed for dimension reduction\n",
      "NA values have been found in df, avatarization with missing is performed. If you don't want NA's please consider using impute_missing function prior to avatarize\n",
      "Regarding variables types, a FAMD is performed for dimension reduction\n",
      "NA values have been found in df, avatarization with missing is performed. If you don't want NA's please consider using impute_missing function prior to avatarize\n",
      "Regarding variables types, a FAMD is performed for dimension reduction\n",
      "NA values have been found in df, avatarization with missing is performed. If you don't want NA's please consider using impute_missing function prior to avatarize\n",
      "Regarding variables types, a FAMD is performed for dimension reduction\n",
      "NA values have been found in df, avatarization with missing is performed. If you don't want NA's please consider using impute_missing function prior to avatarize\n",
      "Regarding variables types, a FAMD is performed for dimension reduction\n",
      "NA values have been found in df, avatarization with missing is performed. If you don't want NA's please consider using impute_missing function prior to avatarize\n",
      "Regarding variables types, a FAMD is performed for dimension reduction\n",
      "NA values have been found in df, avatarization with missing is performed. If you don't want NA's please consider using impute_missing function prior to avatarize\n",
      "Regarding variables types, a FAMD is performed for dimension reduction\n",
      "NA values have been found in df, avatarization with missing is performed. If you don't want NA's please consider using impute_missing function prior to avatarize\n",
      "Regarding variables types, a FAMD is performed for dimension reduction\n",
      "NA values have been found in df, avatarization with missing is performed. If you don't want NA's please consider using impute_missing function prior to avatarize\n",
      "Regarding variables types, a FAMD is performed for dimension reduction\n",
      "NA values have been found in df, avatarization with missing is performed. If you don't want NA's please consider using impute_missing function prior to avatarize\n",
      "Regarding variables types, a FAMD is performed for dimension reduction\n",
      "NA values have been found in df, avatarization with missing is performed. If you don't want NA's please consider using impute_missing function prior to avatarize\n",
      "Regarding variables types, a FAMD is performed for dimension reduction\n"
     ]
    }
   ],
   "source": [
    "res = []\n",
    "for iter in range (25):\n",
    "\n",
    "    aids_avatarize = avatarize(aids, k= 15, ncp= 5, drop_duplicates= False, distance_metric= 'minkowski')\n",
    "    aids_avatarize['iter'] = iter\n",
    "\n",
    "    res.append(aids_avatarize)\n"
   ]
  },
  {
   "cell_type": "code",
   "execution_count": 7,
   "metadata": {},
   "outputs": [],
   "source": [
    "iteration = pd.concat(res, axis = 0)"
   ]
  },
  {
   "cell_type": "code",
   "execution_count": 15,
   "metadata": {},
   "outputs": [],
   "source": [
    "iteration.to_csv(\"../../datasets/aids_avatarized_25time_k15_nf_5.csv\", index = False)"
   ]
  },
  {
   "cell_type": "code",
   "execution_count": null,
   "metadata": {},
   "outputs": [],
   "source": []
  },
  {
   "cell_type": "code",
   "execution_count": null,
   "metadata": {},
   "outputs": [],
   "source": []
  },
  {
   "cell_type": "code",
   "execution_count": null,
   "metadata": {},
   "outputs": [],
   "source": []
  },
  {
   "cell_type": "code",
   "execution_count": null,
   "metadata": {},
   "outputs": [],
   "source": []
  }
 ],
 "metadata": {
  "interpreter": {
   "hash": "e0a403958df35fecd043b580797bed9c54c2643ad68eb6056fb74810e4ec0799"
  },
  "kernelspec": {
   "display_name": "Python 3",
   "language": "python",
   "name": "python3"
  },
  "language_info": {
   "codemirror_mode": {
    "name": "ipython",
    "version": 3
   },
   "file_extension": ".py",
   "mimetype": "text/x-python",
   "name": "python",
   "nbconvert_exporter": "python",
   "pygments_lexer": "ipython3",
   "version": "3.8.0"
  }
 },
 "nbformat": 4,
 "nbformat_minor": 2
}
