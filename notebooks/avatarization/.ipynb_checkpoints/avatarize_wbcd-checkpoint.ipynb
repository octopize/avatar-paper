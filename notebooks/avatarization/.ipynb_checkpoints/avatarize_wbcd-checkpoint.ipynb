{
 "cells": [
  {
   "cell_type": "code",
   "execution_count": 1,
   "metadata": {},
   "outputs": [
    {
     "ename": "ModuleNotFoundError",
     "evalue": "No module named 'tqdm'",
     "output_type": "error",
     "traceback": [
      "\u001b[0;31m---------------------------------------------------------------------------\u001b[0m",
      "\u001b[0;31mModuleNotFoundError\u001b[0m                       Traceback (most recent call last)",
      "\u001b[0;32m<ipython-input-1-bd62f97a56b7>\u001b[0m in \u001b[0;36m<module>\u001b[0;34m\u001b[0m\n\u001b[1;32m      1\u001b[0m \u001b[0;31m# parrallele\u001b[0m\u001b[0;34m\u001b[0m\u001b[0;34m\u001b[0m\u001b[0;34m\u001b[0m\u001b[0m\n\u001b[0;32m----> 2\u001b[0;31m \u001b[0;32mfrom\u001b[0m \u001b[0mtqdm\u001b[0m \u001b[0;32mimport\u001b[0m \u001b[0mtqdm\u001b[0m\u001b[0;34m\u001b[0m\u001b[0;34m\u001b[0m\u001b[0m\n\u001b[0m\u001b[1;32m      3\u001b[0m \u001b[0;32mfrom\u001b[0m \u001b[0mmultiprocess\u001b[0m \u001b[0;32mimport\u001b[0m \u001b[0mPool\u001b[0m\u001b[0;34m\u001b[0m\u001b[0;34m\u001b[0m\u001b[0m\n\u001b[1;32m      4\u001b[0m \u001b[0;34m\u001b[0m\u001b[0m\n\u001b[1;32m      5\u001b[0m \u001b[0;32mfrom\u001b[0m \u001b[0mlsg\u001b[0m \u001b[0;32mimport\u001b[0m \u001b[0mavatarize_with_missing\u001b[0m\u001b[0;34m,\u001b[0m \u001b[0mavatarize\u001b[0m\u001b[0;34m\u001b[0m\u001b[0;34m\u001b[0m\u001b[0m\n",
      "\u001b[0;31mModuleNotFoundError\u001b[0m: No module named 'tqdm'"
     ]
    }
   ],
   "source": [
    "# parrallele\n",
    "from tqdm import tqdm\n",
    "from multiprocess import Pool\n",
    "\n",
    "from lsg import avatarize_with_missing, avatarize\n",
    "\n",
    "from lsg.dimension import *\n",
    "from lsg.imputation import impute_missing\n",
    "\n",
    "import pandas as pd\n",
    "import os                                                  \n",
    "import re \n"
   ]
  },
  {
   "cell_type": "code",
   "execution_count": 2,
   "metadata": {},
   "outputs": [
    {
     "ename": "NameError",
     "evalue": "name 'pd' is not defined",
     "output_type": "error",
     "traceback": [
      "\u001b[0;31m---------------------------------------------------------------------------\u001b[0m",
      "\u001b[0;31mNameError\u001b[0m                                 Traceback (most recent call last)",
      "\u001b[0;32m<ipython-input-2-29264029060e>\u001b[0m in \u001b[0;36m<module>\u001b[0;34m\u001b[0m\n\u001b[0;32m----> 1\u001b[0;31m \u001b[0mwbcd\u001b[0m \u001b[0;34m=\u001b[0m \u001b[0mpd\u001b[0m\u001b[0;34m.\u001b[0m\u001b[0mread_csv\u001b[0m\u001b[0;34m(\u001b[0m\u001b[0;34m\"../../datasets/breast_cancer_wisconsin.csv\"\u001b[0m\u001b[0;34m,\u001b[0m \u001b[0msep\u001b[0m \u001b[0;34m=\u001b[0m \u001b[0;34m\",\"\u001b[0m\u001b[0;34m)\u001b[0m\u001b[0;34m\u001b[0m\u001b[0;34m\u001b[0m\u001b[0m\n\u001b[0m\u001b[1;32m      2\u001b[0m \u001b[0;34m\u001b[0m\u001b[0m\n\u001b[1;32m      3\u001b[0m \u001b[0;34m\u001b[0m\u001b[0m\n\u001b[1;32m      4\u001b[0m \u001b[0mwbcd\u001b[0m \u001b[0;34m=\u001b[0m \u001b[0mwbcd\u001b[0m\u001b[0;34m.\u001b[0m\u001b[0mastype\u001b[0m\u001b[0;34m(\u001b[0m\u001b[0;34m'category'\u001b[0m\u001b[0;34m)\u001b[0m\u001b[0;34m\u001b[0m\u001b[0;34m\u001b[0m\u001b[0m\n\u001b[1;32m      5\u001b[0m \u001b[0mwbcd\u001b[0m \u001b[0;34m=\u001b[0m \u001b[0mwbcd\u001b[0m\u001b[0;34m.\u001b[0m\u001b[0mdrop\u001b[0m\u001b[0;34m(\u001b[0m\u001b[0mcolumns\u001b[0m\u001b[0;34m=\u001b[0m \u001b[0;34m'Sample_code_number'\u001b[0m\u001b[0;34m,\u001b[0m \u001b[0maxis\u001b[0m \u001b[0;34m=\u001b[0m \u001b[0;36m1\u001b[0m\u001b[0;34m)\u001b[0m\u001b[0;34m\u001b[0m\u001b[0;34m\u001b[0m\u001b[0m\n",
      "\u001b[0;31mNameError\u001b[0m: name 'pd' is not defined"
     ]
    }
   ],
   "source": [
    "wbcd = pd.read_csv(\"../../datasets/breast_cancer_wisconsin.csv\", sep = \",\")\n",
    "\n",
    "\n",
    "wbcd = wbcd.astype('category')\n",
    "wbcd = wbcd.drop(columns= 'Sample_code_number', axis = 1)"
   ]
  },
  {
   "cell_type": "code",
   "execution_count": 3,
   "metadata": {},
   "outputs": [
    {
     "data": {
      "text/html": [
       "<div>\n",
       "<style scoped>\n",
       "    .dataframe tbody tr th:only-of-type {\n",
       "        vertical-align: middle;\n",
       "    }\n",
       "\n",
       "    .dataframe tbody tr th {\n",
       "        vertical-align: top;\n",
       "    }\n",
       "\n",
       "    .dataframe thead th {\n",
       "        text-align: right;\n",
       "    }\n",
       "</style>\n",
       "<table border=\"1\" class=\"dataframe\">\n",
       "  <thead>\n",
       "    <tr style=\"text-align: right;\">\n",
       "      <th></th>\n",
       "      <th>Clump_Thickness</th>\n",
       "      <th>Uniformity_of_Cell_Size</th>\n",
       "      <th>Uniformity_of_Cell_Shape</th>\n",
       "      <th>Marginal_Adhesion</th>\n",
       "      <th>Single_Epithelial_Cell_Size</th>\n",
       "      <th>Bare_Nuclei</th>\n",
       "      <th>Bland_Chromatin</th>\n",
       "      <th>Normal_Nucleoli</th>\n",
       "      <th>Mitoses</th>\n",
       "      <th>Class</th>\n",
       "    </tr>\n",
       "  </thead>\n",
       "  <tbody>\n",
       "    <tr>\n",
       "      <th>0</th>\n",
       "      <td>5</td>\n",
       "      <td>1</td>\n",
       "      <td>1</td>\n",
       "      <td>1</td>\n",
       "      <td>2</td>\n",
       "      <td>1</td>\n",
       "      <td>3</td>\n",
       "      <td>1</td>\n",
       "      <td>1</td>\n",
       "      <td>2</td>\n",
       "    </tr>\n",
       "    <tr>\n",
       "      <th>1</th>\n",
       "      <td>5</td>\n",
       "      <td>4</td>\n",
       "      <td>4</td>\n",
       "      <td>5</td>\n",
       "      <td>7</td>\n",
       "      <td>10</td>\n",
       "      <td>3</td>\n",
       "      <td>2</td>\n",
       "      <td>1</td>\n",
       "      <td>2</td>\n",
       "    </tr>\n",
       "    <tr>\n",
       "      <th>2</th>\n",
       "      <td>3</td>\n",
       "      <td>1</td>\n",
       "      <td>1</td>\n",
       "      <td>1</td>\n",
       "      <td>2</td>\n",
       "      <td>2</td>\n",
       "      <td>3</td>\n",
       "      <td>1</td>\n",
       "      <td>1</td>\n",
       "      <td>2</td>\n",
       "    </tr>\n",
       "    <tr>\n",
       "      <th>3</th>\n",
       "      <td>6</td>\n",
       "      <td>8</td>\n",
       "      <td>8</td>\n",
       "      <td>1</td>\n",
       "      <td>3</td>\n",
       "      <td>4</td>\n",
       "      <td>3</td>\n",
       "      <td>7</td>\n",
       "      <td>1</td>\n",
       "      <td>2</td>\n",
       "    </tr>\n",
       "    <tr>\n",
       "      <th>4</th>\n",
       "      <td>4</td>\n",
       "      <td>1</td>\n",
       "      <td>1</td>\n",
       "      <td>3</td>\n",
       "      <td>2</td>\n",
       "      <td>1</td>\n",
       "      <td>3</td>\n",
       "      <td>1</td>\n",
       "      <td>1</td>\n",
       "      <td>2</td>\n",
       "    </tr>\n",
       "  </tbody>\n",
       "</table>\n",
       "</div>"
      ],
      "text/plain": [
       "  Clump_Thickness Uniformity_of_Cell_Size Uniformity_of_Cell_Shape  \\\n",
       "0               5                       1                        1   \n",
       "1               5                       4                        4   \n",
       "2               3                       1                        1   \n",
       "3               6                       8                        8   \n",
       "4               4                       1                        1   \n",
       "\n",
       "  Marginal_Adhesion Single_Epithelial_Cell_Size Bare_Nuclei Bland_Chromatin  \\\n",
       "0                 1                           2           1               3   \n",
       "1                 5                           7          10               3   \n",
       "2                 1                           2           2               3   \n",
       "3                 1                           3           4               3   \n",
       "4                 3                           2           1               3   \n",
       "\n",
       "  Normal_Nucleoli Mitoses Class  \n",
       "0               1       1     2  \n",
       "1               2       1     2  \n",
       "2               1       1     2  \n",
       "3               7       1     2  \n",
       "4               1       1     2  "
      ]
     },
     "execution_count": 3,
     "metadata": {},
     "output_type": "execute_result"
    }
   ],
   "source": [
    "wbcd.head()"
   ]
  },
  {
   "cell_type": "code",
   "execution_count": 4,
   "metadata": {},
   "outputs": [
    {
     "data": {
      "text/plain": [
       "12"
      ]
     },
     "execution_count": 4,
     "metadata": {},
     "output_type": "execute_result"
    }
   ],
   "source": [
    "import multiprocessing\n",
    "multiprocessing.cpu_count()"
   ]
  },
  {
   "cell_type": "code",
   "execution_count": 40,
   "metadata": {},
   "outputs": [
    {
     "data": {
      "text/plain": [
       "1000"
      ]
     },
     "execution_count": 40,
     "metadata": {},
     "output_type": "execute_result"
    }
   ],
   "source": [
    "step= 4\n",
    "inf = step * 100 + 1\n",
    "sup = inf + 200\n",
    "\n",
    "k_list = list(range(inf,sup, 2)) * 10 \n",
    "id_num = list(range(len(k_list)))\n",
    "inp = list(zip(*(k_list, id_num)))\n",
    "\n",
    "\n",
    "len(inp)"
   ]
  },
  {
   "cell_type": "code",
   "execution_count": 41,
   "metadata": {},
   "outputs": [
    {
     "data": {
      "text/plain": [
       "'/home/user/Documents/projets/Paper/avatar_paper/datasets/wbcd/k201-401'"
      ]
     },
     "execution_count": 41,
     "metadata": {},
     "output_type": "execute_result"
    }
   ],
   "source": [
    "os.getcwd()"
   ]
  },
  {
   "cell_type": "code",
   "execution_count": 42,
   "metadata": {},
   "outputs": [],
   "source": [
    "\n",
    "folder = 'k'+ str(inf)+ '-'+ str(sup)\n",
    "os.chdir('/home/user/Documents/projets/Paper/avatar_paper/datasets/wbcd' )"
   ]
  },
  {
   "cell_type": "code",
   "execution_count": 43,
   "metadata": {},
   "outputs": [
    {
     "data": {
      "text/plain": [
       "[(201, 401), (1, 201)]"
      ]
     },
     "execution_count": 43,
     "metadata": {},
     "output_type": "execute_result"
    }
   ],
   "source": [
    "filename = os.listdir()\n",
    "list_filenames = []\n",
    "for file in filename:\n",
    "    index = re.findall(\"\\d+\", file)\n",
    "    index = tuple( int(elem) for elem in index)\n",
    "    list_filenames.append(tuple(index))\n",
    "len(list_filenames)\n",
    "list_filenames"
   ]
  },
  {
   "cell_type": "code",
   "execution_count": null,
   "metadata": {},
   "outputs": [],
   "source": []
  },
  {
   "cell_type": "code",
   "execution_count": 44,
   "metadata": {},
   "outputs": [],
   "source": [
    "# new_inp = list(set(inp) - set(list_filenames))\n",
    "# len(new_inp)\n",
    "# inp"
   ]
  },
  {
   "cell_type": "code",
   "execution_count": 45,
   "metadata": {},
   "outputs": [],
   "source": [
    "def avatarize_loop(imput):\n",
    "    k = imput[0]\n",
    "    id_num = imput[1]\n",
    "    df = avatarize(wbcd, k=k, nf= 2, distance_metric= 'minkowski')\n",
    "    df['k'] = k\n",
    "    df['id'] = id_num\n",
    "    file_name = \"k\"+str(k)+\"-\"+str(id_num) +\"_avatarize.csv\"\n",
    "\n",
    "    df.to_csv(file_name, index= False)\n",
    "    del df "
   ]
  },
  {
   "cell_type": "code",
   "execution_count": 46,
   "metadata": {},
   "outputs": [
    {
     "data": {
      "text/plain": [
       "'/home/user/Documents/projets/Paper/avatar_paper/datasets/wbcd'"
      ]
     },
     "execution_count": 46,
     "metadata": {},
     "output_type": "execute_result"
    }
   ],
   "source": [
    "os.getcwd()"
   ]
  },
  {
   "cell_type": "code",
   "execution_count": 47,
   "metadata": {
    "tags": [
     "outputPrepend"
    ]
   },
   "outputs": [
    {
     "name": "stderr",
     "output_type": "stream",
     "text": [
      "03:36,  1.07s/it]Regarding variables types, a MCA is performed for dimension reduction\n",
      "Regarding variables types, a MCA is performed for dimension reduction\n",
      " 80%|███████▉  | 798/1000 [34:10<09:54,  2.94s/it]Regarding variables types, a MCA is performed for dimension reduction\n",
      " 80%|████████  | 800/1000 [34:13<08:10,  2.45s/it]Regarding variables types, a MCA is performed for dimension reduction\n",
      " 80%|████████  | 801/1000 [34:17<09:20,  2.82s/it]Regarding variables types, a MCA is performed for dimension reduction\n",
      " 80%|████████  | 802/1000 [34:19<08:36,  2.61s/it]Regarding variables types, a MCA is performed for dimension reduction\n",
      " 80%|████████  | 803/1000 [34:21<08:00,  2.44s/it]Regarding variables types, a MCA is performed for dimension reduction\n",
      "Regarding variables types, a MCA is performed for dimension reduction\n",
      "Regarding variables types, a MCA is performed for dimension reduction\n",
      " 80%|████████  | 804/1000 [34:21<06:20,  1.94s/it]Regarding variables types, a MCA is performed for dimension reduction\n",
      " 81%|████████  | 807/1000 [34:26<05:22,  1.67s/it]Regarding variables types, a MCA is performed for dimension reduction\n",
      " 81%|████████  | 808/1000 [34:32<08:23,  2.62s/it]Regarding variables types, a MCA is performed for dimension reduction\n",
      " 81%|████████  | 809/1000 [34:33<06:53,  2.16s/it]Regarding variables types, a MCA is performed for dimension reduction\n",
      "Regarding variables types, a MCA is performed for dimension reduction\n",
      "Regarding variables types, a MCA is performed for dimension reduction\n",
      " 81%|████████  | 810/1000 [34:40<11:15,  3.55s/it]Regarding variables types, a MCA is performed for dimension reduction\n",
      "Regarding variables types, a MCA is performed for dimension reduction\n",
      "Regarding variables types, a MCA is performed for dimension reduction\n",
      "Regarding variables types, a MCA is performed for dimension reduction\n",
      " 81%|████████  | 812/1000 [34:44<09:03,  2.89s/it]Regarding variables types, a MCA is performed for dimension reduction\n",
      "Regarding variables types, a MCA is performed for dimension reduction\n",
      " 82%|████████▏ | 817/1000 [34:56<07:43,  2.54s/it]Regarding variables types, a MCA is performed for dimension reduction\n",
      " 82%|████████▏ | 819/1000 [34:58<06:40,  2.22s/it]Regarding variables types, a MCA is performed for dimension reduction\n",
      " 82%|████████▏ | 820/1000 [35:00<06:27,  2.15s/it]Regarding variables types, a MCA is performed for dimension reduction\n",
      " 82%|████████▏ | 821/1000 [35:03<07:01,  2.35s/it]Regarding variables types, a MCA is performed for dimension reduction\n",
      " 82%|████████▏ | 822/1000 [35:05<06:46,  2.29s/it]Regarding variables types, a MCA is performed for dimension reduction\n",
      "Regarding variables types, a MCA is performed for dimension reduction\n",
      " 82%|████████▏ | 823/1000 [35:07<06:09,  2.09s/it]Regarding variables types, a MCA is performed for dimension reduction\n",
      " 82%|████████▎ | 825/1000 [35:09<04:45,  1.63s/it]Regarding variables types, a MCA is performed for dimension reduction\n",
      "Regarding variables types, a MCA is performed for dimension reduction\n",
      " 83%|████████▎ | 826/1000 [35:16<08:18,  2.86s/it]Regarding variables types, a MCA is performed for dimension reduction\n",
      " 83%|████████▎ | 827/1000 [35:20<09:05,  3.15s/it]Regarding variables types, a MCA is performed for dimension reduction\n",
      " 83%|████████▎ | 829/1000 [35:21<05:48,  2.04s/it]Regarding variables types, a MCA is performed for dimension reduction\n",
      " 83%|████████▎ | 830/1000 [35:24<06:17,  2.22s/it]Regarding variables types, a MCA is performed for dimension reduction\n",
      " 83%|████████▎ | 831/1000 [35:24<04:59,  1.77s/it]Regarding variables types, a MCA is performed for dimension reduction\n",
      "Regarding variables types, a MCA is performed for dimension reduction\n",
      " 83%|████████▎ | 832/1000 [35:28<06:35,  2.35s/it]Regarding variables types, a MCA is performed for dimension reduction\n",
      " 83%|████████▎ | 834/1000 [35:31<05:27,  1.97s/it]Regarding variables types, a MCA is performed for dimension reduction\n",
      " 84%|████████▎ | 835/1000 [35:36<07:15,  2.64s/it]Regarding variables types, a MCA is performed for dimension reduction\n",
      " 84%|████████▎ | 836/1000 [35:38<06:59,  2.56s/it]Regarding variables types, a MCA is performed for dimension reduction\n",
      " 84%|████████▎ | 837/1000 [35:41<07:03,  2.60s/it]Regarding variables types, a MCA is performed for dimension reduction\n",
      " 84%|████████▍ | 838/1000 [35:44<07:26,  2.75s/it]Regarding variables types, a MCA is performed for dimension reduction\n",
      " 84%|████████▍ | 839/1000 [35:45<05:50,  2.18s/it]Regarding variables types, a MCA is performed for dimension reduction\n",
      " 84%|████████▍ | 840/1000 [35:47<06:08,  2.30s/it]Regarding variables types, a MCA is performed for dimension reduction\n",
      "Regarding variables types, a MCA is performed for dimension reduction\n",
      "Regarding variables types, a MCA is performed for dimension reduction\n",
      " 84%|████████▍ | 841/1000 [35:51<07:03,  2.66s/it]Regarding variables types, a MCA is performed for dimension reduction\n",
      " 84%|████████▍ | 844/1000 [35:57<06:16,  2.41s/it]Regarding variables types, a MCA is performed for dimension reduction\n",
      "Regarding variables types, a MCA is performed for dimension reduction\n",
      " 84%|████████▍ | 845/1000 [36:01<07:02,  2.73s/it]Regarding variables types, a MCA is performed for dimension reduction\n",
      " 85%|████████▍ | 847/1000 [36:07<06:50,  2.69s/it]Regarding variables types, a MCA is performed for dimension reduction\n",
      " 85%|████████▍ | 848/1000 [36:07<05:42,  2.26s/it]Regarding variables types, a MCA is performed for dimension reduction\n",
      " 85%|████████▍ | 849/1000 [36:08<04:32,  1.80s/it]Regarding variables types, a MCA is performed for dimension reduction\n",
      "Regarding variables types, a MCA is performed for dimension reduction\n",
      " 85%|████████▌ | 850/1000 [36:11<05:31,  2.21s/it]Regarding variables types, a MCA is performed for dimension reduction\n",
      " 85%|████████▌ | 852/1000 [36:13<04:05,  1.66s/it]Regarding variables types, a MCA is performed for dimension reduction\n",
      " 85%|████████▌ | 853/1000 [36:18<06:08,  2.51s/it]Regarding variables types, a MCA is performed for dimension reduction\n",
      " 85%|████████▌ | 854/1000 [36:24<07:48,  3.21s/it]Regarding variables types, a MCA is performed for dimension reduction\n",
      "Regarding variables types, a MCA is performed for dimension reduction\n",
      " 86%|████████▌ | 855/1000 [36:25<06:29,  2.69s/it]Regarding variables types, a MCA is performed for dimension reduction\n",
      "Regarding variables types, a MCA is performed for dimension reduction\n",
      " 86%|████████▌ | 856/1000 [36:30<08:14,  3.44s/it]Regarding variables types, a MCA is performed for dimension reduction\n",
      " 86%|████████▌ | 858/1000 [36:31<04:52,  2.06s/it]Regarding variables types, a MCA is performed for dimension reduction\n",
      " 86%|████████▌ | 860/1000 [36:32<03:40,  1.57s/it]Regarding variables types, a MCA is performed for dimension reduction\n",
      " 86%|████████▌ | 861/1000 [36:36<04:51,  2.09s/it]Regarding variables types, a MCA is performed for dimension reduction\n",
      " 86%|████████▌ | 862/1000 [36:38<04:37,  2.01s/it]Regarding variables types, a MCA is performed for dimension reduction\n",
      " 86%|████████▋ | 863/1000 [36:45<07:26,  3.26s/it]Regarding variables types, a MCA is performed for dimension reduction\n",
      " 86%|████████▋ | 864/1000 [36:46<06:06,  2.69s/it]Regarding variables types, a MCA is performed for dimension reduction\n",
      " 86%|████████▋ | 865/1000 [36:47<05:03,  2.25s/it]Regarding variables types, a MCA is performed for dimension reduction\n",
      " 87%|████████▋ | 866/1000 [36:50<05:18,  2.38s/it]Regarding variables types, a MCA is performed for dimension reduction\n",
      "Regarding variables types, a MCA is performed for dimension reduction\n",
      " 87%|████████▋ | 867/1000 [36:53<05:56,  2.68s/it]Regarding variables types, a MCA is performed for dimension reduction\n",
      " 87%|████████▋ | 869/1000 [36:54<03:34,  1.64s/it]Regarding variables types, a MCA is performed for dimension reduction\n",
      "Regarding variables types, a MCA is performed for dimension reduction\n",
      " 87%|████████▋ | 870/1000 [37:01<06:25,  2.96s/it]Regarding variables types, a MCA is performed for dimension reduction\n",
      "Regarding variables types, a MCA is performed for dimension reduction\n",
      " 87%|████████▋ | 872/1000 [37:07<06:22,  2.99s/it]Regarding variables types, a MCA is performed for dimension reduction\n",
      " 87%|████████▋ | 873/1000 [37:08<05:06,  2.42s/it]Regarding variables types, a MCA is performed for dimension reduction\n",
      "Regarding variables types, a MCA is performed for dimension reduction\n",
      "Regarding variables types, a MCA is performed for dimension reduction\n",
      " 88%|████████▊ | 875/1000 [37:13<05:19,  2.56s/it]Regarding variables types, a MCA is performed for dimension reduction\n",
      " 88%|████████▊ | 878/1000 [37:17<03:56,  1.94s/it]Regarding variables types, a MCA is performed for dimension reduction\n",
      " 88%|████████▊ | 879/1000 [37:23<05:29,  2.72s/it]Regarding variables types, a MCA is performed for dimension reduction\n",
      " 88%|████████▊ | 880/1000 [37:23<04:26,  2.22s/it]Regarding variables types, a MCA is performed for dimension reduction\n",
      "Regarding variables types, a MCA is performed for dimension reduction\n",
      " 88%|████████▊ | 881/1000 [37:28<05:39,  2.85s/it]Regarding variables types, a MCA is performed for dimension reduction\n",
      " 88%|████████▊ | 882/1000 [37:32<05:44,  2.92s/it]Regarding variables types, a MCA is performed for dimension reduction\n",
      "Regarding variables types, a MCA is performed for dimension reduction\n",
      " 88%|████████▊ | 884/1000 [37:35<04:30,  2.33s/it]Regarding variables types, a MCA is performed for dimension reduction\n",
      "Regarding variables types, a MCA is performed for dimension reduction\n",
      " 89%|████████▊ | 886/1000 [37:38<03:56,  2.08s/it]Regarding variables types, a MCA is performed for dimension reduction\n",
      "Regarding variables types, a MCA is performed for dimension reduction\n",
      " 89%|████████▉ | 888/1000 [37:47<05:27,  2.93s/it]Regarding variables types, a MCA is performed for dimension reduction\n",
      "Regarding variables types, a MCA is performed for dimension reduction\n",
      " 89%|████████▉ | 890/1000 [37:52<05:07,  2.80s/it]Regarding variables types, a MCA is performed for dimension reduction\n",
      " 89%|████████▉ | 891/1000 [37:53<04:37,  2.55s/it]Regarding variables types, a MCA is performed for dimension reduction\n",
      "Regarding variables types, a MCA is performed for dimension reduction\n",
      " 89%|████████▉ | 893/1000 [37:55<03:24,  1.91s/it]Regarding variables types, a MCA is performed for dimension reduction\n",
      " 90%|████████▉ | 895/1000 [38:00<03:47,  2.17s/it]Regarding variables types, a MCA is performed for dimension reduction\n",
      "Regarding variables types, a MCA is performed for dimension reduction\n",
      " 90%|████████▉ | 896/1000 [38:03<03:48,  2.19s/it]Regarding variables types, a MCA is performed for dimension reduction\n",
      " 90%|████████▉ | 898/1000 [38:12<05:07,  3.01s/it]Regarding variables types, a MCA is performed for dimension reduction\n",
      " 90%|████████▉ | 899/1000 [38:13<04:26,  2.64s/it]Regarding variables types, a MCA is performed for dimension reduction\n",
      "Regarding variables types, a MCA is performed for dimension reduction\n",
      " 90%|█████████ | 900/1000 [38:17<04:56,  2.96s/it]Regarding variables types, a MCA is performed for dimension reduction\n",
      "Regarding variables types, a MCA is performed for dimension reduction\n",
      " 90%|█████████ | 902/1000 [38:18<03:18,  2.02s/it]\n",
      "Regarding variables types, a MCA is performed for dimension reduction\n",
      "Regarding variables types, a MCA is performed for dimension reduction\n",
      " 90%|█████████ | 905/1000 [38:26<03:35,  2.27s/it]Regarding variables types, a MCA is performed for dimension reduction\n",
      " 91%|█████████ | 907/1000 [38:33<04:16,  2.75s/it]Regarding variables types, a MCA is performed for dimension reduction\n",
      "Regarding variables types, a MCA is performed for dimension reduction\n",
      " 91%|█████████ | 908/1000 [38:36<04:12,  2.75s/it]Regarding variables types, a MCA is performed for dimension reduction\n",
      "Regarding variables types, a MCA is performed for dimension reduction\n",
      " 91%|█████████ | 909/1000 [38:38<04:02,  2.66s/it]Regarding variables types, a MCA is performed for dimension reduction\n",
      " 91%|█████████ | 910/1000 [38:40<03:37,  2.42s/it]Regarding variables types, a MCA is performed for dimension reduction\n",
      "Regarding variables types, a MCA is performed for dimension reduction\n",
      " 91%|█████████▏| 913/1000 [38:43<02:22,  1.64s/it]Regarding variables types, a MCA is performed for dimension reduction\n",
      " 92%|█████████▏| 915/1000 [38:49<03:00,  2.12s/it]Regarding variables types, a MCA is performed for dimension reduction\n",
      " 92%|█████████▏| 916/1000 [38:53<03:28,  2.48s/it]Regarding variables types, a MCA is performed for dimension reduction\n",
      "Regarding variables types, a MCA is performed for dimension reduction\n",
      "Regarding variables types, a MCA is performed for dimension reduction\n",
      " 92%|█████████▏| 917/1000 [38:59<04:21,  3.15s/it]Regarding variables types, a MCA is performed for dimension reduction\n",
      " 92%|█████████▏| 919/1000 [39:01<03:23,  2.51s/it]Regarding variables types, a MCA is performed for dimension reduction\n",
      " 92%|█████████▏| 920/1000 [39:02<02:45,  2.06s/it]Regarding variables types, a MCA is performed for dimension reduction\n",
      " 92%|█████████▏| 921/1000 [39:04<02:37,  2.00s/it]Regarding variables types, a MCA is performed for dimension reduction\n",
      " 92%|█████████▏| 923/1000 [39:06<02:09,  1.69s/it]Regarding variables types, a MCA is performed for dimension reduction\n",
      " 92%|█████████▏| 924/1000 [39:09<02:21,  1.86s/it]Regarding variables types, a MCA is performed for dimension reduction\n",
      " 92%|█████████▎| 925/1000 [39:12<02:42,  2.17s/it]Regarding variables types, a MCA is performed for dimension reduction\n",
      "Regarding variables types, a MCA is performed for dimension reduction\n",
      "Regarding variables types, a MCA is performed for dimension reduction\n",
      "Regarding variables types, a MCA is performed for dimension reduction\n",
      " 93%|█████████▎| 926/1000 [39:21<04:55,  3.99s/it]Regarding variables types, a MCA is performed for dimension reduction\n",
      "Regarding variables types, a MCA is performed for dimension reduction\n",
      " 93%|█████████▎| 929/1000 [39:24<02:57,  2.50s/it]Regarding variables types, a MCA is performed for dimension reduction\n",
      " 93%|█████████▎| 931/1000 [39:25<02:01,  1.77s/it]Regarding variables types, a MCA is performed for dimension reduction\n",
      " 93%|█████████▎| 933/1000 [39:29<02:03,  1.84s/it]Regarding variables types, a MCA is performed for dimension reduction\n",
      " 93%|█████████▎| 934/1000 [39:33<02:26,  2.22s/it]Regarding variables types, a MCA is performed for dimension reduction\n",
      "Regarding variables types, a MCA is performed for dimension reduction\n",
      "Regarding variables types, a MCA is performed for dimension reduction\n",
      " 94%|█████████▎| 935/1000 [39:43<04:10,  3.86s/it]Regarding variables types, a MCA is performed for dimension reduction\n",
      "Regarding variables types, a MCA is performed for dimension reduction\n",
      "Regarding variables types, a MCA is performed for dimension reduction\n",
      " 94%|█████████▍| 938/1000 [39:45<02:26,  2.36s/it]Regarding variables types, a MCA is performed for dimension reduction\n",
      " 94%|█████████▍| 941/1000 [39:48<01:50,  1.87s/it]Regarding variables types, a MCA is performed for dimension reduction\n",
      "Regarding variables types, a MCA is performed for dimension reduction\n",
      " 94%|█████████▍| 942/1000 [39:54<02:19,  2.41s/it]Regarding variables types, a MCA is performed for dimension reduction\n",
      "Regarding variables types, a MCA is performed for dimension reduction\n",
      " 94%|█████████▍| 944/1000 [40:02<02:49,  3.03s/it]Regarding variables types, a MCA is performed for dimension reduction\n",
      " 94%|█████████▍| 945/1000 [40:04<02:27,  2.69s/it]Regarding variables types, a MCA is performed for dimension reduction\n",
      "Regarding variables types, a MCA is performed for dimension reduction\n",
      " 95%|█████████▍| 946/1000 [40:06<02:26,  2.71s/it]Regarding variables types, a MCA is performed for dimension reduction\n",
      "Regarding variables types, a MCA is performed for dimension reduction\n",
      " 95%|█████████▍| 948/1000 [40:09<01:50,  2.12s/it]Regarding variables types, a MCA is performed for dimension reduction\n",
      " 95%|█████████▌| 951/1000 [40:13<01:30,  1.85s/it]Regarding variables types, a MCA is performed for dimension reduction\n",
      " 95%|█████████▌| 952/1000 [40:18<01:51,  2.32s/it]Regarding variables types, a MCA is performed for dimension reduction\n",
      " 95%|█████████▌| 953/1000 [40:22<02:11,  2.79s/it]Regarding variables types, a MCA is performed for dimension reduction\n",
      "Regarding variables types, a MCA is performed for dimension reduction\n",
      " 95%|█████████▌| 954/1000 [40:25<02:09,  2.83s/it]Regarding variables types, a MCA is performed for dimension reduction\n",
      "Regarding variables types, a MCA is performed for dimension reduction\n",
      " 96%|█████████▌| 956/1000 [40:29<01:52,  2.55s/it]Regarding variables types, a MCA is performed for dimension reduction\n",
      "Regarding variables types, a MCA is performed for dimension reduction\n",
      " 96%|█████████▌| 958/1000 [40:33<01:33,  2.23s/it]Regarding variables types, a MCA is performed for dimension reduction\n",
      "Regarding variables types, a MCA is performed for dimension reduction\n",
      " 96%|█████████▌| 961/1000 [40:39<01:26,  2.22s/it]Regarding variables types, a MCA is performed for dimension reduction\n",
      " 96%|█████████▌| 962/1000 [40:43<01:32,  2.43s/it]Regarding variables types, a MCA is performed for dimension reduction\n",
      "Regarding variables types, a MCA is performed for dimension reduction\n",
      "Regarding variables types, a MCA is performed for dimension reduction\n",
      " 96%|█████████▋| 963/1000 [40:48<01:47,  2.91s/it]Regarding variables types, a MCA is performed for dimension reduction\n",
      " 96%|█████████▋| 964/1000 [40:50<01:40,  2.78s/it]Regarding variables types, a MCA is performed for dimension reduction\n",
      "Regarding variables types, a MCA is performed for dimension reduction\n",
      " 97%|█████████▋| 966/1000 [40:54<01:24,  2.49s/it]Regarding variables types, a MCA is performed for dimension reduction\n",
      " 97%|█████████▋| 968/1000 [40:56<01:01,  1.92s/it]Regarding variables types, a MCA is performed for dimension reduction\n",
      " 97%|█████████▋| 970/1000 [41:01<01:05,  2.19s/it]Regarding variables types, a MCA is performed for dimension reduction\n",
      " 97%|█████████▋| 971/1000 [41:07<01:25,  2.95s/it]Regarding variables types, a MCA is performed for dimension reduction\n",
      "Regarding variables types, a MCA is performed for dimension reduction\n",
      "Regarding variables types, a MCA is performed for dimension reduction\n",
      "Regarding variables types, a MCA is performed for dimension reduction\n",
      " 97%|█████████▋| 972/1000 [41:13<01:37,  3.48s/it]Regarding variables types, a MCA is performed for dimension reduction\n",
      " 98%|█████████▊| 976/1000 [41:15<00:44,  1.86s/it]Regarding variables types, a MCA is performed for dimension reduction\n",
      "Regarding variables types, a MCA is performed for dimension reduction\n",
      " 98%|█████████▊| 977/1000 [41:20<00:55,  2.41s/it]Regarding variables types, a MCA is performed for dimension reduction\n",
      " 98%|█████████▊| 979/1000 [41:26<00:54,  2.61s/it]Regarding variables types, a MCA is performed for dimension reduction\n",
      " 98%|█████████▊| 980/1000 [41:30<00:57,  2.88s/it]Regarding variables types, a MCA is performed for dimension reduction\n",
      "Regarding variables types, a MCA is performed for dimension reduction\n",
      " 98%|█████████▊| 981/1000 [41:34<00:56,  2.96s/it]Regarding variables types, a MCA is performed for dimension reduction\n",
      "Regarding variables types, a MCA is performed for dimension reduction\n",
      " 98%|█████████▊| 983/1000 [41:36<00:38,  2.28s/it]Regarding variables types, a MCA is performed for dimension reduction\n",
      " 98%|█████████▊| 985/1000 [41:40<00:33,  2.23s/it]Regarding variables types, a MCA is performed for dimension reduction\n",
      "Regarding variables types, a MCA is performed for dimension reduction\n",
      " 99%|█████████▊| 987/1000 [41:42<00:22,  1.75s/it]Regarding variables types, a MCA is performed for dimension reduction\n",
      " 99%|█████████▉| 988/1000 [41:52<00:41,  3.44s/it]Regarding variables types, a MCA is performed for dimension reduction\n",
      "Regarding variables types, a MCA is performed for dimension reduction\n",
      "Regarding variables types, a MCA is performed for dimension reduction\n",
      " 99%|█████████▉| 989/1000 [41:56<00:37,  3.45s/it]Regarding variables types, a MCA is performed for dimension reduction\n",
      "100%|██████████| 1000/1000 [42:12<00:00,  2.53s/it]\n"
     ]
    }
   ],
   "source": [
    "max_pool = 9\n",
    "path = os.getcwd() + \"/k\" + str(inf) + \"-\" + str(sup)\n",
    "if not os.path.exists(path):\n",
    "    os.makedirs(path)\n",
    "\n",
    "os.chdir(path)\n",
    "\n",
    "with Pool(max_pool) as p:\n",
    "    pool_outputs = list(tqdm(\n",
    "            p.imap(avatarize_loop,\n",
    "                inp),\n",
    "            total= len(inp)\n",
    "        )\n",
    "    )\n",
    "\n",
    "# df_list = []\n",
    "# for i in range(500):\n",
    "#     df_temp = pool_outputs[i][1]\n",
    "#     df_temp['k'] = pool_outputs[i][0]\n",
    "#     df_temp['id'] = i\n",
    "#     df_list.append(df_temp)\n",
    "\n",
    "# df_avatarized= pd.concat(df_list, axis=0)\n",
    "\n",
    "# file_name =\"k\"+str(inf)+\"-\"+ str(sup) + \"_avatarize.csv\"\n",
    "# df_avatarized.to_csv(file_name, index= False)"
   ]
  },
  {
   "cell_type": "code",
   "execution_count": null,
   "metadata": {},
   "outputs": [],
   "source": []
  }
 ],
 "metadata": {
  "kernelspec": {
   "display_name": "Python 3",
   "language": "python",
   "name": "python3"
  },
  "language_info": {
   "codemirror_mode": {
    "name": "ipython",
    "version": 3
   },
   "file_extension": ".py",
   "mimetype": "text/x-python",
   "name": "python",
   "nbconvert_exporter": "python",
   "pygments_lexer": "ipython3",
   "version": "3.8.0"
  },
  "metadata": {
   "interpreter": {
    "hash": "916dbcbb3f70747c44a77c7bcd40155683ae19c65e1c03b4aa3499c5328201f1"
   }
  }
 },
 "nbformat": 4,
 "nbformat_minor": 2
}
