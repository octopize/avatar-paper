{
 "cells": [
  {
   "cell_type": "code",
   "execution_count": 1,
   "metadata": {},
   "outputs": [],
   "source": [
    "# parrallele\n",
    "from tqdm import tqdm\n",
    "from multiprocess import Pool\n",
    "\n",
    "from lsg import avatarize_with_missing, avatarize\n",
    "\n",
    "from lsg.dimension import *\n",
    "from lsg.imputation import impute_missing\n",
    "\n",
    "import pandas as pd\n",
    "import os\n",
    "import re"
   ]
  },
  {
   "cell_type": "code",
   "execution_count": 2,
   "metadata": {},
   "outputs": [],
   "source": [
    "aids = pd.read_csv(\"../datasets/aids_original_data.csv\", sep=\";\")\n",
    "\n",
    "\n",
    "categorical_val = []\n",
    "continous_val = []\n",
    "for column in aids.columns:\n",
    "    if len(aids[column].unique()) <= 10:\n",
    "        categorical_val.append(column)\n",
    "    else:\n",
    "        continous_val.append(column)\n",
    "\n",
    "aids[categorical_val] = aids[categorical_val].astype(\"category\")\n",
    "\n",
    "aids = aids.drop([\"pidnum\"], axis=1)"
   ]
  },
  {
   "cell_type": "code",
   "execution_count": 3,
   "metadata": {},
   "outputs": [
    {
     "data": {
      "text/plain": [
       "(2139, 26)"
      ]
     },
     "execution_count": 3,
     "metadata": {},
     "output_type": "execute_result"
    }
   ],
   "source": [
    "aids.shape"
   ]
  },
  {
   "cell_type": "code",
   "execution_count": 4,
   "metadata": {},
   "outputs": [
    {
     "data": {
      "text/plain": [
       "12"
      ]
     },
     "execution_count": 4,
     "metadata": {},
     "output_type": "execute_result"
    }
   ],
   "source": [
    "import multiprocessing\n",
    "\n",
    "multiprocessing.cpu_count()"
   ]
  },
  {
   "cell_type": "code",
   "execution_count": 11,
   "metadata": {},
   "outputs": [
    {
     "data": {
      "text/plain": [
       "500"
      ]
     },
     "execution_count": 11,
     "metadata": {},
     "output_type": "execute_result"
    }
   ],
   "source": [
    "step = 7\n",
    "inf = step * 100 + 1\n",
    "sup = inf + 100\n",
    "\n",
    "k_list = list(range(inf, sup, 2)) * 10\n",
    "id_num = list(range(len(k_list)))\n",
    "inp = list(zip(*(k_list, id_num)))\n",
    "\n",
    "\n",
    "len(inp)"
   ]
  },
  {
   "cell_type": "code",
   "execution_count": 12,
   "metadata": {},
   "outputs": [],
   "source": [
    "os.getcwd()\n",
    "folder = \"k\" + str(inf) + \"-\" + str(sup)\n",
    "os.chdir(\"/home/user/Documents/Projets/avatar_paper/notebooks/\")"
   ]
  },
  {
   "cell_type": "code",
   "execution_count": 13,
   "metadata": {},
   "outputs": [
    {
     "data": {
      "text/plain": [
       "11"
      ]
     },
     "execution_count": 13,
     "metadata": {},
     "output_type": "execute_result"
    }
   ],
   "source": [
    "filename = os.listdir()\n",
    "list_filenames = []\n",
    "for file in filename:\n",
    "    index = re.findall(\"\\d+\", file)\n",
    "    index = tuple(int(elem) for elem in index)\n",
    "    list_filenames.append(tuple(index))\n",
    "len(list_filenames)"
   ]
  },
  {
   "cell_type": "code",
   "execution_count": null,
   "metadata": {},
   "outputs": [],
   "source": []
  },
  {
   "cell_type": "code",
   "execution_count": 1,
   "metadata": {},
   "outputs": [],
   "source": [
    "# new_inp = list(set(inp) - set(list_filenames))\n",
    "# len(new_inp)\n",
    "# inp"
   ]
  },
  {
   "cell_type": "code",
   "execution_count": 15,
   "metadata": {},
   "outputs": [],
   "source": [
    "def avatarize_loop(imput):\n",
    "    k = imput[0]\n",
    "    id_num = imput[1]\n",
    "    df = avatarize_with_missing(aids, k=k, nf=5)\n",
    "    df[\"k\"] = k\n",
    "    df[\"id\"] = id_num\n",
    "    file_name = \"k\" + str(k) + \"-\" + str(id_num) + \"_avatarize.csv\"\n",
    "\n",
    "    df.to_csv(file_name, index=False)\n",
    "    del df"
   ]
  },
  {
   "cell_type": "code",
   "execution_count": 8,
   "metadata": {
    "tags": []
   },
   "outputs": [
    {
     "name": "stderr",
     "output_type": "stream",
     "text": [
      "  0%|          | 0/500 [00:01<?, ?it/s]\n"
     ]
    },
    {
     "ename": "ValueError",
     "evalue": "('k', 'number of nearest neighbors is too large for the number of records')",
     "output_type": "error",
     "traceback": [
      "\u001b[0;31m---------------------------------------------------------------------------\u001b[0m",
      "\u001b[0;31mRemoteTraceback\u001b[0m                           Traceback (most recent call last)",
      "\u001b[0;31mRemoteTraceback\u001b[0m: \n\"\"\"\nTraceback (most recent call last):\n  File \"/home/user/.local/lib/python3.8/site-packages/multiprocess/pool.py\", line 125, in worker\n    result = (True, func(*args, **kwds))\n  File \"<ipython-input-7-81d1a74ebbbb>\", line 4, in avatarize_loop\n    df = avatarize_with_missing(aids, k=k, nf= 5)\n  File \"/home/user/.local/lib/python3.8/site-packages/lsg/avatarize_with_missing.py\", line 42, in avatarize_with_missing\n    avatars = avatarize(data_frame_filled, k = k, distance_metric = distance_metric, contribution = contribution, contribution_weight = contribution_weight, variables_weights = variables_weights, column_weights = column_weights, drop_duplicates = drop_duplicates, nf = nf, seed = seed)\n  File \"/home/user/.local/lib/python3.8/site-packages/lsg/avatarize.py\", line 57, in avatarize\n    raise ValueError('k', 'number of nearest neighbors is too large for the number of records')\nValueError: ('k', 'number of nearest neighbors is too large for the number of records')\n\"\"\"",
      "\nThe above exception was the direct cause of the following exception:\n",
      "\u001b[0;31mValueError\u001b[0m                                Traceback (most recent call last)",
      "\u001b[0;32m<ipython-input-8-e92c9f463495>\u001b[0m in \u001b[0;36m<module>\u001b[0;34m\u001b[0m\n\u001b[1;32m      8\u001b[0m \u001b[0;34m\u001b[0m\u001b[0m\n\u001b[1;32m      9\u001b[0m \u001b[0;32mwith\u001b[0m \u001b[0mPool\u001b[0m\u001b[0;34m(\u001b[0m\u001b[0mmax_pool\u001b[0m\u001b[0;34m)\u001b[0m \u001b[0;32mas\u001b[0m \u001b[0mp\u001b[0m\u001b[0;34m:\u001b[0m\u001b[0;34m\u001b[0m\u001b[0;34m\u001b[0m\u001b[0m\n\u001b[0;32m---> 10\u001b[0;31m     pool_outputs = list(tqdm(\n\u001b[0m\u001b[1;32m     11\u001b[0m             p.imap(avatarize_loop,\n\u001b[1;32m     12\u001b[0m                 inp),\n",
      "\u001b[0;32m~/.local/lib/python3.8/site-packages/tqdm/std.py\u001b[0m in \u001b[0;36m__iter__\u001b[0;34m(self)\u001b[0m\n\u001b[1;32m   1176\u001b[0m \u001b[0;34m\u001b[0m\u001b[0m\n\u001b[1;32m   1177\u001b[0m         \u001b[0;32mtry\u001b[0m\u001b[0;34m:\u001b[0m\u001b[0;34m\u001b[0m\u001b[0;34m\u001b[0m\u001b[0m\n\u001b[0;32m-> 1178\u001b[0;31m             \u001b[0;32mfor\u001b[0m \u001b[0mobj\u001b[0m \u001b[0;32min\u001b[0m \u001b[0miterable\u001b[0m\u001b[0;34m:\u001b[0m\u001b[0;34m\u001b[0m\u001b[0;34m\u001b[0m\u001b[0m\n\u001b[0m\u001b[1;32m   1179\u001b[0m                 \u001b[0;32myield\u001b[0m \u001b[0mobj\u001b[0m\u001b[0;34m\u001b[0m\u001b[0;34m\u001b[0m\u001b[0m\n\u001b[1;32m   1180\u001b[0m                 \u001b[0;31m# Update and possibly print the progressbar.\u001b[0m\u001b[0;34m\u001b[0m\u001b[0;34m\u001b[0m\u001b[0;34m\u001b[0m\u001b[0m\n",
      "\u001b[0;32m~/.local/lib/python3.8/site-packages/multiprocess/pool.py\u001b[0m in \u001b[0;36mnext\u001b[0;34m(self, timeout)\u001b[0m\n\u001b[1;32m    866\u001b[0m         \u001b[0;32mif\u001b[0m \u001b[0msuccess\u001b[0m\u001b[0;34m:\u001b[0m\u001b[0;34m\u001b[0m\u001b[0;34m\u001b[0m\u001b[0m\n\u001b[1;32m    867\u001b[0m             \u001b[0;32mreturn\u001b[0m \u001b[0mvalue\u001b[0m\u001b[0;34m\u001b[0m\u001b[0;34m\u001b[0m\u001b[0m\n\u001b[0;32m--> 868\u001b[0;31m         \u001b[0;32mraise\u001b[0m \u001b[0mvalue\u001b[0m\u001b[0;34m\u001b[0m\u001b[0;34m\u001b[0m\u001b[0m\n\u001b[0m\u001b[1;32m    869\u001b[0m \u001b[0;34m\u001b[0m\u001b[0m\n\u001b[1;32m    870\u001b[0m     \u001b[0m__next__\u001b[0m \u001b[0;34m=\u001b[0m \u001b[0mnext\u001b[0m                    \u001b[0;31m# XXX\u001b[0m\u001b[0;34m\u001b[0m\u001b[0;34m\u001b[0m\u001b[0m\n",
      "\u001b[0;31mValueError\u001b[0m: ('k', 'number of nearest neighbors is too large for the number of records')"
     ]
    }
   ],
   "source": [
    "max_pool = 9\n",
    "\n",
    "path = os.getcwd() + \"/k\" + str(inf) + \"-\" + str(sup)\n",
    "if not os.path.exists(path):\n",
    "    os.makedirs(path)\n",
    "\n",
    "os.chdir(path)\n",
    "\n",
    "with Pool(max_pool) as p:\n",
    "    pool_outputs = list(tqdm(p.imap(avatarize_loop, inp), total=len(inp)))\n",
    "\n",
    "# df_list = []\n",
    "# for i in range(500):\n",
    "#     df_temp = pool_outputs[i][1]\n",
    "#     df_temp['k'] = pool_outputs[i][0]\n",
    "#     df_temp['id'] = i\n",
    "#     df_list.append(df_temp)\n",
    "\n",
    "# df_avatarized= pd.concat(df_list, axis=0)\n",
    "\n",
    "# file_name =\"k\"+str(inf)+\"-\"+ str(sup) + \"_avatarize.csv\"\n",
    "# df_avatarized.to_csv(file_name, index= False)"
   ]
  },
  {
   "cell_type": "code",
   "execution_count": null,
   "metadata": {},
   "outputs": [],
   "source": []
  }
 ],
 "metadata": {
  "kernelspec": {
   "display_name": "Python 3.8.5 64-bit",
   "name": "python385jvsc74a57bd0916dbcbb3f70747c44a77c7bcd40155683ae19c65e1c03b4aa3499c5328201f1"
  },
  "language_info": {
   "codemirror_mode": {
    "name": "ipython",
    "version": 3
   },
   "file_extension": ".py",
   "mimetype": "text/x-python",
   "name": "python",
   "nbconvert_exporter": "python",
   "pygments_lexer": "ipython3",
   "version": "3.8.5"
  },
  "metadata": {
   "interpreter": {
    "hash": "916dbcbb3f70747c44a77c7bcd40155683ae19c65e1c03b4aa3499c5328201f1"
   }
  }
 },
 "nbformat": 4,
 "nbformat_minor": 2
}
