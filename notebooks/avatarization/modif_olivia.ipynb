{
 "cells": [
  {
   "cell_type": "code",
   "execution_count": 4,
   "metadata": {},
   "outputs": [],
   "source": [
    "import pandas as pd\n",
    "import zipfile"
   ]
  },
  {
   "cell_type": "code",
   "execution_count": 5,
   "metadata": {},
   "outputs": [],
   "source": [
    "zip = zipfile.ZipFile(\"../../datasets/wbcd_avatarized.zip\")\n",
    "namelist = zip.namelist()\n",
    "del namelist[0]"
   ]
  },
  {
   "cell_type": "code",
   "execution_count": 7,
   "metadata": {},
   "outputs": [
    {
     "data": {
      "text/plain": [
       "['wbcd_avatarized/k1_wbcd_avatarized.csv',\n",
       " 'wbcd_avatarized/k3_wbcd_avatarized.csv',\n",
       " 'wbcd_avatarized/k5_wbcd_avatarized.csv',\n",
       " 'wbcd_avatarized/k7_wbcd_avatarized.csv',\n",
       " 'wbcd_avatarized/k9_wbcd_avatarized.csv']"
      ]
     },
     "execution_count": 7,
     "metadata": {},
     "output_type": "execute_result"
    }
   ],
   "source": [
    "namelist[:5]"
   ]
  },
  {
   "cell_type": "code",
   "execution_count": 33,
   "metadata": {},
   "outputs": [],
   "source": [
    "for name in namelist:\n",
    "\n",
    "    df = pd.read_csv(zip.open(name))\n",
    "    df.drop(columns=\"Unnamed: 0\", inplace=True)\n",
    "    df.iter_k = df.iter_k - 1\n",
    "    filename = name\n",
    "    df.to_csv(\"../../datasets/\" + filename, index=False)"
   ]
  },
  {
   "cell_type": "code",
   "execution_count": 30,
   "metadata": {},
   "outputs": [],
   "source": []
  },
  {
   "cell_type": "code",
   "execution_count": null,
   "metadata": {},
   "outputs": [],
   "source": []
  }
 ],
 "metadata": {
  "kernelspec": {
   "display_name": "Python 3.8.10 64-bit ('paper': conda)",
   "name": "python3810jvsc74a57bd0509130af413dea5bb8f6e5433911ff126411e6c314fdb401be43e4f0ce8ff139"
  },
  "language_info": {
   "codemirror_mode": {
    "name": "ipython",
    "version": 3
   },
   "file_extension": ".py",
   "mimetype": "text/x-python",
   "name": "python",
   "nbconvert_exporter": "python",
   "pygments_lexer": "ipython3",
   "version": "3.8.10"
  }
 },
 "nbformat": 4,
 "nbformat_minor": 2
}
