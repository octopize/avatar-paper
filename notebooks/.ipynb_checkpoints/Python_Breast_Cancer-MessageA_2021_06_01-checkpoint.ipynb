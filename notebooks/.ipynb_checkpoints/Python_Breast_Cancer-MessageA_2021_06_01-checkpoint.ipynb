{
 "cells": [
  {
   "cell_type": "markdown",
   "id": "ethical-lightweight",
   "metadata": {},
   "source": [
    "#### Editor: Olivia ROUSSEAU\n",
    "    Statistical Engineer at CHU Nantes\n",
    "    Data clinic / CRTI \n",
    "#### Date: 25 May - 1 June 2021"
   ]
  },
  {
   "cell_type": "markdown",
   "id": "pleased-composite",
   "metadata": {},
   "source": [
    "## Packages importation"
   ]
  },
  {
   "cell_type": "code",
   "execution_count": 2,
   "id": "advance-stand",
   "metadata": {},
   "outputs": [
    {
     "ename": "ModuleNotFoundError",
     "evalue": "No module named 'plotnine'",
     "output_type": "error",
     "traceback": [
      "\u001b[0;31m---------------------------------------------------------------------------\u001b[0m",
      "\u001b[0;31mModuleNotFoundError\u001b[0m                       Traceback (most recent call last)",
      "\u001b[0;32m<ipython-input-2-dd4c57648f99>\u001b[0m in \u001b[0;36m<module>\u001b[0;34m\u001b[0m\n\u001b[1;32m     12\u001b[0m \u001b[0;32mimport\u001b[0m \u001b[0mseaborn\u001b[0m \u001b[0;32mas\u001b[0m \u001b[0msns\u001b[0m\u001b[0;34m\u001b[0m\u001b[0;34m\u001b[0m\u001b[0m\n\u001b[1;32m     13\u001b[0m \u001b[0;32mfrom\u001b[0m \u001b[0mdatetime\u001b[0m \u001b[0;32mimport\u001b[0m \u001b[0mdate\u001b[0m\u001b[0;34m\u001b[0m\u001b[0;34m\u001b[0m\u001b[0m\n\u001b[0;32m---> 14\u001b[0;31m \u001b[0;32mfrom\u001b[0m \u001b[0mplotnine\u001b[0m \u001b[0;32mimport\u001b[0m \u001b[0;34m*\u001b[0m\u001b[0;34m\u001b[0m\u001b[0;34m\u001b[0m\u001b[0m\n\u001b[0m",
      "\u001b[0;31mModuleNotFoundError\u001b[0m: No module named 'plotnine'"
     ]
    }
   ],
   "source": [
    "import numpy as np\n",
    "import pandas as pd\n",
    "import os\n",
    "import sys\n",
    "from sklearn.svm import SVC\n",
    "from sklearn.model_selection import train_test_split\n",
    "from sklearn.model_selection import GridSearchCV\n",
    "from sklearn import metrics\n",
    "import time\n",
    "import matplotlib.pyplot as plt\n",
    "from matplotlib import use\n",
    "import seaborn as sns\n",
    "from datetime import date\n",
    "from plotnine import *"
   ]
  },
  {
   "cell_type": "code",
   "execution_count": 2,
   "id": "built-rebel",
   "metadata": {},
   "outputs": [],
   "source": [
    "os.environ['R_HOME'] = \"C:\\\\Program Files\\\\R\\\\R-4.0.4\"\n",
    "os.environ['R_USER'] = \"C:\\\\Users\\\\escape\\\\miniconda3\\\\Lib\\\\site-packages\\\\rpy2\"\n",
    "sys.path.append('../metrics/')"
   ]
  },
  {
   "cell_type": "code",
   "execution_count": 3,
   "id": "norwegian-persian",
   "metadata": {},
   "outputs": [],
   "source": [
    "from security_metrics import Security_metrics\n",
    "import rpy2.robjects as ro\n",
    "import rpy2.robjects.packages as rpackages\n",
    "from rpy2.robjects.packages import importr\n",
    "from rpy2.robjects import pandas2ri\n",
    "from rpy2 import rinterface\n",
    "from rpy2.robjects.conversion import localconverter\n",
    "base = importr('base')\n",
    "FactoMineR = rpackages.importr('FactoMineR')\n",
    "plot3D = rpackages.importr('plot3D')\n",
    "lattice = importr('lattice')\n",
    "graphics = importr('graphics')\n",
    "grDevices = importr(\"grDevices\")\n",
    "#ggplot = importr(\"ggplot2\")"
   ]
  },
  {
   "cell_type": "markdown",
   "id": "crucial-respect",
   "metadata": {},
   "source": [
    "## Data loading"
   ]
  },
  {
   "cell_type": "code",
   "execution_count": 4,
   "id": "preceding-employer",
   "metadata": {},
   "outputs": [],
   "source": [
    "os.chdir(\"C:/Users/escape/Nextcloud/Clinique_des_donnees/Papier_Avatars/avatar_paper/notebooks/\")"
   ]
  },
  {
   "cell_type": "code",
   "execution_count": 5,
   "id": "hundred-haiti",
   "metadata": {},
   "outputs": [],
   "source": [
    "file_data  = \"../datasets/\"\n",
    "file_results  = \"../../results/Breast_cancer/\""
   ]
  },
  {
   "cell_type": "code",
   "execution_count": 6,
   "id": "historic-reset",
   "metadata": {},
   "outputs": [],
   "source": [
    "data = pd.read_csv(file_data + \"breast_cancer_wisconsin.csv\")\n",
    "data = data.drop(\"Sample_code_number\", axis = 1)\n",
    "avatar = pd.read_csv(file_data + \"breast_cancer_winconsin_avatarized_k10.csv\")"
   ]
  },
  {
   "cell_type": "code",
   "execution_count": 7,
   "id": "exceptional-butter",
   "metadata": {},
   "outputs": [],
   "source": [
    "data.Class = data.Class.replace(2, 0)\n",
    "data.Class = data.Class.replace(4, 1)"
   ]
  },
  {
   "cell_type": "code",
   "execution_count": 8,
   "id": "aging-tomato",
   "metadata": {},
   "outputs": [],
   "source": [
    "save = False"
   ]
  },
  {
   "cell_type": "markdown",
   "id": "equal-preliminary",
   "metadata": {},
   "source": [
    "## PCA (R functions)"
   ]
  },
  {
   "cell_type": "code",
   "execution_count": 9,
   "id": "cultural-south",
   "metadata": {},
   "outputs": [],
   "source": [
    "with localconverter(ro.default_converter + pandas2ri.converter):\n",
    "    r_data = ro.conversion.py2rpy(data)\n",
    "    r_avatar = ro.conversion.py2rpy(avatar)\n",
    "r_data_tot = base.rbind(r_data, r_avatar)"
   ]
  },
  {
   "cell_type": "code",
   "execution_count": 10,
   "id": "stone-combination",
   "metadata": {},
   "outputs": [],
   "source": [
    "pca = FactoMineR.PCA(r_data_tot, ncp = 5, graph = False, ind_sup = base.seq(base.nrow(r_data)[0] + 1, 2*base.nrow(r_data)[0]))\n",
    "res_ind = base.as_data_frame(pca[2][0])\n",
    "res_ind_sup = base.as_data_frame(pca[4][0])\n",
    "eig = base.as_data_frame(pca[0])"
   ]
  },
  {
   "cell_type": "raw",
   "id": "intended-compression",
   "metadata": {},
   "source": [
    "if (save) : \n",
    "    grDevices.tiff(file_results + \"BC_pca_v1_\" + date.today().strftime(\"%Y-%m-%d\") + \".tiff\", width = 14, height = 14, units = \"cm\", res = 300)\n",
    "else :\n",
    "    %matplotlib qt\n",
    "plot3D.scatter3D(res_ind[0], res_ind[1], res_ind[2], pch = 21, cex_axis = base.ifelse(save, 0.7, 1.2)[0], cex_lab = base.ifelse(save, 0.8, 1.4)[0], \n",
    "                 cex = base.ifelse(save, 0.7, 1.2)[0], lwd = 0.5, col = \"black\", bg = \"#696969\", colkey = False, \n",
    "                 xlab = base.paste0(\"Axis 1 (\", round(eig[1][0], 2) ,\"%)\")[0],  \n",
    "                 ylab = base.paste0(\"Axis 2 (\", round(eig[1][1], 2) ,\"%)\")[0],  \n",
    "                 zlab = base.paste0(\"Axis 3 (\", round(eig[1][2], 2) ,\"%)\")[0],  \n",
    "                 ticktype = \"detailed\",  \n",
    "                 phi = 20,  \n",
    "                 theta = 35, \n",
    "                 bty = \"f\")\n",
    "plot3D.scatter3D(res_ind_sup[0], res_ind_sup[1], res_ind_sup[2], add = True, colkey = False, \n",
    "                 pch = 21, cex = base.ifelse(save, 0.6, 1)[0], col = \"black\", bg = \"#3BD6B0\", lwd = 0.5)\n",
    "graphics.legend(\"topleft\", legend = [\"Original data\", \"Avatars\"], pch = 21, col = \"black\", bg = \"white\", \n",
    "                pt_bg = rinterface.evalr(\"c('#696969', '#3BD6B0')\"),\n",
    "                pt_lwd = base.ifelse(save, 0.5, 1)[0], \n",
    "                cex = base.ifelse(save, 0.8, 1)[0],\n",
    "                pt_cex = base.ifelse(save, 0.7, 1)[0])\n",
    "if (save) : \n",
    "    grDevices.dev_off()"
   ]
  },
  {
   "cell_type": "code",
   "execution_count": 11,
   "id": "revised-adult",
   "metadata": {},
   "outputs": [],
   "source": [
    "if (save) : \n",
    "    grDevices.tiff(file_results + \"BC_pca_v1_\" + date.today().strftime(\"%Y-%m-%d\") + \".tiff\", width = 14, height = 14, units = \"cm\", res = 300)\n",
    "else :\n",
    "    %matplotlib qt\n",
    "plot3D.scatter3D(res_ind[0], res_ind[1], res_ind[2], pch = 21, cex_axis = 0.7, cex_lab = 0.8, \n",
    "                 cex = 0.7, lwd = 0.5, col = \"black\", bg = \"#696969\", colkey = False, \n",
    "                 xlab = base.paste0(\"Axis 1 (\", round(eig[1][0], 2) ,\"%)\")[0],  \n",
    "                 ylab = base.paste0(\"Axis 2 (\", round(eig[1][1], 2) ,\"%)\")[0],  \n",
    "                 zlab = base.paste0(\"Axis 3 (\", round(eig[1][2], 2) ,\"%)\")[0],  \n",
    "                 ticktype = \"detailed\",  \n",
    "                 phi = 20,  \n",
    "                 theta = 35, \n",
    "                 bty = \"f\")\n",
    "plot3D.scatter3D(res_ind_sup[0], res_ind_sup[1], res_ind_sup[2], add = True, colkey = False, \n",
    "                 pch = 21, cex = 0.7, col = \"black\", bg = \"#3BD6B0\", lwd = 0.5)\n",
    "graphics.legend(\"topleft\", legend = [\"Original data\", \"Avatars\"], pch = 21, col = \"black\", bg = \"white\", \n",
    "                pt_bg = rinterface.evalr(\"c('#696969', '#3BD6B0')\"),\n",
    "                pt_lwd = 0.5, cex = 0.8, pt_cex = 0.7)\n",
    "if (save) : \n",
    "    grDevices.dev_off()"
   ]
  },
  {
   "cell_type": "code",
   "execution_count": 12,
   "id": "stuck-longitude",
   "metadata": {},
   "outputs": [],
   "source": [
    "if (save) : \n",
    "    grDevices.tiff(file_results + \"BC_pca_v2_\" + date.today().strftime(\"%Y-%m-%d\") + \".tiff\", width = 14, height = 14, units = \"cm\", res = 300)\n",
    "else :\n",
    "    %matplotlib qt\n",
    "plot3D.scatter3D(res_ind[0], res_ind[1], res_ind[2], pch = 21, cex_axis = 0.7, cex_lab = 0.8, \n",
    "                 cex = 0.7, lwd = 0.5, col = \"black\", bg = \"#696969\", colkey = False, \n",
    "                 xlab = base.paste0(\"Axis 1 (\", round(eig[1][0], 2) ,\"%)\")[0],  \n",
    "                 ylab = base.paste0(\"Axis 2 (\", round(eig[1][1], 2) ,\"%)\")[0],  \n",
    "                 zlab = base.paste0(\"Axis 3 (\", round(eig[1][2], 2) ,\"%)\")[0],  \n",
    "                 ticktype = \"detailed\",  \n",
    "                 phi = 20,  \n",
    "                 theta = 45, \n",
    "                 bty = \"f\")\n",
    "plot3D.scatter3D(res_ind_sup[0], res_ind_sup[1], res_ind_sup[2], add = True, colkey = False, \n",
    "                 pch = 21, cex = 0.7, col = \"black\", bg = \"#3BD6B0\", lwd = 0.5)\n",
    "graphics.legend(\"topleft\", legend = [\"Original data\", \"Avatars\"], pch = 21, col = \"black\", bg = \"white\", \n",
    "                pt_bg = rinterface.evalr(\"c('#696969', '#3BD6B0')\"),\n",
    "                pt_lwd = 0.5, cex = 0.8, pt_cex = 0.7)\n",
    "if (save) : \n",
    "    grDevices.dev_off()"
   ]
  },
  {
   "cell_type": "markdown",
   "id": "played-batman",
   "metadata": {},
   "source": [
    "## Paper steps"
   ]
  },
  {
   "cell_type": "markdown",
   "id": "sufficient-break",
   "metadata": {},
   "source": [
    "### Train-Test sets"
   ]
  },
  {
   "cell_type": "markdown",
   "id": "continuous-scotland",
   "metadata": {},
   "source": [
    "#### Original data"
   ]
  },
  {
   "cell_type": "code",
   "execution_count": 9,
   "id": "divine-liverpool",
   "metadata": {},
   "outputs": [],
   "source": [
    "data_X_train_50, data_X_test_50, data_y_train_50, data_y_test_50 = train_test_split(data.drop(\"Class\", axis = 1), data.Class, \n",
    "                                                                                    train_size = 0.5, stratify = data.Class, random_state = 40)"
   ]
  },
  {
   "cell_type": "code",
   "execution_count": 10,
   "id": "sudden-flashing",
   "metadata": {},
   "outputs": [],
   "source": [
    "data_X_train_70, data_X_test_30, data_y_train_70, data_y_test_30 = train_test_split(data.drop(\"Class\", axis = 1), data.Class, \n",
    "                                                                                    train_size = 0.7, stratify = data.Class, random_state = 40)"
   ]
  },
  {
   "cell_type": "code",
   "execution_count": 11,
   "id": "apart-reggae",
   "metadata": {},
   "outputs": [],
   "source": [
    "data_X_train_80, data_X_test_20, data_y_train_80, data_y_test_20 = train_test_split(data.drop(\"Class\", axis = 1), data.Class, \n",
    "                                                                                    train_size = 0.8, stratify = data.Class, random_state = 40)"
   ]
  },
  {
   "cell_type": "markdown",
   "id": "bearing-three",
   "metadata": {},
   "source": [
    "#### Avatar"
   ]
  },
  {
   "cell_type": "code",
   "execution_count": 12,
   "id": "classified-myrtle",
   "metadata": {},
   "outputs": [],
   "source": [
    "avatar_X_train_50, avatar_X_test_50, avatar_y_train_50, avatar_y_test_50 = train_test_split(avatar.drop(\"Class\", axis = 1), avatar.Class, \n",
    "                                                                                    train_size = 0.5, stratify = avatar.Class, random_state = 40)"
   ]
  },
  {
   "cell_type": "code",
   "execution_count": 13,
   "id": "gorgeous-jerusalem",
   "metadata": {},
   "outputs": [],
   "source": [
    "avatar_X_train_70, avatar_X_test_30, avatar_y_train_70, avatar_y_test_30 = train_test_split(avatar.drop(\"Class\", axis = 1), avatar.Class, \n",
    "                                                                                    train_size = 0.7, stratify = avatar.Class, random_state = 40)"
   ]
  },
  {
   "cell_type": "code",
   "execution_count": 14,
   "id": "subtle-version",
   "metadata": {},
   "outputs": [],
   "source": [
    "avatar_X_train_80, avatar_X_test_20, avatar_y_train_80, avatar_y_test_20 = train_test_split(avatar.drop(\"Class\", axis = 1), avatar.Class, \n",
    "                                                                                    train_size = 0.8, stratify = avatar.Class, random_state = 40)"
   ]
  },
  {
   "cell_type": "markdown",
   "id": "metallic-pasta",
   "metadata": {},
   "source": [
    "### Feature selection"
   ]
  },
  {
   "cell_type": "markdown",
   "id": "traditional-northern",
   "metadata": {},
   "source": [
    "#### Function"
   ]
  },
  {
   "cell_type": "code",
   "execution_count": 15,
   "id": "applicable-liechtenstein",
   "metadata": {},
   "outputs": [],
   "source": [
    "def f_score(X, y, val1 = 0, val2 = 1) :\n",
    "    X1 = X[y == val1] ; X2 = X[y == val2]\n",
    "    mean_X = X.mean() ; mean_X1 = X1.mean() ; mean_X2 = X2.mean()\n",
    "    n_X1 = len(X1) ; n_X2 = len(X2) \n",
    "    sum_X1 = ((X1 - mean_X1)**2).sum()\n",
    "    sum_X2 = ((X2 - mean_X2)**2).sum()\n",
    "    return(((mean_X1 - mean_X)**2 + (mean_X2 - mean_X)**2)/(((1/(n_X1-1))*sum_X1) + ((1/(n_X2-1))*sum_X2)))"
   ]
  },
  {
   "cell_type": "markdown",
   "id": "understood-arrival",
   "metadata": {},
   "source": [
    "#### Original data"
   ]
  },
  {
   "cell_type": "code",
   "execution_count": 16,
   "id": "north-newport",
   "metadata": {},
   "outputs": [],
   "source": [
    "f_scores_all = data.drop(\"Class\", axis = 1).apply(lambda col : f_score(col, data.Class), axis = 0)\n",
    "f_scores_50 = pd.Series(data_X_train_50.apply(lambda col : f_score(col, data_y_train_50), axis = 0))\n",
    "f_scores_70 = data_X_train_70.apply(lambda col : f_score(col, data_y_train_70), axis = 0)\n",
    "f_scores_80 = data_X_train_80.apply(lambda col : f_score(col, data_y_train_80), axis = 0)"
   ]
  },
  {
   "cell_type": "code",
   "execution_count": 17,
   "id": "accessory-parking",
   "metadata": {},
   "outputs": [],
   "source": [
    "df_f_scores_data = pd.concat([f_scores_all, f_scores_50, f_scores_70, f_scores_80], axis = 1, keys = [\"F_all_data\", \"F_50_data\", 'F_70_data', \"F_80_data\"])"
   ]
  },
  {
   "cell_type": "code",
   "execution_count": 18,
   "id": "functional-kennedy",
   "metadata": {},
   "outputs": [],
   "source": [
    "df_f_scores_data[\"mean_F_train_data\"] = df_f_scores_data.iloc[:,1:4].mean(axis = 1)"
   ]
  },
  {
   "cell_type": "code",
   "execution_count": 19,
   "id": "responsible-argument",
   "metadata": {},
   "outputs": [
    {
     "data": {
      "text/html": [
       "<div>\n",
       "<style scoped>\n",
       "    .dataframe tbody tr th:only-of-type {\n",
       "        vertical-align: middle;\n",
       "    }\n",
       "\n",
       "    .dataframe tbody tr th {\n",
       "        vertical-align: top;\n",
       "    }\n",
       "\n",
       "    .dataframe thead th {\n",
       "        text-align: right;\n",
       "    }\n",
       "</style>\n",
       "<table border=\"1\" class=\"dataframe\">\n",
       "  <thead>\n",
       "    <tr style=\"text-align: right;\">\n",
       "      <th></th>\n",
       "      <th>F_all_data</th>\n",
       "      <th>F_50_data</th>\n",
       "      <th>F_70_data</th>\n",
       "      <th>F_80_data</th>\n",
       "      <th>mean_F_train_data</th>\n",
       "    </tr>\n",
       "  </thead>\n",
       "  <tbody>\n",
       "    <tr>\n",
       "      <th>Clump_Thickness</th>\n",
       "      <td>1.112692</td>\n",
       "      <td>1.199784</td>\n",
       "      <td>1.275793</td>\n",
       "      <td>1.129843</td>\n",
       "      <td>1.201807</td>\n",
       "    </tr>\n",
       "    <tr>\n",
       "      <th>Uniformity_of_Cell_Size</th>\n",
       "      <td>1.857298</td>\n",
       "      <td>1.974692</td>\n",
       "      <td>1.792471</td>\n",
       "      <td>1.896578</td>\n",
       "      <td>1.887914</td>\n",
       "    </tr>\n",
       "    <tr>\n",
       "      <th>Uniformity_of_Cell_Shape</th>\n",
       "      <td>1.920505</td>\n",
       "      <td>1.985714</td>\n",
       "      <td>1.928089</td>\n",
       "      <td>1.923545</td>\n",
       "      <td>1.945783</td>\n",
       "    </tr>\n",
       "    <tr>\n",
       "      <th>Marginal_Adhesion</th>\n",
       "      <td>0.885539</td>\n",
       "      <td>0.746412</td>\n",
       "      <td>0.778571</td>\n",
       "      <td>0.857839</td>\n",
       "      <td>0.794274</td>\n",
       "    </tr>\n",
       "    <tr>\n",
       "      <th>Single_Epithelial_Cell_Size</th>\n",
       "      <td>0.837801</td>\n",
       "      <td>0.843260</td>\n",
       "      <td>0.811854</td>\n",
       "      <td>0.870091</td>\n",
       "      <td>0.841735</td>\n",
       "    </tr>\n",
       "    <tr>\n",
       "      <th>Bare_Nuclei</th>\n",
       "      <td>1.936843</td>\n",
       "      <td>2.287715</td>\n",
       "      <td>2.055117</td>\n",
       "      <td>2.068422</td>\n",
       "      <td>2.137085</td>\n",
       "    </tr>\n",
       "    <tr>\n",
       "      <th>Bland_Chromatin</th>\n",
       "      <td>1.302363</td>\n",
       "      <td>1.318991</td>\n",
       "      <td>1.215578</td>\n",
       "      <td>1.247937</td>\n",
       "      <td>1.260835</td>\n",
       "    </tr>\n",
       "    <tr>\n",
       "      <th>Normal_Nucleoli</th>\n",
       "      <td>0.949633</td>\n",
       "      <td>0.943141</td>\n",
       "      <td>0.947574</td>\n",
       "      <td>0.955442</td>\n",
       "      <td>0.948719</td>\n",
       "    </tr>\n",
       "    <tr>\n",
       "      <th>Mitoses</th>\n",
       "      <td>0.188390</td>\n",
       "      <td>0.221442</td>\n",
       "      <td>0.206244</td>\n",
       "      <td>0.201840</td>\n",
       "      <td>0.209842</td>\n",
       "    </tr>\n",
       "  </tbody>\n",
       "</table>\n",
       "</div>"
      ],
      "text/plain": [
       "                             F_all_data  F_50_data  F_70_data  F_80_data  \\\n",
       "Clump_Thickness                1.112692   1.199784   1.275793   1.129843   \n",
       "Uniformity_of_Cell_Size        1.857298   1.974692   1.792471   1.896578   \n",
       "Uniformity_of_Cell_Shape       1.920505   1.985714   1.928089   1.923545   \n",
       "Marginal_Adhesion              0.885539   0.746412   0.778571   0.857839   \n",
       "Single_Epithelial_Cell_Size    0.837801   0.843260   0.811854   0.870091   \n",
       "Bare_Nuclei                    1.936843   2.287715   2.055117   2.068422   \n",
       "Bland_Chromatin                1.302363   1.318991   1.215578   1.247937   \n",
       "Normal_Nucleoli                0.949633   0.943141   0.947574   0.955442   \n",
       "Mitoses                        0.188390   0.221442   0.206244   0.201840   \n",
       "\n",
       "                             mean_F_train_data  \n",
       "Clump_Thickness                       1.201807  \n",
       "Uniformity_of_Cell_Size               1.887914  \n",
       "Uniformity_of_Cell_Shape              1.945783  \n",
       "Marginal_Adhesion                     0.794274  \n",
       "Single_Epithelial_Cell_Size           0.841735  \n",
       "Bare_Nuclei                           2.137085  \n",
       "Bland_Chromatin                       1.260835  \n",
       "Normal_Nucleoli                       0.948719  \n",
       "Mitoses                               0.209842  "
      ]
     },
     "execution_count": 19,
     "metadata": {},
     "output_type": "execute_result"
    }
   ],
   "source": [
    "df_f_scores_data"
   ]
  },
  {
   "cell_type": "code",
   "execution_count": 20,
   "id": "defensive-arthur",
   "metadata": {},
   "outputs": [
    {
     "data": {
      "text/plain": [
       "['Bare_Nuclei',\n",
       " 'Uniformity_of_Cell_Shape',\n",
       " 'Uniformity_of_Cell_Size',\n",
       " 'Bland_Chromatin',\n",
       " 'Clump_Thickness',\n",
       " 'Normal_Nucleoli',\n",
       " 'Single_Epithelial_Cell_Size',\n",
       " 'Marginal_Adhesion',\n",
       " 'Mitoses']"
      ]
     },
     "execution_count": 20,
     "metadata": {},
     "output_type": "execute_result"
    }
   ],
   "source": [
    "order_features_data = list(pd.Series.sort_values(df_f_scores_data[\"F_80_data\"], ascending=False).keys())\n",
    "order_features_data"
   ]
  },
  {
   "cell_type": "markdown",
   "id": "coastal-venice",
   "metadata": {},
   "source": [
    "#### Avatar"
   ]
  },
  {
   "cell_type": "code",
   "execution_count": 21,
   "id": "informational-springer",
   "metadata": {},
   "outputs": [],
   "source": [
    "f_scores_all = avatar.drop(\"Class\", axis = 1).apply(lambda col : f_score(col, avatar.Class), axis = 0)\n",
    "f_scores_50 = pd.Series(avatar_X_train_50.apply(lambda col : f_score(col, avatar_y_train_50), axis = 0))\n",
    "f_scores_70 = avatar_X_train_70.apply(lambda col : f_score(col, avatar_y_train_70), axis = 0)\n",
    "f_scores_80 = avatar_X_train_80.apply(lambda col : f_score(col, avatar_y_train_80), axis = 0)"
   ]
  },
  {
   "cell_type": "code",
   "execution_count": 22,
   "id": "grave-pencil",
   "metadata": {},
   "outputs": [],
   "source": [
    "df_f_scores_avatar = pd.concat([f_scores_all, f_scores_50, f_scores_70, f_scores_80], axis = 1, keys = [\"F_all_avatar\", \"F_50_avatar\", 'F_70_avatar', \n",
    "                                                                                                        \"F_80_avatar\"])"
   ]
  },
  {
   "cell_type": "code",
   "execution_count": 23,
   "id": "activated-shame",
   "metadata": {},
   "outputs": [],
   "source": [
    "df_f_scores_avatar[\"mean_F_train_avatar\"] = df_f_scores_avatar.iloc[:,1:4].mean(axis = 1)"
   ]
  },
  {
   "cell_type": "code",
   "execution_count": 24,
   "id": "electrical-olive",
   "metadata": {},
   "outputs": [
    {
     "data": {
      "text/html": [
       "<div>\n",
       "<style scoped>\n",
       "    .dataframe tbody tr th:only-of-type {\n",
       "        vertical-align: middle;\n",
       "    }\n",
       "\n",
       "    .dataframe tbody tr th {\n",
       "        vertical-align: top;\n",
       "    }\n",
       "\n",
       "    .dataframe thead th {\n",
       "        text-align: right;\n",
       "    }\n",
       "</style>\n",
       "<table border=\"1\" class=\"dataframe\">\n",
       "  <thead>\n",
       "    <tr style=\"text-align: right;\">\n",
       "      <th></th>\n",
       "      <th>F_all_avatar</th>\n",
       "      <th>F_50_avatar</th>\n",
       "      <th>F_70_avatar</th>\n",
       "      <th>F_80_avatar</th>\n",
       "      <th>mean_F_train_avatar</th>\n",
       "    </tr>\n",
       "  </thead>\n",
       "  <tbody>\n",
       "    <tr>\n",
       "      <th>Clump_Thickness</th>\n",
       "      <td>1.134681</td>\n",
       "      <td>0.988918</td>\n",
       "      <td>0.998044</td>\n",
       "      <td>1.045558</td>\n",
       "      <td>1.010840</td>\n",
       "    </tr>\n",
       "    <tr>\n",
       "      <th>Uniformity_of_Cell_Size</th>\n",
       "      <td>2.070120</td>\n",
       "      <td>1.938291</td>\n",
       "      <td>1.955711</td>\n",
       "      <td>2.003576</td>\n",
       "      <td>1.965859</td>\n",
       "    </tr>\n",
       "    <tr>\n",
       "      <th>Uniformity_of_Cell_Shape</th>\n",
       "      <td>2.196301</td>\n",
       "      <td>1.808073</td>\n",
       "      <td>2.022188</td>\n",
       "      <td>2.090541</td>\n",
       "      <td>1.973601</td>\n",
       "    </tr>\n",
       "    <tr>\n",
       "      <th>Marginal_Adhesion</th>\n",
       "      <td>0.791335</td>\n",
       "      <td>0.665054</td>\n",
       "      <td>0.714905</td>\n",
       "      <td>0.773840</td>\n",
       "      <td>0.717933</td>\n",
       "    </tr>\n",
       "    <tr>\n",
       "      <th>Single_Epithelial_Cell_Size</th>\n",
       "      <td>0.832542</td>\n",
       "      <td>0.753955</td>\n",
       "      <td>0.807982</td>\n",
       "      <td>0.790694</td>\n",
       "      <td>0.784210</td>\n",
       "    </tr>\n",
       "    <tr>\n",
       "      <th>Bare_Nuclei</th>\n",
       "      <td>1.710636</td>\n",
       "      <td>1.468620</td>\n",
       "      <td>1.589312</td>\n",
       "      <td>1.574189</td>\n",
       "      <td>1.544040</td>\n",
       "    </tr>\n",
       "    <tr>\n",
       "      <th>Bland_Chromatin</th>\n",
       "      <td>1.304834</td>\n",
       "      <td>1.154945</td>\n",
       "      <td>1.166365</td>\n",
       "      <td>1.285287</td>\n",
       "      <td>1.202199</td>\n",
       "    </tr>\n",
       "    <tr>\n",
       "      <th>Normal_Nucleoli</th>\n",
       "      <td>0.907578</td>\n",
       "      <td>0.875760</td>\n",
       "      <td>0.865879</td>\n",
       "      <td>0.884920</td>\n",
       "      <td>0.875520</td>\n",
       "    </tr>\n",
       "    <tr>\n",
       "      <th>Mitoses</th>\n",
       "      <td>0.194194</td>\n",
       "      <td>0.158406</td>\n",
       "      <td>0.160907</td>\n",
       "      <td>0.172679</td>\n",
       "      <td>0.163997</td>\n",
       "    </tr>\n",
       "  </tbody>\n",
       "</table>\n",
       "</div>"
      ],
      "text/plain": [
       "                             F_all_avatar  F_50_avatar  F_70_avatar  \\\n",
       "Clump_Thickness                  1.134681     0.988918     0.998044   \n",
       "Uniformity_of_Cell_Size          2.070120     1.938291     1.955711   \n",
       "Uniformity_of_Cell_Shape         2.196301     1.808073     2.022188   \n",
       "Marginal_Adhesion                0.791335     0.665054     0.714905   \n",
       "Single_Epithelial_Cell_Size      0.832542     0.753955     0.807982   \n",
       "Bare_Nuclei                      1.710636     1.468620     1.589312   \n",
       "Bland_Chromatin                  1.304834     1.154945     1.166365   \n",
       "Normal_Nucleoli                  0.907578     0.875760     0.865879   \n",
       "Mitoses                          0.194194     0.158406     0.160907   \n",
       "\n",
       "                             F_80_avatar  mean_F_train_avatar  \n",
       "Clump_Thickness                 1.045558             1.010840  \n",
       "Uniformity_of_Cell_Size         2.003576             1.965859  \n",
       "Uniformity_of_Cell_Shape        2.090541             1.973601  \n",
       "Marginal_Adhesion               0.773840             0.717933  \n",
       "Single_Epithelial_Cell_Size     0.790694             0.784210  \n",
       "Bare_Nuclei                     1.574189             1.544040  \n",
       "Bland_Chromatin                 1.285287             1.202199  \n",
       "Normal_Nucleoli                 0.884920             0.875520  \n",
       "Mitoses                         0.172679             0.163997  "
      ]
     },
     "execution_count": 24,
     "metadata": {},
     "output_type": "execute_result"
    }
   ],
   "source": [
    "df_f_scores_avatar"
   ]
  },
  {
   "cell_type": "code",
   "execution_count": 25,
   "id": "critical-ukraine",
   "metadata": {},
   "outputs": [],
   "source": [
    "order_features_avatar = list(pd.Series.sort_values(df_f_scores_avatar[\"F_80_avatar\"], ascending=False).keys())"
   ]
  },
  {
   "cell_type": "markdown",
   "id": "saving-observer",
   "metadata": {},
   "source": [
    "#### Graphes F-scores"
   ]
  },
  {
   "cell_type": "code",
   "execution_count": 1,
   "id": "tender-europe",
   "metadata": {},
   "outputs": [
    {
     "ename": "NameError",
     "evalue": "name 'pd' is not defined",
     "output_type": "error",
     "traceback": [
      "\u001b[0;31m---------------------------------------------------------------------------\u001b[0m",
      "\u001b[0;31mNameError\u001b[0m                                 Traceback (most recent call last)",
      "\u001b[0;32m<ipython-input-1-5a8999a943f6>\u001b[0m in \u001b[0;36m<module>\u001b[0;34m\u001b[0m\n\u001b[0;32m----> 1\u001b[0;31m \u001b[0mF_scores_paper\u001b[0m \u001b[0;34m=\u001b[0m \u001b[0mpd\u001b[0m\u001b[0;34m.\u001b[0m\u001b[0mread_excel\u001b[0m\u001b[0;34m(\u001b[0m\u001b[0;34m\"../../data/F-score_breast_cancer.xlsx\"\u001b[0m\u001b[0;34m,\u001b[0m \u001b[0mheader\u001b[0m\u001b[0;34m=\u001b[0m\u001b[0;32mNone\u001b[0m\u001b[0;34m)\u001b[0m\u001b[0;34m\u001b[0m\u001b[0;34m\u001b[0m\u001b[0m\n\u001b[0m",
      "\u001b[0;31mNameError\u001b[0m: name 'pd' is not defined"
     ]
    }
   ],
   "source": [
    "F_scores_paper = pd.read_excel(\"../../data/F-score_breast_cancer.xlsx\", header=None)"
   ]
  },
  {
   "cell_type": "code",
   "execution_count": 27,
   "id": "genetic-headquarters",
   "metadata": {},
   "outputs": [],
   "source": [
    "df_f_scores = pd.concat([df_f_scores_data, df_f_scores_avatar], axis = 1)"
   ]
  },
  {
   "cell_type": "code",
   "execution_count": 28,
   "id": "comic-ebony",
   "metadata": {},
   "outputs": [],
   "source": [
    "df_f_scores[\"F_50_paper\"] = F_scores_paper.iloc[:,0].values\n",
    "df_f_scores[\"F_70_paper\"] = F_scores_paper.iloc[:,1].values\n",
    "df_f_scores[\"F_80_paper\"] = F_scores_paper.iloc[:,2].values"
   ]
  },
  {
   "cell_type": "code",
   "execution_count": 40,
   "id": "proved-topic",
   "metadata": {},
   "outputs": [],
   "source": [
    "df = df_f_scores.sort_values(['F_80_paper'], ascending=True)\n",
    "df[\"names\"] = pd.Series(df.index).apply(lambda val : val.replace(\"_\", \" \")).values"
   ]
  },
  {
   "cell_type": "code",
   "execution_count": 41,
   "id": "restricted-washington",
   "metadata": {},
   "outputs": [
    {
     "data": {
      "image/png": "[encoded data removed]",
      "text/plain": [
       "<Figure size 720x504 with 1 Axes>"
      ]
     },
     "metadata": {
      "needs_background": "light"
     },
     "output_type": "display_data"
    }
   ],
   "source": [
    "# height of bars\n",
    "barWidth = 0.25\n",
    "\n",
    "# width of the bars\n",
    "bars1 = df.F_80_paper\n",
    "bars2 = df.F_80_data\n",
    "bars3 = df.F_80_avatar\n",
    " \n",
    "# The x position of bars\n",
    "r1 = np.arange(len(bars1))\n",
    "r2 = [x + barWidth for x in r1]\n",
    "r3 = [x + 2*(barWidth) for x in r1]\n",
    " \n",
    "# Create bars\n",
    "plt.figure(figsize=(10,7))\n",
    "plt.barh(y = r3, width = bars1, height = barWidth, color = '#404040', edgecolor = 'black', label='Paper result')\n",
    "plt.barh(y = r2, width = bars2, height = barWidth, color = '#696969', edgecolor = 'black', label='Original data')\n",
    "plt.barh(y = r1, width = bars3, height = barWidth, color = '#3BD6B0', edgecolor = 'black', label='Avatar')\n",
    " \n",
    "# general layout\n",
    "plt.yticks([r + barWidth for r in range(len(bars1))], df.names)\n",
    "plt.xlabel('F-score')\n",
    "plt.legend();"
   ]
  },
  {
   "cell_type": "markdown",
   "id": "sized-dubai",
   "metadata": {},
   "source": [
    "### SVM"
   ]
  },
  {
   "cell_type": "markdown",
   "id": "beautiful-integral",
   "metadata": {},
   "source": [
    "#### Initialisation and functions"
   ]
  },
  {
   "cell_type": "code",
   "execution_count": 31,
   "id": "japanese-nicholas",
   "metadata": {},
   "outputs": [],
   "source": [
    "map_object = map(lambda val : 2**val, list(range(-5,16)))\n",
    "C_list = list(map_object)"
   ]
  },
  {
   "cell_type": "code",
   "execution_count": 32,
   "id": "cosmetic-pasta",
   "metadata": {},
   "outputs": [],
   "source": [
    "map_object = map(lambda val : 2**val, list(range(-15,3)))\n",
    "gamma_list = list(map_object)"
   ]
  },
  {
   "cell_type": "code",
   "execution_count": 33,
   "id": "innocent-xerox",
   "metadata": {},
   "outputs": [],
   "source": [
    "parameters = {'kernel': ['rbf'], 'C': C_list, 'gamma' : gamma_list}"
   ]
  },
  {
   "cell_type": "code",
   "execution_count": 64,
   "id": "beneficial-pressing",
   "metadata": {},
   "outputs": [],
   "source": [
    "def SVM_model(X_train, y_train, X_test, y_test, order, parameters) :\n",
    "    val = []\n",
    "    best_params = []\n",
    "    accuracy = []\n",
    "    sensitivity = []\n",
    "    specificity = []\n",
    "    ppv = []\n",
    "    npv = []\n",
    "    auc = []\n",
    "    for i in range(1, len(order) + 1) :\n",
    "        svc = SVC(probability = True)\n",
    "        clf = GridSearchCV(svc, parameters, cv = 10)\n",
    "        clf.fit(X_train[order[0:i]], y_train)\n",
    "        best_params.append(clf.best_params_)\n",
    "        cm = pd.crosstab(y_test, clf.predict(X_test[order[0:i]]))\n",
    "        TP = cm[0][0]\n",
    "        TN = cm[1][1]\n",
    "        FP = cm[0][1]\n",
    "        FN = cm[1][0]\n",
    "        accuracy.append((TP+TN)/(TP+TN+FP+FN))\n",
    "        sensitivity.append(TP/(TP+FN))\n",
    "        specificity.append(TN/(TN+FP))\n",
    "        ppv.append(TP/(TP+FP))\n",
    "        npv.append(TN/(TN+FN))\n",
    "        auc.append(metrics.roc_auc_score(y_train, clf.predict_proba(X_train[order[0:i]])[:, 1]))\n",
    "        val.append(str(i) + \"_vars\")\n",
    "    df_res = pd.DataFrame({\"acc\" : accuracy, \"sens\" : sensitivity, 'spec' : specificity, \n",
    "                           \"ppv\" : ppv, \"npv\" : npv, \"auc\" : auc}, index = val)\n",
    "    return(best_params, df_res)"
   ]
  },
  {
   "cell_type": "code",
   "execution_count": 63,
   "id": "established-degree",
   "metadata": {},
   "outputs": [],
   "source": [
    "def unique_SVM_model(X_train, y_train, X_test, y_test, order, parameters, nb_var) :\n",
    "    svc = SVC(probability = True)\n",
    "    clf = GridSearchCV(svc, parameters, cv = 10)\n",
    "    clf.fit(X_train[order[0:nb_var]], y_train)\n",
    "    best_params = clf.best_params_\n",
    "    cm = pd.crosstab(y_test, clf.predict(X_test[order[0:nb_var]]))\n",
    "    TP = cm[0][0]\n",
    "    TN = cm[1][1]\n",
    "    FP = cm[0][1]\n",
    "    FN = cm[1][0]\n",
    "    accuracy = (TP+TN)/(TP+TN+FP+FN)\n",
    "    sensitivity = TP/(TP+FN)\n",
    "    specificity = TN/(TN+FP)\n",
    "    ppv = TP/(TP+FP)\n",
    "    npv = TN/(TN+FN)\n",
    "    auc = metrics.roc_auc_score(y_train, clf.predict_proba(X_train[order[0:nb_var]])[:, 1])\n",
    "    fpr, tpr, thresholds = metrics.roc_curve(y_train, clf.predict_proba(X_train[order[0:nb_var]])[:, 1])\n",
    "    df_roc = pd.DataFrame({\"fpr\" : fpr, \"tpr\" : tpr, \"thresholds\" : thresholds})\n",
    "    df_res = pd.DataFrame([accuracy, sensitivity, specificity, ppv, npv, auc], \n",
    "                          index = [\"acc\", \"sens\", 'spec', \"ppv\", \"npv\", \"auc\"])\n",
    "    return(best_params, cm, df_res, df_roc)"
   ]
  },
  {
   "cell_type": "markdown",
   "id": "timely-moldova",
   "metadata": {},
   "source": [
    "#### Original data analysis"
   ]
  },
  {
   "cell_type": "markdown",
   "id": "spanish-wrestling",
   "metadata": {},
   "source": [
    "##### All features selection"
   ]
  },
  {
   "cell_type": "code",
   "execution_count": null,
   "id": "coral-court",
   "metadata": {},
   "outputs": [],
   "source": [
    "start_time = time.time()\n",
    "best_params_data_50, df_res_data_50 = SVM_model(data_X_train_50, data_y_train_50, \n",
    "                                                data_X_test_50, data_y_test_50, \n",
    "                                                order_features_data, parameters)\n",
    "end_time = time.time()\n",
    "print((end_time - start_time)/60)"
   ]
  },
  {
   "cell_type": "code",
   "execution_count": null,
   "id": "copyrighted-leonard",
   "metadata": {},
   "outputs": [],
   "source": [
    "df_res_data_50"
   ]
  },
  {
   "cell_type": "code",
   "execution_count": 43,
   "id": "mechanical-rebel",
   "metadata": {},
   "outputs": [
    {
     "name": "stdout",
     "output_type": "stream",
     "text": [
      "37.05807883342107\n"
     ]
    }
   ],
   "source": [
    "start_time = time.time()\n",
    "best_params_data_70, df_res_data_70 = SVM_model(data_X_train_70, data_y_train_70, \n",
    "                                                data_X_test_30, data_y_test_30, \n",
    "                                                order_features_data, parameters)\n",
    "end_time = time.time()\n",
    "print((end_time - start_time)/60)"
   ]
  },
  {
   "cell_type": "code",
   "execution_count": 44,
   "id": "accredited-sensitivity",
   "metadata": {
    "scrolled": true
   },
   "outputs": [
    {
     "name": "stdout",
     "output_type": "stream",
     "text": [
      "53.82990857362747\n"
     ]
    }
   ],
   "source": [
    "start_time = time.time()\n",
    "best_params_data_80, df_res_data_80 = SVM_model(data_X_train_80, data_y_train_80, \n",
    "                                                data_X_test_20, data_y_test_20, \n",
    "                                                order_features_data, parameters)\n",
    "end_time = time.time()\n",
    "print((end_time - start_time)/60)"
   ]
  },
  {
   "cell_type": "markdown",
   "id": "boxed-magnet",
   "metadata": {},
   "source": [
    "##### Only 5 variables model"
   ]
  },
  {
   "cell_type": "code",
   "execution_count": 45,
   "id": "golden-carol",
   "metadata": {},
   "outputs": [
    {
     "name": "stdout",
     "output_type": "stream",
     "text": [
      "2.4743555545806886\n"
     ]
    }
   ],
   "source": [
    "start_time = time.time()\n",
    "best_params_data_50_5, cm_data_50_5, df_res_data_50_5, df_roc_data_50_5 = unique_SVM_model(data_X_train_50, data_y_train_50, \n",
    "                                                                                           data_X_test_50, data_y_test_50, \n",
    "                                                                                           order_features_data, parameters, 5)\n",
    "end_time = time.time()\n",
    "print((end_time - start_time)/60)"
   ]
  },
  {
   "cell_type": "code",
   "execution_count": 47,
   "id": "preliminary-cleaners",
   "metadata": {},
   "outputs": [
    {
     "name": "stdout",
     "output_type": "stream",
     "text": [
      "4.386651349067688\n"
     ]
    }
   ],
   "source": [
    "start_time = time.time()\n",
    "best_params_data_70_5, cm_data_70_5, df_res_data_70_5, df_roc_data_70_5 = unique_SVM_model(data_X_train_70, data_y_train_70, \n",
    "                                                                                           data_X_test_30, data_y_test_30, \n",
    "                                                                                           order_features_data, parameters, 5)\n",
    "end_time = time.time()\n",
    "print((end_time - start_time)/60)"
   ]
  },
  {
   "cell_type": "code",
   "execution_count": 65,
   "id": "honey-nicaragua",
   "metadata": {},
   "outputs": [
    {
     "name": "stdout",
     "output_type": "stream",
     "text": [
      "2.42991015513738\n"
     ]
    }
   ],
   "source": [
    "start_time = time.time()\n",
    "best_params_data_80_5, cm_data_80_5, df_res_data_80_5, df_roc_data_80_5 = unique_SVM_model(data_X_train_80, data_y_train_80, \n",
    "                                                                                           data_X_test_20, data_y_test_20, \n",
    "                                                                                           order_features_data, parameters, 5)\n",
    "end_time = time.time()\n",
    "print((end_time - start_time)/60)"
   ]
  },
  {
   "cell_type": "raw",
   "id": "aware-defensive",
   "metadata": {},
   "source": [
    "plt.figure(1, figsize = (7, 7))\n",
    "lw = 2\n",
    "plt.plot(df_roc_data_80_5.fpr, df_roc_data_80_5.tpr, color='darkorange',\n",
    "         lw=lw, label='ROC curve (area = %0.4f)' % df_res_data_80_5.loc[\"auc\"])\n",
    "plt.plot([0, 1], [0, 1], color='navy', lw=lw, linestyle='--')\n",
    "plt.xlim([-0.01, 1.01])\n",
    "plt.ylim([-0.01, 1.01])\n",
    "plt.xlabel('False Positive Rate')\n",
    "plt.ylabel('True Positive Rate')\n",
    "plt.title('Receiver operating characteristic\\nSVM with 50% train and 5 variables')\n",
    "plt.legend(loc=\"lower right\")\n",
    "plt.show()"
   ]
  },
  {
   "cell_type": "markdown",
   "id": "relevant-requirement",
   "metadata": {},
   "source": [
    "#### Avatar analysis"
   ]
  },
  {
   "cell_type": "markdown",
   "id": "starting-basin",
   "metadata": {},
   "source": [
    "##### All features selection"
   ]
  },
  {
   "cell_type": "code",
   "execution_count": 97,
   "id": "otherwise-sender",
   "metadata": {},
   "outputs": [
    {
     "name": "stdout",
     "output_type": "stream",
     "text": [
      "12.967471110820771\n"
     ]
    }
   ],
   "source": [
    "start_time = time.time()\n",
    "best_params_avatar_50, df_res_avatar_50 = SVM_model(avatar_X_train_50, avatar_y_train_50, \n",
    "                                                    avatar_X_test_50, avatar_y_test_50, \n",
    "                                                    order_features_avatar, parameters)\n",
    "end_time = time.time()\n",
    "print((end_time - start_time)/60)"
   ]
  },
  {
   "cell_type": "code",
   "execution_count": 99,
   "id": "altered-billion",
   "metadata": {},
   "outputs": [
    {
     "name": "stdout",
     "output_type": "stream",
     "text": [
      "27.599160667260488\n"
     ]
    }
   ],
   "source": [
    "start_time = time.time()\n",
    "best_params_avatar_70, df_res_avatar_70 = SVM_model(avatar_X_train_70, avatar_y_train_70, \n",
    "                                                    avatar_X_test_30, avatar_y_test_30, \n",
    "                                                    order_features_avatar, parameters)\n",
    "end_time = time.time()\n",
    "print((end_time - start_time)/60)"
   ]
  },
  {
   "cell_type": "code",
   "execution_count": 100,
   "id": "tight-visiting",
   "metadata": {
    "scrolled": true
   },
   "outputs": [
    {
     "name": "stdout",
     "output_type": "stream",
     "text": [
      "32.69552416801453\n"
     ]
    }
   ],
   "source": [
    "start_time = time.time()\n",
    "best_params_avatar_80, df_res_avatar_80 = SVM_model(avatar_X_train_80, avatar_y_train_80, \n",
    "                                                    avatar_X_test_20, avatar_y_test_20, \n",
    "                                                    order_features_avatar, parameters)\n",
    "end_time = time.time()\n",
    "print((end_time - start_time)/60)"
   ]
  },
  {
   "cell_type": "code",
   "execution_count": 101,
   "id": "stone-western",
   "metadata": {
    "scrolled": true
   },
   "outputs": [
    {
     "name": "stdout",
     "output_type": "stream",
     "text": [
      "51.8604994336764\n"
     ]
    }
   ],
   "source": [
    "start_time = time.time()\n",
    "best_params_avatar, df_res_avatar = SVM_model(avatar.drop(\"Class\", axis = 1), avatar.Class, \n",
    "                                              data.drop(\"Class\", axis = 1), data.Class, \n",
    "                                              order_features_avatar, parameters)\n",
    "end_time = time.time()\n",
    "print((end_time - start_time)/60)"
   ]
  },
  {
   "cell_type": "markdown",
   "id": "proprietary-chicken",
   "metadata": {},
   "source": [
    "##### Only 5 variables model"
   ]
  },
  {
   "cell_type": "code",
   "execution_count": 103,
   "id": "signed-invite",
   "metadata": {},
   "outputs": [
    {
     "name": "stdout",
     "output_type": "stream",
     "text": [
      "1.3069837967554727\n"
     ]
    }
   ],
   "source": [
    "start_time = time.time()\n",
    "best_params_avatar_50_5, cm_avatar_50_5, df_res_avatar_50_5, df_roc_avatar_50_5 = unique_SVM_model(avatar_X_train_50, avatar_y_train_50, \n",
    "                                                                                                   avatar_X_test_50, avatar_y_test_50, \n",
    "                                                                                                   order_features_avatar, parameters, 5)\n",
    "end_time = time.time()\n",
    "print((end_time - start_time)/60)"
   ]
  },
  {
   "cell_type": "code",
   "execution_count": 105,
   "id": "encouraging-vacuum",
   "metadata": {},
   "outputs": [
    {
     "name": "stdout",
     "output_type": "stream",
     "text": [
      "2.47096928358078\n"
     ]
    }
   ],
   "source": [
    "start_time = time.time()\n",
    "best_params_avatar_70_5, cm_avatar_70_5, df_res_avatar_70_5, df_roc_avatar_70_5 = unique_SVM_model(avatar_X_train_70, avatar_y_train_70, \n",
    "                                                                                                   avatar_X_test_30, avatar_y_test_30, \n",
    "                                                                                                   order_features_avatar, parameters, 5)\n",
    "end_time = time.time()\n",
    "print((end_time - start_time)/60)"
   ]
  },
  {
   "cell_type": "code",
   "execution_count": 66,
   "id": "understood-association",
   "metadata": {},
   "outputs": [
    {
     "name": "stdout",
     "output_type": "stream",
     "text": [
      "2.392894721031189\n"
     ]
    }
   ],
   "source": [
    "start_time = time.time()\n",
    "best_params_avatar_80_5, cm_avatar_80_5, df_res_avatar_80_5, df_roc_avatar_80_5 = unique_SVM_model(avatar_X_train_80, avatar_y_train_80, \n",
    "                                                                                                   avatar_X_test_20, avatar_y_test_20, \n",
    "                                                                                                   order_features_avatar, parameters, 5)\n",
    "end_time = time.time()\n",
    "print((end_time - start_time)/60)"
   ]
  },
  {
   "cell_type": "code",
   "execution_count": 109,
   "id": "gentle-zimbabwe",
   "metadata": {},
   "outputs": [
    {
     "name": "stdout",
     "output_type": "stream",
     "text": [
      "4.450182191530863\n"
     ]
    }
   ],
   "source": [
    "start_time = time.time()\n",
    "best_params_avatar_all_5, cm_avatar_all_5, df_res_avatar_all_5, df_roc_avatar_all_5 = unique_SVM_model(avatar.drop(\"Class\", axis = 1), avatar.Class, \n",
    "                                                                                                       data.drop(\"Class\", axis = 1), data.Class, \n",
    "                                                                                                       order_features_avatar, parameters, 5)\n",
    "end_time = time.time()\n",
    "print((end_time - start_time)/60)"
   ]
  },
  {
   "cell_type": "markdown",
   "id": "hidden-palestine",
   "metadata": {},
   "source": [
    "## Performance metrics representation"
   ]
  },
  {
   "cell_type": "code",
   "execution_count": 67,
   "id": "adapted-belly",
   "metadata": {},
   "outputs": [],
   "source": [
    "df_res_data_80_5 = df_res_data_80_5.rename(columns = {0 : \"res_data_80_5\"}, inplace = False)"
   ]
  },
  {
   "cell_type": "code",
   "execution_count": 68,
   "id": "beginning-tiffany",
   "metadata": {},
   "outputs": [],
   "source": [
    "df_res_avatar_80_5  = df_res_avatar_80_5.rename(columns = {0 : \"res_avatar_80_5\"}, inplace = False)"
   ]
  },
  {
   "cell_type": "code",
   "execution_count": 69,
   "id": "suited-capacity",
   "metadata": {},
   "outputs": [],
   "source": [
    "df_res = pd.concat([df_res_data_80_5, df_res_avatar_80_5], axis = 1)"
   ]
  },
  {
   "cell_type": "code",
   "execution_count": 78,
   "id": "obvious-panel",
   "metadata": {},
   "outputs": [],
   "source": [
    "df_res[\"res_paper_80_5\"] = [0.9951, 1, 0.9791, 0.9898, 1, 0.9998]"
   ]
  },
  {
   "cell_type": "code",
   "execution_count": 82,
   "id": "still-coral",
   "metadata": {},
   "outputs": [
    {
     "data": {
      "image/png": "[encoded data removed]",
      "text/plain": [
       "<Figure size 432x288 with 1 Axes>"
      ]
     },
     "metadata": {},
     "output_type": "display_data"
    }
   ],
   "source": [
    "# Libraries\n",
    "import matplotlib.pyplot as plt\n",
    "import pandas as pd\n",
    "from math import pi\n",
    "\n",
    "df_test = df_res.transpose()\n",
    " \n",
    "# ------- PART 1: Create background\n",
    " \n",
    "# number of variable\n",
    "categories=list(df_test)\n",
    "categories = list(pd.Series(categories).apply(lambda val : val.replace(\"_\", \" \")))\n",
    "categories = [\"Accuracy\", \"         Sensitivity\", '         Specificity', \"PPV\", \"NPV\", \"AUC\"]\n",
    "N = len(categories)\n",
    " \n",
    "# What will be the angle of each axis in the plot? (we divide the plot / number of variable)\n",
    "angles = [n / float(N) * 2 * pi for n in range(N)]\n",
    "angles += angles[:1]\n",
    " \n",
    "# Initialise the spider plot\n",
    "ax = plt.subplot(111, polar=True)\n",
    " \n",
    "# If you want the first axis to be on top:\n",
    "ax.set_theta_offset(pi / 2)\n",
    "ax.set_theta_direction(-1)\n",
    " \n",
    "# Draw one axe per variable + add labels\n",
    "plt.xticks(angles[:-1], categories)\n",
    " \n",
    "# Draw ylabels\n",
    "ax.set_rlabel_position(0)\n",
    "plt.yticks([0.5, 0.8, 1], [\"0.5\", \"0.8\", \"1\"], color=\"grey\", size=7)\n",
    "plt.ylim(0, 1)\n",
    " \n",
    "\n",
    "# ------- PART 2: Add plots\n",
    " \n",
    "# Plot each individual = each line of the data\n",
    "# I don't make a loop, because plotting more than 3 groups makes the chart unreadable\n",
    " \n",
    "# Ind1\n",
    "values=df_test.iloc[2].values.flatten().tolist()\n",
    "values += values[:1]\n",
    "ax.plot(angles, values, linewidth=1, linestyle='solid', label=\"Paper results 80% train\")\n",
    "ax.fill(angles, values, 'b', alpha=0.1)\n",
    " \n",
    "# Ind2\n",
    "values=df_test.iloc[0].values.flatten().tolist()\n",
    "values += values[:1]\n",
    "ax.plot(angles, values, linewidth=1, linestyle='solid', label=\"Original data 80% train\")\n",
    "ax.fill(angles, values, 'r', alpha=0.1)\n",
    "\n",
    "# Ind3\n",
    "values=df_test.iloc[1].values.flatten().tolist()\n",
    "values += values[:1]\n",
    "ax.plot(angles, values, linewidth=1, linestyle='solid', label=\"Avatar data 80% train\")\n",
    "ax.fill(angles, values, 'r', alpha=0.1)\n",
    " \n",
    "# Add legend\n",
    "plt.legend(loc='upper right', bbox_to_anchor=(0.1, 0.1))\n",
    "\n",
    "# Show the graph\n",
    "plt.show()"
   ]
  },
  {
   "cell_type": "markdown",
   "id": "reflected-present",
   "metadata": {},
   "source": [
    "## Metrics"
   ]
  },
  {
   "cell_type": "code",
   "execution_count": 83,
   "id": "serious-yorkshire",
   "metadata": {},
   "outputs": [
    {
     "name": "stdout",
     "output_type": "stream",
     "text": [
      "Regarding variables types, a PCA is performed for dimension reduction\n"
     ]
    }
   ],
   "source": [
    "metric = Security_metrics()\n",
    "metric.fit(data, avatar, nf = 2)\n",
    "df_metric = pd.DataFrame(metric.local_cloaking[\"hit_counts\"], columns=[\"hit_counts_0\", \"hit_counts_1\"])"
   ]
  },
  {
   "cell_type": "code",
   "execution_count": 84,
   "id": "governmental-warner",
   "metadata": {},
   "outputs": [
    {
     "data": {
      "image/png": "[encoded data removed]",
      "text/plain": [
       "<Figure size 640x480 with 1 Axes>"
      ]
     },
     "metadata": {},
     "output_type": "display_data"
    },
    {
     "data": {
      "text/plain": [
       "<ggplot: (150391366262)>"
      ]
     },
     "execution_count": 84,
     "metadata": {},
     "output_type": "execute_result"
    }
   ],
   "source": [
    "ggplot(df_metric, aes(x = \"hit_counts_0\")) + \\\n",
    "    geom_histogram(bins = 100, fill = \"#3BD6B0\", color = \"#696969\") + \\\n",
    "    geom_density(aes(y= \"..count..\"), color = \"#696969\", size = 0.8) + \\\n",
    "    xlim(rinterface.evalr(\"c(0,100)\")) + \\\n",
    "    theme_bw() + \\\n",
    "    xlab(\"Local cloaking\") + \\\n",
    "    ylab(\"Number of avatars\") + \\\n",
    "    theme(axis_title = element_text(size = 10),\n",
    "          axis_text = element_text(size = 8)) + \\\n",
    "    geom_segment(aes(x = 0, xend = 100, y = 0, yend = 0), color = \"white\", size = 1) + \\\n",
    "    geom_segment(aes(x = 0, xend = 0, y = 0, yend = 10), color = \"white\", size = 1) + \\\n",
    "    geom_segment(aes(x = 100, xend = 100, y = 0, yend = 10), color = \"white\", size = 1) + \\\n",
    "    geom_abline(aes(slope = 0, intercept = 0), color = \"gainsboro\") + \\\n",
    "    geom_vline(aes(xintercept = 0), color = \"gainsboro\")+ \\\n",
    "    geom_vline(aes(xintercept = 100), color = \"gainsboro\")"
   ]
  },
  {
   "cell_type": "markdown",
   "id": "packed-hawaiian",
   "metadata": {},
   "source": [
    "## Pickle variables"
   ]
  },
  {
   "cell_type": "raw",
   "id": "excited-madonna",
   "metadata": {},
   "source": [
    "import pickle"
   ]
  },
  {
   "cell_type": "raw",
   "id": "induced-stake",
   "metadata": {},
   "source": [
    "with open('../results/Breast_cancer/save_test', 'wb') as f:\n",
    "    pickle.dump(df_res_avatar, f)"
   ]
  },
  {
   "cell_type": "raw",
   "id": "charming-annex",
   "metadata": {},
   "source": [
    "with open('../results/Breast_cancer/save_test', 'rb') as f:\n",
    "    var_you_want_to_load_into = pickle.load(f)"
   ]
  },
  {
   "cell_type": "raw",
   "id": "executed-database",
   "metadata": {},
   "source": [
    "var_you_want_to_load_into"
   ]
  }
 ],
 "metadata": {
  "kernelspec": {
   "display_name": "Python 3",
   "language": "python",
   "name": "python3"
  },
  "language_info": {
   "codemirror_mode": {
    "name": "ipython",
    "version": 3
   },
   "file_extension": ".py",
   "mimetype": "text/x-python",
   "name": "python",
   "nbconvert_exporter": "python",
   "pygments_lexer": "ipython3",
   "version": "3.8.10"
  }
 },
 "nbformat": 4,
 "nbformat_minor": 5
}
