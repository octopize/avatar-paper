{
 "cells": [
  {
   "cell_type": "code",
   "execution_count": 2,
   "id": "1dc51579",
   "metadata": {},
   "outputs": [
    {
     "name": "stderr",
     "output_type": "stream",
     "text": [
      "Registered S3 method overwritten by 'rvest':\n",
      "  method            from\n",
      "  read_xml.response xml2\n",
      "── Attaching packages ─────────────────────────────────────── tidyverse 1.2.1 ──\n",
      "✔ ggplot2 3.3.3     ✔ purrr   0.3.4\n",
      "✔ tibble  3.1.2     ✔ dplyr   1.0.6\n",
      "✔ tidyr   1.1.3     ✔ stringr 1.4.0\n",
      "✔ readr   1.3.1     ✔ forcats 0.4.0\n",
      "── Conflicts ────────────────────────────────────────── tidyverse_conflicts() ──\n",
      "✖ dplyr::filter() masks stats::filter()\n",
      "✖ dplyr::lag()    masks stats::lag()\n",
      "Loading required package: ggpubr\n",
      "\n",
      "Attaching package: ‘mice’\n",
      "\n",
      "The following object is masked from ‘package:stats’:\n",
      "\n",
      "    filter\n",
      "\n",
      "The following objects are masked from ‘package:base’:\n",
      "\n",
      "    cbind, rbind\n",
      "\n",
      "Loading required package: colorspace\n",
      "Loading required package: grid\n",
      "VIM is ready to use.\n",
      "\n",
      "Suggestions and bug-reports can be submitted at: https://github.com/statistikat/VIM/issues\n",
      "\n",
      "Attaching package: ‘VIM’\n",
      "\n",
      "The following object is masked from ‘package:datasets’:\n",
      "\n",
      "    sleep\n",
      "\n"
     ]
    }
   ],
   "source": [
    "library(reticulate)\n",
    "library(tidyverse)\n",
    "library(FactoMineR)\n",
    "library(plot3D)\n",
    "library(survival)\n",
    "library(survminer)\n",
    "library(mice)\n",
    "library(VIM)"
   ]
  },
  {
   "cell_type": "code",
   "execution_count": 3,
   "id": "7e4bbd63",
   "metadata": {},
   "outputs": [],
   "source": [
    "py_run_string(\"import sys\")\n",
    "#py_run_string(\"import lsg\")\n",
    "py_run_string(\"from lsg.security_metrics.security_metrics_class import * \")\n",
    "\n",
    "#py_run_string(\"from lsg.dimension import *\")\n",
    "#py_run_string(\"from lsg.security_metrics import *\")"
   ]
  },
  {
   "cell_type": "code",
   "execution_count": 4,
   "id": "ece23a0d",
   "metadata": {},
   "outputs": [
    {
     "data": {
      "text/html": [
       "'/home/user/Documents/projets/Paper/avatar_paper/notebooks'"
      ],
      "text/latex": [
       "'/home/user/Documents/projets/Paper/avatar\\_paper/notebooks'"
      ],
      "text/markdown": [
       "'/home/user/Documents/projets/Paper/avatar_paper/notebooks'"
      ],
      "text/plain": [
       "[1] \"/home/user/Documents/projets/Paper/avatar_paper/notebooks\""
      ]
     },
     "metadata": {},
     "output_type": "display_data"
    }
   ],
   "source": [
    "getwd()"
   ]
  },
  {
   "cell_type": "code",
   "execution_count": 11,
   "id": "9c1ec15f",
   "metadata": {},
   "outputs": [
    {
     "ename": "ERROR",
     "evalue": "Error in eval(expr, envir, enclos): objet 'local_cloaking' introuvable\n",
     "output_type": "error",
     "traceback": [
      "Error in eval(expr, envir, enclos): objet 'local_cloaking' introuvable\nTraceback:\n"
     ]
    }
   ],
   "source": [
    "data <- read.csv(\"../datasets/breast_cancer_wisconsin.csv\", sep = \",\", na.strings = c(\"NA\", \"\", NA))\n",
    "data <- data[,-1]\n",
    "avatar <- read.csv(\"../datasets/breast_cancer_winconsin_avatarized_k10.csv\", sep = \",\", na.strings = c(\"NA\", \"\", NA))\n",
    "\n",
    "avatar$Class = as_factor(avatar$Class)\n",
    "\n",
    "data$Class[data$Class == 2] <- 0\n",
    "data$Class[data$Class == 4] <- 1\n",
    "data$Class = as_factor(data$Class)\n",
    "local_cloaking\n"
   ]
  },
  {
   "cell_type": "markdown",
   "id": "0752d227",
   "metadata": {},
   "source": [
    "# Figure 1"
   ]
  },
  {
   "cell_type": "code",
   "execution_count": 10,
   "id": "ca3438f9",
   "metadata": {},
   "outputs": [
    {
     "data": {
      "text/html": [
       "<table>\n",
       "<thead><tr><th scope=col>Clump_Thickness</th><th scope=col>Uniformity_of_Cell_Size</th><th scope=col>Uniformity_of_Cell_Shape</th><th scope=col>Marginal_Adhesion</th><th scope=col>Single_Epithelial_Cell_Size</th><th scope=col>Bare_Nuclei</th><th scope=col>Bland_Chromatin</th><th scope=col>Normal_Nucleoli</th><th scope=col>Mitoses</th><th scope=col>Class</th><th scope=col>Calass</th></tr></thead>\n",
       "<tbody>\n",
       "\t<tr><td>5 </td><td> 1</td><td> 1</td><td>1 </td><td>2 </td><td> 1</td><td>3 </td><td>1 </td><td>1 </td><td>2 </td><td> 0</td></tr>\n",
       "\t<tr><td>5 </td><td> 4</td><td> 4</td><td>5 </td><td>7 </td><td>10</td><td>3 </td><td>2 </td><td>1 </td><td>2 </td><td> 0</td></tr>\n",
       "\t<tr><td>3 </td><td> 1</td><td> 1</td><td>1 </td><td>2 </td><td> 2</td><td>3 </td><td>1 </td><td>1 </td><td>2 </td><td> 0</td></tr>\n",
       "\t<tr><td>6 </td><td> 8</td><td> 8</td><td>1 </td><td>3 </td><td> 4</td><td>3 </td><td>7 </td><td>1 </td><td>2 </td><td> 0</td></tr>\n",
       "\t<tr><td>4 </td><td> 1</td><td> 1</td><td>3 </td><td>2 </td><td> 1</td><td>3 </td><td>1 </td><td>1 </td><td>2 </td><td> 0</td></tr>\n",
       "\t<tr><td>8 </td><td>10</td><td>10</td><td>8 </td><td>7 </td><td>10</td><td>9 </td><td>7 </td><td>1 </td><td>1 </td><td>NA</td></tr>\n",
       "</tbody>\n",
       "</table>\n"
      ],
      "text/latex": [
       "\\begin{tabular}{r|lllllllllll}\n",
       " Clump\\_Thickness & Uniformity\\_of\\_Cell\\_Size & Uniformity\\_of\\_Cell\\_Shape & Marginal\\_Adhesion & Single\\_Epithelial\\_Cell\\_Size & Bare\\_Nuclei & Bland\\_Chromatin & Normal\\_Nucleoli & Mitoses & Class & Calass\\\\\n",
       "\\hline\n",
       "\t 5  &  1 &  1 & 1  & 2  &  1 & 3  & 1  & 1  & 2  &  0\\\\\n",
       "\t 5  &  4 &  4 & 5  & 7  & 10 & 3  & 2  & 1  & 2  &  0\\\\\n",
       "\t 3  &  1 &  1 & 1  & 2  &  2 & 3  & 1  & 1  & 2  &  0\\\\\n",
       "\t 6  &  8 &  8 & 1  & 3  &  4 & 3  & 7  & 1  & 2  &  0\\\\\n",
       "\t 4  &  1 &  1 & 3  & 2  &  1 & 3  & 1  & 1  & 2  &  0\\\\\n",
       "\t 8  & 10 & 10 & 8  & 7  & 10 & 9  & 7  & 1  & 1  & NA\\\\\n",
       "\\end{tabular}\n"
      ],
      "text/markdown": [
       "\n",
       "| Clump_Thickness | Uniformity_of_Cell_Size | Uniformity_of_Cell_Shape | Marginal_Adhesion | Single_Epithelial_Cell_Size | Bare_Nuclei | Bland_Chromatin | Normal_Nucleoli | Mitoses | Class | Calass |\n",
       "|---|---|---|---|---|---|---|---|---|---|---|\n",
       "| 5  |  1 |  1 | 1  | 2  |  1 | 3  | 1  | 1  | 2  |  0 |\n",
       "| 5  |  4 |  4 | 5  | 7  | 10 | 3  | 2  | 1  | 2  |  0 |\n",
       "| 3  |  1 |  1 | 1  | 2  |  2 | 3  | 1  | 1  | 2  |  0 |\n",
       "| 6  |  8 |  8 | 1  | 3  |  4 | 3  | 7  | 1  | 2  |  0 |\n",
       "| 4  |  1 |  1 | 3  | 2  |  1 | 3  | 1  | 1  | 2  |  0 |\n",
       "| 8  | 10 | 10 | 8  | 7  | 10 | 9  | 7  | 1  | 1  | NA |\n",
       "\n"
      ],
      "text/plain": [
       "  Clump_Thickness Uniformity_of_Cell_Size Uniformity_of_Cell_Shape\n",
       "1 5                1                       1                      \n",
       "2 5                4                       4                      \n",
       "3 3                1                       1                      \n",
       "4 6                8                       8                      \n",
       "5 4                1                       1                      \n",
       "6 8               10                      10                      \n",
       "  Marginal_Adhesion Single_Epithelial_Cell_Size Bare_Nuclei Bland_Chromatin\n",
       "1 1                 2                            1          3              \n",
       "2 5                 7                           10          3              \n",
       "3 1                 2                            2          3              \n",
       "4 1                 3                            4          3              \n",
       "5 3                 2                            1          3              \n",
       "6 8                 7                           10          9              \n",
       "  Normal_Nucleoli Mitoses Class Calass\n",
       "1 1               1       2      0    \n",
       "2 2               1       2      0    \n",
       "3 1               1       2      0    \n",
       "4 7               1       2      0    \n",
       "5 1               1       2      0    \n",
       "6 7               1       1     NA    "
      ]
     },
     "metadata": {},
     "output_type": "display_data"
    }
   ],
   "source": [
    "head(data)"
   ]
  },
  {
   "cell_type": "code",
   "execution_count": 6,
   "id": "857d551b",
   "metadata": {},
   "outputs": [
    {
     "ename": "ERROR",
     "evalue": "Error in rbind(deparse.level, ...): numbers of columns of arguments do not match\n",
     "output_type": "error",
     "traceback": [
      "Error in rbind(deparse.level, ...): numbers of columns of arguments do not match\nTraceback:\n",
      "1. rbind(data, avatar)",
      "2. base::rbind(...)",
      "3. rbind(deparse.level, ...)",
      "4. stop(\"numbers of columns of arguments do not match\")"
     ]
    }
   ],
   "source": [
    "data_tot <- rbind(data, avatar)"
   ]
  },
  {
   "cell_type": "code",
   "execution_count": 38,
   "id": "1158b4e3",
   "metadata": {},
   "outputs": [
    {
     "data": {
      "text/html": [
       "<table>\n",
       "<thead><tr><th scope=col>Clump_Thickness</th><th scope=col>Uniformity_of_Cell_Size</th><th scope=col>Uniformity_of_Cell_Shape</th><th scope=col>Marginal_Adhesion</th><th scope=col>Single_Epithelial_Cell_Size</th><th scope=col>Bare_Nuclei</th><th scope=col>Bland_Chromatin</th><th scope=col>Normal_Nucleoli</th><th scope=col>Mitoses</th><th scope=col>Class</th></tr></thead>\n",
       "<tbody>\n",
       "\t<tr><td>5 </td><td> 1</td><td> 1</td><td>1 </td><td>2 </td><td> 1</td><td>3 </td><td>1 </td><td>1 </td><td>0 </td></tr>\n",
       "\t<tr><td>5 </td><td> 4</td><td> 4</td><td>5 </td><td>7 </td><td>10</td><td>3 </td><td>2 </td><td>1 </td><td>0 </td></tr>\n",
       "\t<tr><td>3 </td><td> 1</td><td> 1</td><td>1 </td><td>2 </td><td> 2</td><td>3 </td><td>1 </td><td>1 </td><td>0 </td></tr>\n",
       "\t<tr><td>6 </td><td> 8</td><td> 8</td><td>1 </td><td>3 </td><td> 4</td><td>3 </td><td>7 </td><td>1 </td><td>0 </td></tr>\n",
       "\t<tr><td>4 </td><td> 1</td><td> 1</td><td>3 </td><td>2 </td><td> 1</td><td>3 </td><td>1 </td><td>1 </td><td>0 </td></tr>\n",
       "\t<tr><td>8 </td><td>10</td><td>10</td><td>8 </td><td>7 </td><td>10</td><td>9 </td><td>7 </td><td>1 </td><td>1 </td></tr>\n",
       "</tbody>\n",
       "</table>\n"
      ],
      "text/latex": [
       "\\begin{tabular}{r|llllllllll}\n",
       " Clump\\_Thickness & Uniformity\\_of\\_Cell\\_Size & Uniformity\\_of\\_Cell\\_Shape & Marginal\\_Adhesion & Single\\_Epithelial\\_Cell\\_Size & Bare\\_Nuclei & Bland\\_Chromatin & Normal\\_Nucleoli & Mitoses & Class\\\\\n",
       "\\hline\n",
       "\t 5  &  1 &  1 & 1  & 2  &  1 & 3  & 1  & 1  & 0 \\\\\n",
       "\t 5  &  4 &  4 & 5  & 7  & 10 & 3  & 2  & 1  & 0 \\\\\n",
       "\t 3  &  1 &  1 & 1  & 2  &  2 & 3  & 1  & 1  & 0 \\\\\n",
       "\t 6  &  8 &  8 & 1  & 3  &  4 & 3  & 7  & 1  & 0 \\\\\n",
       "\t 4  &  1 &  1 & 3  & 2  &  1 & 3  & 1  & 1  & 0 \\\\\n",
       "\t 8  & 10 & 10 & 8  & 7  & 10 & 9  & 7  & 1  & 1 \\\\\n",
       "\\end{tabular}\n"
      ],
      "text/markdown": [
       "\n",
       "| Clump_Thickness | Uniformity_of_Cell_Size | Uniformity_of_Cell_Shape | Marginal_Adhesion | Single_Epithelial_Cell_Size | Bare_Nuclei | Bland_Chromatin | Normal_Nucleoli | Mitoses | Class |\n",
       "|---|---|---|---|---|---|---|---|---|---|\n",
       "| 5  |  1 |  1 | 1  | 2  |  1 | 3  | 1  | 1  | 0  |\n",
       "| 5  |  4 |  4 | 5  | 7  | 10 | 3  | 2  | 1  | 0  |\n",
       "| 3  |  1 |  1 | 1  | 2  |  2 | 3  | 1  | 1  | 0  |\n",
       "| 6  |  8 |  8 | 1  | 3  |  4 | 3  | 7  | 1  | 0  |\n",
       "| 4  |  1 |  1 | 3  | 2  |  1 | 3  | 1  | 1  | 0  |\n",
       "| 8  | 10 | 10 | 8  | 7  | 10 | 9  | 7  | 1  | 1  |\n",
       "\n"
      ],
      "text/plain": [
       "  Clump_Thickness Uniformity_of_Cell_Size Uniformity_of_Cell_Shape\n",
       "1 5                1                       1                      \n",
       "2 5                4                       4                      \n",
       "3 3                1                       1                      \n",
       "4 6                8                       8                      \n",
       "5 4                1                       1                      \n",
       "6 8               10                      10                      \n",
       "  Marginal_Adhesion Single_Epithelial_Cell_Size Bare_Nuclei Bland_Chromatin\n",
       "1 1                 2                            1          3              \n",
       "2 5                 7                           10          3              \n",
       "3 1                 2                            2          3              \n",
       "4 1                 3                            4          3              \n",
       "5 3                 2                            1          3              \n",
       "6 8                 7                           10          9              \n",
       "  Normal_Nucleoli Mitoses Class\n",
       "1 1               1       0    \n",
       "2 2               1       0    \n",
       "3 1               1       0    \n",
       "4 7               1       0    \n",
       "5 1               1       0    \n",
       "6 7               1       1    "
      ]
     },
     "metadata": {},
     "output_type": "display_data"
    }
   ],
   "source": [
    "head(data)"
   ]
  },
  {
   "cell_type": "code",
   "execution_count": 39,
   "id": "29c97918",
   "metadata": {},
   "outputs": [
    {
     "name": "stdout",
     "output_type": "stream",
     "text": [
      "'data.frame':\t683 obs. of  10 variables:\n",
      " $ Clump_Thickness            : int  5 5 3 6 4 8 1 2 2 4 ...\n",
      " $ Uniformity_of_Cell_Size    : int  1 4 1 8 1 10 1 1 1 2 ...\n",
      " $ Uniformity_of_Cell_Shape   : int  1 4 1 8 1 10 1 2 1 1 ...\n",
      " $ Marginal_Adhesion          : int  1 5 1 1 3 8 1 1 1 1 ...\n",
      " $ Single_Epithelial_Cell_Size: int  2 7 2 3 2 7 2 2 2 2 ...\n",
      " $ Bare_Nuclei                : int  1 10 2 4 1 10 10 1 1 1 ...\n",
      " $ Bland_Chromatin            : int  3 3 3 3 3 9 3 3 1 2 ...\n",
      " $ Normal_Nucleoli            : int  1 2 1 7 1 7 1 1 1 1 ...\n",
      " $ Mitoses                    : int  1 1 1 1 1 1 1 1 5 1 ...\n",
      " $ Class                      : Factor w/ 2 levels \"0\",\"1\": 1 1 1 1 1 2 1 1 1 1 ...\n"
     ]
    }
   ],
   "source": [
    "str(data)"
   ]
  },
  {
   "cell_type": "code",
   "execution_count": 40,
   "id": "57ecf24b",
   "metadata": {},
   "outputs": [],
   "source": [
    "metrics = py$Security_metrics()\n",
    "metrics$fit(data, avatar, nf= 2L)"
   ]
  },
  {
   "cell_type": "code",
   "execution_count": null,
   "id": "109bdaf4",
   "metadata": {},
   "outputs": [],
   "source": []
  },
  {
   "cell_type": "code",
   "execution_count": 41,
   "id": "8d428881",
   "metadata": {},
   "outputs": [
    {
     "data": {
      "text/html": [
       "0"
      ],
      "text/latex": [
       "0"
      ],
      "text/markdown": [
       "0"
      ],
      "text/plain": [
       "[1] 0"
      ]
     },
     "metadata": {},
     "output_type": "display_data"
    }
   ],
   "source": [
    "metrics$local_cloaking$empty_rate"
   ]
  },
  {
   "cell_type": "code",
   "execution_count": 42,
   "id": "5897b951",
   "metadata": {},
   "outputs": [
    {
     "data": {
      "text/html": [
       "23"
      ],
      "text/latex": [
       "23"
      ],
      "text/markdown": [
       "23"
      ],
      "text/plain": [
       "[1] 23"
      ]
     },
     "metadata": {},
     "output_type": "display_data"
    }
   ],
   "source": [
    "metrics$local_cloaking$avatars_median"
   ]
  },
  {
   "cell_type": "code",
   "execution_count": 43,
   "id": "1c7cb00f",
   "metadata": {},
   "outputs": [],
   "source": [
    "df_local_cloaking <- data.frame(metrics$local_cloaking[\"hit_counts\"])"
   ]
  },
  {
   "cell_type": "code",
   "execution_count": 49,
   "id": "88d8dafe",
   "metadata": {},
   "outputs": [],
   "source": [
    "save = TRUE"
   ]
  },
  {
   "cell_type": "code",
   "execution_count": 50,
   "id": "a5554bcd",
   "metadata": {},
   "outputs": [
    {
     "name": "stderr",
     "output_type": "stream",
     "text": [
      "Warning message:\n",
      "“Removed 125 rows containing non-finite values (stat_bin).”Warning message:\n",
      "“Removed 125 rows containing non-finite values (stat_density).”Warning message:\n",
      "“Removed 2 rows containing missing values (geom_bar).”"
     ]
    },
    {
     "data": {
      "text/html": [
       "<strong>png:</strong> 2"
      ],
      "text/latex": [
       "\\textbf{png:} 2"
      ],
      "text/markdown": [
       "**png:** 2"
      ],
      "text/plain": [
       "png \n",
       "  2 "
      ]
     },
     "metadata": {},
     "output_type": "display_data"
    }
   ],
   "source": [
    "options(repr.plot.width = 10.5, repr.plot.height = 6)\n",
    "if (save) {tiff(paste0(\"WBCD_local_cloaking_\", Sys.Date(), \".tiff\"), width = 16, height = 10, units = \"cm\", res = 300)}\n",
    "dist = ggplot(df_local_cloaking, aes(hit_counts.1)) +\n",
    "    geom_histogram(bins = 100, fill = \"#3BD6B0\", color = \"#696969\") +\n",
    "    geom_density(aes(y= ..count..), lwd = 1.2, color = \"#696969\") +\n",
    "    xlim(c(0,100)) +\n",
    "    theme_bw() +\n",
    "    xlab(\"Local cloaking\") +\n",
    "    ylab(\"Number of avatars\") +\n",
    "    geom_text(aes(x = 81.5, y = 45, label = paste0(\"Hidden rate= \", round(metrics$hidden_rate), \"%\")), size = ifelse(save, 3, 5)) +\n",
    "    geom_text(aes(x = 81.5, y = 42, label = paste0(\"Median= \", metrics$local_cloaking$avatars_median)), size = ifelse(save, 3, 5)) +\n",
    "    theme(axis.title = element_text(size = ifelse(save, 10, 14)),\n",
    "          axis.text = element_text(size = ifelse(save, 8, 13)))\n",
    "\n",
    "dist\n",
    "if (save) {dev.off()}"
   ]
  },
  {
   "cell_type": "code",
   "execution_count": null,
   "id": "ed3521e5",
   "metadata": {},
   "outputs": [],
   "source": []
  }
 ],
 "metadata": {
  "kernelspec": {
   "display_name": "R",
   "language": "R",
   "name": "ir"
  },
  "language_info": {
   "codemirror_mode": "r",
   "file_extension": ".r",
   "mimetype": "text/x-r-source",
   "name": "R",
   "pygments_lexer": "r",
   "version": "3.6.1"
  }
 },
 "nbformat": 4,
 "nbformat_minor": 5
}
